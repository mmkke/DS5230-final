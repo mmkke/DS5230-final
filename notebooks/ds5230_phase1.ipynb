{
 "cells": [
  {
   "cell_type": "markdown",
   "metadata": {},
   "source": [
    "### Final Project: Phase 1\n",
    "DS5230 - Spring 2024  \n",
    "Group: Michael MAssone and Nelson Farrell  \n",
    "Due: 01/21/2024  \n"
   ]
  },
  {
   "cell_type": "markdown",
   "metadata": {},
   "source": [
    "### Libraries"
   ]
  },
  {
   "cell_type": "code",
   "execution_count": 1,
   "metadata": {},
   "outputs": [],
   "source": [
    "import pandas as pd\n",
    "import numpy as np\n",
    "import matplotlib.pyplot as plt\n",
    "import seaborn as sns\n",
    "import missingno as msno\n",
    "import os\n",
    "import sys\n",
    "from pathlib import Path\n",
    "from sklearn.preprocessing import LabelEncoder\n",
    "\n"
   ]
  },
  {
   "cell_type": "markdown",
   "metadata": {},
   "source": [
    "___\n",
    "### File Path"
   ]
  },
  {
   "cell_type": "code",
   "execution_count": 3,
   "metadata": {},
   "outputs": [
    {
     "name": "stdout",
     "output_type": "stream",
     "text": [
      "/Users/nelsonfarrell/Documents/Northeastern/5230/final_project/DS5230-final/notebooks\n",
      "/Users/nelsonfarrell/Documents/Northeastern/5230/final_project/DS5230-final\n",
      "/Users/nelsonfarrell/Documents/Northeastern/5230/final_project/DS5230-final/src\n"
     ]
    }
   ],
   "source": [
    "nb_path = Path(os.getcwd())\n",
    "print(nb_path)\n",
    "path = str(nb_path.parent)\n",
    "print(path)\n",
    "figs_path = path + '/figs'\n",
    "data_path= path + 'data'\n",
    "src_path = path + '/src'\n",
    "print(src_path)\n",
    "sys.path.append(src_path)\n"
   ]
  },
  {
   "cell_type": "markdown",
   "metadata": {},
   "source": [
    "___\n",
    "### Functions"
   ]
  },
  {
   "cell_type": "code",
   "execution_count": 6,
   "metadata": {},
   "outputs": [],
   "source": [
    "from data_id_vector import check_for_id_matrix\n",
    "from target_to_csv import target_to_csv\n",
    "from design_to_csv import design_to_csv\n",
    "from read_in_data import read_data\n",
    "\n"
   ]
  },
  {
   "cell_type": "markdown",
   "metadata": {},
   "source": [
    "___\n",
    "### Params"
   ]
  },
  {
   "cell_type": "code",
   "execution_count": null,
   "metadata": {},
   "outputs": [],
   "source": []
  },
  {
   "cell_type": "markdown",
   "metadata": {},
   "source": [
    "___\n",
    "### Load Data"
   ]
  },
  {
   "cell_type": "code",
   "execution_count": 7,
   "metadata": {},
   "outputs": [
    {
     "ename": "FileNotFoundError",
     "evalue": "[Errno 2] No such file or directory: 'DS5230-final/data/DryBeanDataset/Dry_Bean_Dataset.arff'",
     "output_type": "error",
     "traceback": [
      "\u001b[0;31m---------------------------------------------------------------------------\u001b[0m",
      "\u001b[0;31mFileNotFoundError\u001b[0m                         Traceback (most recent call last)",
      "Cell \u001b[0;32mIn[7], line 1\u001b[0m\n\u001b[0;32m----> 1\u001b[0m df \u001b[39m=\u001b[39m read_data()\n\u001b[1;32m      2\u001b[0m \u001b[39mprint\u001b[39m(df\u001b[39m.\u001b[39mhead())\n",
      "File \u001b[0;32m~/Documents/Northeastern/5230/final_project/DS5230-final/src/read_in_data.py:28\u001b[0m, in \u001b[0;36mread_data\u001b[0;34m()\u001b[0m\n\u001b[1;32m     25\u001b[0m path_to_data \u001b[39m=\u001b[39m \u001b[39m'\u001b[39m\u001b[39mDS5230-final/data/DryBeanDataset/Dry_Bean_Dataset.arff\u001b[39m\u001b[39m'\u001b[39m\n\u001b[1;32m     27\u001b[0m \u001b[39m# load file\u001b[39;00m\n\u001b[0;32m---> 28\u001b[0m data, meta \u001b[39m=\u001b[39m arff\u001b[39m.\u001b[39;49mloadarff(path_to_data)\n\u001b[1;32m     30\u001b[0m \u001b[39m# convert to df\u001b[39;00m\n\u001b[1;32m     31\u001b[0m df \u001b[39m=\u001b[39m pd\u001b[39m.\u001b[39mDataFrame(data)\n",
      "File \u001b[0;32m~/miniconda3/envs/usml_base_ds/lib/python3.10/site-packages/scipy/io/arff/_arffread.py:800\u001b[0m, in \u001b[0;36mloadarff\u001b[0;34m(f)\u001b[0m\n\u001b[1;32m    798\u001b[0m     ofile \u001b[39m=\u001b[39m f\n\u001b[1;32m    799\u001b[0m \u001b[39melse\u001b[39;00m:\n\u001b[0;32m--> 800\u001b[0m     ofile \u001b[39m=\u001b[39m \u001b[39mopen\u001b[39;49m(f)\n\u001b[1;32m    801\u001b[0m \u001b[39mtry\u001b[39;00m:\n\u001b[1;32m    802\u001b[0m     \u001b[39mreturn\u001b[39;00m _loadarff(ofile)\n",
      "\u001b[0;31mFileNotFoundError\u001b[0m: [Errno 2] No such file or directory: 'DS5230-final/data/DryBeanDataset/Dry_Bean_Dataset.arff'"
     ]
    }
   ],
   "source": [
    "df = read_data()\n",
    "print(df.head())"
   ]
  },
  {
   "cell_type": "markdown",
   "metadata": {},
   "source": [
    "___\n",
    "### Display Dataset General Information"
   ]
  },
  {
   "cell_type": "code",
   "execution_count": null,
   "metadata": {},
   "outputs": [],
   "source": [
    "df.head(10)"
   ]
  },
  {
   "cell_type": "code",
   "execution_count": null,
   "metadata": {},
   "outputs": [],
   "source": [
    "df.info()"
   ]
  },
  {
   "cell_type": "markdown",
   "metadata": {},
   "source": [
    "___\n",
    "### Check for Missing Values in Target Vector"
   ]
  },
  {
   "cell_type": "code",
   "execution_count": null,
   "metadata": {},
   "outputs": [],
   "source": [
    "#check number Nan in target vector\n",
    "df['class'].isna().sum()"
   ]
  },
  {
   "cell_type": "code",
   "execution_count": null,
   "metadata": {},
   "outputs": [],
   "source": [
    "# display missing values\n",
    "msno.bar(df);"
   ]
  },
  {
   "cell_type": "markdown",
   "metadata": {},
   "source": [
    "___\n",
    "### Check for ID Attribute"
   ]
  },
  {
   "cell_type": "code",
   "execution_count": null,
   "metadata": {},
   "outputs": [],
   "source": [
    "check_for_id_matrix(df)"
   ]
  },
  {
   "cell_type": "markdown",
   "metadata": {},
   "source": [
    "___\n",
    "### Add ID Attribute"
   ]
  },
  {
   "cell_type": "code",
   "execution_count": null,
   "metadata": {},
   "outputs": [],
   "source": [
    "df['id'] = range(0, df.shape[0])\n",
    "print(df.id)\n",
    "df.head()"
   ]
  },
  {
   "cell_type": "markdown",
   "metadata": {},
   "source": [
    "___\n",
    "### Arrange Columns"
   ]
  },
  {
   "cell_type": "code",
   "execution_count": null,
   "metadata": {},
   "outputs": [],
   "source": [
    "df.insert(0, 'id', df.pop('id'))\n",
    "df.head()"
   ]
  },
  {
   "cell_type": "markdown",
   "metadata": {},
   "source": [
    "___\n",
    "### Separate Target & Design Matrix"
   ]
  },
  {
   "cell_type": "markdown",
   "metadata": {},
   "source": [
    "#### Target Dataframe:"
   ]
  },
  {
   "cell_type": "code",
   "execution_count": null,
   "metadata": {},
   "outputs": [],
   "source": [
    "target_df = df[['id', 'class']].copy()\n",
    "target_df"
   ]
  },
  {
   "cell_type": "markdown",
   "metadata": {},
   "source": [
    "#### Design Matrix:"
   ]
  },
  {
   "cell_type": "code",
   "execution_count": null,
   "metadata": {},
   "outputs": [],
   "source": [
    "# make list of all columns\n",
    "cols = list(df.columns)\n",
    "\n",
    "# make new list without target\n",
    "design_cols = [item for item in cols if item != \"class\"]\n",
    "\n",
    "# create design df\n",
    "design_df = df[design_cols].copy()\n",
    "\n",
    "# display design_df info\n",
    "print(design_df.info())"
   ]
  },
  {
   "cell_type": "markdown",
   "metadata": {},
   "source": [
    "___\n",
    "### Display the Number of Classes in the Target Vector"
   ]
  },
  {
   "cell_type": "code",
   "execution_count": null,
   "metadata": {},
   "outputs": [],
   "source": [
    "num_classes = target_df['class'].nunique()\n",
    "print(f'Number of classes in target vector: {num_classes}')"
   ]
  },
  {
   "cell_type": "markdown",
   "metadata": {},
   "source": [
    "___\n",
    "### Map Target Vector Strings to Numerical Values"
   ]
  },
  {
   "cell_type": "code",
   "execution_count": null,
   "metadata": {},
   "outputs": [],
   "source": [
    "# instantiate encoder\n",
    "le = LabelEncoder()\n",
    "\n",
    "# encode target column\n",
    "target_df['target_encoded'] = le.fit_transform(df['class'])\n",
    "\n",
    "# extract the precise mapping\n",
    "mapping = dict(zip(le.classes_, le.transform(le.classes_)))\n",
    "\n",
    "# print mapping formula\n",
    "print(mapping)\n",
    "\n",
    "# extract mapped values and id\n",
    "target_df = target_df[['id', 'target_encoded']]"
   ]
  },
  {
   "cell_type": "markdown",
   "metadata": {},
   "source": [
    "### Mapping Key:  \n",
    "The mapping procedure is as follows:  \n",
    "The mapping procedure is as follows:  \n",
    "* b'1' $= 0$\n",
    "* b'2' $= 1$\n",
    "* b'3' $= 2$ "
   ]
  },
  {
   "cell_type": "markdown",
   "metadata": {},
   "source": [
    "___\n",
    "### Save Target Vector and Design Matrix\n"
   ]
  },
  {
   "attachments": {},
   "cell_type": "markdown",
   "metadata": {},
   "source": [
    "___\n",
    "## Design Matrix\n",
    "\n",
    "### Determine the Size of the Design Matrix"
   ]
  },
  {
   "cell_type": "code",
   "execution_count": null,
   "metadata": {},
   "outputs": [],
   "source": [
    "# determine size of the design matrix\n",
    "design_matrix_size = design_df.shape\n",
    "\n",
    "# display\n",
    "print(f'Design Matrix Size: {design_matrix_size}')"
   ]
  },
  {
   "attachments": {},
   "cell_type": "markdown",
   "metadata": {},
   "source": [
    "___\n",
    "### Determine the Attribute Types of the Design Matrix"
   ]
  },
  {
   "cell_type": "code",
   "execution_count": null,
   "metadata": {},
   "outputs": [],
   "source": [
    "design_df.dtypes"
   ]
  },
  {
   "attachments": {},
   "cell_type": "markdown",
   "metadata": {},
   "source": [
    "___\n",
    "### Determine Missingness of Design Matrix"
   ]
  },
  {
   "cell_type": "code",
   "execution_count": null,
   "metadata": {},
   "outputs": [],
   "source": [
    "# find proportion of missing values\n",
    "round(design_df.isna().sum()/design_df.shape[0], 3)"
   ]
  },
  {
   "cell_type": "code",
   "execution_count": null,
   "metadata": {},
   "outputs": [],
   "source": [
    "design_df.isna().sum()"
   ]
  },
  {
   "cell_type": "code",
   "execution_count": null,
   "metadata": {},
   "outputs": [],
   "source": [
    "# display missingness visual\n",
    "msno.matrix(design_df)\n",
    "plt.title(\"Missing Attributes: Design Matrix\", fontsize = 36, weight = 'bold', y = 1.25);\n",
    "\n",
    "# save fig\n",
    "plt.savefig(figs_path + \"/missing_attributes_fig_1.png\")"
   ]
  },
  {
   "cell_type": "code",
   "execution_count": null,
   "metadata": {},
   "outputs": [],
   "source": [
    "# display missingness visual\n",
    "msno.bar(design_df)\n",
    "plt.title(\"Missing Attributes: Design Matrix\", fontsize = 36, weight = 'bold', y = 1.2);\n",
    "\n",
    "# save fig\n",
    "plt.savefig(figs_path + \"/missing_attributes_fig_2.png\")"
   ]
  }
 ],
 "metadata": {
  "kernelspec": {
   "display_name": "usml_base_ds",
   "language": "python",
   "name": "python3"
  },
  "language_info": {
   "codemirror_mode": {
    "name": "ipython",
    "version": 3
   },
   "file_extension": ".py",
   "mimetype": "text/x-python",
   "name": "python",
   "nbconvert_exporter": "python",
   "pygments_lexer": "ipython3",
   "version": "3.10.13"
  },
  "vscode": {
   "interpreter": {
    "hash": "0d1d89bad2edba5ce9ed615f88b77b7e895eade77228ee7e0edc57479eda1205"
   }
  }
 },
 "nbformat": 4,
 "nbformat_minor": 2
}

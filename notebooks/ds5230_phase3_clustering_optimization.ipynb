{
 "cells": [
  {
   "cell_type": "code",
   "execution_count": 2,
   "metadata": {},
   "outputs": [],
   "source": [
    "## Libraries\n",
    "\n",
    "# base\n",
    "import pandas as pd\n",
    "import numpy as np\n",
    "import matplotlib.pyplot as plt\n",
    "\n",
    "import random\n",
    "\n",
    "\n",
    "# preprocessing\n",
    "from sklearn.utils import shuffle\n",
    "from sklearn.preprocessing import StandardScaler\n",
    "\n",
    "# data\n",
    "from sklearn.datasets import load_digits\n",
    "\n",
    "# clustering\n",
    "from sklearn.cluster import DBSCAN, KMeans\n",
    "\n",
    "#external indices\n",
    "from sklearn.metrics.cluster import adjusted_rand_score, contingency_matrix\n",
    "\n",
    "# runtime and run tracking\n",
    "import time\n",
    "from datetime import datetime\n",
    "\n",
    "# pathing\n",
    "from pathlib import Path\n",
    "import os\n",
    "import sys\n",
    "\n"
   ]
  },
  {
   "cell_type": "markdown",
   "metadata": {},
   "source": [
    "___\n",
    "\n",
    "### Start Timer"
   ]
  },
  {
   "cell_type": "code",
   "execution_count": 3,
   "metadata": {},
   "outputs": [],
   "source": [
    "# track runtime\n",
    "start = time.time()"
   ]
  },
  {
   "cell_type": "markdown",
   "metadata": {},
   "source": [
    "___\n",
    "\n",
    "### Define File Paths"
   ]
  },
  {
   "cell_type": "code",
   "execution_count": 4,
   "metadata": {},
   "outputs": [
    {
     "name": "stdout",
     "output_type": "stream",
     "text": [
      "/Users/mikey/LocalFiles/DS5230/final_project/DS5230-final/notebooks\n",
      "/Users/mikey/LocalFiles/DS5230/final_project/DS5230-final\n",
      "/Users/mikey/LocalFiles/DS5230/final_project/DS5230-final/src\n"
     ]
    }
   ],
   "source": [
    "# define path\n",
    "nb_path = Path(os.getcwd())\n",
    "print(nb_path)\n",
    "path = str(nb_path.parent)\n",
    "print(path)\n",
    "\n",
    "# path to figs folder\n",
    "figs_path = path + '/figs'\n",
    "\n",
    "# path to data\n",
    "data_path= path + '/data'\n",
    "\n",
    "# path to src folder\n",
    "src_path = path + '/src'\n",
    "print(src_path)\n",
    "\n",
    "# sys path\n",
    "sys.path.append(src_path)"
   ]
  },
  {
   "cell_type": "markdown",
   "metadata": {},
   "source": [
    "____\n",
    "\n",
    "### Import Modules"
   ]
  },
  {
   "cell_type": "code",
   "execution_count": 5,
   "metadata": {},
   "outputs": [],
   "source": [
    "# modules and util\n",
    "import dimensionality_reduction as dr\n",
    "import clustering as cl\n",
    "from cluster_utils import *\n",
    "from external_indices_utils import *"
   ]
  },
  {
   "cell_type": "markdown",
   "metadata": {},
   "source": [
    "___\n",
    "\n",
    "### Parameters"
   ]
  },
  {
   "cell_type": "code",
   "execution_count": 6,
   "metadata": {},
   "outputs": [],
   "source": [
    "# transformed data csv file name\n",
    "design_file = '/curated/shuffled_target.csv'\n",
    "\n",
    "# target vector csv file name\n",
    "target_file = \"/curated/beans_target.csv\""
   ]
  },
  {
   "cell_type": "markdown",
   "metadata": {},
   "source": [
    "____\n",
    "\n",
    "### Load Data"
   ]
  },
  {
   "cell_type": "code",
   "execution_count": 7,
   "metadata": {},
   "outputs": [],
   "source": [
    "design_file = '/curated/shuffled_target.csv'\n",
    "target_vector_shuffled = pd.read_csv(data_path + design_file)\n",
    "\n",
    "target_file = '/curated/shuffled_design.csv'\n",
    "design_matrix_shuffled = pd.read_csv(data_path + target_file)\n"
   ]
  },
  {
   "cell_type": "markdown",
   "metadata": {},
   "source": [
    "____\n",
    "\n",
    "### Sample Data"
   ]
  },
  {
   "cell_type": "code",
   "execution_count": 8,
   "metadata": {},
   "outputs": [],
   "source": [
    "sample = True\n",
    "if sample:\n",
    "    # num samples\n",
    "    n = 1000\n",
    "\n",
    "    # random seed\n",
    "    rand_seed = 42\n",
    "\n",
    "    # sample target and save copy to csv\n",
    "    target_vector_shuffled = target_vector_shuffled.sample(n=n, random_state=rand_seed)\n",
    "    filename = '/curated/sampled_target.csv'\n",
    "    target_vector_shuffled.to_csv(data_path + filename, index=False)\n",
    "\n",
    "     # sample target and save copy to csv\n",
    "    design_matrix_shuffled = design_matrix_shuffled.sample(n=n, random_state=rand_seed)\n",
    "    filename = '/curated/sampled_design.csv'\n",
    "    design_matrix_shuffled.to_csv(data_path + filename, index=False)"
   ]
  },
  {
   "cell_type": "markdown",
   "metadata": {},
   "source": [
    "___\n",
    "\n",
    "### Create capX"
   ]
  },
  {
   "cell_type": "code",
   "execution_count": 9,
   "metadata": {},
   "outputs": [
    {
     "name": "stdout",
     "output_type": "stream",
     "text": [
      "cap_x shape: (1000, 16)\n"
     ]
    },
    {
     "data": {
      "text/plain": [
       "array([[ 0.47951119,  0.75617026,  0.9025797 , ..., -1.08640545,\n",
       "        -1.03819934, -2.53011841],\n",
       "       [-0.49798027, -0.60106105, -0.58065225, ...,  0.38428313,\n",
       "         0.26243519,  0.25945463],\n",
       "       [-0.0963504 , -0.06761403, -0.09561878, ..., -0.10319885,\n",
       "         0.13672302, -0.70899572],\n",
       "       ...,\n",
       "       [-0.30471913, -0.47210471, -0.71409026, ...,  1.3837794 ,\n",
       "         1.95995551,  0.86201627],\n",
       "       [ 3.61104419,  3.02864018,  2.64390167, ..., -1.24739667,\n",
       "         0.33815956, -0.56965621],\n",
       "       [ 0.00623113,  0.11297058,  0.20609565, ..., -0.56222324,\n",
       "        -0.50146285, -0.33099767]])"
      ]
     },
     "execution_count": 9,
     "metadata": {},
     "output_type": "execute_result"
    }
   ],
   "source": [
    "# drop ID col\n",
    "design_matrix_shuffled_noID = design_matrix_shuffled.drop('ID', axis=1)\n",
    "\n",
    "# convert to ndarray\n",
    "cap_x = design_matrix_shuffled_noID.to_numpy()\n",
    "print(f'cap_x shape: {cap_x.shape}')\n",
    "cap_x"
   ]
  },
  {
   "cell_type": "markdown",
   "metadata": {},
   "source": [
    "___\n",
    "\n",
    "### Select Hyperparameters for Gridsearch"
   ]
  },
  {
   "cell_type": "code",
   "execution_count": 10,
   "metadata": {},
   "outputs": [],
   "source": [
    "# select hyperparams\n",
    "params1=False\n",
    "params2=False\n",
    "params3=False\n",
    "params4=True\n",
    "\n",
    "if params1:\n",
    "\n",
    "    min_dist_list = [0.0, 0.001, 0.005, 0.01, 0.05, 0.1, 0.25, 0.5]\n",
    "    n_neighbors_list = [10, 20, 30, 50, 100]\n",
    "    metric_list =['euclidean', 'manhattan']\n",
    "    n_components_list = [2, 3]\n",
    "\n",
    "\n",
    "if params2:\n",
    "\n",
    "    min_dist_list = [0.01, 0.05, 0.1]\n",
    "    n_neighbors_list = [5, 10, 15]\n",
    "    metric_list =['euclidean', 'manhattan']\n",
    "    n_components_list = [2, 3]\n",
    "\n",
    "\n",
    "if params3:\n",
    "\n",
    "    min_dist_list = np.linspace(0, 0.5, num = 40)\n",
    "    n_neighbors_list = np.arange(5, 35, 5)\n",
    "    metric_list =['euclidean', 'manhattan']\n",
    "    n_components_list = [2, 3]\n",
    "\n",
    "\n",
    "if params4:\n",
    "\n",
    "    min_dist_list = [0.01]\n",
    "    n_neighbors_list = [10]\n",
    "    metric_list =['euclidean']\n",
    "    n_components_list = [2, 3]\n",
    "\n",
    "\n"
   ]
  },
  {
   "cell_type": "markdown",
   "metadata": {},
   "source": [
    "___\n",
    "\n",
    "### Gridsearch Algorithm"
   ]
  },
  {
   "cell_type": "code",
   "execution_count": 11,
   "metadata": {},
   "outputs": [
    {
     "name": "stdout",
     "output_type": "stream",
     "text": [
      "****************************************************************************************************\n",
      "Run 1 of 2\n"
     ]
    },
    {
     "name": "stderr",
     "output_type": "stream",
     "text": [
      "/Users/mikey/miniconda3/envs/usml_base_ds2/lib/python3.10/site-packages/umap/umap_.py:1943: UserWarning: n_jobs value -1 overridden to 1 by setting random_state. Use no seed for parallelism.\n",
      "  warn(f\"n_jobs value {self.n_jobs} overridden to 1 by setting random_state. Use no seed for parallelism.\")\n"
     ]
    },
    {
     "name": "stdout",
     "output_type": "stream",
     "text": [
      "****************************************************************************************************\n",
      "****************************************************************************************************\n",
      "Hyperparameters:\n",
      "n_neighbors:  10\n",
      "min_dist:  0.01\n",
      "metric:  euclidean\n",
      "n_components:  2\n",
      "Hopkin's Statistic = 0.1388590656107254\n",
      "Fail: Kmeans did not successfully cluster.\n",
      "DBSCAN\n",
      "Number of Clusters:  7\n",
      "Validity Index:  0.45650660276274735\n",
      "****************************************************************************************************\n",
      "Run 2 of 2\n"
     ]
    },
    {
     "name": "stderr",
     "output_type": "stream",
     "text": [
      "/Users/mikey/miniconda3/envs/usml_base_ds2/lib/python3.10/site-packages/umap/umap_.py:1943: UserWarning: n_jobs value -1 overridden to 1 by setting random_state. Use no seed for parallelism.\n",
      "  warn(f\"n_jobs value {self.n_jobs} overridden to 1 by setting random_state. Use no seed for parallelism.\")\n"
     ]
    },
    {
     "name": "stdout",
     "output_type": "stream",
     "text": [
      "****************************************************************************************************\n",
      "****************************************************************************************************\n",
      "Hyperparameters:\n",
      "n_neighbors:  10\n",
      "min_dist:  0.01\n",
      "metric:  euclidean\n",
      "n_components:  3\n",
      "Hopkin's Statistic = 0.0767646757481604\n",
      "Fail: Kmeans did not successfully cluster.\n",
      "DBSCAN\n",
      "Number of Clusters:  10\n",
      "Validity Index:  0.5080694489640659\n"
     ]
    },
    {
     "data": {
      "text/html": [
       "<div>\n",
       "<style scoped>\n",
       "    .dataframe tbody tr th:only-of-type {\n",
       "        vertical-align: middle;\n",
       "    }\n",
       "\n",
       "    .dataframe tbody tr th {\n",
       "        vertical-align: top;\n",
       "    }\n",
       "\n",
       "    .dataframe thead th {\n",
       "        text-align: right;\n",
       "    }\n",
       "</style>\n",
       "<table border=\"1\" class=\"dataframe\">\n",
       "  <thead>\n",
       "    <tr style=\"text-align: right;\">\n",
       "      <th></th>\n",
       "      <th>algo</th>\n",
       "      <th>n_clusters_found</th>\n",
       "      <th>n_clusters_db_score_is_min</th>\n",
       "      <th>n_clusters_ch_score_is_max</th>\n",
       "      <th>n_clusters_silhouette_score_is_max</th>\n",
       "      <th>silhouette_score</th>\n",
       "      <th>hopkins_statistic</th>\n",
       "      <th>umap_n_neighbors</th>\n",
       "      <th>umap_min_dist</th>\n",
       "      <th>umap_metric</th>\n",
       "      <th>umap_n_components</th>\n",
       "      <th>trustworthiness</th>\n",
       "      <th>eps</th>\n",
       "      <th>dbscan_min_samples</th>\n",
       "      <th>validity_index</th>\n",
       "      <th>cluster_labels</th>\n",
       "    </tr>\n",
       "  </thead>\n",
       "  <tbody>\n",
       "    <tr>\n",
       "      <th>0</th>\n",
       "      <td>dbscan</td>\n",
       "      <td>7</td>\n",
       "      <td>NaN</td>\n",
       "      <td>NaN</td>\n",
       "      <td>NaN</td>\n",
       "      <td>NaN</td>\n",
       "      <td>0.138859</td>\n",
       "      <td>10</td>\n",
       "      <td>0.01</td>\n",
       "      <td>euclidean</td>\n",
       "      <td>2</td>\n",
       "      <td>0.974305</td>\n",
       "      <td>0.473004</td>\n",
       "      <td>6</td>\n",
       "      <td>0.456507</td>\n",
       "      <td>[0, 1, 2, 2, 1, 3, 1, 1, 0, 1, 0, 0, 1, 2, 1, ...</td>\n",
       "    </tr>\n",
       "    <tr>\n",
       "      <th>1</th>\n",
       "      <td>dbscan</td>\n",
       "      <td>10</td>\n",
       "      <td>NaN</td>\n",
       "      <td>NaN</td>\n",
       "      <td>NaN</td>\n",
       "      <td>NaN</td>\n",
       "      <td>0.076765</td>\n",
       "      <td>10</td>\n",
       "      <td>0.01</td>\n",
       "      <td>euclidean</td>\n",
       "      <td>3</td>\n",
       "      <td>0.976942</td>\n",
       "      <td>0.436696</td>\n",
       "      <td>6</td>\n",
       "      <td>0.508069</td>\n",
       "      <td>[0, 1, 2, 2, 1, 3, 1, 1, 0, 1, 4, 0, 5, 2, 1, ...</td>\n",
       "    </tr>\n",
       "  </tbody>\n",
       "</table>\n",
       "</div>"
      ],
      "text/plain": [
       "     algo  n_clusters_found  n_clusters_db_score_is_min  \\\n",
       "0  dbscan                 7                         NaN   \n",
       "1  dbscan                10                         NaN   \n",
       "\n",
       "   n_clusters_ch_score_is_max  n_clusters_silhouette_score_is_max  \\\n",
       "0                         NaN                                 NaN   \n",
       "1                         NaN                                 NaN   \n",
       "\n",
       "   silhouette_score  hopkins_statistic  umap_n_neighbors  umap_min_dist  \\\n",
       "0               NaN           0.138859                10           0.01   \n",
       "1               NaN           0.076765                10           0.01   \n",
       "\n",
       "  umap_metric  umap_n_components  trustworthiness       eps  \\\n",
       "0   euclidean                  2         0.974305  0.473004   \n",
       "1   euclidean                  3         0.976942  0.436696   \n",
       "\n",
       "   dbscan_min_samples  validity_index  \\\n",
       "0                   6        0.456507   \n",
       "1                   6        0.508069   \n",
       "\n",
       "                                      cluster_labels  \n",
       "0  [0, 1, 2, 2, 1, 3, 1, 1, 0, 1, 0, 0, 1, 2, 1, ...  \n",
       "1  [0, 1, 2, 2, 1, 3, 1, 1, 0, 1, 4, 0, 5, 2, 1, ...  "
      ]
     },
     "execution_count": 11,
     "metadata": {},
     "output_type": "execute_result"
    }
   ],
   "source": [
    "runs = len(n_components_list)*len(min_dist_list)*len(n_neighbors_list)*len(metric_list)\n",
    "run = 0\n",
    "df_row_dict_list = []\n",
    "for n_components in n_components_list:\n",
    "  for min_dist in min_dist_list:\n",
    "    for n_neighbors in n_neighbors_list: \n",
    "      for metric in metric_list:\n",
    "        run +=1\n",
    "        print('*'*100)\n",
    "        print(f'Run {run} of {runs}')\n",
    "        results_dict = dr.umap_dim_red(cap_x, n_neighbors, min_dist, metric, n_components) \n",
    "        df_row_dict = cl.clustering(results_dict)\n",
    "        df_row_dict_list.append(df_row_dict)\n",
    "results_df = pd.DataFrame(df_row_dict_list)\n",
    "results_df"
   ]
  },
  {
   "cell_type": "code",
   "execution_count": null,
   "metadata": {},
   "outputs": [],
   "source": []
  },
  {
   "cell_type": "markdown",
   "metadata": {},
   "source": [
    "___\n",
    "\n",
    "## All Results"
   ]
  },
  {
   "cell_type": "code",
   "execution_count": 12,
   "metadata": {},
   "outputs": [
    {
     "data": {
      "text/html": [
       "<div>\n",
       "<style scoped>\n",
       "    .dataframe tbody tr th:only-of-type {\n",
       "        vertical-align: middle;\n",
       "    }\n",
       "\n",
       "    .dataframe tbody tr th {\n",
       "        vertical-align: top;\n",
       "    }\n",
       "\n",
       "    .dataframe thead th {\n",
       "        text-align: right;\n",
       "    }\n",
       "</style>\n",
       "<table border=\"1\" class=\"dataframe\">\n",
       "  <thead>\n",
       "    <tr style=\"text-align: right;\">\n",
       "      <th></th>\n",
       "      <th>algo</th>\n",
       "      <th>n_clusters_found</th>\n",
       "      <th>n_clusters_db_score_is_min</th>\n",
       "      <th>n_clusters_ch_score_is_max</th>\n",
       "      <th>n_clusters_silhouette_score_is_max</th>\n",
       "      <th>silhouette_score</th>\n",
       "      <th>hopkins_statistic</th>\n",
       "      <th>umap_n_neighbors</th>\n",
       "      <th>umap_min_dist</th>\n",
       "      <th>umap_metric</th>\n",
       "      <th>umap_n_components</th>\n",
       "      <th>trustworthiness</th>\n",
       "      <th>eps</th>\n",
       "      <th>dbscan_min_samples</th>\n",
       "      <th>validity_index</th>\n",
       "      <th>cluster_labels</th>\n",
       "    </tr>\n",
       "  </thead>\n",
       "  <tbody>\n",
       "    <tr>\n",
       "      <th>0</th>\n",
       "      <td>dbscan</td>\n",
       "      <td>7</td>\n",
       "      <td>NaN</td>\n",
       "      <td>NaN</td>\n",
       "      <td>NaN</td>\n",
       "      <td>NaN</td>\n",
       "      <td>0.138859</td>\n",
       "      <td>10</td>\n",
       "      <td>0.01</td>\n",
       "      <td>euclidean</td>\n",
       "      <td>2</td>\n",
       "      <td>0.974305</td>\n",
       "      <td>0.473004</td>\n",
       "      <td>6</td>\n",
       "      <td>0.456507</td>\n",
       "      <td>[0, 1, 2, 2, 1, 3, 1, 1, 0, 1, 0, 0, 1, 2, 1, ...</td>\n",
       "    </tr>\n",
       "    <tr>\n",
       "      <th>1</th>\n",
       "      <td>dbscan</td>\n",
       "      <td>10</td>\n",
       "      <td>NaN</td>\n",
       "      <td>NaN</td>\n",
       "      <td>NaN</td>\n",
       "      <td>NaN</td>\n",
       "      <td>0.076765</td>\n",
       "      <td>10</td>\n",
       "      <td>0.01</td>\n",
       "      <td>euclidean</td>\n",
       "      <td>3</td>\n",
       "      <td>0.976942</td>\n",
       "      <td>0.436696</td>\n",
       "      <td>6</td>\n",
       "      <td>0.508069</td>\n",
       "      <td>[0, 1, 2, 2, 1, 3, 1, 1, 0, 1, 4, 0, 5, 2, 1, ...</td>\n",
       "    </tr>\n",
       "  </tbody>\n",
       "</table>\n",
       "</div>"
      ],
      "text/plain": [
       "     algo  n_clusters_found  n_clusters_db_score_is_min  \\\n",
       "0  dbscan                 7                         NaN   \n",
       "1  dbscan                10                         NaN   \n",
       "\n",
       "   n_clusters_ch_score_is_max  n_clusters_silhouette_score_is_max  \\\n",
       "0                         NaN                                 NaN   \n",
       "1                         NaN                                 NaN   \n",
       "\n",
       "   silhouette_score  hopkins_statistic  umap_n_neighbors  umap_min_dist  \\\n",
       "0               NaN           0.138859                10           0.01   \n",
       "1               NaN           0.076765                10           0.01   \n",
       "\n",
       "  umap_metric  umap_n_components  trustworthiness       eps  \\\n",
       "0   euclidean                  2         0.974305  0.473004   \n",
       "1   euclidean                  3         0.976942  0.436696   \n",
       "\n",
       "   dbscan_min_samples  validity_index  \\\n",
       "0                   6        0.456507   \n",
       "1                   6        0.508069   \n",
       "\n",
       "                                      cluster_labels  \n",
       "0  [0, 1, 2, 2, 1, 3, 1, 1, 0, 1, 0, 0, 1, 2, 1, ...  \n",
       "1  [0, 1, 2, 2, 1, 3, 1, 1, 0, 1, 4, 0, 5, 2, 1, ...  "
      ]
     },
     "execution_count": 12,
     "metadata": {},
     "output_type": "execute_result"
    }
   ],
   "source": [
    "results_df.to_csv(f'../data/all_results_{str(datetime.now()).replace(\" \", \"\")}.csv')\n",
    "\n",
    "# display max rows\n",
    "pd.set_option('display.max_rows', None)\n",
    "pd.set_option('display.max_columns', None)\n",
    "results_df"
   ]
  },
  {
   "cell_type": "code",
   "execution_count": 13,
   "metadata": {},
   "outputs": [],
   "source": [
    "# set max rows back to default\n",
    "pd.reset_option('display.max_rows')\n",
    "pd.reset_option('display.max_columns')"
   ]
  },
  {
   "cell_type": "markdown",
   "metadata": {},
   "source": [
    "____\n",
    "\n",
    "### Get 10 Best Results (Kmenas or DBSCAN)"
   ]
  },
  {
   "cell_type": "code",
   "execution_count": 14,
   "metadata": {},
   "outputs": [
    {
     "data": {
      "text/html": [
       "<div>\n",
       "<style scoped>\n",
       "    .dataframe tbody tr th:only-of-type {\n",
       "        vertical-align: middle;\n",
       "    }\n",
       "\n",
       "    .dataframe tbody tr th {\n",
       "        vertical-align: top;\n",
       "    }\n",
       "\n",
       "    .dataframe thead th {\n",
       "        text-align: right;\n",
       "    }\n",
       "</style>\n",
       "<table border=\"1\" class=\"dataframe\">\n",
       "  <thead>\n",
       "    <tr style=\"text-align: right;\">\n",
       "      <th></th>\n",
       "      <th>algo</th>\n",
       "      <th>n_clusters_found</th>\n",
       "      <th>n_clusters_db_score_is_min</th>\n",
       "      <th>n_clusters_ch_score_is_max</th>\n",
       "      <th>n_clusters_silhouette_score_is_max</th>\n",
       "      <th>silhouette_score</th>\n",
       "      <th>hopkins_statistic</th>\n",
       "      <th>umap_n_neighbors</th>\n",
       "      <th>umap_min_dist</th>\n",
       "      <th>umap_metric</th>\n",
       "      <th>umap_n_components</th>\n",
       "      <th>trustworthiness</th>\n",
       "      <th>eps</th>\n",
       "      <th>dbscan_min_samples</th>\n",
       "      <th>validity_index</th>\n",
       "      <th>cluster_labels</th>\n",
       "    </tr>\n",
       "  </thead>\n",
       "  <tbody>\n",
       "    <tr>\n",
       "      <th>1</th>\n",
       "      <td>dbscan</td>\n",
       "      <td>10</td>\n",
       "      <td>NaN</td>\n",
       "      <td>NaN</td>\n",
       "      <td>NaN</td>\n",
       "      <td>NaN</td>\n",
       "      <td>0.076765</td>\n",
       "      <td>10</td>\n",
       "      <td>0.01</td>\n",
       "      <td>euclidean</td>\n",
       "      <td>3</td>\n",
       "      <td>0.976942</td>\n",
       "      <td>0.436696</td>\n",
       "      <td>6</td>\n",
       "      <td>0.508069</td>\n",
       "      <td>[0, 1, 2, 2, 1, 3, 1, 1, 0, 1, 4, 0, 5, 2, 1, ...</td>\n",
       "    </tr>\n",
       "    <tr>\n",
       "      <th>0</th>\n",
       "      <td>dbscan</td>\n",
       "      <td>7</td>\n",
       "      <td>NaN</td>\n",
       "      <td>NaN</td>\n",
       "      <td>NaN</td>\n",
       "      <td>NaN</td>\n",
       "      <td>0.138859</td>\n",
       "      <td>10</td>\n",
       "      <td>0.01</td>\n",
       "      <td>euclidean</td>\n",
       "      <td>2</td>\n",
       "      <td>0.974305</td>\n",
       "      <td>0.473004</td>\n",
       "      <td>6</td>\n",
       "      <td>0.456507</td>\n",
       "      <td>[0, 1, 2, 2, 1, 3, 1, 1, 0, 1, 0, 0, 1, 2, 1, ...</td>\n",
       "    </tr>\n",
       "  </tbody>\n",
       "</table>\n",
       "</div>"
      ],
      "text/plain": [
       "     algo  n_clusters_found  n_clusters_db_score_is_min  \\\n",
       "1  dbscan                10                         NaN   \n",
       "0  dbscan                 7                         NaN   \n",
       "\n",
       "   n_clusters_ch_score_is_max  n_clusters_silhouette_score_is_max  \\\n",
       "1                         NaN                                 NaN   \n",
       "0                         NaN                                 NaN   \n",
       "\n",
       "   silhouette_score  hopkins_statistic  umap_n_neighbors  umap_min_dist  \\\n",
       "1               NaN           0.076765                10           0.01   \n",
       "0               NaN           0.138859                10           0.01   \n",
       "\n",
       "  umap_metric  umap_n_components  trustworthiness       eps  \\\n",
       "1   euclidean                  3         0.976942  0.436696   \n",
       "0   euclidean                  2         0.974305  0.473004   \n",
       "\n",
       "   dbscan_min_samples  validity_index  \\\n",
       "1                   6        0.508069   \n",
       "0                   6        0.456507   \n",
       "\n",
       "                                      cluster_labels  \n",
       "1  [0, 1, 2, 2, 1, 3, 1, 1, 0, 1, 4, 0, 5, 2, 1, ...  \n",
       "0  [0, 1, 2, 2, 1, 3, 1, 1, 0, 1, 0, 0, 1, 2, 1, ...  "
      ]
     },
     "execution_count": 14,
     "metadata": {},
     "output_type": "execute_result"
    }
   ],
   "source": [
    "results_df['combined_score'] = results_df['silhouette_score'].fillna(results_df['validity_index'])\n",
    "results_df = results_df.sort_values(by='combined_score', ascending=False)\n",
    "filter = results_df.head(10)\n",
    "filtered_results_df = results_df[results_df.index.isin(filter.index)]\n",
    "filtered_results_df = filtered_results_df.drop(columns=['combined_score'])\n",
    "\n",
    "filtered_results_df"
   ]
  },
  {
   "cell_type": "markdown",
   "metadata": {},
   "source": [
    "____\n",
    "\n",
    "### Save Filtered Results to CSV"
   ]
  },
  {
   "cell_type": "code",
   "execution_count": 15,
   "metadata": {},
   "outputs": [
    {
     "name": "stdout",
     "output_type": "stream",
     "text": [
      "Results saved at: /Users/mikey/LocalFiles/DS5230/final_project/DS5230-final/data/curated/filtered_results_2024-04-1618:24:31.967695.csv\n"
     ]
    }
   ],
   "source": [
    "filename = f'/curated/filtered_results_{str(datetime.now()).replace(\" \", \"\")}.csv'\n",
    "filtered_results_df.to_csv(data_path + filename, index=False)\n",
    "print(\"Results saved at:\", data_path + filename)"
   ]
  },
  {
   "cell_type": "markdown",
   "metadata": {},
   "source": [
    "___\n",
    "\n",
    "## Runtime"
   ]
  },
  {
   "cell_type": "code",
   "execution_count": 16,
   "metadata": {},
   "outputs": [
    {
     "name": "stdout",
     "output_type": "stream",
     "text": [
      "Total Run Time(hh:mm.ss): 00:00.10\n"
     ]
    }
   ],
   "source": [
    "finish = time.time()\n",
    "hours = int((finish - start) // 3600)\n",
    "minutes = int(((finish - start) % 3600) // 60)\n",
    "seconds = int((finish - start) % 60)\n",
    "print(f\"Total Run Time(hh:mm.ss): {hours:02d}:{minutes:02d}.{seconds:02d}\")"
   ]
  }
 ],
 "metadata": {
  "kernelspec": {
   "display_name": "usml_base_ds2",
   "language": "python",
   "name": "python3"
  },
  "language_info": {
   "codemirror_mode": {
    "name": "ipython",
    "version": 3
   },
   "file_extension": ".py",
   "mimetype": "text/x-python",
   "name": "python",
   "nbconvert_exporter": "python",
   "pygments_lexer": "ipython3",
   "version": "3.10.13"
  }
 },
 "nbformat": 4,
 "nbformat_minor": 2
}

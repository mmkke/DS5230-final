{
 "cells": [
  {
   "cell_type": "markdown",
   "metadata": {},
   "source": [
    "## Final Project: Phase 3 - Clustering Pipeline Optimization\n",
    "Spring 2024  \n",
    "Group: Michael Massone and Joseph Nelson Farrell   \n",
    "DS 5230 Unsupervised Machine Learning  \n",
    "Professor Steven Morin, PhD  \n",
    "Due: 04/21/2024  \n",
    "___"
   ]
  },
  {
   "cell_type": "code",
   "execution_count": 1,
   "metadata": {},
   "outputs": [],
   "source": [
    "## Libraries\n",
    "\n",
    "# base\n",
    "import pandas as pd\n",
    "import numpy as np\n",
    "import matplotlib.pyplot as plt\n",
    "\n",
    "import random\n",
    "\n",
    "\n",
    "# preprocessing\n",
    "from sklearn.utils import shuffle\n",
    "from sklearn.preprocessing import StandardScaler\n",
    "\n",
    "# data\n",
    "from sklearn.datasets import load_digits\n",
    "\n",
    "# clustering\n",
    "from sklearn.cluster import DBSCAN, KMeans\n",
    "\n",
    "#external indices\n",
    "from sklearn.metrics.cluster import adjusted_rand_score, contingency_matrix\n",
    "\n",
    "# runtime and run tracking\n",
    "import time\n",
    "from datetime import datetime\n",
    "\n",
    "# pathing\n",
    "from pathlib import Path\n",
    "import os\n",
    "import sys\n",
    "\n",
    "import warnings\n",
    "\n",
    "# Disable runtime warnings\n",
    "warnings.filterwarnings(\"ignore\", category=RuntimeWarning)\n",
    "\n"
   ]
  },
  {
   "cell_type": "markdown",
   "metadata": {},
   "source": [
    "___\n",
    "\n",
    "### Start Timer"
   ]
  },
  {
   "cell_type": "code",
   "execution_count": 2,
   "metadata": {},
   "outputs": [],
   "source": [
    "# track runtime\n",
    "start = time.time()"
   ]
  },
  {
   "cell_type": "markdown",
   "metadata": {},
   "source": [
    "___\n",
    "\n",
    "### Define File Paths"
   ]
  },
  {
   "cell_type": "code",
   "execution_count": 3,
   "metadata": {},
   "outputs": [
    {
     "name": "stdout",
     "output_type": "stream",
     "text": [
      "/Users/mikey/LocalFiles/DS5230/final_project/DS5230-final/notebooks\n",
      "/Users/mikey/LocalFiles/DS5230/final_project/DS5230-final\n",
      "/Users/mikey/LocalFiles/DS5230/final_project/DS5230-final/src\n"
     ]
    }
   ],
   "source": [
    "# define path\n",
    "nb_path = Path(os.getcwd())\n",
    "print(nb_path)\n",
    "path = str(nb_path.parent)\n",
    "print(path)\n",
    "\n",
    "# path to figs folder\n",
    "figs_path = path + '/figs'\n",
    "\n",
    "# path to data\n",
    "data_path= path + '/data'\n",
    "\n",
    "# path to src folder\n",
    "src_path = path + '/src'\n",
    "print(src_path)\n",
    "\n",
    "# sys path\n",
    "sys.path.append(src_path)"
   ]
  },
  {
   "cell_type": "markdown",
   "metadata": {},
   "source": [
    "____\n",
    "\n",
    "### Import Modules"
   ]
  },
  {
   "cell_type": "code",
   "execution_count": 4,
   "metadata": {},
   "outputs": [],
   "source": [
    "# modules and util\n",
    "import dimensionality_reduction as dr\n",
    "import clustering as cl\n",
    "from cluster_utils import *\n",
    "from external_indices_utils import *"
   ]
  },
  {
   "cell_type": "markdown",
   "metadata": {},
   "source": [
    "___\n",
    "\n",
    "### Parameters"
   ]
  },
  {
   "cell_type": "code",
   "execution_count": 5,
   "metadata": {},
   "outputs": [],
   "source": [
    "# transformed data csv file name\n",
    "design_file = '/curated/shuffled_target.csv'\n",
    "\n",
    "# target vector csv file name\n",
    "target_file = \"/curated/beans_target.csv\"\n",
    "\n",
    "# sampled target dataframe csv loc\n",
    "target_vector_shuffled_filename = f'/sampled/sampled_target{str(datetime.now()).replace(\" \", \"\")}.csv'\n",
    "\n",
    "# sampled design dataframe csv loc\n",
    "design_matrix_shuffled_filename = f'/sampled/sampled_design{str(datetime.now()).replace(\" \", \"\")}.csv'\n",
    "\n",
    "# all results dataframe csv loc\n",
    "all_results_file = f'/results/all_results_{str(datetime.now()).replace(\" \", \"\")}.csv'\n",
    "\n",
    "# filtered results dataframe csv loc\n",
    "filtered_results_file = f'/results/filtered_results_{str(datetime.now()).replace(\" \", \"\")}.csv'\n"
   ]
  },
  {
   "cell_type": "markdown",
   "metadata": {},
   "source": [
    "____\n",
    "\n",
    "### Load Data"
   ]
  },
  {
   "cell_type": "code",
   "execution_count": 6,
   "metadata": {},
   "outputs": [],
   "source": [
    "design_file = '/curated/shuffled_target.csv'\n",
    "target_vector_shuffled = pd.read_csv(data_path + design_file)\n",
    "\n",
    "target_file = '/curated/shuffled_design.csv'\n",
    "design_matrix_shuffled = pd.read_csv(data_path + target_file)\n"
   ]
  },
  {
   "cell_type": "code",
   "execution_count": 7,
   "metadata": {},
   "outputs": [],
   "source": [
    "#design_matrix_shuffled = design_matrix_shuffled.loc[:, :'numerical__ShapeFactor1']"
   ]
  },
  {
   "cell_type": "markdown",
   "metadata": {},
   "source": [
    "____\n",
    "\n",
    "### Sample Data"
   ]
  },
  {
   "cell_type": "code",
   "execution_count": 8,
   "metadata": {},
   "outputs": [],
   "source": [
    "sample = False\n",
    "if sample:\n",
    "    # num samples\n",
    "    n = 1000\n",
    "\n",
    "    # random seed\n",
    "    rand_seed = 42\n",
    "\n",
    "    # sample target and save copy to csv\n",
    "    target_vector_shuffled = target_vector_shuffled.sample(n=n, random_state=rand_seed)\n",
    "    target_vector_shuffled.to_csv(data_path + target_vector_shuffled_filename, index=False)\n",
    "    print(\"Sampled target dataframe saved at:\", data_path + target_vector_shuffled_filename)\n",
    "\n",
    "\n",
    "     # sample target and save copy to csv\n",
    "    design_matrix_shuffled = design_matrix_shuffled.sample(n=n, random_state=rand_seed)\n",
    "    design_matrix_shuffled.to_csv(data_path + design_matrix_shuffled_filename, index=False)\n",
    "    print(\"Sampled design dataframe saved at:\", data_path + design_matrix_shuffled_filename)\n"
   ]
  },
  {
   "cell_type": "markdown",
   "metadata": {},
   "source": [
    "___\n",
    "\n",
    "### Create capX"
   ]
  },
  {
   "cell_type": "code",
   "execution_count": 9,
   "metadata": {},
   "outputs": [
    {
     "name": "stdout",
     "output_type": "stream",
     "text": [
      "cap_x shape: (13611, 17)\n"
     ]
    },
    {
     "data": {
      "text/plain": [
       "(13611, 17)"
      ]
     },
     "execution_count": 9,
     "metadata": {},
     "output_type": "execute_result"
    }
   ],
   "source": [
    "# drop ID col\n",
    "design_matrix_shuffled_noID = design_matrix_shuffled.drop('ID', axis=1)\n",
    "\n",
    "# convert to ndarray\n",
    "cap_x = design_matrix_shuffled_noID.to_numpy()\n",
    "cap_x = design_matrix_shuffled\n",
    "print(f'cap_x shape: {cap_x.shape}')\n",
    "cap_x.shape"
   ]
  },
  {
   "cell_type": "markdown",
   "metadata": {},
   "source": [
    "___\n",
    "\n",
    "### Select Hyperparameters for Gridsearch"
   ]
  },
  {
   "cell_type": "code",
   "execution_count": 10,
   "metadata": {},
   "outputs": [],
   "source": [
    "# select hyperparams\n",
    "params1=False\n",
    "params2=False\n",
    "params3=True\n",
    "params4=False\n",
    "\n",
    "if params1:\n",
    "\n",
    "    min_dist_list = [0.0, 0.01, 0.1, 0.25, 0.5]\n",
    "    n_neighbors_list = [10, 25, 50, 100, 200]\n",
    "    metric_list =['euclidean', 'canberra', 'mahalanobis', 'correlation']\n",
    "    n_components_list = range(2, 4)\n",
    "\n",
    "\n",
    "if params2:\n",
    "\n",
    "    min_dist_list = [0.5]\n",
    "    n_neighbors_list = [100]\n",
    "    metric_list = ['euclidean']\n",
    "    n_components_list = [3]\n",
    "\n",
    "\n",
    "if params3:\n",
    "\n",
    "    min_dist_list = [0]\n",
    "    n_neighbors_list = [1000]\n",
    "    metric_list =['euclidean', 'cosine']\n",
    "    n_components_list = [7]\n",
    "\n",
    "\n",
    "if params4:\n",
    "\n",
    "    min_dist_list = [0.0]\n",
    "    n_neighbors_list = [50, 100, 250, 500, 1000]\n",
    "    metric_list =['cosine', 'euclidean']\n",
    "    n_components_list = range(2, 9)\n",
    "\n",
    "\n"
   ]
  },
  {
   "cell_type": "markdown",
   "metadata": {},
   "source": [
    "___\n",
    "\n",
    "### Gridsearch Algorithm"
   ]
  },
  {
   "cell_type": "code",
   "execution_count": 11,
   "metadata": {},
   "outputs": [
    {
     "name": "stdout",
     "output_type": "stream",
     "text": [
      "****************************************************************************************************\n",
      "Run 1 of 2\n"
     ]
    },
    {
     "name": "stderr",
     "output_type": "stream",
     "text": [
      "/Users/mikey/miniconda3/envs/usml_base_ds2/lib/python3.10/site-packages/umap/umap_.py:1943: UserWarning: n_jobs value -1 overridden to 1 by setting random_state. Use no seed for parallelism.\n",
      "  warn(f\"n_jobs value {self.n_jobs} overridden to 1 by setting random_state. Use no seed for parallelism.\")\n"
     ]
    },
    {
     "name": "stdout",
     "output_type": "stream",
     "text": [
      "****************************************************************************************************\n",
      "****************************************************************************************************\n",
      "Hyperparameters:\n",
      "n_neighbors:  1000\n",
      "min_dist:  0\n",
      "metric:  euclidean\n",
      "n_components:  7\n",
      "Hopkin's Statistic = 0.002807245746021458\n",
      "Test2 Pass: Kmeans successfully clustered.\n",
      "Number of Clusters:  15\n",
      "Silhouette Score:  0.5167888\n",
      "****************************************************************************************************\n",
      "Run 2 of 2\n"
     ]
    },
    {
     "name": "stderr",
     "output_type": "stream",
     "text": [
      "/Users/mikey/miniconda3/envs/usml_base_ds2/lib/python3.10/site-packages/umap/umap_.py:1943: UserWarning: n_jobs value -1 overridden to 1 by setting random_state. Use no seed for parallelism.\n",
      "  warn(f\"n_jobs value {self.n_jobs} overridden to 1 by setting random_state. Use no seed for parallelism.\")\n"
     ]
    },
    {
     "name": "stdout",
     "output_type": "stream",
     "text": [
      "****************************************************************************************************\n",
      "****************************************************************************************************\n",
      "Hyperparameters:\n",
      "n_neighbors:  1000\n",
      "min_dist:  0\n",
      "metric:  cosine\n",
      "n_components:  7\n",
      "Hopkin's Statistic = 0.009410355535408211\n",
      "Fail: Kmeans did not successfully cluster.\n",
      "DBSCAN\n",
      "Number of Clusters:  4\n",
      "Validity Index:  0.9998688356000708\n",
      "[0 1 2 3]\n",
      "Noise Ratio:  0.0\n"
     ]
    }
   ],
   "source": [
    "runs = len(n_components_list)*len(min_dist_list)*len(n_neighbors_list)*len(metric_list)\n",
    "run = 0\n",
    "df_row_dict_list = []\n",
    "for n_components in n_components_list:\n",
    "  for min_dist in min_dist_list:\n",
    "    for n_neighbors in n_neighbors_list: \n",
    "      for metric in metric_list:\n",
    "        run +=1\n",
    "        print('*'*100)\n",
    "        print(f'Run {run} of {runs}')\n",
    "        results_dict = dr.umap_dim_red(cap_x, n_neighbors, min_dist, metric, n_components) \n",
    "        df_row_dict = cl.clustering(results_dict)\n",
    "        df_row_dict_list.append(df_row_dict)\n",
    "results_df = pd.DataFrame(df_row_dict_list)\n"
   ]
  },
  {
   "cell_type": "markdown",
   "metadata": {},
   "source": [
    "___\n",
    "\n",
    "## All Results"
   ]
  },
  {
   "cell_type": "code",
   "execution_count": 12,
   "metadata": {},
   "outputs": [
    {
     "name": "stdout",
     "output_type": "stream",
     "text": [
      "Filtered results dataframe saved at: /Users/mikey/LocalFiles/DS5230/final_project/DS5230-final/data/results/all_results_2024-04-1811:12:48.064435.csv\n"
     ]
    },
    {
     "data": {
      "text/html": [
       "<div>\n",
       "<style scoped>\n",
       "    .dataframe tbody tr th:only-of-type {\n",
       "        vertical-align: middle;\n",
       "    }\n",
       "\n",
       "    .dataframe tbody tr th {\n",
       "        vertical-align: top;\n",
       "    }\n",
       "\n",
       "    .dataframe thead th {\n",
       "        text-align: right;\n",
       "    }\n",
       "</style>\n",
       "<table border=\"1\" class=\"dataframe\">\n",
       "  <thead>\n",
       "    <tr style=\"text-align: right;\">\n",
       "      <th></th>\n",
       "      <th>algo</th>\n",
       "      <th>n_clusters_found</th>\n",
       "      <th>n_clusters_db_score_is_min</th>\n",
       "      <th>n_clusters_ch_score_is_max</th>\n",
       "      <th>n_clusters_silhouette_score_is_max</th>\n",
       "      <th>silhouette_score</th>\n",
       "      <th>hopkins_statistic</th>\n",
       "      <th>umap_n_neighbors</th>\n",
       "      <th>umap_min_dist</th>\n",
       "      <th>umap_metric</th>\n",
       "      <th>umap_n_components</th>\n",
       "      <th>trustworthiness</th>\n",
       "      <th>eps</th>\n",
       "      <th>dbscan_min_samples</th>\n",
       "      <th>dbscan_metric</th>\n",
       "      <th>validity_index</th>\n",
       "      <th>noise_ratio</th>\n",
       "      <th>cluster_labels</th>\n",
       "    </tr>\n",
       "  </thead>\n",
       "  <tbody>\n",
       "    <tr>\n",
       "      <th>0</th>\n",
       "      <td>k_means</td>\n",
       "      <td>15</td>\n",
       "      <td>15.0</td>\n",
       "      <td>15.0</td>\n",
       "      <td>15.0</td>\n",
       "      <td>0.516789</td>\n",
       "      <td>0.002807</td>\n",
       "      <td>1000</td>\n",
       "      <td>0</td>\n",
       "      <td>euclidean</td>\n",
       "      <td>7</td>\n",
       "      <td>0.999931</td>\n",
       "      <td>NaN</td>\n",
       "      <td>NaN</td>\n",
       "      <td>NaN</td>\n",
       "      <td>NaN</td>\n",
       "      <td>NaN</td>\n",
       "      <td>[12, 7, 5, 5, 1, 5, 10, 12, 4, 8, 14, 11, 6, 0...</td>\n",
       "    </tr>\n",
       "    <tr>\n",
       "      <th>1</th>\n",
       "      <td>dbscan</td>\n",
       "      <td>4</td>\n",
       "      <td>NaN</td>\n",
       "      <td>NaN</td>\n",
       "      <td>NaN</td>\n",
       "      <td>NaN</td>\n",
       "      <td>0.009410</td>\n",
       "      <td>1000</td>\n",
       "      <td>0</td>\n",
       "      <td>cosine</td>\n",
       "      <td>7</td>\n",
       "      <td>0.847250</td>\n",
       "      <td>0.265387</td>\n",
       "      <td>5.0</td>\n",
       "      <td>cosine</td>\n",
       "      <td>0.999869</td>\n",
       "      <td>0.0</td>\n",
       "      <td>[0, 1, 0, 2, 1, 0, 1, 0, 3, 1, 1, 1, 1, 1, 1, ...</td>\n",
       "    </tr>\n",
       "  </tbody>\n",
       "</table>\n",
       "</div>"
      ],
      "text/plain": [
       "      algo  n_clusters_found  n_clusters_db_score_is_min  \\\n",
       "0  k_means                15                        15.0   \n",
       "1   dbscan                 4                         NaN   \n",
       "\n",
       "   n_clusters_ch_score_is_max  n_clusters_silhouette_score_is_max  \\\n",
       "0                        15.0                                15.0   \n",
       "1                         NaN                                 NaN   \n",
       "\n",
       "   silhouette_score  hopkins_statistic  umap_n_neighbors  umap_min_dist  \\\n",
       "0          0.516789           0.002807              1000              0   \n",
       "1               NaN           0.009410              1000              0   \n",
       "\n",
       "  umap_metric  umap_n_components  trustworthiness       eps  \\\n",
       "0   euclidean                  7         0.999931       NaN   \n",
       "1      cosine                  7         0.847250  0.265387   \n",
       "\n",
       "   dbscan_min_samples dbscan_metric  validity_index  noise_ratio  \\\n",
       "0                 NaN           NaN             NaN          NaN   \n",
       "1                 5.0        cosine        0.999869          0.0   \n",
       "\n",
       "                                      cluster_labels  \n",
       "0  [12, 7, 5, 5, 1, 5, 10, 12, 4, 8, 14, 11, 6, 0...  \n",
       "1  [0, 1, 0, 2, 1, 0, 1, 0, 3, 1, 1, 1, 1, 1, 1, ...  "
      ]
     },
     "execution_count": 12,
     "metadata": {},
     "output_type": "execute_result"
    }
   ],
   "source": [
    "results_df.to_csv(data_path + all_results_file, index=False)\n",
    "print(\"Filtered results dataframe saved at:\", data_path + all_results_file)\n",
    "\n",
    "# display max rows\n",
    "pd.set_option('display.max_rows', None)\n",
    "pd.set_option('display.max_columns', None)\n",
    "results_df"
   ]
  },
  {
   "cell_type": "code",
   "execution_count": 13,
   "metadata": {},
   "outputs": [],
   "source": [
    "# set max rows back to default\n",
    "pd.reset_option('display.max_rows')\n",
    "pd.reset_option('display.max_columns')"
   ]
  },
  {
   "cell_type": "markdown",
   "metadata": {},
   "source": [
    "____\n",
    "\n",
    "### Get n Best Results (kmeans and DBSCAN)"
   ]
  },
  {
   "cell_type": "markdown",
   "metadata": {},
   "source": [
    "#### Kmeans Results"
   ]
  },
  {
   "cell_type": "code",
   "execution_count": 14,
   "metadata": {},
   "outputs": [
    {
     "data": {
      "text/html": [
       "<div>\n",
       "<style scoped>\n",
       "    .dataframe tbody tr th:only-of-type {\n",
       "        vertical-align: middle;\n",
       "    }\n",
       "\n",
       "    .dataframe tbody tr th {\n",
       "        vertical-align: top;\n",
       "    }\n",
       "\n",
       "    .dataframe thead th {\n",
       "        text-align: right;\n",
       "    }\n",
       "</style>\n",
       "<table border=\"1\" class=\"dataframe\">\n",
       "  <thead>\n",
       "    <tr style=\"text-align: right;\">\n",
       "      <th></th>\n",
       "      <th>algo</th>\n",
       "      <th>n_clusters_found</th>\n",
       "      <th>n_clusters_db_score_is_min</th>\n",
       "      <th>n_clusters_ch_score_is_max</th>\n",
       "      <th>n_clusters_silhouette_score_is_max</th>\n",
       "      <th>silhouette_score</th>\n",
       "      <th>hopkins_statistic</th>\n",
       "      <th>umap_n_neighbors</th>\n",
       "      <th>umap_min_dist</th>\n",
       "      <th>umap_metric</th>\n",
       "      <th>umap_n_components</th>\n",
       "      <th>trustworthiness</th>\n",
       "      <th>eps</th>\n",
       "      <th>dbscan_min_samples</th>\n",
       "      <th>dbscan_metric</th>\n",
       "      <th>validity_index</th>\n",
       "      <th>noise_ratio</th>\n",
       "      <th>cluster_labels</th>\n",
       "    </tr>\n",
       "  </thead>\n",
       "  <tbody>\n",
       "    <tr>\n",
       "      <th>0</th>\n",
       "      <td>k_means</td>\n",
       "      <td>15</td>\n",
       "      <td>15.0</td>\n",
       "      <td>15.0</td>\n",
       "      <td>15.0</td>\n",
       "      <td>0.516789</td>\n",
       "      <td>0.002807</td>\n",
       "      <td>1000</td>\n",
       "      <td>0</td>\n",
       "      <td>euclidean</td>\n",
       "      <td>7</td>\n",
       "      <td>0.999931</td>\n",
       "      <td>NaN</td>\n",
       "      <td>NaN</td>\n",
       "      <td>NaN</td>\n",
       "      <td>NaN</td>\n",
       "      <td>NaN</td>\n",
       "      <td>[12, 7, 5, 5, 1, 5, 10, 12, 4, 8, 14, 11, 6, 0...</td>\n",
       "    </tr>\n",
       "  </tbody>\n",
       "</table>\n",
       "</div>"
      ],
      "text/plain": [
       "      algo  n_clusters_found  n_clusters_db_score_is_min  \\\n",
       "0  k_means                15                        15.0   \n",
       "\n",
       "   n_clusters_ch_score_is_max  n_clusters_silhouette_score_is_max  \\\n",
       "0                        15.0                                15.0   \n",
       "\n",
       "   silhouette_score  hopkins_statistic  umap_n_neighbors  umap_min_dist  \\\n",
       "0          0.516789           0.002807              1000              0   \n",
       "\n",
       "  umap_metric  umap_n_components  trustworthiness  eps  dbscan_min_samples  \\\n",
       "0   euclidean                  7         0.999931  NaN                 NaN   \n",
       "\n",
       "  dbscan_metric  validity_index  noise_ratio  \\\n",
       "0           NaN             NaN          NaN   \n",
       "\n",
       "                                      cluster_labels  \n",
       "0  [12, 7, 5, 5, 1, 5, 10, 12, 4, 8, 14, 11, 6, 0...  "
      ]
     },
     "execution_count": 14,
     "metadata": {},
     "output_type": "execute_result"
    }
   ],
   "source": [
    "n=1\n",
    "\n",
    "kmeans_results_df = results_df[results_df['algo'] == 'k_means']\n",
    "kmeans_results_df = kmeans_results_df.sort_values(by='silhouette_score', ascending=False)\n",
    "best_kmeans_results_df = kmeans_results_df.head(n)\n",
    "best_kmeans_results_df"
   ]
  },
  {
   "cell_type": "markdown",
   "metadata": {},
   "source": [
    "#### DBSCAN Results"
   ]
  },
  {
   "cell_type": "code",
   "execution_count": 15,
   "metadata": {},
   "outputs": [
    {
     "data": {
      "text/html": [
       "<div>\n",
       "<style scoped>\n",
       "    .dataframe tbody tr th:only-of-type {\n",
       "        vertical-align: middle;\n",
       "    }\n",
       "\n",
       "    .dataframe tbody tr th {\n",
       "        vertical-align: top;\n",
       "    }\n",
       "\n",
       "    .dataframe thead th {\n",
       "        text-align: right;\n",
       "    }\n",
       "</style>\n",
       "<table border=\"1\" class=\"dataframe\">\n",
       "  <thead>\n",
       "    <tr style=\"text-align: right;\">\n",
       "      <th></th>\n",
       "      <th>algo</th>\n",
       "      <th>n_clusters_found</th>\n",
       "      <th>n_clusters_db_score_is_min</th>\n",
       "      <th>n_clusters_ch_score_is_max</th>\n",
       "      <th>n_clusters_silhouette_score_is_max</th>\n",
       "      <th>silhouette_score</th>\n",
       "      <th>hopkins_statistic</th>\n",
       "      <th>umap_n_neighbors</th>\n",
       "      <th>umap_min_dist</th>\n",
       "      <th>umap_metric</th>\n",
       "      <th>umap_n_components</th>\n",
       "      <th>trustworthiness</th>\n",
       "      <th>eps</th>\n",
       "      <th>dbscan_min_samples</th>\n",
       "      <th>dbscan_metric</th>\n",
       "      <th>validity_index</th>\n",
       "      <th>noise_ratio</th>\n",
       "      <th>cluster_labels</th>\n",
       "    </tr>\n",
       "  </thead>\n",
       "  <tbody>\n",
       "    <tr>\n",
       "      <th>1</th>\n",
       "      <td>dbscan</td>\n",
       "      <td>4</td>\n",
       "      <td>NaN</td>\n",
       "      <td>NaN</td>\n",
       "      <td>NaN</td>\n",
       "      <td>NaN</td>\n",
       "      <td>0.00941</td>\n",
       "      <td>1000</td>\n",
       "      <td>0</td>\n",
       "      <td>cosine</td>\n",
       "      <td>7</td>\n",
       "      <td>0.84725</td>\n",
       "      <td>0.265387</td>\n",
       "      <td>5.0</td>\n",
       "      <td>cosine</td>\n",
       "      <td>0.999869</td>\n",
       "      <td>0.0</td>\n",
       "      <td>[0, 1, 0, 2, 1, 0, 1, 0, 3, 1, 1, 1, 1, 1, 1, ...</td>\n",
       "    </tr>\n",
       "  </tbody>\n",
       "</table>\n",
       "</div>"
      ],
      "text/plain": [
       "     algo  n_clusters_found  n_clusters_db_score_is_min  \\\n",
       "1  dbscan                 4                         NaN   \n",
       "\n",
       "   n_clusters_ch_score_is_max  n_clusters_silhouette_score_is_max  \\\n",
       "1                         NaN                                 NaN   \n",
       "\n",
       "   silhouette_score  hopkins_statistic  umap_n_neighbors  umap_min_dist  \\\n",
       "1               NaN            0.00941              1000              0   \n",
       "\n",
       "  umap_metric  umap_n_components  trustworthiness       eps  \\\n",
       "1      cosine                  7          0.84725  0.265387   \n",
       "\n",
       "   dbscan_min_samples dbscan_metric  validity_index  noise_ratio  \\\n",
       "1                 5.0        cosine        0.999869          0.0   \n",
       "\n",
       "                                      cluster_labels  \n",
       "1  [0, 1, 0, 2, 1, 0, 1, 0, 3, 1, 1, 1, 1, 1, 1, ...  "
      ]
     },
     "execution_count": 15,
     "metadata": {},
     "output_type": "execute_result"
    }
   ],
   "source": [
    "dbscan_results_df = results_df[results_df['algo'] == 'dbscan']\n",
    "dbscan_results_df = dbscan_results_df.sort_values(by='validity_index', ascending=False)\n",
    "best_dbscan_results_df = dbscan_results_df.head(n)\n",
    "best_dbscan_results_df"
   ]
  },
  {
   "cell_type": "code",
   "execution_count": 16,
   "metadata": {},
   "outputs": [
    {
     "data": {
      "text/html": [
       "<div>\n",
       "<style scoped>\n",
       "    .dataframe tbody tr th:only-of-type {\n",
       "        vertical-align: middle;\n",
       "    }\n",
       "\n",
       "    .dataframe tbody tr th {\n",
       "        vertical-align: top;\n",
       "    }\n",
       "\n",
       "    .dataframe thead th {\n",
       "        text-align: right;\n",
       "    }\n",
       "</style>\n",
       "<table border=\"1\" class=\"dataframe\">\n",
       "  <thead>\n",
       "    <tr style=\"text-align: right;\">\n",
       "      <th></th>\n",
       "      <th>algo</th>\n",
       "      <th>n_clusters_found</th>\n",
       "      <th>n_clusters_db_score_is_min</th>\n",
       "      <th>n_clusters_ch_score_is_max</th>\n",
       "      <th>n_clusters_silhouette_score_is_max</th>\n",
       "      <th>silhouette_score</th>\n",
       "      <th>hopkins_statistic</th>\n",
       "      <th>umap_n_neighbors</th>\n",
       "      <th>umap_min_dist</th>\n",
       "      <th>umap_metric</th>\n",
       "      <th>umap_n_components</th>\n",
       "      <th>trustworthiness</th>\n",
       "      <th>eps</th>\n",
       "      <th>dbscan_min_samples</th>\n",
       "      <th>dbscan_metric</th>\n",
       "      <th>validity_index</th>\n",
       "      <th>noise_ratio</th>\n",
       "      <th>cluster_labels</th>\n",
       "    </tr>\n",
       "  </thead>\n",
       "  <tbody>\n",
       "    <tr>\n",
       "      <th>1</th>\n",
       "      <td>dbscan</td>\n",
       "      <td>4</td>\n",
       "      <td>NaN</td>\n",
       "      <td>NaN</td>\n",
       "      <td>NaN</td>\n",
       "      <td>NaN</td>\n",
       "      <td>0.009410</td>\n",
       "      <td>1000</td>\n",
       "      <td>0</td>\n",
       "      <td>cosine</td>\n",
       "      <td>7</td>\n",
       "      <td>0.847250</td>\n",
       "      <td>0.265387</td>\n",
       "      <td>5.0</td>\n",
       "      <td>cosine</td>\n",
       "      <td>0.999869</td>\n",
       "      <td>0.0</td>\n",
       "      <td>[0, 1, 0, 2, 1, 0, 1, 0, 3, 1, 1, 1, 1, 1, 1, ...</td>\n",
       "    </tr>\n",
       "    <tr>\n",
       "      <th>0</th>\n",
       "      <td>k_means</td>\n",
       "      <td>15</td>\n",
       "      <td>15.0</td>\n",
       "      <td>15.0</td>\n",
       "      <td>15.0</td>\n",
       "      <td>0.516789</td>\n",
       "      <td>0.002807</td>\n",
       "      <td>1000</td>\n",
       "      <td>0</td>\n",
       "      <td>euclidean</td>\n",
       "      <td>7</td>\n",
       "      <td>0.999931</td>\n",
       "      <td>NaN</td>\n",
       "      <td>NaN</td>\n",
       "      <td>NaN</td>\n",
       "      <td>NaN</td>\n",
       "      <td>NaN</td>\n",
       "      <td>[12, 7, 5, 5, 1, 5, 10, 12, 4, 8, 14, 11, 6, 0...</td>\n",
       "    </tr>\n",
       "  </tbody>\n",
       "</table>\n",
       "</div>"
      ],
      "text/plain": [
       "      algo  n_clusters_found  n_clusters_db_score_is_min  \\\n",
       "1   dbscan                 4                         NaN   \n",
       "0  k_means                15                        15.0   \n",
       "\n",
       "   n_clusters_ch_score_is_max  n_clusters_silhouette_score_is_max  \\\n",
       "1                         NaN                                 NaN   \n",
       "0                        15.0                                15.0   \n",
       "\n",
       "   silhouette_score  hopkins_statistic  umap_n_neighbors  umap_min_dist  \\\n",
       "1               NaN           0.009410              1000              0   \n",
       "0          0.516789           0.002807              1000              0   \n",
       "\n",
       "  umap_metric  umap_n_components  trustworthiness       eps  \\\n",
       "1      cosine                  7         0.847250  0.265387   \n",
       "0   euclidean                  7         0.999931       NaN   \n",
       "\n",
       "   dbscan_min_samples dbscan_metric  validity_index  noise_ratio  \\\n",
       "1                 5.0        cosine        0.999869          0.0   \n",
       "0                 NaN           NaN             NaN          NaN   \n",
       "\n",
       "                                      cluster_labels  \n",
       "1  [0, 1, 0, 2, 1, 0, 1, 0, 3, 1, 1, 1, 1, 1, 1, ...  \n",
       "0  [12, 7, 5, 5, 1, 5, 10, 12, 4, 8, 14, 11, 6, 0...  "
      ]
     },
     "execution_count": 16,
     "metadata": {},
     "output_type": "execute_result"
    }
   ],
   "source": [
    "filtered_results_df = pd.concat([best_dbscan_results_df, best_kmeans_results_df])\n",
    "filtered_results_df"
   ]
  },
  {
   "cell_type": "code",
   "execution_count": 18,
   "metadata": {},
   "outputs": [],
   "source": [
    "filtered_results_df['cluster_labels'] = filtered_results_df['cluster_labels'].apply(lambda x: ','.join(map(str, x)))"
   ]
  },
  {
   "cell_type": "markdown",
   "metadata": {},
   "source": [
    "____\n",
    "\n",
    "### Save Filtered Results to CSV"
   ]
  },
  {
   "cell_type": "code",
   "execution_count": 19,
   "metadata": {},
   "outputs": [
    {
     "name": "stdout",
     "output_type": "stream",
     "text": [
      "Filtered results dataframe saved at: /Users/mikey/LocalFiles/DS5230/final_project/DS5230-final/data/results/filtered_results_2024-04-1811:12:48.064452.csv\n"
     ]
    }
   ],
   "source": [
    "filtered_results_df.to_csv(data_path + filtered_results_file, index=False)\n",
    "print(\"Filtered results dataframe saved at:\", data_path + filtered_results_file)"
   ]
  },
  {
   "cell_type": "markdown",
   "metadata": {},
   "source": [
    "___\n",
    "\n",
    "## Runtime"
   ]
  },
  {
   "cell_type": "code",
   "execution_count": 20,
   "metadata": {},
   "outputs": [
    {
     "name": "stdout",
     "output_type": "stream",
     "text": [
      "Total Run Time(hh:mm.ss): 00:22.15\n"
     ]
    }
   ],
   "source": [
    "finish = time.time()\n",
    "hours = int((finish - start) // 3600)\n",
    "minutes = int(((finish - start) % 3600) // 60)\n",
    "seconds = int((finish - start) % 60)\n",
    "print(f\"Total Run Time(hh:mm.ss): {hours:02d}:{minutes:02d}.{seconds:02d}\")"
   ]
  }
 ],
 "metadata": {
  "kernelspec": {
   "display_name": "usml_base_ds2",
   "language": "python",
   "name": "python3"
  },
  "language_info": {
   "codemirror_mode": {
    "name": "ipython",
    "version": 3
   },
   "file_extension": ".py",
   "mimetype": "text/x-python",
   "name": "python",
   "nbconvert_exporter": "python",
   "pygments_lexer": "ipython3",
   "version": "3.10.13"
  }
 },
 "nbformat": 4,
 "nbformat_minor": 2
}

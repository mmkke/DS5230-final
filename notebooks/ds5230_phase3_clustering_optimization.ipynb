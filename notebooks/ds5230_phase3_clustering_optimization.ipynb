{
 "cells": [
  {
   "cell_type": "code",
   "execution_count": 1,
   "metadata": {},
   "outputs": [],
   "source": [
    "## Libraries\n",
    "\n",
    "# base\n",
    "import pandas as pd\n",
    "import numpy as np\n",
    "import matplotlib.pyplot as plt\n",
    "\n",
    "import random\n",
    "\n",
    "\n",
    "# preprocessing\n",
    "from sklearn.utils import shuffle\n",
    "from sklearn.preprocessing import StandardScaler\n",
    "\n",
    "# data\n",
    "from sklearn.datasets import load_digits\n",
    "\n",
    "# clustering\n",
    "from sklearn.cluster import DBSCAN, KMeans\n",
    "\n",
    "#external indices\n",
    "from sklearn.metrics.cluster import adjusted_rand_score, contingency_matrix\n",
    "\n",
    "# runtime and run tracking\n",
    "import time\n",
    "from datetime import datetime\n",
    "\n",
    "# pathing\n",
    "from pathlib import Path\n",
    "import os\n",
    "import sys\n",
    "\n",
    "import warnings\n",
    "\n",
    "# Disable runtime warnings\n",
    "warnings.filterwarnings(\"ignore\", category=RuntimeWarning)\n",
    "\n"
   ]
  },
  {
   "cell_type": "markdown",
   "metadata": {},
   "source": [
    "___\n",
    "\n",
    "### Start Timer"
   ]
  },
  {
   "cell_type": "code",
   "execution_count": 2,
   "metadata": {},
   "outputs": [],
   "source": [
    "# track runtime\n",
    "start = time.time()"
   ]
  },
  {
   "cell_type": "markdown",
   "metadata": {},
   "source": [
    "___\n",
    "\n",
    "### Define File Paths"
   ]
  },
  {
   "cell_type": "code",
   "execution_count": 3,
   "metadata": {},
   "outputs": [
    {
     "name": "stdout",
     "output_type": "stream",
     "text": [
      "/Users/mikey/LocalFiles/DS5230/final_project/DS5230-final/notebooks\n",
      "/Users/mikey/LocalFiles/DS5230/final_project/DS5230-final\n",
      "/Users/mikey/LocalFiles/DS5230/final_project/DS5230-final/src\n"
     ]
    }
   ],
   "source": [
    "# define path\n",
    "nb_path = Path(os.getcwd())\n",
    "print(nb_path)\n",
    "path = str(nb_path.parent)\n",
    "print(path)\n",
    "\n",
    "# path to figs folder\n",
    "figs_path = path + '/figs'\n",
    "\n",
    "# path to data\n",
    "data_path= path + '/data'\n",
    "\n",
    "# path to src folder\n",
    "src_path = path + '/src'\n",
    "print(src_path)\n",
    "\n",
    "# sys path\n",
    "sys.path.append(src_path)"
   ]
  },
  {
   "cell_type": "markdown",
   "metadata": {},
   "source": [
    "____\n",
    "\n",
    "### Import Modules"
   ]
  },
  {
   "cell_type": "code",
   "execution_count": 4,
   "metadata": {},
   "outputs": [],
   "source": [
    "# modules and util\n",
    "import dimensionality_reduction as dr\n",
    "import clustering as cl\n",
    "from cluster_utils import *\n",
    "from external_indices_utils import *"
   ]
  },
  {
   "cell_type": "markdown",
   "metadata": {},
   "source": [
    "___\n",
    "\n",
    "### Parameters"
   ]
  },
  {
   "cell_type": "code",
   "execution_count": 5,
   "metadata": {},
   "outputs": [],
   "source": [
    "# transformed data csv file name\n",
    "design_file = '/curated/shuffled_target.csv'\n",
    "\n",
    "# target vector csv file name\n",
    "target_file = \"/curated/beans_target.csv\"\n",
    "\n",
    "# sampled target dataframe csv loc\n",
    "target_vector_shuffled_filename = f'/sampled/sampled_target{str(datetime.now()).replace(\" \", \"\")}.csv'\n",
    "\n",
    "# sampled design dataframe csv loc\n",
    "design_matrix_shuffled_filename = f'/sampled/sampled_design{str(datetime.now()).replace(\" \", \"\")}.csv'\n",
    "\n",
    "# all results dataframe csv loc\n",
    "all_results_file = f'/results/all_results_{str(datetime.now()).replace(\" \", \"\")}.csv'\n",
    "\n",
    "# filtered results dataframe csv loc\n",
    "filtered_results_file = f'/results/filtered_results_{str(datetime.now()).replace(\" \", \"\")}.csv'\n"
   ]
  },
  {
   "cell_type": "markdown",
   "metadata": {},
   "source": [
    "____\n",
    "\n",
    "### Load Data"
   ]
  },
  {
   "cell_type": "code",
   "execution_count": 6,
   "metadata": {},
   "outputs": [],
   "source": [
    "design_file = '/curated/shuffled_target.csv'\n",
    "target_vector_shuffled = pd.read_csv(data_path + design_file)\n",
    "\n",
    "target_file = '/curated/shuffled_design.csv'\n",
    "design_matrix_shuffled = pd.read_csv(data_path + target_file)\n"
   ]
  },
  {
   "cell_type": "markdown",
   "metadata": {},
   "source": [
    "____\n",
    "\n",
    "### Sample Data"
   ]
  },
  {
   "cell_type": "code",
   "execution_count": 7,
   "metadata": {},
   "outputs": [
    {
     "name": "stdout",
     "output_type": "stream",
     "text": [
      "Sampled target dataframe saved at: /Users/mikey/LocalFiles/DS5230/final_project/DS5230-final/data/sampled/sampled_target2024-04-1620:19:46.316870.csv\n",
      "Sampled design dataframe saved at: /Users/mikey/LocalFiles/DS5230/final_project/DS5230-final/data/sampled/sampled_design2024-04-1620:19:46.316892.csv\n"
     ]
    }
   ],
   "source": [
    "sample = True\n",
    "if sample:\n",
    "    # num samples\n",
    "    n = 1000\n",
    "\n",
    "    # random seed\n",
    "    rand_seed = 42\n",
    "\n",
    "    # sample target and save copy to csv\n",
    "    target_vector_shuffled = target_vector_shuffled.sample(n=n, random_state=rand_seed)\n",
    "    target_vector_shuffled.to_csv(data_path + target_vector_shuffled_filename, index=False)\n",
    "    print(\"Sampled target dataframe saved at:\", data_path + target_vector_shuffled_filename)\n",
    "\n",
    "\n",
    "     # sample target and save copy to csv\n",
    "    design_matrix_shuffled = design_matrix_shuffled.sample(n=n, random_state=rand_seed)\n",
    "    design_matrix_shuffled.to_csv(data_path + design_matrix_shuffled_filename, index=False)\n",
    "    print(\"Sampled design dataframe saved at:\", data_path + design_matrix_shuffled_filename)\n"
   ]
  },
  {
   "cell_type": "markdown",
   "metadata": {},
   "source": [
    "___\n",
    "\n",
    "### Create capX"
   ]
  },
  {
   "cell_type": "code",
   "execution_count": 8,
   "metadata": {},
   "outputs": [
    {
     "name": "stdout",
     "output_type": "stream",
     "text": [
      "cap_x shape: (1000, 16)\n"
     ]
    },
    {
     "data": {
      "text/plain": [
       "(1000, 16)"
      ]
     },
     "execution_count": 8,
     "metadata": {},
     "output_type": "execute_result"
    }
   ],
   "source": [
    "# drop ID col\n",
    "design_matrix_shuffled_noID = design_matrix_shuffled.drop('ID', axis=1)\n",
    "\n",
    "# convert to ndarray\n",
    "cap_x = design_matrix_shuffled_noID.to_numpy()\n",
    "print(f'cap_x shape: {cap_x.shape}')\n",
    "cap_x.shape"
   ]
  },
  {
   "cell_type": "markdown",
   "metadata": {},
   "source": [
    "___\n",
    "\n",
    "### Select Hyperparameters for Gridsearch"
   ]
  },
  {
   "cell_type": "code",
   "execution_count": 9,
   "metadata": {},
   "outputs": [],
   "source": [
    "# select hyperparams\n",
    "params1=True\n",
    "params2=False\n",
    "params3=False\n",
    "params4=False\n",
    "\n",
    "if params1:\n",
    "\n",
    "    min_dist_list = [0.0, 0.001, 0.01, 0.05, 0.1, 0.25, 0.5]\n",
    "    n_neighbors_list = [10, 20, 30, 50, 100]\n",
    "    metric_list =['euclidean', 'manhattan']\n",
    "    n_components_list = range(2, 10)\n",
    "\n",
    "\n",
    "if params2:\n",
    "\n",
    "    min_dist_list = [0.01, 0.05, 0.1]\n",
    "    n_neighbors_list = [5, 10, 15]\n",
    "    metric_list =['euclidean', 'manhattan']\n",
    "    n_components_list = [2, 3]\n",
    "\n",
    "\n",
    "if params3:\n",
    "\n",
    "    min_dist_list = np.linspace(0, 0.5, num = 40)\n",
    "    n_neighbors_list = np.arange(5, 35, 5)\n",
    "    metric_list =['euclidean', 'manhattan']\n",
    "    n_components_list = [2, 3]\n",
    "\n",
    "\n",
    "if params4:\n",
    "\n",
    "    min_dist_list = [0.01]\n",
    "    n_neighbors_list = [10]\n",
    "    metric_list =['euclidean']\n",
    "    n_components_list = [2, 3]\n",
    "\n",
    "\n"
   ]
  },
  {
   "cell_type": "markdown",
   "metadata": {},
   "source": [
    "___\n",
    "\n",
    "### Gridsearch Algorithm"
   ]
  },
  {
   "cell_type": "code",
   "execution_count": 10,
   "metadata": {},
   "outputs": [
    {
     "name": "stdout",
     "output_type": "stream",
     "text": [
      "****************************************************************************************************\n",
      "Run 1 of 560\n"
     ]
    },
    {
     "name": "stderr",
     "output_type": "stream",
     "text": [
      "/Users/mikey/miniconda3/envs/usml_base_ds2/lib/python3.10/site-packages/umap/umap_.py:1943: UserWarning: n_jobs value -1 overridden to 1 by setting random_state. Use no seed for parallelism.\n",
      "  warn(f\"n_jobs value {self.n_jobs} overridden to 1 by setting random_state. Use no seed for parallelism.\")\n"
     ]
    },
    {
     "name": "stdout",
     "output_type": "stream",
     "text": [
      "****************************************************************************************************\n",
      "****************************************************************************************************\n",
      "Hyperparameters:\n",
      "n_neighbors:  10\n",
      "min_dist:  0.0\n",
      "metric:  euclidean\n",
      "n_components:  2\n",
      "Hopkin's Statistic = 0.12122050348155113\n",
      "Fail: Kmeans did not successfully cluster.\n",
      "zero-size array to reduction operation minimum which has no identity\n",
      "zero-size array to reduction operation minimum which has no identity\n",
      "zero-size array to reduction operation minimum which has no identity\n",
      "DBSCAN\n",
      "Number of Clusters:  2\n",
      "Validity Index:  0.9581375934867127\n",
      "****************************************************************************************************\n",
      "Run 2 of 560\n"
     ]
    },
    {
     "name": "stderr",
     "output_type": "stream",
     "text": [
      "/Users/mikey/miniconda3/envs/usml_base_ds2/lib/python3.10/site-packages/umap/umap_.py:1943: UserWarning: n_jobs value -1 overridden to 1 by setting random_state. Use no seed for parallelism.\n",
      "  warn(f\"n_jobs value {self.n_jobs} overridden to 1 by setting random_state. Use no seed for parallelism.\")\n"
     ]
    },
    {
     "name": "stdout",
     "output_type": "stream",
     "text": [
      "****************************************************************************************************\n",
      "****************************************************************************************************\n",
      "Hyperparameters:\n",
      "n_neighbors:  10\n",
      "min_dist:  0.0\n",
      "metric:  manhattan\n",
      "n_components:  2\n",
      "Hopkin's Statistic = 0.156827360204044\n",
      "Fail: Kmeans did not successfully cluster.\n",
      "DBSCAN\n",
      "Number of Clusters:  2\n",
      "Validity Index:  0.8264391377894807\n",
      "****************************************************************************************************\n",
      "Run 3 of 560\n"
     ]
    },
    {
     "name": "stderr",
     "output_type": "stream",
     "text": [
      "/Users/mikey/miniconda3/envs/usml_base_ds2/lib/python3.10/site-packages/umap/umap_.py:1943: UserWarning: n_jobs value -1 overridden to 1 by setting random_state. Use no seed for parallelism.\n",
      "  warn(f\"n_jobs value {self.n_jobs} overridden to 1 by setting random_state. Use no seed for parallelism.\")\n"
     ]
    },
    {
     "name": "stdout",
     "output_type": "stream",
     "text": [
      "****************************************************************************************************\n",
      "****************************************************************************************************\n",
      "Hyperparameters:\n",
      "n_neighbors:  20\n",
      "min_dist:  0.0\n",
      "metric:  euclidean\n",
      "n_components:  2\n",
      "Hopkin's Statistic = 0.13347095958761482\n",
      "Fail: Kmeans did not successfully cluster.\n",
      "zero-size array to reduction operation minimum which has no identity\n",
      "DBSCAN\n",
      "Number of Clusters:  2\n",
      "Validity Index:  0.9755225182187253\n",
      "****************************************************************************************************\n",
      "Run 4 of 560\n"
     ]
    },
    {
     "name": "stderr",
     "output_type": "stream",
     "text": [
      "/Users/mikey/miniconda3/envs/usml_base_ds2/lib/python3.10/site-packages/umap/umap_.py:1943: UserWarning: n_jobs value -1 overridden to 1 by setting random_state. Use no seed for parallelism.\n",
      "  warn(f\"n_jobs value {self.n_jobs} overridden to 1 by setting random_state. Use no seed for parallelism.\")\n"
     ]
    },
    {
     "name": "stdout",
     "output_type": "stream",
     "text": [
      "****************************************************************************************************\n",
      "****************************************************************************************************\n",
      "Hyperparameters:\n",
      "n_neighbors:  20\n",
      "min_dist:  0.0\n",
      "metric:  manhattan\n",
      "n_components:  2\n",
      "Hopkin's Statistic = 0.16396208294399914\n",
      "Fail: Kmeans did not successfully cluster.\n",
      "DBSCAN\n",
      "Number of Clusters:  2\n",
      "Validity Index:  0.924353634322207\n",
      "****************************************************************************************************\n",
      "Run 5 of 560\n"
     ]
    },
    {
     "name": "stderr",
     "output_type": "stream",
     "text": [
      "/Users/mikey/miniconda3/envs/usml_base_ds2/lib/python3.10/site-packages/umap/umap_.py:1943: UserWarning: n_jobs value -1 overridden to 1 by setting random_state. Use no seed for parallelism.\n",
      "  warn(f\"n_jobs value {self.n_jobs} overridden to 1 by setting random_state. Use no seed for parallelism.\")\n"
     ]
    },
    {
     "name": "stdout",
     "output_type": "stream",
     "text": [
      "****************************************************************************************************\n",
      "****************************************************************************************************\n",
      "Hyperparameters:\n",
      "n_neighbors:  30\n",
      "min_dist:  0.0\n",
      "metric:  euclidean\n",
      "n_components:  2\n",
      "Hopkin's Statistic = 0.1579629673471116\n",
      "Fail: Kmeans did not successfully cluster.\n",
      "DBSCAN\n",
      "Number of Clusters:  2\n",
      "Validity Index:  0.98679698385454\n",
      "****************************************************************************************************\n",
      "Run 6 of 560\n"
     ]
    },
    {
     "name": "stderr",
     "output_type": "stream",
     "text": [
      "/Users/mikey/miniconda3/envs/usml_base_ds2/lib/python3.10/site-packages/umap/umap_.py:1943: UserWarning: n_jobs value -1 overridden to 1 by setting random_state. Use no seed for parallelism.\n",
      "  warn(f\"n_jobs value {self.n_jobs} overridden to 1 by setting random_state. Use no seed for parallelism.\")\n"
     ]
    },
    {
     "name": "stdout",
     "output_type": "stream",
     "text": [
      "****************************************************************************************************\n",
      "****************************************************************************************************\n",
      "Hyperparameters:\n",
      "n_neighbors:  30\n",
      "min_dist:  0.0\n",
      "metric:  manhattan\n",
      "n_components:  2\n",
      "Hopkin's Statistic = 0.1696191239625755\n",
      "Fail: Kmeans did not successfully cluster.\n",
      "DBSCAN\n",
      "Number of Clusters:  2\n",
      "Validity Index:  0.9533540229703464\n",
      "****************************************************************************************************\n",
      "Run 7 of 560\n"
     ]
    },
    {
     "name": "stderr",
     "output_type": "stream",
     "text": [
      "/Users/mikey/miniconda3/envs/usml_base_ds2/lib/python3.10/site-packages/umap/umap_.py:1943: UserWarning: n_jobs value -1 overridden to 1 by setting random_state. Use no seed for parallelism.\n",
      "  warn(f\"n_jobs value {self.n_jobs} overridden to 1 by setting random_state. Use no seed for parallelism.\")\n"
     ]
    },
    {
     "name": "stdout",
     "output_type": "stream",
     "text": [
      "****************************************************************************************************\n",
      "****************************************************************************************************\n",
      "Hyperparameters:\n",
      "n_neighbors:  50\n",
      "min_dist:  0.0\n",
      "metric:  euclidean\n",
      "n_components:  2\n",
      "Hopkin's Statistic = 0.169645250374175\n",
      "Fail: Kmeans did not successfully cluster.\n",
      "DBSCAN\n",
      "Number of Clusters:  2\n",
      "Validity Index:  0.9900856425898283\n",
      "****************************************************************************************************\n",
      "Run 8 of 560\n"
     ]
    },
    {
     "name": "stderr",
     "output_type": "stream",
     "text": [
      "/Users/mikey/miniconda3/envs/usml_base_ds2/lib/python3.10/site-packages/umap/umap_.py:1943: UserWarning: n_jobs value -1 overridden to 1 by setting random_state. Use no seed for parallelism.\n",
      "  warn(f\"n_jobs value {self.n_jobs} overridden to 1 by setting random_state. Use no seed for parallelism.\")\n"
     ]
    },
    {
     "name": "stdout",
     "output_type": "stream",
     "text": [
      "****************************************************************************************************\n",
      "****************************************************************************************************\n",
      "Hyperparameters:\n",
      "n_neighbors:  50\n",
      "min_dist:  0.0\n",
      "metric:  manhattan\n",
      "n_components:  2\n",
      "Hopkin's Statistic = 0.15046431391962742\n",
      "Fail: Kmeans did not successfully cluster.\n",
      "DBSCAN\n",
      "Number of Clusters:  2\n",
      "Validity Index:  0.9522918183145853\n",
      "****************************************************************************************************\n",
      "Run 9 of 560\n"
     ]
    },
    {
     "name": "stderr",
     "output_type": "stream",
     "text": [
      "/Users/mikey/miniconda3/envs/usml_base_ds2/lib/python3.10/site-packages/umap/umap_.py:1943: UserWarning: n_jobs value -1 overridden to 1 by setting random_state. Use no seed for parallelism.\n",
      "  warn(f\"n_jobs value {self.n_jobs} overridden to 1 by setting random_state. Use no seed for parallelism.\")\n"
     ]
    },
    {
     "name": "stdout",
     "output_type": "stream",
     "text": [
      "****************************************************************************************************\n",
      "****************************************************************************************************\n",
      "Hyperparameters:\n",
      "n_neighbors:  100\n",
      "min_dist:  0.0\n",
      "metric:  euclidean\n",
      "n_components:  2\n",
      "Hopkin's Statistic = 0.2069460503046202\n",
      "Fail: Kmeans did not successfully cluster.\n",
      "DBSCAN\n",
      "Number of Clusters:  2\n",
      "Validity Index:  0.9721514035576482\n",
      "****************************************************************************************************\n",
      "Run 10 of 560\n"
     ]
    },
    {
     "name": "stderr",
     "output_type": "stream",
     "text": [
      "/Users/mikey/miniconda3/envs/usml_base_ds2/lib/python3.10/site-packages/umap/umap_.py:1943: UserWarning: n_jobs value -1 overridden to 1 by setting random_state. Use no seed for parallelism.\n",
      "  warn(f\"n_jobs value {self.n_jobs} overridden to 1 by setting random_state. Use no seed for parallelism.\")\n"
     ]
    },
    {
     "name": "stdout",
     "output_type": "stream",
     "text": [
      "****************************************************************************************************\n",
      "****************************************************************************************************\n",
      "Hyperparameters:\n",
      "n_neighbors:  100\n",
      "min_dist:  0.0\n",
      "metric:  manhattan\n",
      "n_components:  2\n",
      "Hopkin's Statistic = 0.20397225211619877\n",
      "Fail: Kmeans did not successfully cluster.\n",
      "DBSCAN\n",
      "Number of Clusters:  2\n",
      "Validity Index:  0.9644060529977545\n",
      "****************************************************************************************************\n",
      "Run 11 of 560\n"
     ]
    },
    {
     "name": "stderr",
     "output_type": "stream",
     "text": [
      "/Users/mikey/miniconda3/envs/usml_base_ds2/lib/python3.10/site-packages/umap/umap_.py:1943: UserWarning: n_jobs value -1 overridden to 1 by setting random_state. Use no seed for parallelism.\n",
      "  warn(f\"n_jobs value {self.n_jobs} overridden to 1 by setting random_state. Use no seed for parallelism.\")\n"
     ]
    },
    {
     "name": "stdout",
     "output_type": "stream",
     "text": [
      "****************************************************************************************************\n",
      "****************************************************************************************************\n",
      "Hyperparameters:\n",
      "n_neighbors:  10\n",
      "min_dist:  0.001\n",
      "metric:  euclidean\n",
      "n_components:  2\n",
      "Hopkin's Statistic = 0.13228244796835983\n",
      "Fail: Kmeans did not successfully cluster.\n",
      "DBSCAN\n",
      "Number of Clusters:  2\n",
      "Validity Index:  0.9356468473095001\n",
      "****************************************************************************************************\n",
      "Run 12 of 560\n"
     ]
    },
    {
     "name": "stderr",
     "output_type": "stream",
     "text": [
      "/Users/mikey/miniconda3/envs/usml_base_ds2/lib/python3.10/site-packages/umap/umap_.py:1943: UserWarning: n_jobs value -1 overridden to 1 by setting random_state. Use no seed for parallelism.\n",
      "  warn(f\"n_jobs value {self.n_jobs} overridden to 1 by setting random_state. Use no seed for parallelism.\")\n"
     ]
    },
    {
     "name": "stdout",
     "output_type": "stream",
     "text": [
      "****************************************************************************************************\n",
      "****************************************************************************************************\n",
      "Hyperparameters:\n",
      "n_neighbors:  10\n",
      "min_dist:  0.001\n",
      "metric:  manhattan\n",
      "n_components:  2\n",
      "Hopkin's Statistic = 0.15521315984214937\n",
      "Fail: Kmeans did not successfully cluster.\n",
      "DBSCAN\n",
      "Number of Clusters:  2\n",
      "Validity Index:  0.8647811174914105\n",
      "****************************************************************************************************\n",
      "Run 13 of 560\n"
     ]
    },
    {
     "name": "stderr",
     "output_type": "stream",
     "text": [
      "/Users/mikey/miniconda3/envs/usml_base_ds2/lib/python3.10/site-packages/umap/umap_.py:1943: UserWarning: n_jobs value -1 overridden to 1 by setting random_state. Use no seed for parallelism.\n",
      "  warn(f\"n_jobs value {self.n_jobs} overridden to 1 by setting random_state. Use no seed for parallelism.\")\n"
     ]
    },
    {
     "name": "stdout",
     "output_type": "stream",
     "text": [
      "****************************************************************************************************\n",
      "****************************************************************************************************\n",
      "Hyperparameters:\n",
      "n_neighbors:  20\n",
      "min_dist:  0.001\n",
      "metric:  euclidean\n",
      "n_components:  2\n",
      "Hopkin's Statistic = 0.14997729562723258\n",
      "Fail: Kmeans did not successfully cluster.\n",
      "DBSCAN\n",
      "Number of Clusters:  2\n",
      "Validity Index:  0.9856383134202455\n",
      "****************************************************************************************************\n",
      "Run 14 of 560\n"
     ]
    },
    {
     "name": "stderr",
     "output_type": "stream",
     "text": [
      "/Users/mikey/miniconda3/envs/usml_base_ds2/lib/python3.10/site-packages/umap/umap_.py:1943: UserWarning: n_jobs value -1 overridden to 1 by setting random_state. Use no seed for parallelism.\n",
      "  warn(f\"n_jobs value {self.n_jobs} overridden to 1 by setting random_state. Use no seed for parallelism.\")\n"
     ]
    },
    {
     "name": "stdout",
     "output_type": "stream",
     "text": [
      "****************************************************************************************************\n",
      "****************************************************************************************************\n",
      "Hyperparameters:\n",
      "n_neighbors:  20\n",
      "min_dist:  0.001\n",
      "metric:  manhattan\n",
      "n_components:  2\n",
      "Hopkin's Statistic = 0.19253194230966958\n",
      "Fail: Kmeans did not successfully cluster.\n",
      "zero-size array to reduction operation minimum which has no identity\n",
      "DBSCAN\n",
      "Number of Clusters:  5\n",
      "Validity Index:  0.6402061061679436\n",
      "****************************************************************************************************\n",
      "Run 15 of 560\n"
     ]
    },
    {
     "name": "stderr",
     "output_type": "stream",
     "text": [
      "/Users/mikey/miniconda3/envs/usml_base_ds2/lib/python3.10/site-packages/umap/umap_.py:1943: UserWarning: n_jobs value -1 overridden to 1 by setting random_state. Use no seed for parallelism.\n",
      "  warn(f\"n_jobs value {self.n_jobs} overridden to 1 by setting random_state. Use no seed for parallelism.\")\n"
     ]
    },
    {
     "name": "stdout",
     "output_type": "stream",
     "text": [
      "****************************************************************************************************\n",
      "****************************************************************************************************\n",
      "Hyperparameters:\n",
      "n_neighbors:  30\n",
      "min_dist:  0.001\n",
      "metric:  euclidean\n",
      "n_components:  2\n",
      "Hopkin's Statistic = 0.1618765339867256\n",
      "Fail: Kmeans did not successfully cluster.\n",
      "DBSCAN\n",
      "Number of Clusters:  2\n",
      "Validity Index:  0.9817403648400858\n",
      "****************************************************************************************************\n",
      "Run 16 of 560\n"
     ]
    },
    {
     "name": "stderr",
     "output_type": "stream",
     "text": [
      "/Users/mikey/miniconda3/envs/usml_base_ds2/lib/python3.10/site-packages/umap/umap_.py:1943: UserWarning: n_jobs value -1 overridden to 1 by setting random_state. Use no seed for parallelism.\n",
      "  warn(f\"n_jobs value {self.n_jobs} overridden to 1 by setting random_state. Use no seed for parallelism.\")\n"
     ]
    },
    {
     "name": "stdout",
     "output_type": "stream",
     "text": [
      "****************************************************************************************************\n",
      "****************************************************************************************************\n",
      "Hyperparameters:\n",
      "n_neighbors:  30\n",
      "min_dist:  0.001\n",
      "metric:  manhattan\n",
      "n_components:  2\n",
      "Hopkin's Statistic = 0.191621315310723\n",
      "Fail: Kmeans did not successfully cluster.\n",
      "DBSCAN\n",
      "Number of Clusters:  2\n",
      "Validity Index:  0.9583706724472527\n",
      "****************************************************************************************************\n",
      "Run 17 of 560\n"
     ]
    },
    {
     "name": "stderr",
     "output_type": "stream",
     "text": [
      "/Users/mikey/miniconda3/envs/usml_base_ds2/lib/python3.10/site-packages/umap/umap_.py:1943: UserWarning: n_jobs value -1 overridden to 1 by setting random_state. Use no seed for parallelism.\n",
      "  warn(f\"n_jobs value {self.n_jobs} overridden to 1 by setting random_state. Use no seed for parallelism.\")\n"
     ]
    },
    {
     "name": "stdout",
     "output_type": "stream",
     "text": [
      "****************************************************************************************************\n",
      "****************************************************************************************************\n",
      "Hyperparameters:\n",
      "n_neighbors:  50\n",
      "min_dist:  0.001\n",
      "metric:  euclidean\n",
      "n_components:  2\n",
      "Hopkin's Statistic = 0.1761116403753571\n",
      "Fail: Kmeans did not successfully cluster.\n",
      "DBSCAN\n",
      "Number of Clusters:  2\n",
      "Validity Index:  0.9945369379264042\n",
      "****************************************************************************************************\n",
      "Run 18 of 560\n"
     ]
    },
    {
     "name": "stderr",
     "output_type": "stream",
     "text": [
      "/Users/mikey/miniconda3/envs/usml_base_ds2/lib/python3.10/site-packages/umap/umap_.py:1943: UserWarning: n_jobs value -1 overridden to 1 by setting random_state. Use no seed for parallelism.\n",
      "  warn(f\"n_jobs value {self.n_jobs} overridden to 1 by setting random_state. Use no seed for parallelism.\")\n"
     ]
    },
    {
     "name": "stdout",
     "output_type": "stream",
     "text": [
      "****************************************************************************************************\n",
      "****************************************************************************************************\n",
      "Hyperparameters:\n",
      "n_neighbors:  50\n",
      "min_dist:  0.001\n",
      "metric:  manhattan\n",
      "n_components:  2\n",
      "Hopkin's Statistic = 0.1579658614149984\n",
      "Fail: Kmeans did not successfully cluster.\n",
      "DBSCAN\n",
      "Number of Clusters:  2\n",
      "Validity Index:  0.9381933040656265\n",
      "****************************************************************************************************\n",
      "Run 19 of 560\n"
     ]
    },
    {
     "name": "stderr",
     "output_type": "stream",
     "text": [
      "/Users/mikey/miniconda3/envs/usml_base_ds2/lib/python3.10/site-packages/umap/umap_.py:1943: UserWarning: n_jobs value -1 overridden to 1 by setting random_state. Use no seed for parallelism.\n",
      "  warn(f\"n_jobs value {self.n_jobs} overridden to 1 by setting random_state. Use no seed for parallelism.\")\n"
     ]
    },
    {
     "name": "stdout",
     "output_type": "stream",
     "text": [
      "****************************************************************************************************\n",
      "****************************************************************************************************\n",
      "Hyperparameters:\n",
      "n_neighbors:  100\n",
      "min_dist:  0.001\n",
      "metric:  euclidean\n",
      "n_components:  2\n",
      "Hopkin's Statistic = 0.2125992471575046\n",
      "Fail: Kmeans did not successfully cluster.\n",
      "DBSCAN\n",
      "Number of Clusters:  2\n",
      "Validity Index:  0.951018943704741\n",
      "****************************************************************************************************\n",
      "Run 20 of 560\n"
     ]
    },
    {
     "name": "stderr",
     "output_type": "stream",
     "text": [
      "/Users/mikey/miniconda3/envs/usml_base_ds2/lib/python3.10/site-packages/umap/umap_.py:1943: UserWarning: n_jobs value -1 overridden to 1 by setting random_state. Use no seed for parallelism.\n",
      "  warn(f\"n_jobs value {self.n_jobs} overridden to 1 by setting random_state. Use no seed for parallelism.\")\n"
     ]
    },
    {
     "name": "stdout",
     "output_type": "stream",
     "text": [
      "****************************************************************************************************\n",
      "****************************************************************************************************\n",
      "Hyperparameters:\n",
      "n_neighbors:  100\n",
      "min_dist:  0.001\n",
      "metric:  manhattan\n",
      "n_components:  2\n",
      "Hopkin's Statistic = 0.2085397847857286\n",
      "Fail: Kmeans did not successfully cluster.\n",
      "DBSCAN\n",
      "Number of Clusters:  2\n",
      "Validity Index:  0.9134328609377356\n",
      "****************************************************************************************************\n",
      "Run 21 of 560\n"
     ]
    },
    {
     "name": "stderr",
     "output_type": "stream",
     "text": [
      "/Users/mikey/miniconda3/envs/usml_base_ds2/lib/python3.10/site-packages/umap/umap_.py:1943: UserWarning: n_jobs value -1 overridden to 1 by setting random_state. Use no seed for parallelism.\n",
      "  warn(f\"n_jobs value {self.n_jobs} overridden to 1 by setting random_state. Use no seed for parallelism.\")\n"
     ]
    },
    {
     "name": "stdout",
     "output_type": "stream",
     "text": [
      "****************************************************************************************************\n",
      "****************************************************************************************************\n",
      "Hyperparameters:\n",
      "n_neighbors:  10\n",
      "min_dist:  0.01\n",
      "metric:  euclidean\n",
      "n_components:  2\n",
      "Hopkin's Statistic = 0.1388590656107254\n",
      "Fail: Kmeans did not successfully cluster.\n",
      "DBSCAN\n",
      "Number of Clusters:  2\n",
      "Validity Index:  0.9519627041051233\n",
      "****************************************************************************************************\n",
      "Run 22 of 560\n"
     ]
    },
    {
     "name": "stderr",
     "output_type": "stream",
     "text": [
      "/Users/mikey/miniconda3/envs/usml_base_ds2/lib/python3.10/site-packages/umap/umap_.py:1943: UserWarning: n_jobs value -1 overridden to 1 by setting random_state. Use no seed for parallelism.\n",
      "  warn(f\"n_jobs value {self.n_jobs} overridden to 1 by setting random_state. Use no seed for parallelism.\")\n"
     ]
    },
    {
     "name": "stdout",
     "output_type": "stream",
     "text": [
      "****************************************************************************************************\n",
      "****************************************************************************************************\n",
      "Hyperparameters:\n",
      "n_neighbors:  10\n",
      "min_dist:  0.01\n",
      "metric:  manhattan\n",
      "n_components:  2\n",
      "Hopkin's Statistic = 0.1488173555780401\n",
      "Fail: Kmeans did not successfully cluster.\n",
      "zero-size array to reduction operation minimum which has no identity\n",
      "DBSCAN\n",
      "Number of Clusters:  2\n",
      "Validity Index:  0.6559256481226603\n",
      "****************************************************************************************************\n",
      "Run 23 of 560\n"
     ]
    },
    {
     "name": "stderr",
     "output_type": "stream",
     "text": [
      "/Users/mikey/miniconda3/envs/usml_base_ds2/lib/python3.10/site-packages/umap/umap_.py:1943: UserWarning: n_jobs value -1 overridden to 1 by setting random_state. Use no seed for parallelism.\n",
      "  warn(f\"n_jobs value {self.n_jobs} overridden to 1 by setting random_state. Use no seed for parallelism.\")\n"
     ]
    },
    {
     "name": "stdout",
     "output_type": "stream",
     "text": [
      "****************************************************************************************************\n",
      "****************************************************************************************************\n",
      "Hyperparameters:\n",
      "n_neighbors:  20\n",
      "min_dist:  0.01\n",
      "metric:  euclidean\n",
      "n_components:  2\n",
      "Hopkin's Statistic = 0.16115544768409998\n",
      "Fail: Kmeans did not successfully cluster.\n",
      "DBSCAN\n",
      "Number of Clusters:  2\n",
      "Validity Index:  0.9967051641838415\n",
      "****************************************************************************************************\n",
      "Run 24 of 560\n"
     ]
    },
    {
     "name": "stderr",
     "output_type": "stream",
     "text": [
      "/Users/mikey/miniconda3/envs/usml_base_ds2/lib/python3.10/site-packages/umap/umap_.py:1943: UserWarning: n_jobs value -1 overridden to 1 by setting random_state. Use no seed for parallelism.\n",
      "  warn(f\"n_jobs value {self.n_jobs} overridden to 1 by setting random_state. Use no seed for parallelism.\")\n"
     ]
    },
    {
     "name": "stdout",
     "output_type": "stream",
     "text": [
      "****************************************************************************************************\n",
      "****************************************************************************************************\n",
      "Hyperparameters:\n",
      "n_neighbors:  20\n",
      "min_dist:  0.01\n",
      "metric:  manhattan\n",
      "n_components:  2\n",
      "Hopkin's Statistic = 0.16655883655615214\n",
      "Fail: Kmeans did not successfully cluster.\n",
      "zero-size array to reduction operation maximum which has no identity\n",
      "DBSCAN\n",
      "Number of Clusters:  2\n",
      "Validity Index:  0.8595115508567934\n",
      "****************************************************************************************************\n",
      "Run 25 of 560\n"
     ]
    },
    {
     "name": "stderr",
     "output_type": "stream",
     "text": [
      "/Users/mikey/miniconda3/envs/usml_base_ds2/lib/python3.10/site-packages/umap/umap_.py:1943: UserWarning: n_jobs value -1 overridden to 1 by setting random_state. Use no seed for parallelism.\n",
      "  warn(f\"n_jobs value {self.n_jobs} overridden to 1 by setting random_state. Use no seed for parallelism.\")\n"
     ]
    },
    {
     "name": "stdout",
     "output_type": "stream",
     "text": [
      "****************************************************************************************************\n",
      "****************************************************************************************************\n",
      "Hyperparameters:\n",
      "n_neighbors:  30\n",
      "min_dist:  0.01\n",
      "metric:  euclidean\n",
      "n_components:  2\n",
      "Hopkin's Statistic = 0.17390922116858565\n",
      "Fail: Kmeans did not successfully cluster.\n",
      "DBSCAN\n",
      "Number of Clusters:  2\n",
      "Validity Index:  0.9970869953041426\n",
      "****************************************************************************************************\n",
      "Run 26 of 560\n"
     ]
    },
    {
     "name": "stderr",
     "output_type": "stream",
     "text": [
      "/Users/mikey/miniconda3/envs/usml_base_ds2/lib/python3.10/site-packages/umap/umap_.py:1943: UserWarning: n_jobs value -1 overridden to 1 by setting random_state. Use no seed for parallelism.\n",
      "  warn(f\"n_jobs value {self.n_jobs} overridden to 1 by setting random_state. Use no seed for parallelism.\")\n"
     ]
    },
    {
     "name": "stdout",
     "output_type": "stream",
     "text": [
      "****************************************************************************************************\n",
      "****************************************************************************************************\n",
      "Hyperparameters:\n",
      "n_neighbors:  30\n",
      "min_dist:  0.01\n",
      "metric:  manhattan\n",
      "n_components:  2\n",
      "Hopkin's Statistic = 0.1646948576343103\n",
      "Fail: Kmeans did not successfully cluster.\n",
      "DBSCAN\n",
      "Number of Clusters:  2\n",
      "Validity Index:  0.9556439096899064\n",
      "****************************************************************************************************\n",
      "Run 27 of 560\n"
     ]
    },
    {
     "name": "stderr",
     "output_type": "stream",
     "text": [
      "/Users/mikey/miniconda3/envs/usml_base_ds2/lib/python3.10/site-packages/umap/umap_.py:1943: UserWarning: n_jobs value -1 overridden to 1 by setting random_state. Use no seed for parallelism.\n",
      "  warn(f\"n_jobs value {self.n_jobs} overridden to 1 by setting random_state. Use no seed for parallelism.\")\n"
     ]
    },
    {
     "name": "stdout",
     "output_type": "stream",
     "text": [
      "****************************************************************************************************\n",
      "****************************************************************************************************\n",
      "Hyperparameters:\n",
      "n_neighbors:  50\n",
      "min_dist:  0.01\n",
      "metric:  euclidean\n",
      "n_components:  2\n",
      "Hopkin's Statistic = 0.17803020487045285\n",
      "Fail: Kmeans did not successfully cluster.\n",
      "DBSCAN\n",
      "Number of Clusters:  2\n",
      "Validity Index:  0.995889794198687\n",
      "****************************************************************************************************\n",
      "Run 28 of 560\n"
     ]
    },
    {
     "name": "stderr",
     "output_type": "stream",
     "text": [
      "/Users/mikey/miniconda3/envs/usml_base_ds2/lib/python3.10/site-packages/umap/umap_.py:1943: UserWarning: n_jobs value -1 overridden to 1 by setting random_state. Use no seed for parallelism.\n",
      "  warn(f\"n_jobs value {self.n_jobs} overridden to 1 by setting random_state. Use no seed for parallelism.\")\n"
     ]
    },
    {
     "name": "stdout",
     "output_type": "stream",
     "text": [
      "****************************************************************************************************\n",
      "****************************************************************************************************\n",
      "Hyperparameters:\n",
      "n_neighbors:  50\n",
      "min_dist:  0.01\n",
      "metric:  manhattan\n",
      "n_components:  2\n",
      "Hopkin's Statistic = 0.17597857440793016\n",
      "Fail: Kmeans did not successfully cluster.\n",
      "DBSCAN\n",
      "Number of Clusters:  2\n",
      "Validity Index:  0.9619353724529677\n",
      "****************************************************************************************************\n",
      "Run 29 of 560\n"
     ]
    },
    {
     "name": "stderr",
     "output_type": "stream",
     "text": [
      "/Users/mikey/miniconda3/envs/usml_base_ds2/lib/python3.10/site-packages/umap/umap_.py:1943: UserWarning: n_jobs value -1 overridden to 1 by setting random_state. Use no seed for parallelism.\n",
      "  warn(f\"n_jobs value {self.n_jobs} overridden to 1 by setting random_state. Use no seed for parallelism.\")\n"
     ]
    },
    {
     "name": "stdout",
     "output_type": "stream",
     "text": [
      "****************************************************************************************************\n",
      "****************************************************************************************************\n",
      "Hyperparameters:\n",
      "n_neighbors:  100\n",
      "min_dist:  0.01\n",
      "metric:  euclidean\n",
      "n_components:  2\n",
      "Hopkin's Statistic = 0.21156612921162682\n",
      "Fail: Kmeans did not successfully cluster.\n",
      "DBSCAN\n",
      "Number of Clusters:  2\n",
      "Validity Index:  0.9792298914726668\n",
      "****************************************************************************************************\n",
      "Run 30 of 560\n"
     ]
    },
    {
     "name": "stderr",
     "output_type": "stream",
     "text": [
      "/Users/mikey/miniconda3/envs/usml_base_ds2/lib/python3.10/site-packages/umap/umap_.py:1943: UserWarning: n_jobs value -1 overridden to 1 by setting random_state. Use no seed for parallelism.\n",
      "  warn(f\"n_jobs value {self.n_jobs} overridden to 1 by setting random_state. Use no seed for parallelism.\")\n"
     ]
    },
    {
     "name": "stdout",
     "output_type": "stream",
     "text": [
      "****************************************************************************************************\n",
      "****************************************************************************************************\n",
      "Hyperparameters:\n",
      "n_neighbors:  100\n",
      "min_dist:  0.01\n",
      "metric:  manhattan\n",
      "n_components:  2\n",
      "Hopkin's Statistic = 0.22192613008959095\n",
      "Fail: Kmeans did not successfully cluster.\n",
      "DBSCAN\n",
      "Number of Clusters:  5\n",
      "Validity Index:  0.6053447875617003\n",
      "****************************************************************************************************\n",
      "Run 31 of 560\n"
     ]
    },
    {
     "name": "stderr",
     "output_type": "stream",
     "text": [
      "/Users/mikey/miniconda3/envs/usml_base_ds2/lib/python3.10/site-packages/umap/umap_.py:1943: UserWarning: n_jobs value -1 overridden to 1 by setting random_state. Use no seed for parallelism.\n",
      "  warn(f\"n_jobs value {self.n_jobs} overridden to 1 by setting random_state. Use no seed for parallelism.\")\n"
     ]
    },
    {
     "name": "stdout",
     "output_type": "stream",
     "text": [
      "****************************************************************************************************\n",
      "****************************************************************************************************\n",
      "Hyperparameters:\n",
      "n_neighbors:  10\n",
      "min_dist:  0.05\n",
      "metric:  euclidean\n",
      "n_components:  2\n",
      "Hopkin's Statistic = 0.16660193653651348\n",
      "Fail: Kmeans did not successfully cluster.\n",
      "DBSCAN\n",
      "Number of Clusters:  2\n",
      "Validity Index:  0.9946720899927635\n",
      "****************************************************************************************************\n",
      "Run 32 of 560\n"
     ]
    },
    {
     "name": "stderr",
     "output_type": "stream",
     "text": [
      "/Users/mikey/miniconda3/envs/usml_base_ds2/lib/python3.10/site-packages/umap/umap_.py:1943: UserWarning: n_jobs value -1 overridden to 1 by setting random_state. Use no seed for parallelism.\n",
      "  warn(f\"n_jobs value {self.n_jobs} overridden to 1 by setting random_state. Use no seed for parallelism.\")\n"
     ]
    },
    {
     "name": "stdout",
     "output_type": "stream",
     "text": [
      "****************************************************************************************************\n",
      "****************************************************************************************************\n",
      "Hyperparameters:\n",
      "n_neighbors:  10\n",
      "min_dist:  0.05\n",
      "metric:  manhattan\n",
      "n_components:  2\n",
      "Hopkin's Statistic = 0.18881118319231574\n",
      "Fail: Kmeans did not successfully cluster.\n",
      "DBSCAN\n",
      "Number of Clusters:  2\n",
      "Validity Index:  0.918809049464942\n",
      "****************************************************************************************************\n",
      "Run 33 of 560\n"
     ]
    },
    {
     "name": "stderr",
     "output_type": "stream",
     "text": [
      "/Users/mikey/miniconda3/envs/usml_base_ds2/lib/python3.10/site-packages/umap/umap_.py:1943: UserWarning: n_jobs value -1 overridden to 1 by setting random_state. Use no seed for parallelism.\n",
      "  warn(f\"n_jobs value {self.n_jobs} overridden to 1 by setting random_state. Use no seed for parallelism.\")\n"
     ]
    },
    {
     "name": "stdout",
     "output_type": "stream",
     "text": [
      "****************************************************************************************************\n",
      "****************************************************************************************************\n",
      "Hyperparameters:\n",
      "n_neighbors:  20\n",
      "min_dist:  0.05\n",
      "metric:  euclidean\n",
      "n_components:  2\n",
      "Hopkin's Statistic = 0.1856312312776982\n",
      "Fail: Kmeans did not successfully cluster.\n",
      "DBSCAN\n",
      "Number of Clusters:  2\n",
      "Validity Index:  0.9979087139968877\n",
      "****************************************************************************************************\n",
      "Run 34 of 560\n"
     ]
    },
    {
     "name": "stderr",
     "output_type": "stream",
     "text": [
      "/Users/mikey/miniconda3/envs/usml_base_ds2/lib/python3.10/site-packages/umap/umap_.py:1943: UserWarning: n_jobs value -1 overridden to 1 by setting random_state. Use no seed for parallelism.\n",
      "  warn(f\"n_jobs value {self.n_jobs} overridden to 1 by setting random_state. Use no seed for parallelism.\")\n"
     ]
    },
    {
     "name": "stdout",
     "output_type": "stream",
     "text": [
      "****************************************************************************************************\n",
      "****************************************************************************************************\n",
      "Hyperparameters:\n",
      "n_neighbors:  20\n",
      "min_dist:  0.05\n",
      "metric:  manhattan\n",
      "n_components:  2\n",
      "Hopkin's Statistic = 0.18540117448901253\n",
      "Fail: Kmeans did not successfully cluster.\n",
      "DBSCAN\n",
      "Number of Clusters:  2\n",
      "Validity Index:  0.9110921606408745\n",
      "****************************************************************************************************\n",
      "Run 35 of 560\n"
     ]
    },
    {
     "name": "stderr",
     "output_type": "stream",
     "text": [
      "/Users/mikey/miniconda3/envs/usml_base_ds2/lib/python3.10/site-packages/umap/umap_.py:1943: UserWarning: n_jobs value -1 overridden to 1 by setting random_state. Use no seed for parallelism.\n",
      "  warn(f\"n_jobs value {self.n_jobs} overridden to 1 by setting random_state. Use no seed for parallelism.\")\n"
     ]
    },
    {
     "name": "stdout",
     "output_type": "stream",
     "text": [
      "****************************************************************************************************\n",
      "****************************************************************************************************\n",
      "Hyperparameters:\n",
      "n_neighbors:  30\n",
      "min_dist:  0.05\n",
      "metric:  euclidean\n",
      "n_components:  2\n",
      "Hopkin's Statistic = 0.18756387291824764\n",
      "Fail: Kmeans did not successfully cluster.\n",
      "DBSCAN\n",
      "Number of Clusters:  2\n",
      "Validity Index:  0.9989567656776068\n",
      "****************************************************************************************************\n",
      "Run 36 of 560\n"
     ]
    },
    {
     "name": "stderr",
     "output_type": "stream",
     "text": [
      "/Users/mikey/miniconda3/envs/usml_base_ds2/lib/python3.10/site-packages/umap/umap_.py:1943: UserWarning: n_jobs value -1 overridden to 1 by setting random_state. Use no seed for parallelism.\n",
      "  warn(f\"n_jobs value {self.n_jobs} overridden to 1 by setting random_state. Use no seed for parallelism.\")\n"
     ]
    },
    {
     "name": "stdout",
     "output_type": "stream",
     "text": [
      "****************************************************************************************************\n",
      "****************************************************************************************************\n",
      "Hyperparameters:\n",
      "n_neighbors:  30\n",
      "min_dist:  0.05\n",
      "metric:  manhattan\n",
      "n_components:  2\n",
      "Hopkin's Statistic = 0.20056753008908723\n",
      "Fail: Kmeans did not successfully cluster.\n",
      "DBSCAN\n",
      "Number of Clusters:  2\n",
      "Validity Index:  0.9955420344463303\n",
      "****************************************************************************************************\n",
      "Run 37 of 560\n"
     ]
    },
    {
     "name": "stderr",
     "output_type": "stream",
     "text": [
      "/Users/mikey/miniconda3/envs/usml_base_ds2/lib/python3.10/site-packages/umap/umap_.py:1943: UserWarning: n_jobs value -1 overridden to 1 by setting random_state. Use no seed for parallelism.\n",
      "  warn(f\"n_jobs value {self.n_jobs} overridden to 1 by setting random_state. Use no seed for parallelism.\")\n"
     ]
    },
    {
     "name": "stdout",
     "output_type": "stream",
     "text": [
      "****************************************************************************************************\n",
      "****************************************************************************************************\n",
      "Hyperparameters:\n",
      "n_neighbors:  50\n",
      "min_dist:  0.05\n",
      "metric:  euclidean\n",
      "n_components:  2\n",
      "Hopkin's Statistic = 0.17536873735796651\n",
      "Fail: Kmeans did not successfully cluster.\n",
      "DBSCAN\n",
      "Number of Clusters:  2\n",
      "Validity Index:  0.9995280144137297\n",
      "****************************************************************************************************\n",
      "Run 38 of 560\n"
     ]
    },
    {
     "name": "stderr",
     "output_type": "stream",
     "text": [
      "/Users/mikey/miniconda3/envs/usml_base_ds2/lib/python3.10/site-packages/umap/umap_.py:1943: UserWarning: n_jobs value -1 overridden to 1 by setting random_state. Use no seed for parallelism.\n",
      "  warn(f\"n_jobs value {self.n_jobs} overridden to 1 by setting random_state. Use no seed for parallelism.\")\n"
     ]
    },
    {
     "name": "stdout",
     "output_type": "stream",
     "text": [
      "****************************************************************************************************\n",
      "****************************************************************************************************\n",
      "Hyperparameters:\n",
      "n_neighbors:  50\n",
      "min_dist:  0.05\n",
      "metric:  manhattan\n",
      "n_components:  2\n",
      "Hopkin's Statistic = 0.20131004680607878\n",
      "Fail: Kmeans did not successfully cluster.\n",
      "DBSCAN\n",
      "Number of Clusters:  2\n",
      "Validity Index:  0.9608709589836515\n",
      "****************************************************************************************************\n",
      "Run 39 of 560\n"
     ]
    },
    {
     "name": "stderr",
     "output_type": "stream",
     "text": [
      "/Users/mikey/miniconda3/envs/usml_base_ds2/lib/python3.10/site-packages/umap/umap_.py:1943: UserWarning: n_jobs value -1 overridden to 1 by setting random_state. Use no seed for parallelism.\n",
      "  warn(f\"n_jobs value {self.n_jobs} overridden to 1 by setting random_state. Use no seed for parallelism.\")\n"
     ]
    },
    {
     "name": "stdout",
     "output_type": "stream",
     "text": [
      "****************************************************************************************************\n",
      "****************************************************************************************************\n",
      "Hyperparameters:\n",
      "n_neighbors:  100\n",
      "min_dist:  0.05\n",
      "metric:  euclidean\n",
      "n_components:  2\n",
      "Hopkin's Statistic = 0.2301718851907859\n",
      "Fail: Kmeans did not successfully cluster.\n",
      "DBSCAN\n",
      "Number of Clusters:  2\n",
      "Validity Index:  0.9737519326449185\n",
      "****************************************************************************************************\n",
      "Run 40 of 560\n"
     ]
    },
    {
     "name": "stderr",
     "output_type": "stream",
     "text": [
      "/Users/mikey/miniconda3/envs/usml_base_ds2/lib/python3.10/site-packages/umap/umap_.py:1943: UserWarning: n_jobs value -1 overridden to 1 by setting random_state. Use no seed for parallelism.\n",
      "  warn(f\"n_jobs value {self.n_jobs} overridden to 1 by setting random_state. Use no seed for parallelism.\")\n"
     ]
    },
    {
     "name": "stdout",
     "output_type": "stream",
     "text": [
      "****************************************************************************************************\n",
      "****************************************************************************************************\n",
      "Hyperparameters:\n",
      "n_neighbors:  100\n",
      "min_dist:  0.05\n",
      "metric:  manhattan\n",
      "n_components:  2\n",
      "Hopkin's Statistic = 0.2513615925179885\n",
      "Fail: Kmeans did not successfully cluster.\n",
      "DBSCAN\n",
      "Number of Clusters:  5\n",
      "Validity Index:  0.6059785894088675\n",
      "****************************************************************************************************\n",
      "Run 41 of 560\n"
     ]
    },
    {
     "name": "stderr",
     "output_type": "stream",
     "text": [
      "/Users/mikey/miniconda3/envs/usml_base_ds2/lib/python3.10/site-packages/umap/umap_.py:1943: UserWarning: n_jobs value -1 overridden to 1 by setting random_state. Use no seed for parallelism.\n",
      "  warn(f\"n_jobs value {self.n_jobs} overridden to 1 by setting random_state. Use no seed for parallelism.\")\n"
     ]
    },
    {
     "name": "stdout",
     "output_type": "stream",
     "text": [
      "****************************************************************************************************\n",
      "****************************************************************************************************\n",
      "Hyperparameters:\n",
      "n_neighbors:  10\n",
      "min_dist:  0.1\n",
      "metric:  euclidean\n",
      "n_components:  2\n",
      "Hopkin's Statistic = 0.18543555367457018\n",
      "Fail: Kmeans did not successfully cluster.\n",
      "DBSCAN\n",
      "Number of Clusters:  2\n",
      "Validity Index:  0.988176180948522\n",
      "****************************************************************************************************\n",
      "Run 42 of 560\n"
     ]
    },
    {
     "name": "stderr",
     "output_type": "stream",
     "text": [
      "/Users/mikey/miniconda3/envs/usml_base_ds2/lib/python3.10/site-packages/umap/umap_.py:1943: UserWarning: n_jobs value -1 overridden to 1 by setting random_state. Use no seed for parallelism.\n",
      "  warn(f\"n_jobs value {self.n_jobs} overridden to 1 by setting random_state. Use no seed for parallelism.\")\n"
     ]
    },
    {
     "name": "stdout",
     "output_type": "stream",
     "text": [
      "****************************************************************************************************\n",
      "****************************************************************************************************\n",
      "Hyperparameters:\n",
      "n_neighbors:  10\n",
      "min_dist:  0.1\n",
      "metric:  manhattan\n",
      "n_components:  2\n",
      "Hopkin's Statistic = 0.21624522834183962\n",
      "Fail: Kmeans did not successfully cluster.\n",
      "zero-size array to reduction operation maximum which has no identity\n",
      "DBSCAN\n",
      "Number of Clusters:  2\n",
      "Validity Index:  0.9556393870543952\n",
      "****************************************************************************************************\n",
      "Run 43 of 560\n"
     ]
    },
    {
     "name": "stderr",
     "output_type": "stream",
     "text": [
      "/Users/mikey/miniconda3/envs/usml_base_ds2/lib/python3.10/site-packages/umap/umap_.py:1943: UserWarning: n_jobs value -1 overridden to 1 by setting random_state. Use no seed for parallelism.\n",
      "  warn(f\"n_jobs value {self.n_jobs} overridden to 1 by setting random_state. Use no seed for parallelism.\")\n"
     ]
    },
    {
     "name": "stdout",
     "output_type": "stream",
     "text": [
      "****************************************************************************************************\n",
      "****************************************************************************************************\n",
      "Hyperparameters:\n",
      "n_neighbors:  20\n",
      "min_dist:  0.1\n",
      "metric:  euclidean\n",
      "n_components:  2\n",
      "Hopkin's Statistic = 0.21704015346039193\n",
      "Fail: Kmeans did not successfully cluster.\n",
      "DBSCAN\n",
      "Number of Clusters:  2\n",
      "Validity Index:  0.9973271870807286\n",
      "****************************************************************************************************\n",
      "Run 44 of 560\n"
     ]
    },
    {
     "name": "stderr",
     "output_type": "stream",
     "text": [
      "/Users/mikey/miniconda3/envs/usml_base_ds2/lib/python3.10/site-packages/umap/umap_.py:1943: UserWarning: n_jobs value -1 overridden to 1 by setting random_state. Use no seed for parallelism.\n",
      "  warn(f\"n_jobs value {self.n_jobs} overridden to 1 by setting random_state. Use no seed for parallelism.\")\n"
     ]
    },
    {
     "name": "stdout",
     "output_type": "stream",
     "text": [
      "****************************************************************************************************\n",
      "****************************************************************************************************\n",
      "Hyperparameters:\n",
      "n_neighbors:  20\n",
      "min_dist:  0.1\n",
      "metric:  manhattan\n",
      "n_components:  2\n",
      "Hopkin's Statistic = 0.20741876583806396\n",
      "Fail: Kmeans did not successfully cluster.\n",
      "DBSCAN\n",
      "Number of Clusters:  2\n",
      "Validity Index:  0.9890923586504703\n",
      "****************************************************************************************************\n",
      "Run 45 of 560\n"
     ]
    },
    {
     "name": "stderr",
     "output_type": "stream",
     "text": [
      "/Users/mikey/miniconda3/envs/usml_base_ds2/lib/python3.10/site-packages/umap/umap_.py:1943: UserWarning: n_jobs value -1 overridden to 1 by setting random_state. Use no seed for parallelism.\n",
      "  warn(f\"n_jobs value {self.n_jobs} overridden to 1 by setting random_state. Use no seed for parallelism.\")\n"
     ]
    },
    {
     "name": "stdout",
     "output_type": "stream",
     "text": [
      "****************************************************************************************************\n",
      "****************************************************************************************************\n",
      "Hyperparameters:\n",
      "n_neighbors:  30\n",
      "min_dist:  0.1\n",
      "metric:  euclidean\n",
      "n_components:  2\n",
      "Hopkin's Statistic = 0.2059518312930918\n",
      "Fail: Kmeans did not successfully cluster.\n",
      "DBSCAN\n",
      "Number of Clusters:  2\n",
      "Validity Index:  0.9992832567706015\n",
      "****************************************************************************************************\n",
      "Run 46 of 560\n"
     ]
    },
    {
     "name": "stderr",
     "output_type": "stream",
     "text": [
      "/Users/mikey/miniconda3/envs/usml_base_ds2/lib/python3.10/site-packages/umap/umap_.py:1943: UserWarning: n_jobs value -1 overridden to 1 by setting random_state. Use no seed for parallelism.\n",
      "  warn(f\"n_jobs value {self.n_jobs} overridden to 1 by setting random_state. Use no seed for parallelism.\")\n"
     ]
    },
    {
     "name": "stdout",
     "output_type": "stream",
     "text": [
      "****************************************************************************************************\n",
      "****************************************************************************************************\n",
      "Hyperparameters:\n",
      "n_neighbors:  30\n",
      "min_dist:  0.1\n",
      "metric:  manhattan\n",
      "n_components:  2\n",
      "Hopkin's Statistic = 0.23969732422487894\n",
      "Fail: Kmeans did not successfully cluster.\n",
      "DBSCAN\n",
      "Number of Clusters:  2\n",
      "Validity Index:  0.9986810021104605\n",
      "****************************************************************************************************\n",
      "Run 47 of 560\n"
     ]
    },
    {
     "name": "stderr",
     "output_type": "stream",
     "text": [
      "/Users/mikey/miniconda3/envs/usml_base_ds2/lib/python3.10/site-packages/umap/umap_.py:1943: UserWarning: n_jobs value -1 overridden to 1 by setting random_state. Use no seed for parallelism.\n",
      "  warn(f\"n_jobs value {self.n_jobs} overridden to 1 by setting random_state. Use no seed for parallelism.\")\n"
     ]
    },
    {
     "name": "stdout",
     "output_type": "stream",
     "text": [
      "****************************************************************************************************\n",
      "****************************************************************************************************\n",
      "Hyperparameters:\n",
      "n_neighbors:  50\n",
      "min_dist:  0.1\n",
      "metric:  euclidean\n",
      "n_components:  2\n",
      "Hopkin's Statistic = 0.24121807250580482\n",
      "Fail: Kmeans did not successfully cluster.\n",
      "zero-size array to reduction operation minimum which has no identity\n",
      "DBSCAN\n",
      "Number of Clusters:  2\n",
      "Validity Index:  0.9963459037746908\n",
      "****************************************************************************************************\n",
      "Run 48 of 560\n"
     ]
    },
    {
     "name": "stderr",
     "output_type": "stream",
     "text": [
      "/Users/mikey/miniconda3/envs/usml_base_ds2/lib/python3.10/site-packages/umap/umap_.py:1943: UserWarning: n_jobs value -1 overridden to 1 by setting random_state. Use no seed for parallelism.\n",
      "  warn(f\"n_jobs value {self.n_jobs} overridden to 1 by setting random_state. Use no seed for parallelism.\")\n"
     ]
    },
    {
     "name": "stdout",
     "output_type": "stream",
     "text": [
      "****************************************************************************************************\n",
      "****************************************************************************************************\n",
      "Hyperparameters:\n",
      "n_neighbors:  50\n",
      "min_dist:  0.1\n",
      "metric:  manhattan\n",
      "n_components:  2\n",
      "Hopkin's Statistic = 0.2531375766779754\n",
      "Fail: Kmeans did not successfully cluster.\n",
      "DBSCAN\n",
      "Number of Clusters:  2\n",
      "Validity Index:  0.9858603031137575\n",
      "****************************************************************************************************\n",
      "Run 49 of 560\n"
     ]
    },
    {
     "name": "stderr",
     "output_type": "stream",
     "text": [
      "/Users/mikey/miniconda3/envs/usml_base_ds2/lib/python3.10/site-packages/umap/umap_.py:1943: UserWarning: n_jobs value -1 overridden to 1 by setting random_state. Use no seed for parallelism.\n",
      "  warn(f\"n_jobs value {self.n_jobs} overridden to 1 by setting random_state. Use no seed for parallelism.\")\n"
     ]
    },
    {
     "name": "stdout",
     "output_type": "stream",
     "text": [
      "****************************************************************************************************\n",
      "****************************************************************************************************\n",
      "Hyperparameters:\n",
      "n_neighbors:  100\n",
      "min_dist:  0.1\n",
      "metric:  euclidean\n",
      "n_components:  2\n",
      "Hopkin's Statistic = 0.25447533145258416\n",
      "Fail: Kmeans did not successfully cluster.\n",
      "DBSCAN\n",
      "Number of Clusters:  2\n",
      "Validity Index:  0.9940210890422821\n",
      "****************************************************************************************************\n",
      "Run 50 of 560\n"
     ]
    },
    {
     "name": "stderr",
     "output_type": "stream",
     "text": [
      "/Users/mikey/miniconda3/envs/usml_base_ds2/lib/python3.10/site-packages/umap/umap_.py:1943: UserWarning: n_jobs value -1 overridden to 1 by setting random_state. Use no seed for parallelism.\n",
      "  warn(f\"n_jobs value {self.n_jobs} overridden to 1 by setting random_state. Use no seed for parallelism.\")\n"
     ]
    },
    {
     "name": "stdout",
     "output_type": "stream",
     "text": [
      "****************************************************************************************************\n",
      "****************************************************************************************************\n",
      "Hyperparameters:\n",
      "n_neighbors:  100\n",
      "min_dist:  0.1\n",
      "metric:  manhattan\n",
      "n_components:  2\n",
      "Hopkin's Statistic = 0.26017846349447016\n",
      "Fail: Kmeans did not successfully cluster.\n",
      "DBSCAN\n",
      "Number of Clusters:  5\n",
      "Validity Index:  0.5932941867388047\n",
      "****************************************************************************************************\n",
      "Run 51 of 560\n"
     ]
    },
    {
     "name": "stderr",
     "output_type": "stream",
     "text": [
      "/Users/mikey/miniconda3/envs/usml_base_ds2/lib/python3.10/site-packages/umap/umap_.py:1943: UserWarning: n_jobs value -1 overridden to 1 by setting random_state. Use no seed for parallelism.\n",
      "  warn(f\"n_jobs value {self.n_jobs} overridden to 1 by setting random_state. Use no seed for parallelism.\")\n"
     ]
    },
    {
     "name": "stdout",
     "output_type": "stream",
     "text": [
      "****************************************************************************************************\n",
      "****************************************************************************************************\n",
      "Hyperparameters:\n",
      "n_neighbors:  10\n",
      "min_dist:  0.25\n",
      "metric:  euclidean\n",
      "n_components:  2\n",
      "Hopkin's Statistic = 0.2913142798797204\n",
      "Fail: Kmeans did not successfully cluster.\n",
      "DBSCAN\n",
      "Number of Clusters:  4\n",
      "Validity Index:  0.3679279290186933\n",
      "****************************************************************************************************\n",
      "Run 52 of 560\n"
     ]
    },
    {
     "name": "stderr",
     "output_type": "stream",
     "text": [
      "/Users/mikey/miniconda3/envs/usml_base_ds2/lib/python3.10/site-packages/umap/umap_.py:1943: UserWarning: n_jobs value -1 overridden to 1 by setting random_state. Use no seed for parallelism.\n",
      "  warn(f\"n_jobs value {self.n_jobs} overridden to 1 by setting random_state. Use no seed for parallelism.\")\n"
     ]
    },
    {
     "name": "stdout",
     "output_type": "stream",
     "text": [
      "****************************************************************************************************\n",
      "****************************************************************************************************\n",
      "Hyperparameters:\n",
      "n_neighbors:  10\n",
      "min_dist:  0.25\n",
      "metric:  manhattan\n",
      "n_components:  2\n",
      "Hopkin's Statistic = 0.308742192832974\n",
      "Fail: Kmeans did not successfully cluster.\n",
      "zero-size array to reduction operation minimum which has no identity\n",
      "DBSCAN\n",
      "Number of Clusters:  2\n",
      "Validity Index:  0.7873666893015556\n",
      "****************************************************************************************************\n",
      "Run 53 of 560\n"
     ]
    },
    {
     "name": "stderr",
     "output_type": "stream",
     "text": [
      "/Users/mikey/miniconda3/envs/usml_base_ds2/lib/python3.10/site-packages/umap/umap_.py:1943: UserWarning: n_jobs value -1 overridden to 1 by setting random_state. Use no seed for parallelism.\n",
      "  warn(f\"n_jobs value {self.n_jobs} overridden to 1 by setting random_state. Use no seed for parallelism.\")\n"
     ]
    },
    {
     "name": "stdout",
     "output_type": "stream",
     "text": [
      "****************************************************************************************************\n",
      "****************************************************************************************************\n",
      "Hyperparameters:\n",
      "n_neighbors:  20\n",
      "min_dist:  0.25\n",
      "metric:  euclidean\n",
      "n_components:  2\n",
      "Hopkin's Statistic = 0.26392821788151133\n",
      "Fail: Kmeans did not successfully cluster.\n",
      "DBSCAN\n",
      "Number of Clusters:  2\n",
      "Validity Index:  0.9996901166935037\n",
      "****************************************************************************************************\n",
      "Run 54 of 560\n"
     ]
    },
    {
     "name": "stderr",
     "output_type": "stream",
     "text": [
      "/Users/mikey/miniconda3/envs/usml_base_ds2/lib/python3.10/site-packages/umap/umap_.py:1943: UserWarning: n_jobs value -1 overridden to 1 by setting random_state. Use no seed for parallelism.\n",
      "  warn(f\"n_jobs value {self.n_jobs} overridden to 1 by setting random_state. Use no seed for parallelism.\")\n"
     ]
    },
    {
     "name": "stdout",
     "output_type": "stream",
     "text": [
      "****************************************************************************************************\n",
      "****************************************************************************************************\n",
      "Hyperparameters:\n",
      "n_neighbors:  20\n",
      "min_dist:  0.25\n",
      "metric:  manhattan\n",
      "n_components:  2\n",
      "Hopkin's Statistic = 0.3227140566752579\n",
      "Fail: Kmeans did not successfully cluster.\n",
      "zero-size array to reduction operation minimum which has no identity\n",
      "DBSCAN\n",
      "Number of Clusters:  2\n",
      "Validity Index:  0.6473119817368891\n",
      "****************************************************************************************************\n",
      "Run 55 of 560\n"
     ]
    },
    {
     "name": "stderr",
     "output_type": "stream",
     "text": [
      "/Users/mikey/miniconda3/envs/usml_base_ds2/lib/python3.10/site-packages/umap/umap_.py:1943: UserWarning: n_jobs value -1 overridden to 1 by setting random_state. Use no seed for parallelism.\n",
      "  warn(f\"n_jobs value {self.n_jobs} overridden to 1 by setting random_state. Use no seed for parallelism.\")\n"
     ]
    },
    {
     "name": "stdout",
     "output_type": "stream",
     "text": [
      "****************************************************************************************************\n",
      "****************************************************************************************************\n",
      "Hyperparameters:\n",
      "n_neighbors:  30\n",
      "min_dist:  0.25\n",
      "metric:  euclidean\n",
      "n_components:  2\n",
      "Hopkin's Statistic = 0.28502042046013903\n",
      "Fail: Kmeans did not successfully cluster.\n",
      "DBSCAN\n",
      "Number of Clusters:  2\n",
      "Validity Index:  0.999109412241222\n",
      "****************************************************************************************************\n",
      "Run 56 of 560\n"
     ]
    },
    {
     "name": "stderr",
     "output_type": "stream",
     "text": [
      "/Users/mikey/miniconda3/envs/usml_base_ds2/lib/python3.10/site-packages/umap/umap_.py:1943: UserWarning: n_jobs value -1 overridden to 1 by setting random_state. Use no seed for parallelism.\n",
      "  warn(f\"n_jobs value {self.n_jobs} overridden to 1 by setting random_state. Use no seed for parallelism.\")\n"
     ]
    },
    {
     "name": "stdout",
     "output_type": "stream",
     "text": [
      "****************************************************************************************************\n",
      "****************************************************************************************************\n",
      "Hyperparameters:\n",
      "n_neighbors:  30\n",
      "min_dist:  0.25\n",
      "metric:  manhattan\n",
      "n_components:  2\n",
      "Hopkin's Statistic = 0.3062570657134779\n",
      "Fail: Kmeans did not successfully cluster.\n",
      "DBSCAN\n",
      "Number of Clusters:  2\n",
      "Validity Index:  0.999132631976874\n",
      "****************************************************************************************************\n",
      "Run 57 of 560\n"
     ]
    },
    {
     "name": "stderr",
     "output_type": "stream",
     "text": [
      "/Users/mikey/miniconda3/envs/usml_base_ds2/lib/python3.10/site-packages/umap/umap_.py:1943: UserWarning: n_jobs value -1 overridden to 1 by setting random_state. Use no seed for parallelism.\n",
      "  warn(f\"n_jobs value {self.n_jobs} overridden to 1 by setting random_state. Use no seed for parallelism.\")\n"
     ]
    },
    {
     "name": "stdout",
     "output_type": "stream",
     "text": [
      "****************************************************************************************************\n",
      "****************************************************************************************************\n",
      "Hyperparameters:\n",
      "n_neighbors:  50\n",
      "min_dist:  0.25\n",
      "metric:  euclidean\n",
      "n_components:  2\n",
      "Hopkin's Statistic = 0.2903875841585497\n",
      "Fail: Kmeans did not successfully cluster.\n",
      "zero-size array to reduction operation minimum which has no identity\n",
      "zero-size array to reduction operation minimum which has no identity\n",
      "DBSCAN\n",
      "Number of Clusters:  2\n",
      "Validity Index:  0.9988700417224405\n",
      "****************************************************************************************************\n",
      "Run 58 of 560\n"
     ]
    },
    {
     "name": "stderr",
     "output_type": "stream",
     "text": [
      "/Users/mikey/miniconda3/envs/usml_base_ds2/lib/python3.10/site-packages/umap/umap_.py:1943: UserWarning: n_jobs value -1 overridden to 1 by setting random_state. Use no seed for parallelism.\n",
      "  warn(f\"n_jobs value {self.n_jobs} overridden to 1 by setting random_state. Use no seed for parallelism.\")\n"
     ]
    },
    {
     "name": "stdout",
     "output_type": "stream",
     "text": [
      "****************************************************************************************************\n",
      "****************************************************************************************************\n",
      "Hyperparameters:\n",
      "n_neighbors:  50\n",
      "min_dist:  0.25\n",
      "metric:  manhattan\n",
      "n_components:  2\n",
      "Hopkin's Statistic = 0.28410374620207474\n",
      "Fail: Kmeans did not successfully cluster.\n",
      "DBSCAN\n",
      "Number of Clusters:  2\n",
      "Validity Index:  0.9995671750361586\n",
      "****************************************************************************************************\n",
      "Run 59 of 560\n"
     ]
    },
    {
     "name": "stderr",
     "output_type": "stream",
     "text": [
      "/Users/mikey/miniconda3/envs/usml_base_ds2/lib/python3.10/site-packages/umap/umap_.py:1943: UserWarning: n_jobs value -1 overridden to 1 by setting random_state. Use no seed for parallelism.\n",
      "  warn(f\"n_jobs value {self.n_jobs} overridden to 1 by setting random_state. Use no seed for parallelism.\")\n"
     ]
    },
    {
     "name": "stdout",
     "output_type": "stream",
     "text": [
      "****************************************************************************************************\n",
      "****************************************************************************************************\n",
      "Hyperparameters:\n",
      "n_neighbors:  100\n",
      "min_dist:  0.25\n",
      "metric:  euclidean\n",
      "n_components:  2\n",
      "Hopkin's Statistic = 0.3109693908610949\n",
      "Fail: Kmeans did not successfully cluster.\n",
      "DBSCAN\n",
      "Number of Clusters:  2\n",
      "Validity Index:  0.7121727179711678\n",
      "****************************************************************************************************\n",
      "Run 60 of 560\n"
     ]
    },
    {
     "name": "stderr",
     "output_type": "stream",
     "text": [
      "/Users/mikey/miniconda3/envs/usml_base_ds2/lib/python3.10/site-packages/umap/umap_.py:1943: UserWarning: n_jobs value -1 overridden to 1 by setting random_state. Use no seed for parallelism.\n",
      "  warn(f\"n_jobs value {self.n_jobs} overridden to 1 by setting random_state. Use no seed for parallelism.\")\n"
     ]
    },
    {
     "name": "stdout",
     "output_type": "stream",
     "text": [
      "****************************************************************************************************\n",
      "****************************************************************************************************\n",
      "Hyperparameters:\n",
      "n_neighbors:  100\n",
      "min_dist:  0.25\n",
      "metric:  manhattan\n",
      "n_components:  2\n",
      "Hopkin's Statistic = 0.34636059573730626\n",
      "Fail: Kmeans did not successfully cluster.\n",
      "DBSCAN\n",
      "Number of Clusters:  5\n",
      "Validity Index:  0.468241907220573\n",
      "****************************************************************************************************\n",
      "Run 61 of 560\n"
     ]
    },
    {
     "name": "stderr",
     "output_type": "stream",
     "text": [
      "/Users/mikey/miniconda3/envs/usml_base_ds2/lib/python3.10/site-packages/umap/umap_.py:1943: UserWarning: n_jobs value -1 overridden to 1 by setting random_state. Use no seed for parallelism.\n",
      "  warn(f\"n_jobs value {self.n_jobs} overridden to 1 by setting random_state. Use no seed for parallelism.\")\n"
     ]
    },
    {
     "name": "stdout",
     "output_type": "stream",
     "text": [
      "****************************************************************************************************\n",
      "****************************************************************************************************\n",
      "Hyperparameters:\n",
      "n_neighbors:  10\n",
      "min_dist:  0.5\n",
      "metric:  euclidean\n",
      "n_components:  2\n",
      "Hopkin's Statistic = 0.31931321759224596\n",
      "Fail: Kmeans did not successfully cluster.\n",
      "DBSCAN\n",
      "Number of Clusters:  2\n",
      "Validity Index:  0.9998386670931063\n",
      "****************************************************************************************************\n",
      "Run 62 of 560\n"
     ]
    },
    {
     "name": "stderr",
     "output_type": "stream",
     "text": [
      "/Users/mikey/miniconda3/envs/usml_base_ds2/lib/python3.10/site-packages/umap/umap_.py:1943: UserWarning: n_jobs value -1 overridden to 1 by setting random_state. Use no seed for parallelism.\n",
      "  warn(f\"n_jobs value {self.n_jobs} overridden to 1 by setting random_state. Use no seed for parallelism.\")\n"
     ]
    },
    {
     "name": "stdout",
     "output_type": "stream",
     "text": [
      "****************************************************************************************************\n",
      "****************************************************************************************************\n",
      "Hyperparameters:\n",
      "n_neighbors:  10\n",
      "min_dist:  0.5\n",
      "metric:  manhattan\n",
      "n_components:  2\n",
      "Hopkin's Statistic = 0.350774676987918\n",
      "Fail: Kmeans did not successfully cluster.\n",
      "DBSCAN\n",
      "Number of Clusters:  2\n",
      "Validity Index:  0.9994673315823341\n",
      "****************************************************************************************************\n",
      "Run 63 of 560\n"
     ]
    },
    {
     "name": "stderr",
     "output_type": "stream",
     "text": [
      "/Users/mikey/miniconda3/envs/usml_base_ds2/lib/python3.10/site-packages/umap/umap_.py:1943: UserWarning: n_jobs value -1 overridden to 1 by setting random_state. Use no seed for parallelism.\n",
      "  warn(f\"n_jobs value {self.n_jobs} overridden to 1 by setting random_state. Use no seed for parallelism.\")\n"
     ]
    },
    {
     "name": "stdout",
     "output_type": "stream",
     "text": [
      "****************************************************************************************************\n",
      "****************************************************************************************************\n",
      "Hyperparameters:\n",
      "n_neighbors:  20\n",
      "min_dist:  0.5\n",
      "metric:  euclidean\n",
      "n_components:  2\n",
      "Hopkin's Statistic = 0.3503375737129873\n",
      "Fail: Kmeans did not successfully cluster.\n",
      "zero-size array to reduction operation minimum which has no identity\n",
      "DBSCAN\n",
      "Number of Clusters:  2\n",
      "Validity Index:  0.8129546576186836\n",
      "****************************************************************************************************\n",
      "Run 64 of 560\n"
     ]
    },
    {
     "name": "stderr",
     "output_type": "stream",
     "text": [
      "/Users/mikey/miniconda3/envs/usml_base_ds2/lib/python3.10/site-packages/umap/umap_.py:1943: UserWarning: n_jobs value -1 overridden to 1 by setting random_state. Use no seed for parallelism.\n",
      "  warn(f\"n_jobs value {self.n_jobs} overridden to 1 by setting random_state. Use no seed for parallelism.\")\n"
     ]
    },
    {
     "name": "stdout",
     "output_type": "stream",
     "text": [
      "****************************************************************************************************\n",
      "****************************************************************************************************\n",
      "Hyperparameters:\n",
      "n_neighbors:  20\n",
      "min_dist:  0.5\n",
      "metric:  manhattan\n",
      "n_components:  2\n",
      "Hopkin's Statistic = 0.38569838316576704\n",
      "Fail: Kmeans did not successfully cluster.\n",
      "DBSCAN\n",
      "Number of Clusters:  2\n",
      "Validity Index:  0.6727819757423427\n",
      "****************************************************************************************************\n",
      "Run 65 of 560\n"
     ]
    },
    {
     "name": "stderr",
     "output_type": "stream",
     "text": [
      "/Users/mikey/miniconda3/envs/usml_base_ds2/lib/python3.10/site-packages/umap/umap_.py:1943: UserWarning: n_jobs value -1 overridden to 1 by setting random_state. Use no seed for parallelism.\n",
      "  warn(f\"n_jobs value {self.n_jobs} overridden to 1 by setting random_state. Use no seed for parallelism.\")\n"
     ]
    },
    {
     "name": "stdout",
     "output_type": "stream",
     "text": [
      "****************************************************************************************************\n",
      "****************************************************************************************************\n",
      "Hyperparameters:\n",
      "n_neighbors:  30\n",
      "min_dist:  0.5\n",
      "metric:  euclidean\n",
      "n_components:  2\n",
      "Hopkin's Statistic = 0.3805847621850201\n",
      "Fail: Kmeans did not successfully cluster.\n",
      "DBSCAN\n",
      "Number of Clusters:  2\n",
      "Validity Index:  0.429497408526455\n",
      "****************************************************************************************************\n",
      "Run 66 of 560\n"
     ]
    },
    {
     "name": "stderr",
     "output_type": "stream",
     "text": [
      "/Users/mikey/miniconda3/envs/usml_base_ds2/lib/python3.10/site-packages/umap/umap_.py:1943: UserWarning: n_jobs value -1 overridden to 1 by setting random_state. Use no seed for parallelism.\n",
      "  warn(f\"n_jobs value {self.n_jobs} overridden to 1 by setting random_state. Use no seed for parallelism.\")\n"
     ]
    },
    {
     "name": "stdout",
     "output_type": "stream",
     "text": [
      "****************************************************************************************************\n",
      "****************************************************************************************************\n",
      "Hyperparameters:\n",
      "n_neighbors:  30\n",
      "min_dist:  0.5\n",
      "metric:  manhattan\n",
      "n_components:  2\n",
      "Hopkin's Statistic = 0.38121506315619513\n",
      "Fail: Kmeans did not successfully cluster.\n",
      "zero-size array to reduction operation minimum which has no identity\n",
      "DBSCAN\n",
      "Number of Clusters:  2\n",
      "Validity Index:  0.5736618453068532\n",
      "****************************************************************************************************\n",
      "Run 67 of 560\n"
     ]
    },
    {
     "name": "stderr",
     "output_type": "stream",
     "text": [
      "/Users/mikey/miniconda3/envs/usml_base_ds2/lib/python3.10/site-packages/umap/umap_.py:1943: UserWarning: n_jobs value -1 overridden to 1 by setting random_state. Use no seed for parallelism.\n",
      "  warn(f\"n_jobs value {self.n_jobs} overridden to 1 by setting random_state. Use no seed for parallelism.\")\n"
     ]
    },
    {
     "name": "stdout",
     "output_type": "stream",
     "text": [
      "****************************************************************************************************\n",
      "****************************************************************************************************\n",
      "Hyperparameters:\n",
      "n_neighbors:  50\n",
      "min_dist:  0.5\n",
      "metric:  euclidean\n",
      "n_components:  2\n",
      "Hopkin's Statistic = 0.37702892350333583\n",
      "Fail: Kmeans did not successfully cluster.\n",
      "DBSCAN\n",
      "Number of Clusters:  2\n",
      "Validity Index:  0.45663937809219796\n",
      "****************************************************************************************************\n",
      "Run 68 of 560\n"
     ]
    },
    {
     "name": "stderr",
     "output_type": "stream",
     "text": [
      "/Users/mikey/miniconda3/envs/usml_base_ds2/lib/python3.10/site-packages/umap/umap_.py:1943: UserWarning: n_jobs value -1 overridden to 1 by setting random_state. Use no seed for parallelism.\n",
      "  warn(f\"n_jobs value {self.n_jobs} overridden to 1 by setting random_state. Use no seed for parallelism.\")\n"
     ]
    },
    {
     "name": "stdout",
     "output_type": "stream",
     "text": [
      "****************************************************************************************************\n",
      "****************************************************************************************************\n",
      "Hyperparameters:\n",
      "n_neighbors:  50\n",
      "min_dist:  0.5\n",
      "metric:  manhattan\n",
      "n_components:  2\n",
      "Hopkin's Statistic = 0.36575332429437135\n",
      "Fail: Kmeans did not successfully cluster.\n",
      "zero-size array to reduction operation maximum which has no identity\n",
      "DBSCAN\n",
      "Number of Clusters:  2\n",
      "Validity Index:  0.5037685524168485\n",
      "****************************************************************************************************\n",
      "Run 69 of 560\n"
     ]
    },
    {
     "name": "stderr",
     "output_type": "stream",
     "text": [
      "/Users/mikey/miniconda3/envs/usml_base_ds2/lib/python3.10/site-packages/umap/umap_.py:1943: UserWarning: n_jobs value -1 overridden to 1 by setting random_state. Use no seed for parallelism.\n",
      "  warn(f\"n_jobs value {self.n_jobs} overridden to 1 by setting random_state. Use no seed for parallelism.\")\n"
     ]
    },
    {
     "name": "stdout",
     "output_type": "stream",
     "text": [
      "****************************************************************************************************\n",
      "****************************************************************************************************\n",
      "Hyperparameters:\n",
      "n_neighbors:  100\n",
      "min_dist:  0.5\n",
      "metric:  euclidean\n",
      "n_components:  2\n",
      "Hopkin's Statistic = 0.3778412010625671\n",
      "Fail: Kmeans did not successfully cluster.\n",
      "DBSCAN\n",
      "Number of Clusters:  2\n",
      "Validity Index:  0.4552567977185515\n",
      "****************************************************************************************************\n",
      "Run 70 of 560\n"
     ]
    },
    {
     "name": "stderr",
     "output_type": "stream",
     "text": [
      "/Users/mikey/miniconda3/envs/usml_base_ds2/lib/python3.10/site-packages/umap/umap_.py:1943: UserWarning: n_jobs value -1 overridden to 1 by setting random_state. Use no seed for parallelism.\n",
      "  warn(f\"n_jobs value {self.n_jobs} overridden to 1 by setting random_state. Use no seed for parallelism.\")\n"
     ]
    },
    {
     "name": "stdout",
     "output_type": "stream",
     "text": [
      "****************************************************************************************************\n",
      "****************************************************************************************************\n",
      "Hyperparameters:\n",
      "n_neighbors:  100\n",
      "min_dist:  0.5\n",
      "metric:  manhattan\n",
      "n_components:  2\n",
      "Hopkin's Statistic = 0.41327947347234306\n",
      "Fail: Kmeans did not successfully cluster.\n",
      "DBSCAN\n",
      "Number of Clusters:  2\n",
      "Validity Index:  0.4136374797125392\n",
      "****************************************************************************************************\n",
      "Run 71 of 560\n"
     ]
    },
    {
     "name": "stderr",
     "output_type": "stream",
     "text": [
      "/Users/mikey/miniconda3/envs/usml_base_ds2/lib/python3.10/site-packages/umap/umap_.py:1943: UserWarning: n_jobs value -1 overridden to 1 by setting random_state. Use no seed for parallelism.\n",
      "  warn(f\"n_jobs value {self.n_jobs} overridden to 1 by setting random_state. Use no seed for parallelism.\")\n"
     ]
    },
    {
     "name": "stdout",
     "output_type": "stream",
     "text": [
      "****************************************************************************************************\n",
      "****************************************************************************************************\n",
      "Hyperparameters:\n",
      "n_neighbors:  10\n",
      "min_dist:  0.0\n",
      "metric:  euclidean\n",
      "n_components:  3\n",
      "Hopkin's Statistic = 0.07298620789400719\n",
      "Fail: Kmeans did not successfully cluster.\n",
      "DBSCAN\n",
      "Number of Clusters:  2\n",
      "Validity Index:  0.8243752685863763\n",
      "****************************************************************************************************\n",
      "Run 72 of 560\n"
     ]
    },
    {
     "name": "stderr",
     "output_type": "stream",
     "text": [
      "/Users/mikey/miniconda3/envs/usml_base_ds2/lib/python3.10/site-packages/umap/umap_.py:1943: UserWarning: n_jobs value -1 overridden to 1 by setting random_state. Use no seed for parallelism.\n",
      "  warn(f\"n_jobs value {self.n_jobs} overridden to 1 by setting random_state. Use no seed for parallelism.\")\n"
     ]
    },
    {
     "name": "stdout",
     "output_type": "stream",
     "text": [
      "****************************************************************************************************\n",
      "****************************************************************************************************\n",
      "Hyperparameters:\n",
      "n_neighbors:  10\n",
      "min_dist:  0.0\n",
      "metric:  manhattan\n",
      "n_components:  3\n",
      "Hopkin's Statistic = 0.08106160684894434\n",
      "Fail: Kmeans did not successfully cluster.\n",
      "DBSCAN\n",
      "Number of Clusters:  2\n",
      "Validity Index:  0.8957893005500043\n",
      "****************************************************************************************************\n",
      "Run 73 of 560\n"
     ]
    },
    {
     "name": "stderr",
     "output_type": "stream",
     "text": [
      "/Users/mikey/miniconda3/envs/usml_base_ds2/lib/python3.10/site-packages/umap/umap_.py:1943: UserWarning: n_jobs value -1 overridden to 1 by setting random_state. Use no seed for parallelism.\n",
      "  warn(f\"n_jobs value {self.n_jobs} overridden to 1 by setting random_state. Use no seed for parallelism.\")\n"
     ]
    },
    {
     "name": "stdout",
     "output_type": "stream",
     "text": [
      "****************************************************************************************************\n",
      "****************************************************************************************************\n",
      "Hyperparameters:\n",
      "n_neighbors:  20\n",
      "min_dist:  0.0\n",
      "metric:  euclidean\n",
      "n_components:  3\n",
      "Hopkin's Statistic = 0.09686242955101111\n",
      "Fail: Kmeans did not successfully cluster.\n",
      "zero-size array to reduction operation minimum which has no identity\n",
      "zero-size array to reduction operation minimum which has no identity\n",
      "DBSCAN\n",
      "Number of Clusters:  2\n",
      "Validity Index:  0.9797989967098868\n",
      "****************************************************************************************************\n",
      "Run 74 of 560\n"
     ]
    },
    {
     "name": "stderr",
     "output_type": "stream",
     "text": [
      "/Users/mikey/miniconda3/envs/usml_base_ds2/lib/python3.10/site-packages/umap/umap_.py:1943: UserWarning: n_jobs value -1 overridden to 1 by setting random_state. Use no seed for parallelism.\n",
      "  warn(f\"n_jobs value {self.n_jobs} overridden to 1 by setting random_state. Use no seed for parallelism.\")\n"
     ]
    },
    {
     "name": "stdout",
     "output_type": "stream",
     "text": [
      "****************************************************************************************************\n",
      "****************************************************************************************************\n",
      "Hyperparameters:\n",
      "n_neighbors:  20\n",
      "min_dist:  0.0\n",
      "metric:  manhattan\n",
      "n_components:  3\n",
      "Hopkin's Statistic = 0.0934311961657555\n",
      "Fail: Kmeans did not successfully cluster.\n",
      "DBSCAN\n",
      "Number of Clusters:  2\n",
      "Validity Index:  0.8147271760603314\n",
      "****************************************************************************************************\n",
      "Run 75 of 560\n"
     ]
    },
    {
     "name": "stderr",
     "output_type": "stream",
     "text": [
      "/Users/mikey/miniconda3/envs/usml_base_ds2/lib/python3.10/site-packages/umap/umap_.py:1943: UserWarning: n_jobs value -1 overridden to 1 by setting random_state. Use no seed for parallelism.\n",
      "  warn(f\"n_jobs value {self.n_jobs} overridden to 1 by setting random_state. Use no seed for parallelism.\")\n"
     ]
    },
    {
     "name": "stdout",
     "output_type": "stream",
     "text": [
      "****************************************************************************************************\n",
      "****************************************************************************************************\n",
      "Hyperparameters:\n",
      "n_neighbors:  30\n",
      "min_dist:  0.0\n",
      "metric:  euclidean\n",
      "n_components:  3\n",
      "Hopkin's Statistic = 0.09843482566158543\n",
      "Fail: Kmeans did not successfully cluster.\n",
      "DBSCAN\n",
      "Number of Clusters:  2\n",
      "Validity Index:  0.9950993564849395\n",
      "****************************************************************************************************\n",
      "Run 76 of 560\n"
     ]
    },
    {
     "name": "stderr",
     "output_type": "stream",
     "text": [
      "/Users/mikey/miniconda3/envs/usml_base_ds2/lib/python3.10/site-packages/umap/umap_.py:1943: UserWarning: n_jobs value -1 overridden to 1 by setting random_state. Use no seed for parallelism.\n",
      "  warn(f\"n_jobs value {self.n_jobs} overridden to 1 by setting random_state. Use no seed for parallelism.\")\n"
     ]
    },
    {
     "name": "stdout",
     "output_type": "stream",
     "text": [
      "****************************************************************************************************\n",
      "****************************************************************************************************\n",
      "Hyperparameters:\n",
      "n_neighbors:  30\n",
      "min_dist:  0.0\n",
      "metric:  manhattan\n",
      "n_components:  3\n",
      "Hopkin's Statistic = 0.08742770522756406\n",
      "Fail: Kmeans did not successfully cluster.\n",
      "DBSCAN\n",
      "Number of Clusters:  3\n",
      "Validity Index:  0.9990637331681929\n",
      "****************************************************************************************************\n",
      "Run 77 of 560\n"
     ]
    },
    {
     "name": "stderr",
     "output_type": "stream",
     "text": [
      "/Users/mikey/miniconda3/envs/usml_base_ds2/lib/python3.10/site-packages/umap/umap_.py:1943: UserWarning: n_jobs value -1 overridden to 1 by setting random_state. Use no seed for parallelism.\n",
      "  warn(f\"n_jobs value {self.n_jobs} overridden to 1 by setting random_state. Use no seed for parallelism.\")\n"
     ]
    },
    {
     "name": "stdout",
     "output_type": "stream",
     "text": [
      "****************************************************************************************************\n",
      "****************************************************************************************************\n",
      "Hyperparameters:\n",
      "n_neighbors:  50\n",
      "min_dist:  0.0\n",
      "metric:  euclidean\n",
      "n_components:  3\n",
      "Hopkin's Statistic = 0.09211094323977473\n",
      "Fail: Kmeans did not successfully cluster.\n",
      "DBSCAN\n",
      "Number of Clusters:  2\n",
      "Validity Index:  0.999261695550983\n",
      "****************************************************************************************************\n",
      "Run 78 of 560\n"
     ]
    },
    {
     "name": "stderr",
     "output_type": "stream",
     "text": [
      "/Users/mikey/miniconda3/envs/usml_base_ds2/lib/python3.10/site-packages/umap/umap_.py:1943: UserWarning: n_jobs value -1 overridden to 1 by setting random_state. Use no seed for parallelism.\n",
      "  warn(f\"n_jobs value {self.n_jobs} overridden to 1 by setting random_state. Use no seed for parallelism.\")\n"
     ]
    },
    {
     "name": "stdout",
     "output_type": "stream",
     "text": [
      "****************************************************************************************************\n",
      "****************************************************************************************************\n",
      "Hyperparameters:\n",
      "n_neighbors:  50\n",
      "min_dist:  0.0\n",
      "metric:  manhattan\n",
      "n_components:  3\n",
      "Hopkin's Statistic = 0.07608717178491829\n",
      "Fail: Kmeans did not successfully cluster.\n",
      "DBSCAN\n",
      "Number of Clusters:  2\n",
      "Validity Index:  0.9055685166601658\n",
      "****************************************************************************************************\n",
      "Run 79 of 560\n"
     ]
    },
    {
     "name": "stderr",
     "output_type": "stream",
     "text": [
      "/Users/mikey/miniconda3/envs/usml_base_ds2/lib/python3.10/site-packages/umap/umap_.py:1943: UserWarning: n_jobs value -1 overridden to 1 by setting random_state. Use no seed for parallelism.\n",
      "  warn(f\"n_jobs value {self.n_jobs} overridden to 1 by setting random_state. Use no seed for parallelism.\")\n"
     ]
    },
    {
     "name": "stdout",
     "output_type": "stream",
     "text": [
      "****************************************************************************************************\n",
      "****************************************************************************************************\n",
      "Hyperparameters:\n",
      "n_neighbors:  100\n",
      "min_dist:  0.0\n",
      "metric:  euclidean\n",
      "n_components:  3\n",
      "Hopkin's Statistic = 0.14824254061260048\n",
      "Fail: Kmeans did not successfully cluster.\n",
      "DBSCAN\n",
      "Number of Clusters:  2\n",
      "Validity Index:  0.9917258310683\n",
      "****************************************************************************************************\n",
      "Run 80 of 560\n"
     ]
    },
    {
     "name": "stderr",
     "output_type": "stream",
     "text": [
      "/Users/mikey/miniconda3/envs/usml_base_ds2/lib/python3.10/site-packages/umap/umap_.py:1943: UserWarning: n_jobs value -1 overridden to 1 by setting random_state. Use no seed for parallelism.\n",
      "  warn(f\"n_jobs value {self.n_jobs} overridden to 1 by setting random_state. Use no seed for parallelism.\")\n"
     ]
    },
    {
     "name": "stdout",
     "output_type": "stream",
     "text": [
      "****************************************************************************************************\n",
      "****************************************************************************************************\n",
      "Hyperparameters:\n",
      "n_neighbors:  100\n",
      "min_dist:  0.0\n",
      "metric:  manhattan\n",
      "n_components:  3\n",
      "Hopkin's Statistic = 0.10029340445236401\n",
      "Fail: Kmeans did not successfully cluster.\n",
      "DBSCAN\n",
      "Number of Clusters:  2\n",
      "Validity Index:  0.9836440733272331\n",
      "****************************************************************************************************\n",
      "Run 81 of 560\n"
     ]
    },
    {
     "name": "stderr",
     "output_type": "stream",
     "text": [
      "/Users/mikey/miniconda3/envs/usml_base_ds2/lib/python3.10/site-packages/umap/umap_.py:1943: UserWarning: n_jobs value -1 overridden to 1 by setting random_state. Use no seed for parallelism.\n",
      "  warn(f\"n_jobs value {self.n_jobs} overridden to 1 by setting random_state. Use no seed for parallelism.\")\n"
     ]
    },
    {
     "name": "stdout",
     "output_type": "stream",
     "text": [
      "****************************************************************************************************\n",
      "****************************************************************************************************\n",
      "Hyperparameters:\n",
      "n_neighbors:  10\n",
      "min_dist:  0.001\n",
      "metric:  euclidean\n",
      "n_components:  3\n",
      "Hopkin's Statistic = 0.06677896293380128\n",
      "Fail: Kmeans did not successfully cluster.\n",
      "DBSCAN\n",
      "Number of Clusters:  3\n",
      "Validity Index:  0.9839253009960887\n",
      "****************************************************************************************************\n",
      "Run 82 of 560\n"
     ]
    },
    {
     "name": "stderr",
     "output_type": "stream",
     "text": [
      "/Users/mikey/miniconda3/envs/usml_base_ds2/lib/python3.10/site-packages/umap/umap_.py:1943: UserWarning: n_jobs value -1 overridden to 1 by setting random_state. Use no seed for parallelism.\n",
      "  warn(f\"n_jobs value {self.n_jobs} overridden to 1 by setting random_state. Use no seed for parallelism.\")\n"
     ]
    },
    {
     "name": "stdout",
     "output_type": "stream",
     "text": [
      "****************************************************************************************************\n",
      "****************************************************************************************************\n",
      "Hyperparameters:\n",
      "n_neighbors:  10\n",
      "min_dist:  0.001\n",
      "metric:  manhattan\n",
      "n_components:  3\n",
      "Hopkin's Statistic = 0.08135644880382362\n",
      "Fail: Kmeans did not successfully cluster.\n",
      "DBSCAN\n",
      "Number of Clusters:  2\n",
      "Validity Index:  0.8892919277537955\n",
      "****************************************************************************************************\n",
      "Run 83 of 560\n"
     ]
    },
    {
     "name": "stderr",
     "output_type": "stream",
     "text": [
      "/Users/mikey/miniconda3/envs/usml_base_ds2/lib/python3.10/site-packages/umap/umap_.py:1943: UserWarning: n_jobs value -1 overridden to 1 by setting random_state. Use no seed for parallelism.\n",
      "  warn(f\"n_jobs value {self.n_jobs} overridden to 1 by setting random_state. Use no seed for parallelism.\")\n"
     ]
    },
    {
     "name": "stdout",
     "output_type": "stream",
     "text": [
      "****************************************************************************************************\n",
      "****************************************************************************************************\n",
      "Hyperparameters:\n",
      "n_neighbors:  20\n",
      "min_dist:  0.001\n",
      "metric:  euclidean\n",
      "n_components:  3\n",
      "Hopkin's Statistic = 0.09046736325116053\n",
      "Fail: Kmeans did not successfully cluster.\n",
      "DBSCAN\n",
      "Number of Clusters:  2\n",
      "Validity Index:  0.9935167519161969\n",
      "****************************************************************************************************\n",
      "Run 84 of 560\n"
     ]
    },
    {
     "name": "stderr",
     "output_type": "stream",
     "text": [
      "/Users/mikey/miniconda3/envs/usml_base_ds2/lib/python3.10/site-packages/umap/umap_.py:1943: UserWarning: n_jobs value -1 overridden to 1 by setting random_state. Use no seed for parallelism.\n",
      "  warn(f\"n_jobs value {self.n_jobs} overridden to 1 by setting random_state. Use no seed for parallelism.\")\n"
     ]
    },
    {
     "name": "stdout",
     "output_type": "stream",
     "text": [
      "****************************************************************************************************\n",
      "****************************************************************************************************\n",
      "Hyperparameters:\n",
      "n_neighbors:  20\n",
      "min_dist:  0.001\n",
      "metric:  manhattan\n",
      "n_components:  3\n",
      "Hopkin's Statistic = 0.08717545745148499\n",
      "Fail: Kmeans did not successfully cluster.\n",
      "DBSCAN\n",
      "Number of Clusters:  2\n",
      "Validity Index:  0.8884449618442788\n",
      "****************************************************************************************************\n",
      "Run 85 of 560\n"
     ]
    },
    {
     "name": "stderr",
     "output_type": "stream",
     "text": [
      "/Users/mikey/miniconda3/envs/usml_base_ds2/lib/python3.10/site-packages/umap/umap_.py:1943: UserWarning: n_jobs value -1 overridden to 1 by setting random_state. Use no seed for parallelism.\n",
      "  warn(f\"n_jobs value {self.n_jobs} overridden to 1 by setting random_state. Use no seed for parallelism.\")\n"
     ]
    },
    {
     "name": "stdout",
     "output_type": "stream",
     "text": [
      "****************************************************************************************************\n",
      "****************************************************************************************************\n",
      "Hyperparameters:\n",
      "n_neighbors:  30\n",
      "min_dist:  0.001\n",
      "metric:  euclidean\n",
      "n_components:  3\n",
      "Hopkin's Statistic = 0.09952691779458432\n",
      "Fail: Kmeans did not successfully cluster.\n",
      "DBSCAN\n",
      "Number of Clusters:  2\n",
      "Validity Index:  0.9654693417599893\n",
      "****************************************************************************************************\n",
      "Run 86 of 560\n"
     ]
    },
    {
     "name": "stderr",
     "output_type": "stream",
     "text": [
      "/Users/mikey/miniconda3/envs/usml_base_ds2/lib/python3.10/site-packages/umap/umap_.py:1943: UserWarning: n_jobs value -1 overridden to 1 by setting random_state. Use no seed for parallelism.\n",
      "  warn(f\"n_jobs value {self.n_jobs} overridden to 1 by setting random_state. Use no seed for parallelism.\")\n"
     ]
    },
    {
     "name": "stdout",
     "output_type": "stream",
     "text": [
      "****************************************************************************************************\n",
      "****************************************************************************************************\n",
      "Hyperparameters:\n",
      "n_neighbors:  30\n",
      "min_dist:  0.001\n",
      "metric:  manhattan\n",
      "n_components:  3\n",
      "Hopkin's Statistic = 0.10045789112638284\n",
      "Fail: Kmeans did not successfully cluster.\n",
      "DBSCAN\n",
      "Number of Clusters:  3\n",
      "Validity Index:  0.9957833937228047\n",
      "****************************************************************************************************\n",
      "Run 87 of 560\n"
     ]
    },
    {
     "name": "stderr",
     "output_type": "stream",
     "text": [
      "/Users/mikey/miniconda3/envs/usml_base_ds2/lib/python3.10/site-packages/umap/umap_.py:1943: UserWarning: n_jobs value -1 overridden to 1 by setting random_state. Use no seed for parallelism.\n",
      "  warn(f\"n_jobs value {self.n_jobs} overridden to 1 by setting random_state. Use no seed for parallelism.\")\n"
     ]
    },
    {
     "name": "stdout",
     "output_type": "stream",
     "text": [
      "****************************************************************************************************\n",
      "****************************************************************************************************\n",
      "Hyperparameters:\n",
      "n_neighbors:  50\n",
      "min_dist:  0.001\n",
      "metric:  euclidean\n",
      "n_components:  3\n",
      "Hopkin's Statistic = 0.09561668579119793\n",
      "Fail: Kmeans did not successfully cluster.\n",
      "DBSCAN\n",
      "Number of Clusters:  2\n",
      "Validity Index:  0.9987594209039149\n",
      "****************************************************************************************************\n",
      "Run 88 of 560\n"
     ]
    },
    {
     "name": "stderr",
     "output_type": "stream",
     "text": [
      "/Users/mikey/miniconda3/envs/usml_base_ds2/lib/python3.10/site-packages/umap/umap_.py:1943: UserWarning: n_jobs value -1 overridden to 1 by setting random_state. Use no seed for parallelism.\n",
      "  warn(f\"n_jobs value {self.n_jobs} overridden to 1 by setting random_state. Use no seed for parallelism.\")\n"
     ]
    },
    {
     "name": "stdout",
     "output_type": "stream",
     "text": [
      "****************************************************************************************************\n",
      "****************************************************************************************************\n",
      "Hyperparameters:\n",
      "n_neighbors:  50\n",
      "min_dist:  0.001\n",
      "metric:  manhattan\n",
      "n_components:  3\n",
      "Hopkin's Statistic = 0.10592645329438011\n",
      "Fail: Kmeans did not successfully cluster.\n",
      "DBSCAN\n",
      "Number of Clusters:  3\n",
      "Validity Index:  0.9992199351698001\n",
      "****************************************************************************************************\n",
      "Run 89 of 560\n"
     ]
    },
    {
     "name": "stderr",
     "output_type": "stream",
     "text": [
      "/Users/mikey/miniconda3/envs/usml_base_ds2/lib/python3.10/site-packages/umap/umap_.py:1943: UserWarning: n_jobs value -1 overridden to 1 by setting random_state. Use no seed for parallelism.\n",
      "  warn(f\"n_jobs value {self.n_jobs} overridden to 1 by setting random_state. Use no seed for parallelism.\")\n"
     ]
    },
    {
     "name": "stdout",
     "output_type": "stream",
     "text": [
      "****************************************************************************************************\n",
      "****************************************************************************************************\n",
      "Hyperparameters:\n",
      "n_neighbors:  100\n",
      "min_dist:  0.001\n",
      "metric:  euclidean\n",
      "n_components:  3\n",
      "Hopkin's Statistic = 0.1448959769873266\n",
      "Fail: Kmeans did not successfully cluster.\n",
      "DBSCAN\n",
      "Number of Clusters:  4\n",
      "Validity Index:  0.7021233092025853\n",
      "****************************************************************************************************\n",
      "Run 90 of 560\n"
     ]
    },
    {
     "name": "stderr",
     "output_type": "stream",
     "text": [
      "/Users/mikey/miniconda3/envs/usml_base_ds2/lib/python3.10/site-packages/umap/umap_.py:1943: UserWarning: n_jobs value -1 overridden to 1 by setting random_state. Use no seed for parallelism.\n",
      "  warn(f\"n_jobs value {self.n_jobs} overridden to 1 by setting random_state. Use no seed for parallelism.\")\n"
     ]
    },
    {
     "name": "stdout",
     "output_type": "stream",
     "text": [
      "****************************************************************************************************\n",
      "****************************************************************************************************\n",
      "Hyperparameters:\n",
      "n_neighbors:  100\n",
      "min_dist:  0.001\n",
      "metric:  manhattan\n",
      "n_components:  3\n",
      "Hopkin's Statistic = 0.12165656649632907\n",
      "Fail: Kmeans did not successfully cluster.\n",
      "DBSCAN\n",
      "Number of Clusters:  2\n",
      "Validity Index:  0.9600784658183394\n",
      "****************************************************************************************************\n",
      "Run 91 of 560\n"
     ]
    },
    {
     "name": "stderr",
     "output_type": "stream",
     "text": [
      "/Users/mikey/miniconda3/envs/usml_base_ds2/lib/python3.10/site-packages/umap/umap_.py:1943: UserWarning: n_jobs value -1 overridden to 1 by setting random_state. Use no seed for parallelism.\n",
      "  warn(f\"n_jobs value {self.n_jobs} overridden to 1 by setting random_state. Use no seed for parallelism.\")\n"
     ]
    },
    {
     "name": "stdout",
     "output_type": "stream",
     "text": [
      "****************************************************************************************************\n",
      "****************************************************************************************************\n",
      "Hyperparameters:\n",
      "n_neighbors:  10\n",
      "min_dist:  0.01\n",
      "metric:  euclidean\n",
      "n_components:  3\n",
      "Hopkin's Statistic = 0.0767646757481604\n",
      "Fail: Kmeans did not successfully cluster.\n",
      "DBSCAN\n",
      "Number of Clusters:  2\n",
      "Validity Index:  0.932167867846761\n",
      "****************************************************************************************************\n",
      "Run 92 of 560\n"
     ]
    },
    {
     "name": "stderr",
     "output_type": "stream",
     "text": [
      "/Users/mikey/miniconda3/envs/usml_base_ds2/lib/python3.10/site-packages/umap/umap_.py:1943: UserWarning: n_jobs value -1 overridden to 1 by setting random_state. Use no seed for parallelism.\n",
      "  warn(f\"n_jobs value {self.n_jobs} overridden to 1 by setting random_state. Use no seed for parallelism.\")\n"
     ]
    },
    {
     "name": "stdout",
     "output_type": "stream",
     "text": [
      "****************************************************************************************************\n",
      "****************************************************************************************************\n",
      "Hyperparameters:\n",
      "n_neighbors:  10\n",
      "min_dist:  0.01\n",
      "metric:  manhattan\n",
      "n_components:  3\n",
      "Hopkin's Statistic = 0.08450692991598235\n",
      "Fail: Kmeans did not successfully cluster.\n",
      "DBSCAN\n",
      "Number of Clusters:  2\n",
      "Validity Index:  0.9052436892594358\n",
      "****************************************************************************************************\n",
      "Run 93 of 560\n"
     ]
    },
    {
     "name": "stderr",
     "output_type": "stream",
     "text": [
      "/Users/mikey/miniconda3/envs/usml_base_ds2/lib/python3.10/site-packages/umap/umap_.py:1943: UserWarning: n_jobs value -1 overridden to 1 by setting random_state. Use no seed for parallelism.\n",
      "  warn(f\"n_jobs value {self.n_jobs} overridden to 1 by setting random_state. Use no seed for parallelism.\")\n"
     ]
    },
    {
     "name": "stdout",
     "output_type": "stream",
     "text": [
      "****************************************************************************************************\n",
      "****************************************************************************************************\n",
      "Hyperparameters:\n",
      "n_neighbors:  20\n",
      "min_dist:  0.01\n",
      "metric:  euclidean\n",
      "n_components:  3\n",
      "Hopkin's Statistic = 0.09008669037786031\n",
      "Fail: Kmeans did not successfully cluster.\n",
      "zero-size array to reduction operation minimum which has no identity\n",
      "zero-size array to reduction operation minimum which has no identity\n",
      "DBSCAN\n",
      "Number of Clusters:  2\n",
      "Validity Index:  0.929843418229247\n",
      "****************************************************************************************************\n",
      "Run 94 of 560\n"
     ]
    },
    {
     "name": "stderr",
     "output_type": "stream",
     "text": [
      "/Users/mikey/miniconda3/envs/usml_base_ds2/lib/python3.10/site-packages/umap/umap_.py:1943: UserWarning: n_jobs value -1 overridden to 1 by setting random_state. Use no seed for parallelism.\n",
      "  warn(f\"n_jobs value {self.n_jobs} overridden to 1 by setting random_state. Use no seed for parallelism.\")\n"
     ]
    },
    {
     "name": "stdout",
     "output_type": "stream",
     "text": [
      "****************************************************************************************************\n",
      "****************************************************************************************************\n",
      "Hyperparameters:\n",
      "n_neighbors:  20\n",
      "min_dist:  0.01\n",
      "metric:  manhattan\n",
      "n_components:  3\n",
      "Hopkin's Statistic = 0.09629580143248662\n",
      "Fail: Kmeans did not successfully cluster.\n",
      "zero-size array to reduction operation minimum which has no identity\n",
      "DBSCAN\n",
      "Number of Clusters:  2\n",
      "Validity Index:  0.8740109567323022\n",
      "****************************************************************************************************\n",
      "Run 95 of 560\n"
     ]
    },
    {
     "name": "stderr",
     "output_type": "stream",
     "text": [
      "/Users/mikey/miniconda3/envs/usml_base_ds2/lib/python3.10/site-packages/umap/umap_.py:1943: UserWarning: n_jobs value -1 overridden to 1 by setting random_state. Use no seed for parallelism.\n",
      "  warn(f\"n_jobs value {self.n_jobs} overridden to 1 by setting random_state. Use no seed for parallelism.\")\n"
     ]
    },
    {
     "name": "stdout",
     "output_type": "stream",
     "text": [
      "****************************************************************************************************\n",
      "****************************************************************************************************\n",
      "Hyperparameters:\n",
      "n_neighbors:  30\n",
      "min_dist:  0.01\n",
      "metric:  euclidean\n",
      "n_components:  3\n",
      "Hopkin's Statistic = 0.10761997558702882\n",
      "Fail: Kmeans did not successfully cluster.\n",
      "DBSCAN\n",
      "Number of Clusters:  2\n",
      "Validity Index:  0.9936324679877487\n",
      "****************************************************************************************************\n",
      "Run 96 of 560\n"
     ]
    },
    {
     "name": "stderr",
     "output_type": "stream",
     "text": [
      "/Users/mikey/miniconda3/envs/usml_base_ds2/lib/python3.10/site-packages/umap/umap_.py:1943: UserWarning: n_jobs value -1 overridden to 1 by setting random_state. Use no seed for parallelism.\n",
      "  warn(f\"n_jobs value {self.n_jobs} overridden to 1 by setting random_state. Use no seed for parallelism.\")\n"
     ]
    },
    {
     "name": "stdout",
     "output_type": "stream",
     "text": [
      "****************************************************************************************************\n",
      "****************************************************************************************************\n",
      "Hyperparameters:\n",
      "n_neighbors:  30\n",
      "min_dist:  0.01\n",
      "metric:  manhattan\n",
      "n_components:  3\n",
      "Hopkin's Statistic = 0.10858684373219737\n",
      "Fail: Kmeans did not successfully cluster.\n",
      "DBSCAN\n",
      "Number of Clusters:  3\n",
      "Validity Index:  0.982661306299623\n",
      "****************************************************************************************************\n",
      "Run 97 of 560\n"
     ]
    },
    {
     "name": "stderr",
     "output_type": "stream",
     "text": [
      "/Users/mikey/miniconda3/envs/usml_base_ds2/lib/python3.10/site-packages/umap/umap_.py:1943: UserWarning: n_jobs value -1 overridden to 1 by setting random_state. Use no seed for parallelism.\n",
      "  warn(f\"n_jobs value {self.n_jobs} overridden to 1 by setting random_state. Use no seed for parallelism.\")\n"
     ]
    },
    {
     "name": "stdout",
     "output_type": "stream",
     "text": [
      "****************************************************************************************************\n",
      "****************************************************************************************************\n",
      "Hyperparameters:\n",
      "n_neighbors:  50\n",
      "min_dist:  0.01\n",
      "metric:  euclidean\n",
      "n_components:  3\n",
      "Hopkin's Statistic = 0.10766127528477422\n",
      "Fail: Kmeans did not successfully cluster.\n",
      "DBSCAN\n",
      "Number of Clusters:  2\n",
      "Validity Index:  0.9996940868019628\n",
      "****************************************************************************************************\n",
      "Run 98 of 560\n"
     ]
    },
    {
     "name": "stderr",
     "output_type": "stream",
     "text": [
      "/Users/mikey/miniconda3/envs/usml_base_ds2/lib/python3.10/site-packages/umap/umap_.py:1943: UserWarning: n_jobs value -1 overridden to 1 by setting random_state. Use no seed for parallelism.\n",
      "  warn(f\"n_jobs value {self.n_jobs} overridden to 1 by setting random_state. Use no seed for parallelism.\")\n"
     ]
    },
    {
     "name": "stdout",
     "output_type": "stream",
     "text": [
      "****************************************************************************************************\n",
      "****************************************************************************************************\n",
      "Hyperparameters:\n",
      "n_neighbors:  50\n",
      "min_dist:  0.01\n",
      "metric:  manhattan\n",
      "n_components:  3\n",
      "Hopkin's Statistic = 0.11294081984876372\n",
      "Fail: Kmeans did not successfully cluster.\n",
      "DBSCAN\n",
      "Number of Clusters:  3\n",
      "Validity Index:  0.9993572216917797\n",
      "****************************************************************************************************\n",
      "Run 99 of 560\n"
     ]
    },
    {
     "name": "stderr",
     "output_type": "stream",
     "text": [
      "/Users/mikey/miniconda3/envs/usml_base_ds2/lib/python3.10/site-packages/umap/umap_.py:1943: UserWarning: n_jobs value -1 overridden to 1 by setting random_state. Use no seed for parallelism.\n",
      "  warn(f\"n_jobs value {self.n_jobs} overridden to 1 by setting random_state. Use no seed for parallelism.\")\n"
     ]
    },
    {
     "name": "stdout",
     "output_type": "stream",
     "text": [
      "****************************************************************************************************\n",
      "****************************************************************************************************\n",
      "Hyperparameters:\n",
      "n_neighbors:  100\n",
      "min_dist:  0.01\n",
      "metric:  euclidean\n",
      "n_components:  3\n",
      "Hopkin's Statistic = 0.18676527475267612\n",
      "Fail: Kmeans did not successfully cluster.\n",
      "DBSCAN\n",
      "Number of Clusters:  2\n",
      "Validity Index:  0.9944437233404145\n",
      "****************************************************************************************************\n",
      "Run 100 of 560\n"
     ]
    },
    {
     "name": "stderr",
     "output_type": "stream",
     "text": [
      "/Users/mikey/miniconda3/envs/usml_base_ds2/lib/python3.10/site-packages/umap/umap_.py:1943: UserWarning: n_jobs value -1 overridden to 1 by setting random_state. Use no seed for parallelism.\n",
      "  warn(f\"n_jobs value {self.n_jobs} overridden to 1 by setting random_state. Use no seed for parallelism.\")\n"
     ]
    },
    {
     "name": "stdout",
     "output_type": "stream",
     "text": [
      "****************************************************************************************************\n",
      "****************************************************************************************************\n",
      "Hyperparameters:\n",
      "n_neighbors:  100\n",
      "min_dist:  0.01\n",
      "metric:  manhattan\n",
      "n_components:  3\n",
      "Hopkin's Statistic = 0.13322070428084384\n",
      "Fail: Kmeans did not successfully cluster.\n",
      "DBSCAN\n",
      "Number of Clusters:  4\n",
      "Validity Index:  0.7265761636966712\n",
      "****************************************************************************************************\n",
      "Run 101 of 560\n"
     ]
    },
    {
     "name": "stderr",
     "output_type": "stream",
     "text": [
      "/Users/mikey/miniconda3/envs/usml_base_ds2/lib/python3.10/site-packages/umap/umap_.py:1943: UserWarning: n_jobs value -1 overridden to 1 by setting random_state. Use no seed for parallelism.\n",
      "  warn(f\"n_jobs value {self.n_jobs} overridden to 1 by setting random_state. Use no seed for parallelism.\")\n"
     ]
    },
    {
     "name": "stdout",
     "output_type": "stream",
     "text": [
      "****************************************************************************************************\n",
      "****************************************************************************************************\n",
      "Hyperparameters:\n",
      "n_neighbors:  10\n",
      "min_dist:  0.05\n",
      "metric:  euclidean\n",
      "n_components:  3\n",
      "Hopkin's Statistic = 0.09039252552266434\n",
      "Fail: Kmeans did not successfully cluster.\n",
      "DBSCAN\n",
      "Number of Clusters:  2\n",
      "Validity Index:  0.8679019889138011\n",
      "****************************************************************************************************\n",
      "Run 102 of 560\n"
     ]
    },
    {
     "name": "stderr",
     "output_type": "stream",
     "text": [
      "/Users/mikey/miniconda3/envs/usml_base_ds2/lib/python3.10/site-packages/umap/umap_.py:1943: UserWarning: n_jobs value -1 overridden to 1 by setting random_state. Use no seed for parallelism.\n",
      "  warn(f\"n_jobs value {self.n_jobs} overridden to 1 by setting random_state. Use no seed for parallelism.\")\n"
     ]
    },
    {
     "name": "stdout",
     "output_type": "stream",
     "text": [
      "****************************************************************************************************\n",
      "****************************************************************************************************\n",
      "Hyperparameters:\n",
      "n_neighbors:  10\n",
      "min_dist:  0.05\n",
      "metric:  manhattan\n",
      "n_components:  3\n",
      "Hopkin's Statistic = 0.1001532509797041\n",
      "Fail: Kmeans did not successfully cluster.\n",
      "DBSCAN\n",
      "Number of Clusters:  2\n",
      "Validity Index:  0.9628595848845409\n",
      "****************************************************************************************************\n",
      "Run 103 of 560\n"
     ]
    },
    {
     "name": "stderr",
     "output_type": "stream",
     "text": [
      "/Users/mikey/miniconda3/envs/usml_base_ds2/lib/python3.10/site-packages/umap/umap_.py:1943: UserWarning: n_jobs value -1 overridden to 1 by setting random_state. Use no seed for parallelism.\n",
      "  warn(f\"n_jobs value {self.n_jobs} overridden to 1 by setting random_state. Use no seed for parallelism.\")\n"
     ]
    },
    {
     "name": "stdout",
     "output_type": "stream",
     "text": [
      "****************************************************************************************************\n",
      "****************************************************************************************************\n",
      "Hyperparameters:\n",
      "n_neighbors:  20\n",
      "min_dist:  0.05\n",
      "metric:  euclidean\n",
      "n_components:  3\n",
      "Hopkin's Statistic = 0.09435054632697049\n",
      "Fail: Kmeans did not successfully cluster.\n",
      "DBSCAN\n",
      "Number of Clusters:  2\n",
      "Validity Index:  0.9945521697504348\n",
      "****************************************************************************************************\n",
      "Run 104 of 560\n"
     ]
    },
    {
     "name": "stderr",
     "output_type": "stream",
     "text": [
      "/Users/mikey/miniconda3/envs/usml_base_ds2/lib/python3.10/site-packages/umap/umap_.py:1943: UserWarning: n_jobs value -1 overridden to 1 by setting random_state. Use no seed for parallelism.\n",
      "  warn(f\"n_jobs value {self.n_jobs} overridden to 1 by setting random_state. Use no seed for parallelism.\")\n"
     ]
    },
    {
     "name": "stdout",
     "output_type": "stream",
     "text": [
      "****************************************************************************************************\n",
      "****************************************************************************************************\n",
      "Hyperparameters:\n",
      "n_neighbors:  20\n",
      "min_dist:  0.05\n",
      "metric:  manhattan\n",
      "n_components:  3\n",
      "Hopkin's Statistic = 0.09140673194166726\n",
      "Fail: Kmeans did not successfully cluster.\n",
      "DBSCAN\n",
      "Number of Clusters:  2\n",
      "Validity Index:  0.9061585349496781\n",
      "****************************************************************************************************\n",
      "Run 105 of 560\n"
     ]
    },
    {
     "name": "stderr",
     "output_type": "stream",
     "text": [
      "/Users/mikey/miniconda3/envs/usml_base_ds2/lib/python3.10/site-packages/umap/umap_.py:1943: UserWarning: n_jobs value -1 overridden to 1 by setting random_state. Use no seed for parallelism.\n",
      "  warn(f\"n_jobs value {self.n_jobs} overridden to 1 by setting random_state. Use no seed for parallelism.\")\n"
     ]
    },
    {
     "name": "stdout",
     "output_type": "stream",
     "text": [
      "****************************************************************************************************\n",
      "****************************************************************************************************\n",
      "Hyperparameters:\n",
      "n_neighbors:  30\n",
      "min_dist:  0.05\n",
      "metric:  euclidean\n",
      "n_components:  3\n",
      "Hopkin's Statistic = 0.12311924648837434\n",
      "Fail: Kmeans did not successfully cluster.\n",
      "DBSCAN\n",
      "Number of Clusters:  2\n",
      "Validity Index:  0.9952174804312306\n",
      "****************************************************************************************************\n",
      "Run 106 of 560\n"
     ]
    },
    {
     "name": "stderr",
     "output_type": "stream",
     "text": [
      "/Users/mikey/miniconda3/envs/usml_base_ds2/lib/python3.10/site-packages/umap/umap_.py:1943: UserWarning: n_jobs value -1 overridden to 1 by setting random_state. Use no seed for parallelism.\n",
      "  warn(f\"n_jobs value {self.n_jobs} overridden to 1 by setting random_state. Use no seed for parallelism.\")\n"
     ]
    },
    {
     "name": "stdout",
     "output_type": "stream",
     "text": [
      "****************************************************************************************************\n",
      "****************************************************************************************************\n",
      "Hyperparameters:\n",
      "n_neighbors:  30\n",
      "min_dist:  0.05\n",
      "metric:  manhattan\n",
      "n_components:  3\n",
      "Hopkin's Statistic = 0.11756918223295272\n",
      "Fail: Kmeans did not successfully cluster.\n",
      "zero-size array to reduction operation maximum which has no identity\n",
      "DBSCAN\n",
      "Number of Clusters:  3\n",
      "Validity Index:  0.9907565458567229\n",
      "****************************************************************************************************\n",
      "Run 107 of 560\n"
     ]
    },
    {
     "name": "stderr",
     "output_type": "stream",
     "text": [
      "/Users/mikey/miniconda3/envs/usml_base_ds2/lib/python3.10/site-packages/umap/umap_.py:1943: UserWarning: n_jobs value -1 overridden to 1 by setting random_state. Use no seed for parallelism.\n",
      "  warn(f\"n_jobs value {self.n_jobs} overridden to 1 by setting random_state. Use no seed for parallelism.\")\n"
     ]
    },
    {
     "name": "stdout",
     "output_type": "stream",
     "text": [
      "****************************************************************************************************\n",
      "****************************************************************************************************\n",
      "Hyperparameters:\n",
      "n_neighbors:  50\n",
      "min_dist:  0.05\n",
      "metric:  euclidean\n",
      "n_components:  3\n",
      "Hopkin's Statistic = 0.11930545029156685\n",
      "Fail: Kmeans did not successfully cluster.\n",
      "DBSCAN\n",
      "Number of Clusters:  2\n",
      "Validity Index:  0.9998938689340393\n",
      "****************************************************************************************************\n",
      "Run 108 of 560\n"
     ]
    },
    {
     "name": "stderr",
     "output_type": "stream",
     "text": [
      "/Users/mikey/miniconda3/envs/usml_base_ds2/lib/python3.10/site-packages/umap/umap_.py:1943: UserWarning: n_jobs value -1 overridden to 1 by setting random_state. Use no seed for parallelism.\n",
      "  warn(f\"n_jobs value {self.n_jobs} overridden to 1 by setting random_state. Use no seed for parallelism.\")\n"
     ]
    },
    {
     "name": "stdout",
     "output_type": "stream",
     "text": [
      "****************************************************************************************************\n",
      "****************************************************************************************************\n",
      "Hyperparameters:\n",
      "n_neighbors:  50\n",
      "min_dist:  0.05\n",
      "metric:  manhattan\n",
      "n_components:  3\n",
      "Hopkin's Statistic = 0.12708282042342156\n",
      "Fail: Kmeans did not successfully cluster.\n",
      "DBSCAN\n",
      "Number of Clusters:  2\n",
      "Validity Index:  0.9565743515006238\n",
      "****************************************************************************************************\n",
      "Run 109 of 560\n"
     ]
    },
    {
     "name": "stderr",
     "output_type": "stream",
     "text": [
      "/Users/mikey/miniconda3/envs/usml_base_ds2/lib/python3.10/site-packages/umap/umap_.py:1943: UserWarning: n_jobs value -1 overridden to 1 by setting random_state. Use no seed for parallelism.\n",
      "  warn(f\"n_jobs value {self.n_jobs} overridden to 1 by setting random_state. Use no seed for parallelism.\")\n"
     ]
    },
    {
     "name": "stdout",
     "output_type": "stream",
     "text": [
      "****************************************************************************************************\n",
      "****************************************************************************************************\n",
      "Hyperparameters:\n",
      "n_neighbors:  100\n",
      "min_dist:  0.05\n",
      "metric:  euclidean\n",
      "n_components:  3\n",
      "Hopkin's Statistic = 0.1502185575055826\n",
      "Fail: Kmeans did not successfully cluster.\n",
      "zero-size array to reduction operation minimum which has no identity\n",
      "DBSCAN\n",
      "Number of Clusters:  2\n",
      "Validity Index:  0.9964998030071118\n",
      "****************************************************************************************************\n",
      "Run 110 of 560\n"
     ]
    },
    {
     "name": "stderr",
     "output_type": "stream",
     "text": [
      "/Users/mikey/miniconda3/envs/usml_base_ds2/lib/python3.10/site-packages/umap/umap_.py:1943: UserWarning: n_jobs value -1 overridden to 1 by setting random_state. Use no seed for parallelism.\n",
      "  warn(f\"n_jobs value {self.n_jobs} overridden to 1 by setting random_state. Use no seed for parallelism.\")\n"
     ]
    },
    {
     "name": "stdout",
     "output_type": "stream",
     "text": [
      "****************************************************************************************************\n",
      "****************************************************************************************************\n",
      "Hyperparameters:\n",
      "n_neighbors:  100\n",
      "min_dist:  0.05\n",
      "metric:  manhattan\n",
      "n_components:  3\n",
      "Hopkin's Statistic = 0.14272732420885878\n",
      "Fail: Kmeans did not successfully cluster.\n",
      "DBSCAN\n",
      "Number of Clusters:  4\n",
      "Validity Index:  0.6429400619505675\n",
      "****************************************************************************************************\n",
      "Run 111 of 560\n"
     ]
    },
    {
     "name": "stderr",
     "output_type": "stream",
     "text": [
      "/Users/mikey/miniconda3/envs/usml_base_ds2/lib/python3.10/site-packages/umap/umap_.py:1943: UserWarning: n_jobs value -1 overridden to 1 by setting random_state. Use no seed for parallelism.\n",
      "  warn(f\"n_jobs value {self.n_jobs} overridden to 1 by setting random_state. Use no seed for parallelism.\")\n"
     ]
    },
    {
     "name": "stdout",
     "output_type": "stream",
     "text": [
      "****************************************************************************************************\n",
      "****************************************************************************************************\n",
      "Hyperparameters:\n",
      "n_neighbors:  10\n",
      "min_dist:  0.1\n",
      "metric:  euclidean\n",
      "n_components:  3\n",
      "Hopkin's Statistic = 0.1104406914863631\n",
      "Fail: Kmeans did not successfully cluster.\n",
      "DBSCAN\n",
      "Number of Clusters:  3\n",
      "Validity Index:  0.997503723812587\n",
      "****************************************************************************************************\n",
      "Run 112 of 560\n"
     ]
    },
    {
     "name": "stderr",
     "output_type": "stream",
     "text": [
      "/Users/mikey/miniconda3/envs/usml_base_ds2/lib/python3.10/site-packages/umap/umap_.py:1943: UserWarning: n_jobs value -1 overridden to 1 by setting random_state. Use no seed for parallelism.\n",
      "  warn(f\"n_jobs value {self.n_jobs} overridden to 1 by setting random_state. Use no seed for parallelism.\")\n"
     ]
    },
    {
     "name": "stdout",
     "output_type": "stream",
     "text": [
      "****************************************************************************************************\n",
      "****************************************************************************************************\n",
      "Hyperparameters:\n",
      "n_neighbors:  10\n",
      "min_dist:  0.1\n",
      "metric:  manhattan\n",
      "n_components:  3\n",
      "Hopkin's Statistic = 0.11708537882064796\n",
      "Fail: Kmeans did not successfully cluster.\n",
      "DBSCAN\n",
      "Number of Clusters:  2\n",
      "Validity Index:  0.9911316413507841\n",
      "****************************************************************************************************\n",
      "Run 113 of 560\n"
     ]
    },
    {
     "name": "stderr",
     "output_type": "stream",
     "text": [
      "/Users/mikey/miniconda3/envs/usml_base_ds2/lib/python3.10/site-packages/umap/umap_.py:1943: UserWarning: n_jobs value -1 overridden to 1 by setting random_state. Use no seed for parallelism.\n",
      "  warn(f\"n_jobs value {self.n_jobs} overridden to 1 by setting random_state. Use no seed for parallelism.\")\n"
     ]
    },
    {
     "name": "stdout",
     "output_type": "stream",
     "text": [
      "****************************************************************************************************\n",
      "****************************************************************************************************\n",
      "Hyperparameters:\n",
      "n_neighbors:  20\n",
      "min_dist:  0.1\n",
      "metric:  euclidean\n",
      "n_components:  3\n",
      "Hopkin's Statistic = 0.1348528621235414\n",
      "Fail: Kmeans did not successfully cluster.\n",
      "DBSCAN\n",
      "Number of Clusters:  2\n",
      "Validity Index:  0.9908014310284886\n",
      "****************************************************************************************************\n",
      "Run 114 of 560\n"
     ]
    },
    {
     "name": "stderr",
     "output_type": "stream",
     "text": [
      "/Users/mikey/miniconda3/envs/usml_base_ds2/lib/python3.10/site-packages/umap/umap_.py:1943: UserWarning: n_jobs value -1 overridden to 1 by setting random_state. Use no seed for parallelism.\n",
      "  warn(f\"n_jobs value {self.n_jobs} overridden to 1 by setting random_state. Use no seed for parallelism.\")\n"
     ]
    },
    {
     "name": "stdout",
     "output_type": "stream",
     "text": [
      "****************************************************************************************************\n",
      "****************************************************************************************************\n",
      "Hyperparameters:\n",
      "n_neighbors:  20\n",
      "min_dist:  0.1\n",
      "metric:  manhattan\n",
      "n_components:  3\n",
      "Hopkin's Statistic = 0.13885879162535777\n",
      "Fail: Kmeans did not successfully cluster.\n",
      "DBSCAN\n",
      "Number of Clusters:  2\n",
      "Validity Index:  0.9796727509942667\n",
      "****************************************************************************************************\n",
      "Run 115 of 560\n"
     ]
    },
    {
     "name": "stderr",
     "output_type": "stream",
     "text": [
      "/Users/mikey/miniconda3/envs/usml_base_ds2/lib/python3.10/site-packages/umap/umap_.py:1943: UserWarning: n_jobs value -1 overridden to 1 by setting random_state. Use no seed for parallelism.\n",
      "  warn(f\"n_jobs value {self.n_jobs} overridden to 1 by setting random_state. Use no seed for parallelism.\")\n"
     ]
    },
    {
     "name": "stdout",
     "output_type": "stream",
     "text": [
      "****************************************************************************************************\n",
      "****************************************************************************************************\n",
      "Hyperparameters:\n",
      "n_neighbors:  30\n",
      "min_dist:  0.1\n",
      "metric:  euclidean\n",
      "n_components:  3\n",
      "Hopkin's Statistic = 0.14093800158054196\n",
      "Fail: Kmeans did not successfully cluster.\n",
      "zero-size array to reduction operation minimum which has no identity\n",
      "zero-size array to reduction operation minimum which has no identity\n",
      "DBSCAN\n",
      "Number of Clusters:  2\n",
      "Validity Index:  0.9954628482605377\n",
      "****************************************************************************************************\n",
      "Run 116 of 560\n"
     ]
    },
    {
     "name": "stderr",
     "output_type": "stream",
     "text": [
      "/Users/mikey/miniconda3/envs/usml_base_ds2/lib/python3.10/site-packages/umap/umap_.py:1943: UserWarning: n_jobs value -1 overridden to 1 by setting random_state. Use no seed for parallelism.\n",
      "  warn(f\"n_jobs value {self.n_jobs} overridden to 1 by setting random_state. Use no seed for parallelism.\")\n"
     ]
    },
    {
     "name": "stdout",
     "output_type": "stream",
     "text": [
      "****************************************************************************************************\n",
      "****************************************************************************************************\n",
      "Hyperparameters:\n",
      "n_neighbors:  30\n",
      "min_dist:  0.1\n",
      "metric:  manhattan\n",
      "n_components:  3\n",
      "Hopkin's Statistic = 0.12201576141161974\n",
      "Fail: Kmeans did not successfully cluster.\n",
      "DBSCAN\n",
      "Number of Clusters:  2\n",
      "Validity Index:  0.9829314102532777\n",
      "****************************************************************************************************\n",
      "Run 117 of 560\n"
     ]
    },
    {
     "name": "stderr",
     "output_type": "stream",
     "text": [
      "/Users/mikey/miniconda3/envs/usml_base_ds2/lib/python3.10/site-packages/umap/umap_.py:1943: UserWarning: n_jobs value -1 overridden to 1 by setting random_state. Use no seed for parallelism.\n",
      "  warn(f\"n_jobs value {self.n_jobs} overridden to 1 by setting random_state. Use no seed for parallelism.\")\n"
     ]
    },
    {
     "name": "stdout",
     "output_type": "stream",
     "text": [
      "****************************************************************************************************\n",
      "****************************************************************************************************\n",
      "Hyperparameters:\n",
      "n_neighbors:  50\n",
      "min_dist:  0.1\n",
      "metric:  euclidean\n",
      "n_components:  3\n",
      "Hopkin's Statistic = 0.1569906427977522\n",
      "Fail: Kmeans did not successfully cluster.\n",
      "zero-size array to reduction operation minimum which has no identity\n",
      "DBSCAN\n",
      "Number of Clusters:  2\n",
      "Validity Index:  0.9988932674588868\n",
      "****************************************************************************************************\n",
      "Run 118 of 560\n"
     ]
    },
    {
     "name": "stderr",
     "output_type": "stream",
     "text": [
      "/Users/mikey/miniconda3/envs/usml_base_ds2/lib/python3.10/site-packages/umap/umap_.py:1943: UserWarning: n_jobs value -1 overridden to 1 by setting random_state. Use no seed for parallelism.\n",
      "  warn(f\"n_jobs value {self.n_jobs} overridden to 1 by setting random_state. Use no seed for parallelism.\")\n"
     ]
    },
    {
     "name": "stdout",
     "output_type": "stream",
     "text": [
      "****************************************************************************************************\n",
      "****************************************************************************************************\n",
      "Hyperparameters:\n",
      "n_neighbors:  50\n",
      "min_dist:  0.1\n",
      "metric:  manhattan\n",
      "n_components:  3\n",
      "Hopkin's Statistic = 0.17662772867798934\n",
      "Fail: Kmeans did not successfully cluster.\n",
      "DBSCAN\n",
      "Number of Clusters:  2\n",
      "Validity Index:  0.8134320414776574\n",
      "****************************************************************************************************\n",
      "Run 119 of 560\n"
     ]
    },
    {
     "name": "stderr",
     "output_type": "stream",
     "text": [
      "/Users/mikey/miniconda3/envs/usml_base_ds2/lib/python3.10/site-packages/umap/umap_.py:1943: UserWarning: n_jobs value -1 overridden to 1 by setting random_state. Use no seed for parallelism.\n",
      "  warn(f\"n_jobs value {self.n_jobs} overridden to 1 by setting random_state. Use no seed for parallelism.\")\n"
     ]
    },
    {
     "name": "stdout",
     "output_type": "stream",
     "text": [
      "****************************************************************************************************\n",
      "****************************************************************************************************\n",
      "Hyperparameters:\n",
      "n_neighbors:  100\n",
      "min_dist:  0.1\n",
      "metric:  euclidean\n",
      "n_components:  3\n",
      "Hopkin's Statistic = 0.17864390460510113\n",
      "Fail: Kmeans did not successfully cluster.\n",
      "DBSCAN\n",
      "Number of Clusters:  4\n",
      "Validity Index:  0.6281531700405987\n",
      "****************************************************************************************************\n",
      "Run 120 of 560\n"
     ]
    },
    {
     "name": "stderr",
     "output_type": "stream",
     "text": [
      "/Users/mikey/miniconda3/envs/usml_base_ds2/lib/python3.10/site-packages/umap/umap_.py:1943: UserWarning: n_jobs value -1 overridden to 1 by setting random_state. Use no seed for parallelism.\n",
      "  warn(f\"n_jobs value {self.n_jobs} overridden to 1 by setting random_state. Use no seed for parallelism.\")\n"
     ]
    },
    {
     "name": "stdout",
     "output_type": "stream",
     "text": [
      "****************************************************************************************************\n",
      "****************************************************************************************************\n",
      "Hyperparameters:\n",
      "n_neighbors:  100\n",
      "min_dist:  0.1\n",
      "metric:  manhattan\n",
      "n_components:  3\n",
      "Hopkin's Statistic = 0.14638568277670483\n",
      "Fail: Kmeans did not successfully cluster.\n",
      "DBSCAN\n",
      "Number of Clusters:  3\n",
      "Validity Index:  0.6498784337908755\n",
      "****************************************************************************************************\n",
      "Run 121 of 560\n"
     ]
    },
    {
     "name": "stderr",
     "output_type": "stream",
     "text": [
      "/Users/mikey/miniconda3/envs/usml_base_ds2/lib/python3.10/site-packages/umap/umap_.py:1943: UserWarning: n_jobs value -1 overridden to 1 by setting random_state. Use no seed for parallelism.\n",
      "  warn(f\"n_jobs value {self.n_jobs} overridden to 1 by setting random_state. Use no seed for parallelism.\")\n"
     ]
    },
    {
     "name": "stdout",
     "output_type": "stream",
     "text": [
      "****************************************************************************************************\n",
      "****************************************************************************************************\n",
      "Hyperparameters:\n",
      "n_neighbors:  10\n",
      "min_dist:  0.25\n",
      "metric:  euclidean\n",
      "n_components:  3\n",
      "Hopkin's Statistic = 0.17275902302099166\n",
      "Fail: Kmeans did not successfully cluster.\n",
      "DBSCAN\n",
      "Number of Clusters:  3\n",
      "Validity Index:  0.4128325501594618\n",
      "****************************************************************************************************\n",
      "Run 122 of 560\n"
     ]
    },
    {
     "name": "stderr",
     "output_type": "stream",
     "text": [
      "/Users/mikey/miniconda3/envs/usml_base_ds2/lib/python3.10/site-packages/umap/umap_.py:1943: UserWarning: n_jobs value -1 overridden to 1 by setting random_state. Use no seed for parallelism.\n",
      "  warn(f\"n_jobs value {self.n_jobs} overridden to 1 by setting random_state. Use no seed for parallelism.\")\n"
     ]
    },
    {
     "name": "stdout",
     "output_type": "stream",
     "text": [
      "****************************************************************************************************\n",
      "****************************************************************************************************\n",
      "Hyperparameters:\n",
      "n_neighbors:  10\n",
      "min_dist:  0.25\n",
      "metric:  manhattan\n",
      "n_components:  3\n",
      "Hopkin's Statistic = 0.19510958853456467\n",
      "Fail: Kmeans did not successfully cluster.\n",
      "zero-size array to reduction operation maximum which has no identity\n",
      "DBSCAN\n",
      "Number of Clusters:  2\n",
      "Validity Index:  0.9993249974266986\n",
      "****************************************************************************************************\n",
      "Run 123 of 560\n"
     ]
    },
    {
     "name": "stderr",
     "output_type": "stream",
     "text": [
      "/Users/mikey/miniconda3/envs/usml_base_ds2/lib/python3.10/site-packages/umap/umap_.py:1943: UserWarning: n_jobs value -1 overridden to 1 by setting random_state. Use no seed for parallelism.\n",
      "  warn(f\"n_jobs value {self.n_jobs} overridden to 1 by setting random_state. Use no seed for parallelism.\")\n"
     ]
    },
    {
     "name": "stdout",
     "output_type": "stream",
     "text": [
      "****************************************************************************************************\n",
      "****************************************************************************************************\n",
      "Hyperparameters:\n",
      "n_neighbors:  20\n",
      "min_dist:  0.25\n",
      "metric:  euclidean\n",
      "n_components:  3\n",
      "Hopkin's Statistic = 0.2045489817667602\n",
      "Fail: Kmeans did not successfully cluster.\n",
      "zero-size array to reduction operation minimum which has no identity\n",
      "DBSCAN\n",
      "Number of Clusters:  2\n",
      "Validity Index:  0.9995572545579101\n",
      "****************************************************************************************************\n",
      "Run 124 of 560\n"
     ]
    },
    {
     "name": "stderr",
     "output_type": "stream",
     "text": [
      "/Users/mikey/miniconda3/envs/usml_base_ds2/lib/python3.10/site-packages/umap/umap_.py:1943: UserWarning: n_jobs value -1 overridden to 1 by setting random_state. Use no seed for parallelism.\n",
      "  warn(f\"n_jobs value {self.n_jobs} overridden to 1 by setting random_state. Use no seed for parallelism.\")\n"
     ]
    },
    {
     "name": "stdout",
     "output_type": "stream",
     "text": [
      "****************************************************************************************************\n",
      "****************************************************************************************************\n",
      "Hyperparameters:\n",
      "n_neighbors:  20\n",
      "min_dist:  0.25\n",
      "metric:  manhattan\n",
      "n_components:  3\n",
      "Hopkin's Statistic = 0.19195436139256955\n",
      "Fail: Kmeans did not successfully cluster.\n",
      "DBSCAN\n",
      "Number of Clusters:  2\n",
      "Validity Index:  0.9981888359438462\n",
      "****************************************************************************************************\n",
      "Run 125 of 560\n"
     ]
    },
    {
     "name": "stderr",
     "output_type": "stream",
     "text": [
      "/Users/mikey/miniconda3/envs/usml_base_ds2/lib/python3.10/site-packages/umap/umap_.py:1943: UserWarning: n_jobs value -1 overridden to 1 by setting random_state. Use no seed for parallelism.\n",
      "  warn(f\"n_jobs value {self.n_jobs} overridden to 1 by setting random_state. Use no seed for parallelism.\")\n"
     ]
    },
    {
     "name": "stdout",
     "output_type": "stream",
     "text": [
      "****************************************************************************************************\n",
      "****************************************************************************************************\n",
      "Hyperparameters:\n",
      "n_neighbors:  30\n",
      "min_dist:  0.25\n",
      "metric:  euclidean\n",
      "n_components:  3\n",
      "Hopkin's Statistic = 0.1886258919620762\n",
      "Fail: Kmeans did not successfully cluster.\n",
      "DBSCAN\n",
      "Number of Clusters:  2\n",
      "Validity Index:  0.8020798581741901\n",
      "****************************************************************************************************\n",
      "Run 126 of 560\n"
     ]
    },
    {
     "name": "stderr",
     "output_type": "stream",
     "text": [
      "/Users/mikey/miniconda3/envs/usml_base_ds2/lib/python3.10/site-packages/umap/umap_.py:1943: UserWarning: n_jobs value -1 overridden to 1 by setting random_state. Use no seed for parallelism.\n",
      "  warn(f\"n_jobs value {self.n_jobs} overridden to 1 by setting random_state. Use no seed for parallelism.\")\n"
     ]
    },
    {
     "name": "stdout",
     "output_type": "stream",
     "text": [
      "****************************************************************************************************\n",
      "****************************************************************************************************\n",
      "Hyperparameters:\n",
      "n_neighbors:  30\n",
      "min_dist:  0.25\n",
      "metric:  manhattan\n",
      "n_components:  3\n",
      "Hopkin's Statistic = 0.1784040821650137\n",
      "Fail: Kmeans did not successfully cluster.\n",
      "DBSCAN\n",
      "Number of Clusters:  2\n",
      "Validity Index:  0.8299304482148548\n",
      "****************************************************************************************************\n",
      "Run 127 of 560\n"
     ]
    },
    {
     "name": "stderr",
     "output_type": "stream",
     "text": [
      "/Users/mikey/miniconda3/envs/usml_base_ds2/lib/python3.10/site-packages/umap/umap_.py:1943: UserWarning: n_jobs value -1 overridden to 1 by setting random_state. Use no seed for parallelism.\n",
      "  warn(f\"n_jobs value {self.n_jobs} overridden to 1 by setting random_state. Use no seed for parallelism.\")\n"
     ]
    },
    {
     "name": "stdout",
     "output_type": "stream",
     "text": [
      "****************************************************************************************************\n",
      "****************************************************************************************************\n",
      "Hyperparameters:\n",
      "n_neighbors:  50\n",
      "min_dist:  0.25\n",
      "metric:  euclidean\n",
      "n_components:  3\n",
      "Hopkin's Statistic = 0.20288279857100475\n",
      "Fail: Kmeans did not successfully cluster.\n",
      "DBSCAN\n",
      "Number of Clusters:  2\n",
      "Validity Index:  0.9992668945236859\n",
      "****************************************************************************************************\n",
      "Run 128 of 560\n"
     ]
    },
    {
     "name": "stderr",
     "output_type": "stream",
     "text": [
      "/Users/mikey/miniconda3/envs/usml_base_ds2/lib/python3.10/site-packages/umap/umap_.py:1943: UserWarning: n_jobs value -1 overridden to 1 by setting random_state. Use no seed for parallelism.\n",
      "  warn(f\"n_jobs value {self.n_jobs} overridden to 1 by setting random_state. Use no seed for parallelism.\")\n"
     ]
    },
    {
     "name": "stdout",
     "output_type": "stream",
     "text": [
      "****************************************************************************************************\n",
      "****************************************************************************************************\n",
      "Hyperparameters:\n",
      "n_neighbors:  50\n",
      "min_dist:  0.25\n",
      "metric:  manhattan\n",
      "n_components:  3\n",
      "Hopkin's Statistic = 0.18649182260760336\n",
      "Fail: Kmeans did not successfully cluster.\n",
      "zero-size array to reduction operation minimum which has no identity\n",
      "zero-size array to reduction operation maximum which has no identity\n",
      "DBSCAN\n",
      "Number of Clusters:  2\n",
      "Validity Index:  0.8761175510635887\n",
      "****************************************************************************************************\n",
      "Run 129 of 560\n"
     ]
    },
    {
     "name": "stderr",
     "output_type": "stream",
     "text": [
      "/Users/mikey/miniconda3/envs/usml_base_ds2/lib/python3.10/site-packages/umap/umap_.py:1943: UserWarning: n_jobs value -1 overridden to 1 by setting random_state. Use no seed for parallelism.\n",
      "  warn(f\"n_jobs value {self.n_jobs} overridden to 1 by setting random_state. Use no seed for parallelism.\")\n"
     ]
    },
    {
     "name": "stdout",
     "output_type": "stream",
     "text": [
      "****************************************************************************************************\n",
      "****************************************************************************************************\n",
      "Hyperparameters:\n",
      "n_neighbors:  100\n",
      "min_dist:  0.25\n",
      "metric:  euclidean\n",
      "n_components:  3\n",
      "Hopkin's Statistic = 0.2406710317164574\n",
      "Fail: Kmeans did not successfully cluster.\n",
      "DBSCAN\n",
      "Number of Clusters:  2\n",
      "Validity Index:  0.7039255811605845\n",
      "****************************************************************************************************\n",
      "Run 130 of 560\n"
     ]
    },
    {
     "name": "stderr",
     "output_type": "stream",
     "text": [
      "/Users/mikey/miniconda3/envs/usml_base_ds2/lib/python3.10/site-packages/umap/umap_.py:1943: UserWarning: n_jobs value -1 overridden to 1 by setting random_state. Use no seed for parallelism.\n",
      "  warn(f\"n_jobs value {self.n_jobs} overridden to 1 by setting random_state. Use no seed for parallelism.\")\n"
     ]
    },
    {
     "name": "stdout",
     "output_type": "stream",
     "text": [
      "****************************************************************************************************\n",
      "****************************************************************************************************\n",
      "Hyperparameters:\n",
      "n_neighbors:  100\n",
      "min_dist:  0.25\n",
      "metric:  manhattan\n",
      "n_components:  3\n",
      "Hopkin's Statistic = 0.19848959694591342\n",
      "Fail: Kmeans did not successfully cluster.\n",
      "zero-size array to reduction operation minimum which has no identity\n",
      "zero-size array to reduction operation minimum which has no identity\n",
      "DBSCAN\n",
      "Number of Clusters:  2\n",
      "Validity Index:  0.7883589124443143\n",
      "****************************************************************************************************\n",
      "Run 131 of 560\n"
     ]
    },
    {
     "name": "stderr",
     "output_type": "stream",
     "text": [
      "/Users/mikey/miniconda3/envs/usml_base_ds2/lib/python3.10/site-packages/umap/umap_.py:1943: UserWarning: n_jobs value -1 overridden to 1 by setting random_state. Use no seed for parallelism.\n",
      "  warn(f\"n_jobs value {self.n_jobs} overridden to 1 by setting random_state. Use no seed for parallelism.\")\n"
     ]
    },
    {
     "name": "stdout",
     "output_type": "stream",
     "text": [
      "****************************************************************************************************\n",
      "****************************************************************************************************\n",
      "Hyperparameters:\n",
      "n_neighbors:  10\n",
      "min_dist:  0.5\n",
      "metric:  euclidean\n",
      "n_components:  3\n",
      "Hopkin's Statistic = 0.2504760709249473\n",
      "Fail: Kmeans did not successfully cluster.\n",
      "zero-size array to reduction operation minimum which has no identity\n",
      "DBSCAN\n",
      "Number of Clusters:  2\n",
      "Validity Index:  0.8288931549167673\n",
      "****************************************************************************************************\n",
      "Run 132 of 560\n"
     ]
    },
    {
     "name": "stderr",
     "output_type": "stream",
     "text": [
      "/Users/mikey/miniconda3/envs/usml_base_ds2/lib/python3.10/site-packages/umap/umap_.py:1943: UserWarning: n_jobs value -1 overridden to 1 by setting random_state. Use no seed for parallelism.\n",
      "  warn(f\"n_jobs value {self.n_jobs} overridden to 1 by setting random_state. Use no seed for parallelism.\")\n"
     ]
    },
    {
     "name": "stdout",
     "output_type": "stream",
     "text": [
      "****************************************************************************************************\n",
      "****************************************************************************************************\n",
      "Hyperparameters:\n",
      "n_neighbors:  10\n",
      "min_dist:  0.5\n",
      "metric:  manhattan\n",
      "n_components:  3\n",
      "Hopkin's Statistic = 0.24002219048143345\n",
      "Fail: Kmeans did not successfully cluster.\n",
      "zero-size array to reduction operation minimum which has no identity\n",
      "DBSCAN\n",
      "Number of Clusters:  2\n",
      "Validity Index:  0.9995011071279931\n",
      "****************************************************************************************************\n",
      "Run 133 of 560\n"
     ]
    },
    {
     "name": "stderr",
     "output_type": "stream",
     "text": [
      "/Users/mikey/miniconda3/envs/usml_base_ds2/lib/python3.10/site-packages/umap/umap_.py:1943: UserWarning: n_jobs value -1 overridden to 1 by setting random_state. Use no seed for parallelism.\n",
      "  warn(f\"n_jobs value {self.n_jobs} overridden to 1 by setting random_state. Use no seed for parallelism.\")\n"
     ]
    },
    {
     "name": "stdout",
     "output_type": "stream",
     "text": [
      "****************************************************************************************************\n",
      "****************************************************************************************************\n",
      "Hyperparameters:\n",
      "n_neighbors:  20\n",
      "min_dist:  0.5\n",
      "metric:  euclidean\n",
      "n_components:  3\n",
      "Hopkin's Statistic = 0.2283634657868039\n",
      "Fail: Kmeans did not successfully cluster.\n",
      "zero-size array to reduction operation minimum which has no identity\n",
      "DBSCAN\n",
      "Number of Clusters:  2\n",
      "Validity Index:  0.9994828863414108\n",
      "****************************************************************************************************\n",
      "Run 134 of 560\n"
     ]
    },
    {
     "name": "stderr",
     "output_type": "stream",
     "text": [
      "/Users/mikey/miniconda3/envs/usml_base_ds2/lib/python3.10/site-packages/umap/umap_.py:1943: UserWarning: n_jobs value -1 overridden to 1 by setting random_state. Use no seed for parallelism.\n",
      "  warn(f\"n_jobs value {self.n_jobs} overridden to 1 by setting random_state. Use no seed for parallelism.\")\n"
     ]
    },
    {
     "name": "stdout",
     "output_type": "stream",
     "text": [
      "****************************************************************************************************\n",
      "****************************************************************************************************\n",
      "Hyperparameters:\n",
      "n_neighbors:  20\n",
      "min_dist:  0.5\n",
      "metric:  manhattan\n",
      "n_components:  3\n",
      "Hopkin's Statistic = 0.2493587742414617\n",
      "Fail: Kmeans did not successfully cluster.\n",
      "zero-size array to reduction operation minimum which has no identity\n",
      "DBSCAN\n",
      "Number of Clusters:  2\n",
      "Validity Index:  0.8167072118224804\n",
      "****************************************************************************************************\n",
      "Run 135 of 560\n"
     ]
    },
    {
     "name": "stderr",
     "output_type": "stream",
     "text": [
      "/Users/mikey/miniconda3/envs/usml_base_ds2/lib/python3.10/site-packages/umap/umap_.py:1943: UserWarning: n_jobs value -1 overridden to 1 by setting random_state. Use no seed for parallelism.\n",
      "  warn(f\"n_jobs value {self.n_jobs} overridden to 1 by setting random_state. Use no seed for parallelism.\")\n"
     ]
    },
    {
     "name": "stdout",
     "output_type": "stream",
     "text": [
      "****************************************************************************************************\n",
      "****************************************************************************************************\n",
      "Hyperparameters:\n",
      "n_neighbors:  30\n",
      "min_dist:  0.5\n",
      "metric:  euclidean\n",
      "n_components:  3\n",
      "Hopkin's Statistic = 0.2703776788418174\n",
      "Fail: Kmeans did not successfully cluster.\n",
      "zero-size array to reduction operation minimum which has no identity\n",
      "zero-size array to reduction operation minimum which has no identity\n",
      "zero-size array to reduction operation maximum which has no identity\n",
      "DBSCAN\n",
      "Number of Clusters:  2\n",
      "Validity Index:  0.6902163019383635\n",
      "****************************************************************************************************\n",
      "Run 136 of 560\n"
     ]
    },
    {
     "name": "stderr",
     "output_type": "stream",
     "text": [
      "/Users/mikey/miniconda3/envs/usml_base_ds2/lib/python3.10/site-packages/umap/umap_.py:1943: UserWarning: n_jobs value -1 overridden to 1 by setting random_state. Use no seed for parallelism.\n",
      "  warn(f\"n_jobs value {self.n_jobs} overridden to 1 by setting random_state. Use no seed for parallelism.\")\n"
     ]
    },
    {
     "name": "stdout",
     "output_type": "stream",
     "text": [
      "****************************************************************************************************\n",
      "****************************************************************************************************\n",
      "Hyperparameters:\n",
      "n_neighbors:  30\n",
      "min_dist:  0.5\n",
      "metric:  manhattan\n",
      "n_components:  3\n",
      "Hopkin's Statistic = 0.22708400884716723\n",
      "Fail: Kmeans did not successfully cluster.\n",
      "DBSCAN\n",
      "Number of Clusters:  2\n",
      "Validity Index:  0.835367079161374\n",
      "****************************************************************************************************\n",
      "Run 137 of 560\n"
     ]
    },
    {
     "name": "stderr",
     "output_type": "stream",
     "text": [
      "/Users/mikey/miniconda3/envs/usml_base_ds2/lib/python3.10/site-packages/umap/umap_.py:1943: UserWarning: n_jobs value -1 overridden to 1 by setting random_state. Use no seed for parallelism.\n",
      "  warn(f\"n_jobs value {self.n_jobs} overridden to 1 by setting random_state. Use no seed for parallelism.\")\n"
     ]
    },
    {
     "name": "stdout",
     "output_type": "stream",
     "text": [
      "****************************************************************************************************\n",
      "****************************************************************************************************\n",
      "Hyperparameters:\n",
      "n_neighbors:  50\n",
      "min_dist:  0.5\n",
      "metric:  euclidean\n",
      "n_components:  3\n",
      "Hopkin's Statistic = 0.28032497594674904\n",
      "Fail: Kmeans did not successfully cluster.\n",
      "zero-size array to reduction operation minimum which has no identity\n",
      "DBSCAN\n",
      "Number of Clusters:  2\n",
      "Validity Index:  0.7674605888165777\n",
      "****************************************************************************************************\n",
      "Run 138 of 560\n"
     ]
    },
    {
     "name": "stderr",
     "output_type": "stream",
     "text": [
      "/Users/mikey/miniconda3/envs/usml_base_ds2/lib/python3.10/site-packages/umap/umap_.py:1943: UserWarning: n_jobs value -1 overridden to 1 by setting random_state. Use no seed for parallelism.\n",
      "  warn(f\"n_jobs value {self.n_jobs} overridden to 1 by setting random_state. Use no seed for parallelism.\")\n"
     ]
    },
    {
     "name": "stdout",
     "output_type": "stream",
     "text": [
      "****************************************************************************************************\n",
      "****************************************************************************************************\n",
      "Hyperparameters:\n",
      "n_neighbors:  50\n",
      "min_dist:  0.5\n",
      "metric:  manhattan\n",
      "n_components:  3\n",
      "Hopkin's Statistic = 0.2848188415760892\n",
      "Fail: Kmeans did not successfully cluster.\n",
      "DBSCAN\n",
      "Number of Clusters:  2\n",
      "Validity Index:  0.3487157547776305\n",
      "****************************************************************************************************\n",
      "Run 139 of 560\n"
     ]
    },
    {
     "name": "stderr",
     "output_type": "stream",
     "text": [
      "/Users/mikey/miniconda3/envs/usml_base_ds2/lib/python3.10/site-packages/umap/umap_.py:1943: UserWarning: n_jobs value -1 overridden to 1 by setting random_state. Use no seed for parallelism.\n",
      "  warn(f\"n_jobs value {self.n_jobs} overridden to 1 by setting random_state. Use no seed for parallelism.\")\n"
     ]
    },
    {
     "name": "stdout",
     "output_type": "stream",
     "text": [
      "****************************************************************************************************\n",
      "****************************************************************************************************\n",
      "Hyperparameters:\n",
      "n_neighbors:  100\n",
      "min_dist:  0.5\n",
      "metric:  euclidean\n",
      "n_components:  3\n",
      "Hopkin's Statistic = 0.38065084841738933\n",
      "Test2 Pass: Kmeans successfully clustered.\n",
      "Number of Clusters:  7\n",
      "****************************************************************************************************\n",
      "Run 140 of 560\n"
     ]
    },
    {
     "name": "stderr",
     "output_type": "stream",
     "text": [
      "/Users/mikey/miniconda3/envs/usml_base_ds2/lib/python3.10/site-packages/umap/umap_.py:1943: UserWarning: n_jobs value -1 overridden to 1 by setting random_state. Use no seed for parallelism.\n",
      "  warn(f\"n_jobs value {self.n_jobs} overridden to 1 by setting random_state. Use no seed for parallelism.\")\n"
     ]
    },
    {
     "name": "stdout",
     "output_type": "stream",
     "text": [
      "****************************************************************************************************\n",
      "****************************************************************************************************\n",
      "Hyperparameters:\n",
      "n_neighbors:  100\n",
      "min_dist:  0.5\n",
      "metric:  manhattan\n",
      "n_components:  3\n",
      "Hopkin's Statistic = 0.30726723030947045\n",
      "Fail: Kmeans did not successfully cluster.\n",
      "zero-size array to reduction operation minimum which has no identity\n",
      "DBSCAN\n",
      "Number of Clusters:  2\n",
      "Validity Index:  0.4650674142415228\n",
      "****************************************************************************************************\n",
      "Run 141 of 560\n"
     ]
    },
    {
     "name": "stderr",
     "output_type": "stream",
     "text": [
      "/Users/mikey/miniconda3/envs/usml_base_ds2/lib/python3.10/site-packages/umap/umap_.py:1943: UserWarning: n_jobs value -1 overridden to 1 by setting random_state. Use no seed for parallelism.\n",
      "  warn(f\"n_jobs value {self.n_jobs} overridden to 1 by setting random_state. Use no seed for parallelism.\")\n"
     ]
    },
    {
     "name": "stdout",
     "output_type": "stream",
     "text": [
      "****************************************************************************************************\n",
      "****************************************************************************************************\n",
      "Hyperparameters:\n",
      "n_neighbors:  10\n",
      "min_dist:  0.0\n",
      "metric:  euclidean\n",
      "n_components:  4\n",
      "Hopkin's Statistic = 0.04476830865336419\n",
      "Fail: Kmeans did not successfully cluster.\n",
      "DBSCAN\n",
      "Number of Clusters:  2\n",
      "Validity Index:  0.8924550271367111\n",
      "****************************************************************************************************\n",
      "Run 142 of 560\n"
     ]
    },
    {
     "name": "stderr",
     "output_type": "stream",
     "text": [
      "/Users/mikey/miniconda3/envs/usml_base_ds2/lib/python3.10/site-packages/umap/umap_.py:1943: UserWarning: n_jobs value -1 overridden to 1 by setting random_state. Use no seed for parallelism.\n",
      "  warn(f\"n_jobs value {self.n_jobs} overridden to 1 by setting random_state. Use no seed for parallelism.\")\n"
     ]
    },
    {
     "name": "stdout",
     "output_type": "stream",
     "text": [
      "****************************************************************************************************\n",
      "****************************************************************************************************\n",
      "Hyperparameters:\n",
      "n_neighbors:  10\n",
      "min_dist:  0.0\n",
      "metric:  manhattan\n",
      "n_components:  4\n",
      "Hopkin's Statistic = 0.05719980924968336\n",
      "Fail: Kmeans did not successfully cluster.\n",
      "DBSCAN\n",
      "Number of Clusters:  2\n",
      "Validity Index:  0.8401607179452633\n",
      "****************************************************************************************************\n",
      "Run 143 of 560\n"
     ]
    },
    {
     "name": "stderr",
     "output_type": "stream",
     "text": [
      "/Users/mikey/miniconda3/envs/usml_base_ds2/lib/python3.10/site-packages/umap/umap_.py:1943: UserWarning: n_jobs value -1 overridden to 1 by setting random_state. Use no seed for parallelism.\n",
      "  warn(f\"n_jobs value {self.n_jobs} overridden to 1 by setting random_state. Use no seed for parallelism.\")\n"
     ]
    },
    {
     "name": "stdout",
     "output_type": "stream",
     "text": [
      "****************************************************************************************************\n",
      "****************************************************************************************************\n",
      "Hyperparameters:\n",
      "n_neighbors:  20\n",
      "min_dist:  0.0\n",
      "metric:  euclidean\n",
      "n_components:  4\n",
      "Hopkin's Statistic = 0.06696758194101836\n",
      "Fail: Kmeans did not successfully cluster.\n",
      "DBSCAN\n",
      "Number of Clusters:  2\n",
      "Validity Index:  0.9578521582549142\n",
      "****************************************************************************************************\n",
      "Run 144 of 560\n"
     ]
    },
    {
     "name": "stderr",
     "output_type": "stream",
     "text": [
      "/Users/mikey/miniconda3/envs/usml_base_ds2/lib/python3.10/site-packages/umap/umap_.py:1943: UserWarning: n_jobs value -1 overridden to 1 by setting random_state. Use no seed for parallelism.\n",
      "  warn(f\"n_jobs value {self.n_jobs} overridden to 1 by setting random_state. Use no seed for parallelism.\")\n"
     ]
    },
    {
     "name": "stdout",
     "output_type": "stream",
     "text": [
      "****************************************************************************************************\n",
      "****************************************************************************************************\n",
      "Hyperparameters:\n",
      "n_neighbors:  20\n",
      "min_dist:  0.0\n",
      "metric:  manhattan\n",
      "n_components:  4\n",
      "Hopkin's Statistic = 0.06927624542416505\n",
      "Fail: Kmeans did not successfully cluster.\n",
      "zero-size array to reduction operation minimum which has no identity\n",
      "zero-size array to reduction operation minimum which has no identity\n",
      "zero-size array to reduction operation minimum which has no identity\n",
      "zero-size array to reduction operation minimum which has no identity\n",
      "DBSCAN\n",
      "Number of Clusters:  5\n",
      "Validity Index:  0.8065817278525186\n",
      "****************************************************************************************************\n",
      "Run 145 of 560\n"
     ]
    },
    {
     "name": "stderr",
     "output_type": "stream",
     "text": [
      "/Users/mikey/miniconda3/envs/usml_base_ds2/lib/python3.10/site-packages/umap/umap_.py:1943: UserWarning: n_jobs value -1 overridden to 1 by setting random_state. Use no seed for parallelism.\n",
      "  warn(f\"n_jobs value {self.n_jobs} overridden to 1 by setting random_state. Use no seed for parallelism.\")\n"
     ]
    },
    {
     "name": "stdout",
     "output_type": "stream",
     "text": [
      "****************************************************************************************************\n",
      "****************************************************************************************************\n",
      "Hyperparameters:\n",
      "n_neighbors:  30\n",
      "min_dist:  0.0\n",
      "metric:  euclidean\n",
      "n_components:  4\n",
      "Hopkin's Statistic = 0.06976904738055874\n",
      "Fail: Kmeans did not successfully cluster.\n",
      "DBSCAN\n",
      "Number of Clusters:  3\n",
      "Validity Index:  0.8843716947028634\n",
      "****************************************************************************************************\n",
      "Run 146 of 560\n"
     ]
    },
    {
     "name": "stderr",
     "output_type": "stream",
     "text": [
      "/Users/mikey/miniconda3/envs/usml_base_ds2/lib/python3.10/site-packages/umap/umap_.py:1943: UserWarning: n_jobs value -1 overridden to 1 by setting random_state. Use no seed for parallelism.\n",
      "  warn(f\"n_jobs value {self.n_jobs} overridden to 1 by setting random_state. Use no seed for parallelism.\")\n"
     ]
    },
    {
     "name": "stdout",
     "output_type": "stream",
     "text": [
      "****************************************************************************************************\n",
      "****************************************************************************************************\n",
      "Hyperparameters:\n",
      "n_neighbors:  30\n",
      "min_dist:  0.0\n",
      "metric:  manhattan\n",
      "n_components:  4\n",
      "Hopkin's Statistic = 0.06019778985223178\n",
      "Fail: Kmeans did not successfully cluster.\n",
      "zero-size array to reduction operation minimum which has no identity\n",
      "DBSCAN\n",
      "Number of Clusters:  3\n",
      "Validity Index:  0.9883413437058656\n",
      "****************************************************************************************************\n",
      "Run 147 of 560\n"
     ]
    },
    {
     "name": "stderr",
     "output_type": "stream",
     "text": [
      "/Users/mikey/miniconda3/envs/usml_base_ds2/lib/python3.10/site-packages/umap/umap_.py:1943: UserWarning: n_jobs value -1 overridden to 1 by setting random_state. Use no seed for parallelism.\n",
      "  warn(f\"n_jobs value {self.n_jobs} overridden to 1 by setting random_state. Use no seed for parallelism.\")\n"
     ]
    },
    {
     "name": "stdout",
     "output_type": "stream",
     "text": [
      "****************************************************************************************************\n",
      "****************************************************************************************************\n",
      "Hyperparameters:\n",
      "n_neighbors:  50\n",
      "min_dist:  0.0\n",
      "metric:  euclidean\n",
      "n_components:  4\n",
      "Hopkin's Statistic = 0.07199444275026484\n",
      "Fail: Kmeans did not successfully cluster.\n",
      "DBSCAN\n",
      "Number of Clusters:  2\n",
      "Validity Index:  0.9615846242486684\n",
      "****************************************************************************************************\n",
      "Run 148 of 560\n"
     ]
    },
    {
     "name": "stderr",
     "output_type": "stream",
     "text": [
      "/Users/mikey/miniconda3/envs/usml_base_ds2/lib/python3.10/site-packages/umap/umap_.py:1943: UserWarning: n_jobs value -1 overridden to 1 by setting random_state. Use no seed for parallelism.\n",
      "  warn(f\"n_jobs value {self.n_jobs} overridden to 1 by setting random_state. Use no seed for parallelism.\")\n"
     ]
    },
    {
     "name": "stdout",
     "output_type": "stream",
     "text": [
      "****************************************************************************************************\n",
      "****************************************************************************************************\n",
      "Hyperparameters:\n",
      "n_neighbors:  50\n",
      "min_dist:  0.0\n",
      "metric:  manhattan\n",
      "n_components:  4\n",
      "Hopkin's Statistic = 0.06925271276751109\n",
      "Fail: Kmeans did not successfully cluster.\n",
      "DBSCAN\n",
      "Number of Clusters:  2\n",
      "Validity Index:  0.9011442225621753\n",
      "****************************************************************************************************\n",
      "Run 149 of 560\n"
     ]
    },
    {
     "name": "stderr",
     "output_type": "stream",
     "text": [
      "/Users/mikey/miniconda3/envs/usml_base_ds2/lib/python3.10/site-packages/umap/umap_.py:1943: UserWarning: n_jobs value -1 overridden to 1 by setting random_state. Use no seed for parallelism.\n",
      "  warn(f\"n_jobs value {self.n_jobs} overridden to 1 by setting random_state. Use no seed for parallelism.\")\n"
     ]
    },
    {
     "name": "stdout",
     "output_type": "stream",
     "text": [
      "****************************************************************************************************\n",
      "****************************************************************************************************\n",
      "Hyperparameters:\n",
      "n_neighbors:  100\n",
      "min_dist:  0.0\n",
      "metric:  euclidean\n",
      "n_components:  4\n",
      "Hopkin's Statistic = 0.09773662793148076\n",
      "Fail: Kmeans did not successfully cluster.\n",
      "DBSCAN\n",
      "Number of Clusters:  3\n",
      "Validity Index:  0.838975040364062\n",
      "****************************************************************************************************\n",
      "Run 150 of 560\n"
     ]
    },
    {
     "name": "stderr",
     "output_type": "stream",
     "text": [
      "/Users/mikey/miniconda3/envs/usml_base_ds2/lib/python3.10/site-packages/umap/umap_.py:1943: UserWarning: n_jobs value -1 overridden to 1 by setting random_state. Use no seed for parallelism.\n",
      "  warn(f\"n_jobs value {self.n_jobs} overridden to 1 by setting random_state. Use no seed for parallelism.\")\n"
     ]
    },
    {
     "name": "stdout",
     "output_type": "stream",
     "text": [
      "****************************************************************************************************\n",
      "****************************************************************************************************\n",
      "Hyperparameters:\n",
      "n_neighbors:  100\n",
      "min_dist:  0.0\n",
      "metric:  manhattan\n",
      "n_components:  4\n",
      "Hopkin's Statistic = 0.08345657121220519\n",
      "Fail: Kmeans did not successfully cluster.\n",
      "DBSCAN\n",
      "Number of Clusters:  2\n",
      "Validity Index:  0.9504779899189112\n",
      "****************************************************************************************************\n",
      "Run 151 of 560\n"
     ]
    },
    {
     "name": "stderr",
     "output_type": "stream",
     "text": [
      "/Users/mikey/miniconda3/envs/usml_base_ds2/lib/python3.10/site-packages/umap/umap_.py:1943: UserWarning: n_jobs value -1 overridden to 1 by setting random_state. Use no seed for parallelism.\n",
      "  warn(f\"n_jobs value {self.n_jobs} overridden to 1 by setting random_state. Use no seed for parallelism.\")\n"
     ]
    },
    {
     "name": "stdout",
     "output_type": "stream",
     "text": [
      "****************************************************************************************************\n",
      "****************************************************************************************************\n",
      "Hyperparameters:\n",
      "n_neighbors:  10\n",
      "min_dist:  0.001\n",
      "metric:  euclidean\n",
      "n_components:  4\n",
      "Hopkin's Statistic = 0.04904692822060391\n",
      "Fail: Kmeans did not successfully cluster.\n",
      "DBSCAN\n",
      "Number of Clusters:  2\n",
      "Validity Index:  0.9081171328403006\n",
      "****************************************************************************************************\n",
      "Run 152 of 560\n"
     ]
    },
    {
     "name": "stderr",
     "output_type": "stream",
     "text": [
      "/Users/mikey/miniconda3/envs/usml_base_ds2/lib/python3.10/site-packages/umap/umap_.py:1943: UserWarning: n_jobs value -1 overridden to 1 by setting random_state. Use no seed for parallelism.\n",
      "  warn(f\"n_jobs value {self.n_jobs} overridden to 1 by setting random_state. Use no seed for parallelism.\")\n"
     ]
    },
    {
     "name": "stdout",
     "output_type": "stream",
     "text": [
      "****************************************************************************************************\n",
      "****************************************************************************************************\n",
      "Hyperparameters:\n",
      "n_neighbors:  10\n",
      "min_dist:  0.001\n",
      "metric:  manhattan\n",
      "n_components:  4\n",
      "Hopkin's Statistic = 0.055713870364247735\n",
      "Fail: Kmeans did not successfully cluster.\n",
      "DBSCAN\n",
      "Number of Clusters:  2\n",
      "Validity Index:  0.8541228713388352\n",
      "****************************************************************************************************\n",
      "Run 153 of 560\n"
     ]
    },
    {
     "name": "stderr",
     "output_type": "stream",
     "text": [
      "/Users/mikey/miniconda3/envs/usml_base_ds2/lib/python3.10/site-packages/umap/umap_.py:1943: UserWarning: n_jobs value -1 overridden to 1 by setting random_state. Use no seed for parallelism.\n",
      "  warn(f\"n_jobs value {self.n_jobs} overridden to 1 by setting random_state. Use no seed for parallelism.\")\n"
     ]
    },
    {
     "name": "stdout",
     "output_type": "stream",
     "text": [
      "****************************************************************************************************\n",
      "****************************************************************************************************\n",
      "Hyperparameters:\n",
      "n_neighbors:  20\n",
      "min_dist:  0.001\n",
      "metric:  euclidean\n",
      "n_components:  4\n",
      "Hopkin's Statistic = 0.06332373226402899\n",
      "Fail: Kmeans did not successfully cluster.\n",
      "DBSCAN\n",
      "Number of Clusters:  2\n",
      "Validity Index:  0.9916626998769097\n",
      "****************************************************************************************************\n",
      "Run 154 of 560\n"
     ]
    },
    {
     "name": "stderr",
     "output_type": "stream",
     "text": [
      "/Users/mikey/miniconda3/envs/usml_base_ds2/lib/python3.10/site-packages/umap/umap_.py:1943: UserWarning: n_jobs value -1 overridden to 1 by setting random_state. Use no seed for parallelism.\n",
      "  warn(f\"n_jobs value {self.n_jobs} overridden to 1 by setting random_state. Use no seed for parallelism.\")\n"
     ]
    },
    {
     "name": "stdout",
     "output_type": "stream",
     "text": [
      "****************************************************************************************************\n",
      "****************************************************************************************************\n",
      "Hyperparameters:\n",
      "n_neighbors:  20\n",
      "min_dist:  0.001\n",
      "metric:  manhattan\n",
      "n_components:  4\n",
      "Hopkin's Statistic = 0.06659076608904145\n",
      "Fail: Kmeans did not successfully cluster.\n",
      "zero-size array to reduction operation maximum which has no identity\n",
      "DBSCAN\n",
      "Number of Clusters:  2\n",
      "Validity Index:  0.9359885172207716\n",
      "****************************************************************************************************\n",
      "Run 155 of 560\n"
     ]
    },
    {
     "name": "stderr",
     "output_type": "stream",
     "text": [
      "/Users/mikey/miniconda3/envs/usml_base_ds2/lib/python3.10/site-packages/umap/umap_.py:1943: UserWarning: n_jobs value -1 overridden to 1 by setting random_state. Use no seed for parallelism.\n",
      "  warn(f\"n_jobs value {self.n_jobs} overridden to 1 by setting random_state. Use no seed for parallelism.\")\n"
     ]
    },
    {
     "name": "stdout",
     "output_type": "stream",
     "text": [
      "****************************************************************************************************\n",
      "****************************************************************************************************\n",
      "Hyperparameters:\n",
      "n_neighbors:  30\n",
      "min_dist:  0.001\n",
      "metric:  euclidean\n",
      "n_components:  4\n",
      "Hopkin's Statistic = 0.06995597716691536\n",
      "Fail: Kmeans did not successfully cluster.\n",
      "DBSCAN\n",
      "Number of Clusters:  3\n",
      "Validity Index:  0.9734740026730564\n",
      "****************************************************************************************************\n",
      "Run 156 of 560\n"
     ]
    },
    {
     "name": "stderr",
     "output_type": "stream",
     "text": [
      "/Users/mikey/miniconda3/envs/usml_base_ds2/lib/python3.10/site-packages/umap/umap_.py:1943: UserWarning: n_jobs value -1 overridden to 1 by setting random_state. Use no seed for parallelism.\n",
      "  warn(f\"n_jobs value {self.n_jobs} overridden to 1 by setting random_state. Use no seed for parallelism.\")\n"
     ]
    },
    {
     "name": "stdout",
     "output_type": "stream",
     "text": [
      "****************************************************************************************************\n",
      "****************************************************************************************************\n",
      "Hyperparameters:\n",
      "n_neighbors:  30\n",
      "min_dist:  0.001\n",
      "metric:  manhattan\n",
      "n_components:  4\n",
      "Hopkin's Statistic = 0.0694801971736679\n",
      "Fail: Kmeans did not successfully cluster.\n",
      "DBSCAN\n",
      "Number of Clusters:  3\n",
      "Validity Index:  0.9757878179665165\n",
      "****************************************************************************************************\n",
      "Run 157 of 560\n"
     ]
    },
    {
     "name": "stderr",
     "output_type": "stream",
     "text": [
      "/Users/mikey/miniconda3/envs/usml_base_ds2/lib/python3.10/site-packages/umap/umap_.py:1943: UserWarning: n_jobs value -1 overridden to 1 by setting random_state. Use no seed for parallelism.\n",
      "  warn(f\"n_jobs value {self.n_jobs} overridden to 1 by setting random_state. Use no seed for parallelism.\")\n"
     ]
    },
    {
     "name": "stdout",
     "output_type": "stream",
     "text": [
      "****************************************************************************************************\n",
      "****************************************************************************************************\n",
      "Hyperparameters:\n",
      "n_neighbors:  50\n",
      "min_dist:  0.001\n",
      "metric:  euclidean\n",
      "n_components:  4\n",
      "Hopkin's Statistic = 0.08089188083560116\n",
      "Fail: Kmeans did not successfully cluster.\n",
      "DBSCAN\n",
      "Number of Clusters:  2\n",
      "Validity Index:  0.9607357631659035\n",
      "****************************************************************************************************\n",
      "Run 158 of 560\n"
     ]
    },
    {
     "name": "stderr",
     "output_type": "stream",
     "text": [
      "/Users/mikey/miniconda3/envs/usml_base_ds2/lib/python3.10/site-packages/umap/umap_.py:1943: UserWarning: n_jobs value -1 overridden to 1 by setting random_state. Use no seed for parallelism.\n",
      "  warn(f\"n_jobs value {self.n_jobs} overridden to 1 by setting random_state. Use no seed for parallelism.\")\n"
     ]
    },
    {
     "name": "stdout",
     "output_type": "stream",
     "text": [
      "****************************************************************************************************\n",
      "****************************************************************************************************\n",
      "Hyperparameters:\n",
      "n_neighbors:  50\n",
      "min_dist:  0.001\n",
      "metric:  manhattan\n",
      "n_components:  4\n",
      "Hopkin's Statistic = 0.07467644532491874\n",
      "Fail: Kmeans did not successfully cluster.\n",
      "DBSCAN\n",
      "Number of Clusters:  2\n",
      "Validity Index:  0.9170823046942271\n",
      "****************************************************************************************************\n",
      "Run 159 of 560\n"
     ]
    },
    {
     "name": "stderr",
     "output_type": "stream",
     "text": [
      "/Users/mikey/miniconda3/envs/usml_base_ds2/lib/python3.10/site-packages/umap/umap_.py:1943: UserWarning: n_jobs value -1 overridden to 1 by setting random_state. Use no seed for parallelism.\n",
      "  warn(f\"n_jobs value {self.n_jobs} overridden to 1 by setting random_state. Use no seed for parallelism.\")\n"
     ]
    },
    {
     "name": "stdout",
     "output_type": "stream",
     "text": [
      "****************************************************************************************************\n",
      "****************************************************************************************************\n",
      "Hyperparameters:\n",
      "n_neighbors:  100\n",
      "min_dist:  0.001\n",
      "metric:  euclidean\n",
      "n_components:  4\n",
      "Hopkin's Statistic = 0.09484803342751791\n",
      "Fail: Kmeans did not successfully cluster.\n",
      "DBSCAN\n",
      "Number of Clusters:  3\n",
      "Validity Index:  0.7943032467891955\n",
      "****************************************************************************************************\n",
      "Run 160 of 560\n"
     ]
    },
    {
     "name": "stderr",
     "output_type": "stream",
     "text": [
      "/Users/mikey/miniconda3/envs/usml_base_ds2/lib/python3.10/site-packages/umap/umap_.py:1943: UserWarning: n_jobs value -1 overridden to 1 by setting random_state. Use no seed for parallelism.\n",
      "  warn(f\"n_jobs value {self.n_jobs} overridden to 1 by setting random_state. Use no seed for parallelism.\")\n"
     ]
    },
    {
     "name": "stdout",
     "output_type": "stream",
     "text": [
      "****************************************************************************************************\n",
      "****************************************************************************************************\n",
      "Hyperparameters:\n",
      "n_neighbors:  100\n",
      "min_dist:  0.001\n",
      "metric:  manhattan\n",
      "n_components:  4\n",
      "Hopkin's Statistic = 0.06433617367676576\n",
      "Fail: Kmeans did not successfully cluster.\n",
      "DBSCAN\n",
      "Number of Clusters:  2\n",
      "Validity Index:  0.9439017387123108\n",
      "****************************************************************************************************\n",
      "Run 161 of 560\n"
     ]
    },
    {
     "name": "stderr",
     "output_type": "stream",
     "text": [
      "/Users/mikey/miniconda3/envs/usml_base_ds2/lib/python3.10/site-packages/umap/umap_.py:1943: UserWarning: n_jobs value -1 overridden to 1 by setting random_state. Use no seed for parallelism.\n",
      "  warn(f\"n_jobs value {self.n_jobs} overridden to 1 by setting random_state. Use no seed for parallelism.\")\n"
     ]
    },
    {
     "name": "stdout",
     "output_type": "stream",
     "text": [
      "****************************************************************************************************\n",
      "****************************************************************************************************\n",
      "Hyperparameters:\n",
      "n_neighbors:  10\n",
      "min_dist:  0.01\n",
      "metric:  euclidean\n",
      "n_components:  4\n",
      "Hopkin's Statistic = 0.04965109157720139\n",
      "Fail: Kmeans did not successfully cluster.\n",
      "DBSCAN\n",
      "Number of Clusters:  2\n",
      "Validity Index:  0.9481161036968975\n",
      "****************************************************************************************************\n",
      "Run 162 of 560\n"
     ]
    },
    {
     "name": "stderr",
     "output_type": "stream",
     "text": [
      "/Users/mikey/miniconda3/envs/usml_base_ds2/lib/python3.10/site-packages/umap/umap_.py:1943: UserWarning: n_jobs value -1 overridden to 1 by setting random_state. Use no seed for parallelism.\n",
      "  warn(f\"n_jobs value {self.n_jobs} overridden to 1 by setting random_state. Use no seed for parallelism.\")\n"
     ]
    },
    {
     "name": "stdout",
     "output_type": "stream",
     "text": [
      "****************************************************************************************************\n",
      "****************************************************************************************************\n",
      "Hyperparameters:\n",
      "n_neighbors:  10\n",
      "min_dist:  0.01\n",
      "metric:  manhattan\n",
      "n_components:  4\n",
      "Hopkin's Statistic = 0.05644704961149378\n",
      "Fail: Kmeans did not successfully cluster.\n",
      "zero-size array to reduction operation minimum which has no identity\n",
      "DBSCAN\n",
      "Number of Clusters:  2\n",
      "Validity Index:  0.9256673926097583\n",
      "****************************************************************************************************\n",
      "Run 163 of 560\n"
     ]
    },
    {
     "name": "stderr",
     "output_type": "stream",
     "text": [
      "/Users/mikey/miniconda3/envs/usml_base_ds2/lib/python3.10/site-packages/umap/umap_.py:1943: UserWarning: n_jobs value -1 overridden to 1 by setting random_state. Use no seed for parallelism.\n",
      "  warn(f\"n_jobs value {self.n_jobs} overridden to 1 by setting random_state. Use no seed for parallelism.\")\n"
     ]
    },
    {
     "name": "stdout",
     "output_type": "stream",
     "text": [
      "****************************************************************************************************\n",
      "****************************************************************************************************\n",
      "Hyperparameters:\n",
      "n_neighbors:  20\n",
      "min_dist:  0.01\n",
      "metric:  euclidean\n",
      "n_components:  4\n",
      "Hopkin's Statistic = 0.06475010242338856\n",
      "Fail: Kmeans did not successfully cluster.\n",
      "DBSCAN\n",
      "Number of Clusters:  2\n",
      "Validity Index:  0.980734833058808\n",
      "****************************************************************************************************\n",
      "Run 164 of 560\n"
     ]
    },
    {
     "name": "stderr",
     "output_type": "stream",
     "text": [
      "/Users/mikey/miniconda3/envs/usml_base_ds2/lib/python3.10/site-packages/umap/umap_.py:1943: UserWarning: n_jobs value -1 overridden to 1 by setting random_state. Use no seed for parallelism.\n",
      "  warn(f\"n_jobs value {self.n_jobs} overridden to 1 by setting random_state. Use no seed for parallelism.\")\n"
     ]
    },
    {
     "name": "stdout",
     "output_type": "stream",
     "text": [
      "****************************************************************************************************\n",
      "****************************************************************************************************\n",
      "Hyperparameters:\n",
      "n_neighbors:  20\n",
      "min_dist:  0.01\n",
      "metric:  manhattan\n",
      "n_components:  4\n",
      "Hopkin's Statistic = 0.07206902184566344\n",
      "Fail: Kmeans did not successfully cluster.\n",
      "zero-size array to reduction operation minimum which has no identity\n",
      "zero-size array to reduction operation minimum which has no identity\n",
      "zero-size array to reduction operation minimum which has no identity\n",
      "zero-size array to reduction operation minimum which has no identity\n",
      "DBSCAN\n",
      "Number of Clusters:  2\n",
      "Validity Index:  0.8958212886557873\n",
      "****************************************************************************************************\n",
      "Run 165 of 560\n"
     ]
    },
    {
     "name": "stderr",
     "output_type": "stream",
     "text": [
      "/Users/mikey/miniconda3/envs/usml_base_ds2/lib/python3.10/site-packages/umap/umap_.py:1943: UserWarning: n_jobs value -1 overridden to 1 by setting random_state. Use no seed for parallelism.\n",
      "  warn(f\"n_jobs value {self.n_jobs} overridden to 1 by setting random_state. Use no seed for parallelism.\")\n"
     ]
    },
    {
     "name": "stdout",
     "output_type": "stream",
     "text": [
      "****************************************************************************************************\n",
      "****************************************************************************************************\n",
      "Hyperparameters:\n",
      "n_neighbors:  30\n",
      "min_dist:  0.01\n",
      "metric:  euclidean\n",
      "n_components:  4\n",
      "Hopkin's Statistic = 0.06894768541580254\n",
      "Fail: Kmeans did not successfully cluster.\n",
      "DBSCAN\n",
      "Number of Clusters:  2\n",
      "Validity Index:  0.9488091762813737\n",
      "****************************************************************************************************\n",
      "Run 166 of 560\n"
     ]
    },
    {
     "name": "stderr",
     "output_type": "stream",
     "text": [
      "/Users/mikey/miniconda3/envs/usml_base_ds2/lib/python3.10/site-packages/umap/umap_.py:1943: UserWarning: n_jobs value -1 overridden to 1 by setting random_state. Use no seed for parallelism.\n",
      "  warn(f\"n_jobs value {self.n_jobs} overridden to 1 by setting random_state. Use no seed for parallelism.\")\n"
     ]
    },
    {
     "name": "stdout",
     "output_type": "stream",
     "text": [
      "****************************************************************************************************\n",
      "****************************************************************************************************\n",
      "Hyperparameters:\n",
      "n_neighbors:  30\n",
      "min_dist:  0.01\n",
      "metric:  manhattan\n",
      "n_components:  4\n",
      "Hopkin's Statistic = 0.06426424761918816\n",
      "Fail: Kmeans did not successfully cluster.\n",
      "DBSCAN\n",
      "Number of Clusters:  3\n",
      "Validity Index:  0.9796218945237883\n",
      "****************************************************************************************************\n",
      "Run 167 of 560\n"
     ]
    },
    {
     "name": "stderr",
     "output_type": "stream",
     "text": [
      "/Users/mikey/miniconda3/envs/usml_base_ds2/lib/python3.10/site-packages/umap/umap_.py:1943: UserWarning: n_jobs value -1 overridden to 1 by setting random_state. Use no seed for parallelism.\n",
      "  warn(f\"n_jobs value {self.n_jobs} overridden to 1 by setting random_state. Use no seed for parallelism.\")\n"
     ]
    },
    {
     "name": "stdout",
     "output_type": "stream",
     "text": [
      "****************************************************************************************************\n",
      "****************************************************************************************************\n",
      "Hyperparameters:\n",
      "n_neighbors:  50\n",
      "min_dist:  0.01\n",
      "metric:  euclidean\n",
      "n_components:  4\n",
      "Hopkin's Statistic = 0.07052915454769819\n",
      "Fail: Kmeans did not successfully cluster.\n",
      "DBSCAN\n",
      "Number of Clusters:  2\n",
      "Validity Index:  0.9586707656062847\n",
      "****************************************************************************************************\n",
      "Run 168 of 560\n"
     ]
    },
    {
     "name": "stderr",
     "output_type": "stream",
     "text": [
      "/Users/mikey/miniconda3/envs/usml_base_ds2/lib/python3.10/site-packages/umap/umap_.py:1943: UserWarning: n_jobs value -1 overridden to 1 by setting random_state. Use no seed for parallelism.\n",
      "  warn(f\"n_jobs value {self.n_jobs} overridden to 1 by setting random_state. Use no seed for parallelism.\")\n"
     ]
    },
    {
     "name": "stdout",
     "output_type": "stream",
     "text": [
      "****************************************************************************************************\n",
      "****************************************************************************************************\n",
      "Hyperparameters:\n",
      "n_neighbors:  50\n",
      "min_dist:  0.01\n",
      "metric:  manhattan\n",
      "n_components:  4\n",
      "Hopkin's Statistic = 0.07338403327186956\n",
      "Fail: Kmeans did not successfully cluster.\n",
      "DBSCAN\n",
      "Number of Clusters:  2\n",
      "Validity Index:  0.8824615946773355\n",
      "****************************************************************************************************\n",
      "Run 169 of 560\n"
     ]
    },
    {
     "name": "stderr",
     "output_type": "stream",
     "text": [
      "/Users/mikey/miniconda3/envs/usml_base_ds2/lib/python3.10/site-packages/umap/umap_.py:1943: UserWarning: n_jobs value -1 overridden to 1 by setting random_state. Use no seed for parallelism.\n",
      "  warn(f\"n_jobs value {self.n_jobs} overridden to 1 by setting random_state. Use no seed for parallelism.\")\n"
     ]
    },
    {
     "name": "stdout",
     "output_type": "stream",
     "text": [
      "****************************************************************************************************\n",
      "****************************************************************************************************\n",
      "Hyperparameters:\n",
      "n_neighbors:  100\n",
      "min_dist:  0.01\n",
      "metric:  euclidean\n",
      "n_components:  4\n",
      "Hopkin's Statistic = 0.11038673394342832\n",
      "Fail: Kmeans did not successfully cluster.\n",
      "zero-size array to reduction operation maximum which has no identity\n",
      "zero-size array to reduction operation minimum which has no identity\n",
      "DBSCAN\n",
      "Number of Clusters:  3\n",
      "Validity Index:  0.7423126222757034\n",
      "****************************************************************************************************\n",
      "Run 170 of 560\n"
     ]
    },
    {
     "name": "stderr",
     "output_type": "stream",
     "text": [
      "/Users/mikey/miniconda3/envs/usml_base_ds2/lib/python3.10/site-packages/umap/umap_.py:1943: UserWarning: n_jobs value -1 overridden to 1 by setting random_state. Use no seed for parallelism.\n",
      "  warn(f\"n_jobs value {self.n_jobs} overridden to 1 by setting random_state. Use no seed for parallelism.\")\n"
     ]
    },
    {
     "name": "stdout",
     "output_type": "stream",
     "text": [
      "****************************************************************************************************\n",
      "****************************************************************************************************\n",
      "Hyperparameters:\n",
      "n_neighbors:  100\n",
      "min_dist:  0.01\n",
      "metric:  manhattan\n",
      "n_components:  4\n",
      "Hopkin's Statistic = 0.08168883793113073\n",
      "Fail: Kmeans did not successfully cluster.\n",
      "DBSCAN\n",
      "Number of Clusters:  2\n",
      "Validity Index:  0.9262912519789938\n",
      "****************************************************************************************************\n",
      "Run 171 of 560\n"
     ]
    },
    {
     "name": "stderr",
     "output_type": "stream",
     "text": [
      "/Users/mikey/miniconda3/envs/usml_base_ds2/lib/python3.10/site-packages/umap/umap_.py:1943: UserWarning: n_jobs value -1 overridden to 1 by setting random_state. Use no seed for parallelism.\n",
      "  warn(f\"n_jobs value {self.n_jobs} overridden to 1 by setting random_state. Use no seed for parallelism.\")\n"
     ]
    },
    {
     "name": "stdout",
     "output_type": "stream",
     "text": [
      "****************************************************************************************************\n",
      "****************************************************************************************************\n",
      "Hyperparameters:\n",
      "n_neighbors:  10\n",
      "min_dist:  0.05\n",
      "metric:  euclidean\n",
      "n_components:  4\n",
      "Hopkin's Statistic = 0.05868281349114256\n",
      "Fail: Kmeans did not successfully cluster.\n",
      "DBSCAN\n",
      "Number of Clusters:  2\n",
      "Validity Index:  0.947504609167522\n",
      "****************************************************************************************************\n",
      "Run 172 of 560\n"
     ]
    },
    {
     "name": "stderr",
     "output_type": "stream",
     "text": [
      "/Users/mikey/miniconda3/envs/usml_base_ds2/lib/python3.10/site-packages/umap/umap_.py:1943: UserWarning: n_jobs value -1 overridden to 1 by setting random_state. Use no seed for parallelism.\n",
      "  warn(f\"n_jobs value {self.n_jobs} overridden to 1 by setting random_state. Use no seed for parallelism.\")\n"
     ]
    },
    {
     "name": "stdout",
     "output_type": "stream",
     "text": [
      "****************************************************************************************************\n",
      "****************************************************************************************************\n",
      "Hyperparameters:\n",
      "n_neighbors:  10\n",
      "min_dist:  0.05\n",
      "metric:  manhattan\n",
      "n_components:  4\n",
      "Hopkin's Statistic = 0.06359152833387312\n",
      "Fail: Kmeans did not successfully cluster.\n",
      "DBSCAN\n",
      "Number of Clusters:  2\n",
      "Validity Index:  0.8803598363652604\n",
      "****************************************************************************************************\n",
      "Run 173 of 560\n"
     ]
    },
    {
     "name": "stderr",
     "output_type": "stream",
     "text": [
      "/Users/mikey/miniconda3/envs/usml_base_ds2/lib/python3.10/site-packages/umap/umap_.py:1943: UserWarning: n_jobs value -1 overridden to 1 by setting random_state. Use no seed for parallelism.\n",
      "  warn(f\"n_jobs value {self.n_jobs} overridden to 1 by setting random_state. Use no seed for parallelism.\")\n"
     ]
    },
    {
     "name": "stdout",
     "output_type": "stream",
     "text": [
      "****************************************************************************************************\n",
      "****************************************************************************************************\n",
      "Hyperparameters:\n",
      "n_neighbors:  20\n",
      "min_dist:  0.05\n",
      "metric:  euclidean\n",
      "n_components:  4\n",
      "Hopkin's Statistic = 0.07818545100038457\n",
      "Fail: Kmeans did not successfully cluster.\n",
      "DBSCAN\n",
      "Number of Clusters:  2\n",
      "Validity Index:  0.981064826597675\n",
      "****************************************************************************************************\n",
      "Run 174 of 560\n"
     ]
    },
    {
     "name": "stderr",
     "output_type": "stream",
     "text": [
      "/Users/mikey/miniconda3/envs/usml_base_ds2/lib/python3.10/site-packages/umap/umap_.py:1943: UserWarning: n_jobs value -1 overridden to 1 by setting random_state. Use no seed for parallelism.\n",
      "  warn(f\"n_jobs value {self.n_jobs} overridden to 1 by setting random_state. Use no seed for parallelism.\")\n"
     ]
    },
    {
     "name": "stdout",
     "output_type": "stream",
     "text": [
      "****************************************************************************************************\n",
      "****************************************************************************************************\n",
      "Hyperparameters:\n",
      "n_neighbors:  20\n",
      "min_dist:  0.05\n",
      "metric:  manhattan\n",
      "n_components:  4\n",
      "Hopkin's Statistic = 0.07401815023750084\n",
      "Fail: Kmeans did not successfully cluster.\n",
      "zero-size array to reduction operation maximum which has no identity\n",
      "DBSCAN\n",
      "Number of Clusters:  2\n",
      "Validity Index:  0.9769500899042056\n",
      "****************************************************************************************************\n",
      "Run 175 of 560\n"
     ]
    },
    {
     "name": "stderr",
     "output_type": "stream",
     "text": [
      "/Users/mikey/miniconda3/envs/usml_base_ds2/lib/python3.10/site-packages/umap/umap_.py:1943: UserWarning: n_jobs value -1 overridden to 1 by setting random_state. Use no seed for parallelism.\n",
      "  warn(f\"n_jobs value {self.n_jobs} overridden to 1 by setting random_state. Use no seed for parallelism.\")\n"
     ]
    },
    {
     "name": "stdout",
     "output_type": "stream",
     "text": [
      "****************************************************************************************************\n",
      "****************************************************************************************************\n",
      "Hyperparameters:\n",
      "n_neighbors:  30\n",
      "min_dist:  0.05\n",
      "metric:  euclidean\n",
      "n_components:  4\n",
      "Hopkin's Statistic = 0.08428081234369722\n",
      "Fail: Kmeans did not successfully cluster.\n",
      "zero-size array to reduction operation minimum which has no identity\n",
      "DBSCAN\n",
      "Number of Clusters:  2\n",
      "Validity Index:  0.7140691764980143\n",
      "****************************************************************************************************\n",
      "Run 176 of 560\n"
     ]
    },
    {
     "name": "stderr",
     "output_type": "stream",
     "text": [
      "/Users/mikey/miniconda3/envs/usml_base_ds2/lib/python3.10/site-packages/umap/umap_.py:1943: UserWarning: n_jobs value -1 overridden to 1 by setting random_state. Use no seed for parallelism.\n",
      "  warn(f\"n_jobs value {self.n_jobs} overridden to 1 by setting random_state. Use no seed for parallelism.\")\n"
     ]
    },
    {
     "name": "stdout",
     "output_type": "stream",
     "text": [
      "****************************************************************************************************\n",
      "****************************************************************************************************\n",
      "Hyperparameters:\n",
      "n_neighbors:  30\n",
      "min_dist:  0.05\n",
      "metric:  manhattan\n",
      "n_components:  4\n",
      "Hopkin's Statistic = 0.07773990019895546\n",
      "Fail: Kmeans did not successfully cluster.\n",
      "DBSCAN\n",
      "Number of Clusters:  3\n",
      "Validity Index:  0.9774571504781558\n",
      "****************************************************************************************************\n",
      "Run 177 of 560\n"
     ]
    },
    {
     "name": "stderr",
     "output_type": "stream",
     "text": [
      "/Users/mikey/miniconda3/envs/usml_base_ds2/lib/python3.10/site-packages/umap/umap_.py:1943: UserWarning: n_jobs value -1 overridden to 1 by setting random_state. Use no seed for parallelism.\n",
      "  warn(f\"n_jobs value {self.n_jobs} overridden to 1 by setting random_state. Use no seed for parallelism.\")\n"
     ]
    },
    {
     "name": "stdout",
     "output_type": "stream",
     "text": [
      "****************************************************************************************************\n",
      "****************************************************************************************************\n",
      "Hyperparameters:\n",
      "n_neighbors:  50\n",
      "min_dist:  0.05\n",
      "metric:  euclidean\n",
      "n_components:  4\n",
      "Hopkin's Statistic = 0.09902910619494512\n",
      "Fail: Kmeans did not successfully cluster.\n",
      "DBSCAN\n",
      "Number of Clusters:  2\n",
      "Validity Index:  0.9687947779169552\n",
      "****************************************************************************************************\n",
      "Run 178 of 560\n"
     ]
    },
    {
     "name": "stderr",
     "output_type": "stream",
     "text": [
      "/Users/mikey/miniconda3/envs/usml_base_ds2/lib/python3.10/site-packages/umap/umap_.py:1943: UserWarning: n_jobs value -1 overridden to 1 by setting random_state. Use no seed for parallelism.\n",
      "  warn(f\"n_jobs value {self.n_jobs} overridden to 1 by setting random_state. Use no seed for parallelism.\")\n"
     ]
    },
    {
     "name": "stdout",
     "output_type": "stream",
     "text": [
      "****************************************************************************************************\n",
      "****************************************************************************************************\n",
      "Hyperparameters:\n",
      "n_neighbors:  50\n",
      "min_dist:  0.05\n",
      "metric:  manhattan\n",
      "n_components:  4\n",
      "Hopkin's Statistic = 0.0705093016780791\n",
      "Fail: Kmeans did not successfully cluster.\n",
      "zero-size array to reduction operation minimum which has no identity\n",
      "zero-size array to reduction operation minimum which has no identity\n",
      "DBSCAN\n",
      "Number of Clusters:  2\n",
      "Validity Index:  0.9475279347760661\n",
      "****************************************************************************************************\n",
      "Run 179 of 560\n"
     ]
    },
    {
     "name": "stderr",
     "output_type": "stream",
     "text": [
      "/Users/mikey/miniconda3/envs/usml_base_ds2/lib/python3.10/site-packages/umap/umap_.py:1943: UserWarning: n_jobs value -1 overridden to 1 by setting random_state. Use no seed for parallelism.\n",
      "  warn(f\"n_jobs value {self.n_jobs} overridden to 1 by setting random_state. Use no seed for parallelism.\")\n"
     ]
    },
    {
     "name": "stdout",
     "output_type": "stream",
     "text": [
      "****************************************************************************************************\n",
      "****************************************************************************************************\n",
      "Hyperparameters:\n",
      "n_neighbors:  100\n",
      "min_dist:  0.05\n",
      "metric:  euclidean\n",
      "n_components:  4\n",
      "Hopkin's Statistic = 0.10829859504510733\n",
      "Fail: Kmeans did not successfully cluster.\n",
      "DBSCAN\n",
      "Number of Clusters:  2\n",
      "Validity Index:  0.9318980867271893\n",
      "****************************************************************************************************\n",
      "Run 180 of 560\n"
     ]
    },
    {
     "name": "stderr",
     "output_type": "stream",
     "text": [
      "/Users/mikey/miniconda3/envs/usml_base_ds2/lib/python3.10/site-packages/umap/umap_.py:1943: UserWarning: n_jobs value -1 overridden to 1 by setting random_state. Use no seed for parallelism.\n",
      "  warn(f\"n_jobs value {self.n_jobs} overridden to 1 by setting random_state. Use no seed for parallelism.\")\n"
     ]
    },
    {
     "name": "stdout",
     "output_type": "stream",
     "text": [
      "****************************************************************************************************\n",
      "****************************************************************************************************\n",
      "Hyperparameters:\n",
      "n_neighbors:  100\n",
      "min_dist:  0.05\n",
      "metric:  manhattan\n",
      "n_components:  4\n",
      "Hopkin's Statistic = 0.10757297571811679\n",
      "Fail: Kmeans did not successfully cluster.\n",
      "DBSCAN\n",
      "Number of Clusters:  4\n",
      "Validity Index:  0.7509177657153295\n",
      "****************************************************************************************************\n",
      "Run 181 of 560\n"
     ]
    },
    {
     "name": "stderr",
     "output_type": "stream",
     "text": [
      "/Users/mikey/miniconda3/envs/usml_base_ds2/lib/python3.10/site-packages/umap/umap_.py:1943: UserWarning: n_jobs value -1 overridden to 1 by setting random_state. Use no seed for parallelism.\n",
      "  warn(f\"n_jobs value {self.n_jobs} overridden to 1 by setting random_state. Use no seed for parallelism.\")\n"
     ]
    },
    {
     "name": "stdout",
     "output_type": "stream",
     "text": [
      "****************************************************************************************************\n",
      "****************************************************************************************************\n",
      "Hyperparameters:\n",
      "n_neighbors:  10\n",
      "min_dist:  0.1\n",
      "metric:  euclidean\n",
      "n_components:  4\n",
      "Hopkin's Statistic = 0.07480088655078003\n",
      "Fail: Kmeans did not successfully cluster.\n",
      "DBSCAN\n",
      "Number of Clusters:  2\n",
      "Validity Index:  0.9890172652153186\n",
      "****************************************************************************************************\n",
      "Run 182 of 560\n"
     ]
    },
    {
     "name": "stderr",
     "output_type": "stream",
     "text": [
      "/Users/mikey/miniconda3/envs/usml_base_ds2/lib/python3.10/site-packages/umap/umap_.py:1943: UserWarning: n_jobs value -1 overridden to 1 by setting random_state. Use no seed for parallelism.\n",
      "  warn(f\"n_jobs value {self.n_jobs} overridden to 1 by setting random_state. Use no seed for parallelism.\")\n"
     ]
    },
    {
     "name": "stdout",
     "output_type": "stream",
     "text": [
      "****************************************************************************************************\n",
      "****************************************************************************************************\n",
      "Hyperparameters:\n",
      "n_neighbors:  10\n",
      "min_dist:  0.1\n",
      "metric:  manhattan\n",
      "n_components:  4\n",
      "Hopkin's Statistic = 0.08968739581541722\n",
      "Fail: Kmeans did not successfully cluster.\n",
      "DBSCAN\n",
      "Number of Clusters:  2\n",
      "Validity Index:  0.9749684078295449\n",
      "****************************************************************************************************\n",
      "Run 183 of 560\n"
     ]
    },
    {
     "name": "stderr",
     "output_type": "stream",
     "text": [
      "/Users/mikey/miniconda3/envs/usml_base_ds2/lib/python3.10/site-packages/umap/umap_.py:1943: UserWarning: n_jobs value -1 overridden to 1 by setting random_state. Use no seed for parallelism.\n",
      "  warn(f\"n_jobs value {self.n_jobs} overridden to 1 by setting random_state. Use no seed for parallelism.\")\n"
     ]
    },
    {
     "name": "stdout",
     "output_type": "stream",
     "text": [
      "****************************************************************************************************\n",
      "****************************************************************************************************\n",
      "Hyperparameters:\n",
      "n_neighbors:  20\n",
      "min_dist:  0.1\n",
      "metric:  euclidean\n",
      "n_components:  4\n",
      "Hopkin's Statistic = 0.09675817298469971\n",
      "Fail: Kmeans did not successfully cluster.\n",
      "zero-size array to reduction operation minimum which has no identity\n",
      "DBSCAN\n",
      "Number of Clusters:  2\n",
      "Validity Index:  0.9880277683044504\n",
      "****************************************************************************************************\n",
      "Run 184 of 560\n"
     ]
    },
    {
     "name": "stderr",
     "output_type": "stream",
     "text": [
      "/Users/mikey/miniconda3/envs/usml_base_ds2/lib/python3.10/site-packages/umap/umap_.py:1943: UserWarning: n_jobs value -1 overridden to 1 by setting random_state. Use no seed for parallelism.\n",
      "  warn(f\"n_jobs value {self.n_jobs} overridden to 1 by setting random_state. Use no seed for parallelism.\")\n"
     ]
    },
    {
     "name": "stdout",
     "output_type": "stream",
     "text": [
      "****************************************************************************************************\n",
      "****************************************************************************************************\n",
      "Hyperparameters:\n",
      "n_neighbors:  20\n",
      "min_dist:  0.1\n",
      "metric:  manhattan\n",
      "n_components:  4\n",
      "Hopkin's Statistic = 0.08827032958135544\n",
      "Fail: Kmeans did not successfully cluster.\n",
      "DBSCAN\n",
      "Number of Clusters:  2\n",
      "Validity Index:  0.9852340072507118\n",
      "****************************************************************************************************\n",
      "Run 185 of 560\n"
     ]
    },
    {
     "name": "stderr",
     "output_type": "stream",
     "text": [
      "/Users/mikey/miniconda3/envs/usml_base_ds2/lib/python3.10/site-packages/umap/umap_.py:1943: UserWarning: n_jobs value -1 overridden to 1 by setting random_state. Use no seed for parallelism.\n",
      "  warn(f\"n_jobs value {self.n_jobs} overridden to 1 by setting random_state. Use no seed for parallelism.\")\n"
     ]
    },
    {
     "name": "stdout",
     "output_type": "stream",
     "text": [
      "****************************************************************************************************\n",
      "****************************************************************************************************\n",
      "Hyperparameters:\n",
      "n_neighbors:  30\n",
      "min_dist:  0.1\n",
      "metric:  euclidean\n",
      "n_components:  4\n",
      "Hopkin's Statistic = 0.09965376171723855\n",
      "Fail: Kmeans did not successfully cluster.\n",
      "zero-size array to reduction operation maximum which has no identity\n",
      "DBSCAN\n",
      "Number of Clusters:  2\n",
      "Validity Index:  0.9908763990919529\n",
      "****************************************************************************************************\n",
      "Run 186 of 560\n"
     ]
    },
    {
     "name": "stderr",
     "output_type": "stream",
     "text": [
      "/Users/mikey/miniconda3/envs/usml_base_ds2/lib/python3.10/site-packages/umap/umap_.py:1943: UserWarning: n_jobs value -1 overridden to 1 by setting random_state. Use no seed for parallelism.\n",
      "  warn(f\"n_jobs value {self.n_jobs} overridden to 1 by setting random_state. Use no seed for parallelism.\")\n"
     ]
    },
    {
     "name": "stdout",
     "output_type": "stream",
     "text": [
      "****************************************************************************************************\n",
      "****************************************************************************************************\n",
      "Hyperparameters:\n",
      "n_neighbors:  30\n",
      "min_dist:  0.1\n",
      "metric:  manhattan\n",
      "n_components:  4\n",
      "Hopkin's Statistic = 0.0913930147620623\n",
      "Fail: Kmeans did not successfully cluster.\n",
      "zero-size array to reduction operation minimum which has no identity\n",
      "zero-size array to reduction operation minimum which has no identity\n",
      "zero-size array to reduction operation minimum which has no identity\n",
      "DBSCAN\n",
      "Number of Clusters:  3\n",
      "Validity Index:  0.968148637190424\n",
      "****************************************************************************************************\n",
      "Run 187 of 560\n"
     ]
    },
    {
     "name": "stderr",
     "output_type": "stream",
     "text": [
      "/Users/mikey/miniconda3/envs/usml_base_ds2/lib/python3.10/site-packages/umap/umap_.py:1943: UserWarning: n_jobs value -1 overridden to 1 by setting random_state. Use no seed for parallelism.\n",
      "  warn(f\"n_jobs value {self.n_jobs} overridden to 1 by setting random_state. Use no seed for parallelism.\")\n"
     ]
    },
    {
     "name": "stdout",
     "output_type": "stream",
     "text": [
      "****************************************************************************************************\n",
      "****************************************************************************************************\n",
      "Hyperparameters:\n",
      "n_neighbors:  50\n",
      "min_dist:  0.1\n",
      "metric:  euclidean\n",
      "n_components:  4\n",
      "Hopkin's Statistic = 0.10562559868436439\n",
      "Fail: Kmeans did not successfully cluster.\n",
      "DBSCAN\n",
      "Number of Clusters:  2\n",
      "Validity Index:  0.9729305553788219\n",
      "****************************************************************************************************\n",
      "Run 188 of 560\n"
     ]
    },
    {
     "name": "stderr",
     "output_type": "stream",
     "text": [
      "/Users/mikey/miniconda3/envs/usml_base_ds2/lib/python3.10/site-packages/umap/umap_.py:1943: UserWarning: n_jobs value -1 overridden to 1 by setting random_state. Use no seed for parallelism.\n",
      "  warn(f\"n_jobs value {self.n_jobs} overridden to 1 by setting random_state. Use no seed for parallelism.\")\n"
     ]
    },
    {
     "name": "stdout",
     "output_type": "stream",
     "text": [
      "****************************************************************************************************\n",
      "****************************************************************************************************\n",
      "Hyperparameters:\n",
      "n_neighbors:  50\n",
      "min_dist:  0.1\n",
      "metric:  manhattan\n",
      "n_components:  4\n",
      "Hopkin's Statistic = 0.11151856095364854\n",
      "Fail: Kmeans did not successfully cluster.\n",
      "DBSCAN\n",
      "Number of Clusters:  2\n",
      "Validity Index:  0.9781878434986625\n",
      "****************************************************************************************************\n",
      "Run 189 of 560\n"
     ]
    },
    {
     "name": "stderr",
     "output_type": "stream",
     "text": [
      "/Users/mikey/miniconda3/envs/usml_base_ds2/lib/python3.10/site-packages/umap/umap_.py:1943: UserWarning: n_jobs value -1 overridden to 1 by setting random_state. Use no seed for parallelism.\n",
      "  warn(f\"n_jobs value {self.n_jobs} overridden to 1 by setting random_state. Use no seed for parallelism.\")\n"
     ]
    },
    {
     "name": "stdout",
     "output_type": "stream",
     "text": [
      "****************************************************************************************************\n",
      "****************************************************************************************************\n",
      "Hyperparameters:\n",
      "n_neighbors:  100\n",
      "min_dist:  0.1\n",
      "metric:  euclidean\n",
      "n_components:  4\n",
      "Hopkin's Statistic = 0.12954399381593812\n",
      "Fail: Kmeans did not successfully cluster.\n",
      "zero-size array to reduction operation minimum which has no identity\n",
      "DBSCAN\n",
      "Number of Clusters:  2\n",
      "Validity Index:  0.9758377743834302\n",
      "****************************************************************************************************\n",
      "Run 190 of 560\n"
     ]
    },
    {
     "name": "stderr",
     "output_type": "stream",
     "text": [
      "/Users/mikey/miniconda3/envs/usml_base_ds2/lib/python3.10/site-packages/umap/umap_.py:1943: UserWarning: n_jobs value -1 overridden to 1 by setting random_state. Use no seed for parallelism.\n",
      "  warn(f\"n_jobs value {self.n_jobs} overridden to 1 by setting random_state. Use no seed for parallelism.\")\n"
     ]
    },
    {
     "name": "stdout",
     "output_type": "stream",
     "text": [
      "****************************************************************************************************\n",
      "****************************************************************************************************\n",
      "Hyperparameters:\n",
      "n_neighbors:  100\n",
      "min_dist:  0.1\n",
      "metric:  manhattan\n",
      "n_components:  4\n",
      "Hopkin's Statistic = 0.11042098797766584\n",
      "Fail: Kmeans did not successfully cluster.\n",
      "zero-size array to reduction operation minimum which has no identity\n",
      "DBSCAN\n",
      "Number of Clusters:  2\n",
      "Validity Index:  0.9554064419679341\n",
      "****************************************************************************************************\n",
      "Run 191 of 560\n"
     ]
    },
    {
     "name": "stderr",
     "output_type": "stream",
     "text": [
      "/Users/mikey/miniconda3/envs/usml_base_ds2/lib/python3.10/site-packages/umap/umap_.py:1943: UserWarning: n_jobs value -1 overridden to 1 by setting random_state. Use no seed for parallelism.\n",
      "  warn(f\"n_jobs value {self.n_jobs} overridden to 1 by setting random_state. Use no seed for parallelism.\")\n"
     ]
    },
    {
     "name": "stdout",
     "output_type": "stream",
     "text": [
      "****************************************************************************************************\n",
      "****************************************************************************************************\n",
      "Hyperparameters:\n",
      "n_neighbors:  10\n",
      "min_dist:  0.25\n",
      "metric:  euclidean\n",
      "n_components:  4\n",
      "Hopkin's Statistic = 0.12919711772012885\n",
      "Fail: Kmeans did not successfully cluster.\n",
      "zero-size array to reduction operation minimum which has no identity\n",
      "zero-size array to reduction operation minimum which has no identity\n",
      "zero-size array to reduction operation minimum which has no identity\n",
      "DBSCAN\n",
      "Number of Clusters:  2\n",
      "Validity Index:  0.9865865557011142\n",
      "****************************************************************************************************\n",
      "Run 192 of 560\n"
     ]
    },
    {
     "name": "stderr",
     "output_type": "stream",
     "text": [
      "/Users/mikey/miniconda3/envs/usml_base_ds2/lib/python3.10/site-packages/umap/umap_.py:1943: UserWarning: n_jobs value -1 overridden to 1 by setting random_state. Use no seed for parallelism.\n",
      "  warn(f\"n_jobs value {self.n_jobs} overridden to 1 by setting random_state. Use no seed for parallelism.\")\n"
     ]
    },
    {
     "name": "stdout",
     "output_type": "stream",
     "text": [
      "****************************************************************************************************\n",
      "****************************************************************************************************\n",
      "Hyperparameters:\n",
      "n_neighbors:  10\n",
      "min_dist:  0.25\n",
      "metric:  manhattan\n",
      "n_components:  4\n",
      "Hopkin's Statistic = 0.12693973629978184\n",
      "Fail: Kmeans did not successfully cluster.\n",
      "DBSCAN\n",
      "Number of Clusters:  2\n",
      "Validity Index:  0.9943063019839321\n",
      "****************************************************************************************************\n",
      "Run 193 of 560\n"
     ]
    },
    {
     "name": "stderr",
     "output_type": "stream",
     "text": [
      "/Users/mikey/miniconda3/envs/usml_base_ds2/lib/python3.10/site-packages/umap/umap_.py:1943: UserWarning: n_jobs value -1 overridden to 1 by setting random_state. Use no seed for parallelism.\n",
      "  warn(f\"n_jobs value {self.n_jobs} overridden to 1 by setting random_state. Use no seed for parallelism.\")\n"
     ]
    },
    {
     "name": "stdout",
     "output_type": "stream",
     "text": [
      "****************************************************************************************************\n",
      "****************************************************************************************************\n",
      "Hyperparameters:\n",
      "n_neighbors:  20\n",
      "min_dist:  0.25\n",
      "metric:  euclidean\n",
      "n_components:  4\n",
      "Hopkin's Statistic = 0.1466637811530944\n",
      "Fail: Kmeans did not successfully cluster.\n",
      "DBSCAN\n",
      "Number of Clusters:  2\n",
      "Validity Index:  0.9968986785138012\n",
      "****************************************************************************************************\n",
      "Run 194 of 560\n"
     ]
    },
    {
     "name": "stderr",
     "output_type": "stream",
     "text": [
      "/Users/mikey/miniconda3/envs/usml_base_ds2/lib/python3.10/site-packages/umap/umap_.py:1943: UserWarning: n_jobs value -1 overridden to 1 by setting random_state. Use no seed for parallelism.\n",
      "  warn(f\"n_jobs value {self.n_jobs} overridden to 1 by setting random_state. Use no seed for parallelism.\")\n"
     ]
    },
    {
     "name": "stdout",
     "output_type": "stream",
     "text": [
      "****************************************************************************************************\n",
      "****************************************************************************************************\n",
      "Hyperparameters:\n",
      "n_neighbors:  20\n",
      "min_dist:  0.25\n",
      "metric:  manhattan\n",
      "n_components:  4\n",
      "Hopkin's Statistic = 0.12849427874464536\n",
      "Fail: Kmeans did not successfully cluster.\n",
      "DBSCAN\n",
      "Number of Clusters:  2\n",
      "Validity Index:  0.9955533261548468\n",
      "****************************************************************************************************\n",
      "Run 195 of 560\n"
     ]
    },
    {
     "name": "stderr",
     "output_type": "stream",
     "text": [
      "/Users/mikey/miniconda3/envs/usml_base_ds2/lib/python3.10/site-packages/umap/umap_.py:1943: UserWarning: n_jobs value -1 overridden to 1 by setting random_state. Use no seed for parallelism.\n",
      "  warn(f\"n_jobs value {self.n_jobs} overridden to 1 by setting random_state. Use no seed for parallelism.\")\n"
     ]
    },
    {
     "name": "stdout",
     "output_type": "stream",
     "text": [
      "****************************************************************************************************\n",
      "****************************************************************************************************\n",
      "Hyperparameters:\n",
      "n_neighbors:  30\n",
      "min_dist:  0.25\n",
      "metric:  euclidean\n",
      "n_components:  4\n",
      "Hopkin's Statistic = 0.14101351820407465\n",
      "Fail: Kmeans did not successfully cluster.\n",
      "zero-size array to reduction operation maximum which has no identity\n",
      "DBSCAN\n",
      "Number of Clusters:  2\n",
      "Validity Index:  0.8718931433663162\n",
      "****************************************************************************************************\n",
      "Run 196 of 560\n"
     ]
    },
    {
     "name": "stderr",
     "output_type": "stream",
     "text": [
      "/Users/mikey/miniconda3/envs/usml_base_ds2/lib/python3.10/site-packages/umap/umap_.py:1943: UserWarning: n_jobs value -1 overridden to 1 by setting random_state. Use no seed for parallelism.\n",
      "  warn(f\"n_jobs value {self.n_jobs} overridden to 1 by setting random_state. Use no seed for parallelism.\")\n"
     ]
    },
    {
     "name": "stdout",
     "output_type": "stream",
     "text": [
      "****************************************************************************************************\n",
      "****************************************************************************************************\n",
      "Hyperparameters:\n",
      "n_neighbors:  30\n",
      "min_dist:  0.25\n",
      "metric:  manhattan\n",
      "n_components:  4\n",
      "Hopkin's Statistic = 0.11703204882834907\n",
      "Fail: Kmeans did not successfully cluster.\n",
      "zero-size array to reduction operation maximum which has no identity\n",
      "DBSCAN\n",
      "Number of Clusters:  2\n",
      "Validity Index:  0.9964688686829215\n",
      "****************************************************************************************************\n",
      "Run 197 of 560\n"
     ]
    },
    {
     "name": "stderr",
     "output_type": "stream",
     "text": [
      "/Users/mikey/miniconda3/envs/usml_base_ds2/lib/python3.10/site-packages/umap/umap_.py:1943: UserWarning: n_jobs value -1 overridden to 1 by setting random_state. Use no seed for parallelism.\n",
      "  warn(f\"n_jobs value {self.n_jobs} overridden to 1 by setting random_state. Use no seed for parallelism.\")\n"
     ]
    },
    {
     "name": "stdout",
     "output_type": "stream",
     "text": [
      "****************************************************************************************************\n",
      "****************************************************************************************************\n",
      "Hyperparameters:\n",
      "n_neighbors:  50\n",
      "min_dist:  0.25\n",
      "metric:  euclidean\n",
      "n_components:  4\n",
      "Hopkin's Statistic = 0.14630823842974322\n",
      "Fail: Kmeans did not successfully cluster.\n",
      "zero-size array to reduction operation minimum which has no identity\n",
      "zero-size array to reduction operation minimum which has no identity\n",
      "zero-size array to reduction operation maximum which has no identity\n",
      "DBSCAN\n",
      "Number of Clusters:  2\n",
      "Validity Index:  0.9917710696747343\n",
      "****************************************************************************************************\n",
      "Run 198 of 560\n"
     ]
    },
    {
     "name": "stderr",
     "output_type": "stream",
     "text": [
      "/Users/mikey/miniconda3/envs/usml_base_ds2/lib/python3.10/site-packages/umap/umap_.py:1943: UserWarning: n_jobs value -1 overridden to 1 by setting random_state. Use no seed for parallelism.\n",
      "  warn(f\"n_jobs value {self.n_jobs} overridden to 1 by setting random_state. Use no seed for parallelism.\")\n"
     ]
    },
    {
     "name": "stdout",
     "output_type": "stream",
     "text": [
      "****************************************************************************************************\n",
      "****************************************************************************************************\n",
      "Hyperparameters:\n",
      "n_neighbors:  50\n",
      "min_dist:  0.25\n",
      "metric:  manhattan\n",
      "n_components:  4\n",
      "Hopkin's Statistic = 0.1669884973337351\n",
      "Fail: Kmeans did not successfully cluster.\n",
      "zero-size array to reduction operation maximum which has no identity\n",
      "DBSCAN\n",
      "Number of Clusters:  2\n",
      "Validity Index:  0.6476867486945642\n",
      "****************************************************************************************************\n",
      "Run 199 of 560\n"
     ]
    },
    {
     "name": "stderr",
     "output_type": "stream",
     "text": [
      "/Users/mikey/miniconda3/envs/usml_base_ds2/lib/python3.10/site-packages/umap/umap_.py:1943: UserWarning: n_jobs value -1 overridden to 1 by setting random_state. Use no seed for parallelism.\n",
      "  warn(f\"n_jobs value {self.n_jobs} overridden to 1 by setting random_state. Use no seed for parallelism.\")\n"
     ]
    },
    {
     "name": "stdout",
     "output_type": "stream",
     "text": [
      "****************************************************************************************************\n",
      "****************************************************************************************************\n",
      "Hyperparameters:\n",
      "n_neighbors:  100\n",
      "min_dist:  0.25\n",
      "metric:  euclidean\n",
      "n_components:  4\n",
      "Hopkin's Statistic = 0.20499782260633662\n",
      "Fail: Kmeans did not successfully cluster.\n",
      "zero-size array to reduction operation minimum which has no identity\n",
      "zero-size array to reduction operation minimum which has no identity\n",
      "DBSCAN\n",
      "Number of Clusters:  2\n",
      "Validity Index:  0.7771091421094962\n",
      "****************************************************************************************************\n",
      "Run 200 of 560\n"
     ]
    },
    {
     "name": "stderr",
     "output_type": "stream",
     "text": [
      "/Users/mikey/miniconda3/envs/usml_base_ds2/lib/python3.10/site-packages/umap/umap_.py:1943: UserWarning: n_jobs value -1 overridden to 1 by setting random_state. Use no seed for parallelism.\n",
      "  warn(f\"n_jobs value {self.n_jobs} overridden to 1 by setting random_state. Use no seed for parallelism.\")\n"
     ]
    },
    {
     "name": "stdout",
     "output_type": "stream",
     "text": [
      "****************************************************************************************************\n",
      "****************************************************************************************************\n",
      "Hyperparameters:\n",
      "n_neighbors:  100\n",
      "min_dist:  0.25\n",
      "metric:  manhattan\n",
      "n_components:  4\n",
      "Hopkin's Statistic = 0.16195027633216444\n",
      "Fail: Kmeans did not successfully cluster.\n",
      "zero-size array to reduction operation minimum which has no identity\n",
      "DBSCAN\n",
      "Number of Clusters:  2\n",
      "Validity Index:  0.7262919283479381\n",
      "****************************************************************************************************\n",
      "Run 201 of 560\n"
     ]
    },
    {
     "name": "stderr",
     "output_type": "stream",
     "text": [
      "/Users/mikey/miniconda3/envs/usml_base_ds2/lib/python3.10/site-packages/umap/umap_.py:1943: UserWarning: n_jobs value -1 overridden to 1 by setting random_state. Use no seed for parallelism.\n",
      "  warn(f\"n_jobs value {self.n_jobs} overridden to 1 by setting random_state. Use no seed for parallelism.\")\n"
     ]
    },
    {
     "name": "stdout",
     "output_type": "stream",
     "text": [
      "****************************************************************************************************\n",
      "****************************************************************************************************\n",
      "Hyperparameters:\n",
      "n_neighbors:  10\n",
      "min_dist:  0.5\n",
      "metric:  euclidean\n",
      "n_components:  4\n",
      "Hopkin's Statistic = 0.1956752273856257\n",
      "Fail: Kmeans did not successfully cluster.\n",
      "DBSCAN\n",
      "Number of Clusters:  2\n",
      "Validity Index:  0.9907754520008393\n",
      "****************************************************************************************************\n",
      "Run 202 of 560\n"
     ]
    },
    {
     "name": "stderr",
     "output_type": "stream",
     "text": [
      "/Users/mikey/miniconda3/envs/usml_base_ds2/lib/python3.10/site-packages/umap/umap_.py:1943: UserWarning: n_jobs value -1 overridden to 1 by setting random_state. Use no seed for parallelism.\n",
      "  warn(f\"n_jobs value {self.n_jobs} overridden to 1 by setting random_state. Use no seed for parallelism.\")\n"
     ]
    },
    {
     "name": "stdout",
     "output_type": "stream",
     "text": [
      "****************************************************************************************************\n",
      "****************************************************************************************************\n",
      "Hyperparameters:\n",
      "n_neighbors:  10\n",
      "min_dist:  0.5\n",
      "metric:  manhattan\n",
      "n_components:  4\n",
      "Hopkin's Statistic = 0.18845166035944388\n",
      "Fail: Kmeans did not successfully cluster.\n",
      "zero-size array to reduction operation maximum which has no identity\n",
      "DBSCAN\n",
      "Number of Clusters:  2\n",
      "Validity Index:  0.8596948078588027\n",
      "****************************************************************************************************\n",
      "Run 203 of 560\n"
     ]
    },
    {
     "name": "stderr",
     "output_type": "stream",
     "text": [
      "/Users/mikey/miniconda3/envs/usml_base_ds2/lib/python3.10/site-packages/umap/umap_.py:1943: UserWarning: n_jobs value -1 overridden to 1 by setting random_state. Use no seed for parallelism.\n",
      "  warn(f\"n_jobs value {self.n_jobs} overridden to 1 by setting random_state. Use no seed for parallelism.\")\n"
     ]
    },
    {
     "name": "stdout",
     "output_type": "stream",
     "text": [
      "****************************************************************************************************\n",
      "****************************************************************************************************\n",
      "Hyperparameters:\n",
      "n_neighbors:  20\n",
      "min_dist:  0.5\n",
      "metric:  euclidean\n",
      "n_components:  4\n",
      "Hopkin's Statistic = 0.19235655467475654\n",
      "Fail: Kmeans did not successfully cluster.\n",
      "DBSCAN\n",
      "Number of Clusters:  2\n",
      "Validity Index:  0.8693924459058416\n",
      "****************************************************************************************************\n",
      "Run 204 of 560\n"
     ]
    },
    {
     "name": "stderr",
     "output_type": "stream",
     "text": [
      "/Users/mikey/miniconda3/envs/usml_base_ds2/lib/python3.10/site-packages/umap/umap_.py:1943: UserWarning: n_jobs value -1 overridden to 1 by setting random_state. Use no seed for parallelism.\n",
      "  warn(f\"n_jobs value {self.n_jobs} overridden to 1 by setting random_state. Use no seed for parallelism.\")\n"
     ]
    },
    {
     "name": "stdout",
     "output_type": "stream",
     "text": [
      "****************************************************************************************************\n",
      "****************************************************************************************************\n",
      "Hyperparameters:\n",
      "n_neighbors:  20\n",
      "min_dist:  0.5\n",
      "metric:  manhattan\n",
      "n_components:  4\n",
      "Hopkin's Statistic = 0.18620888129414098\n",
      "Fail: Kmeans did not successfully cluster.\n",
      "DBSCAN\n",
      "Number of Clusters:  2\n",
      "Validity Index:  0.8243917257818816\n",
      "****************************************************************************************************\n",
      "Run 205 of 560\n"
     ]
    },
    {
     "name": "stderr",
     "output_type": "stream",
     "text": [
      "/Users/mikey/miniconda3/envs/usml_base_ds2/lib/python3.10/site-packages/umap/umap_.py:1943: UserWarning: n_jobs value -1 overridden to 1 by setting random_state. Use no seed for parallelism.\n",
      "  warn(f\"n_jobs value {self.n_jobs} overridden to 1 by setting random_state. Use no seed for parallelism.\")\n"
     ]
    },
    {
     "name": "stdout",
     "output_type": "stream",
     "text": [
      "****************************************************************************************************\n",
      "****************************************************************************************************\n",
      "Hyperparameters:\n",
      "n_neighbors:  30\n",
      "min_dist:  0.5\n",
      "metric:  euclidean\n",
      "n_components:  4\n",
      "Hopkin's Statistic = 0.19484363539955812\n",
      "Fail: Kmeans did not successfully cluster.\n",
      "zero-size array to reduction operation maximum which has no identity\n",
      "DBSCAN\n",
      "Number of Clusters:  2\n",
      "Validity Index:  0.8535915459994229\n",
      "****************************************************************************************************\n",
      "Run 206 of 560\n"
     ]
    },
    {
     "name": "stderr",
     "output_type": "stream",
     "text": [
      "/Users/mikey/miniconda3/envs/usml_base_ds2/lib/python3.10/site-packages/umap/umap_.py:1943: UserWarning: n_jobs value -1 overridden to 1 by setting random_state. Use no seed for parallelism.\n",
      "  warn(f\"n_jobs value {self.n_jobs} overridden to 1 by setting random_state. Use no seed for parallelism.\")\n"
     ]
    },
    {
     "name": "stdout",
     "output_type": "stream",
     "text": [
      "****************************************************************************************************\n",
      "****************************************************************************************************\n",
      "Hyperparameters:\n",
      "n_neighbors:  30\n",
      "min_dist:  0.5\n",
      "metric:  manhattan\n",
      "n_components:  4\n",
      "Hopkin's Statistic = 0.16927331992387318\n",
      "Fail: Kmeans did not successfully cluster.\n",
      "DBSCAN\n",
      "Number of Clusters:  2\n",
      "Validity Index:  0.8753730308300406\n",
      "****************************************************************************************************\n",
      "Run 207 of 560\n"
     ]
    },
    {
     "name": "stderr",
     "output_type": "stream",
     "text": [
      "/Users/mikey/miniconda3/envs/usml_base_ds2/lib/python3.10/site-packages/umap/umap_.py:1943: UserWarning: n_jobs value -1 overridden to 1 by setting random_state. Use no seed for parallelism.\n",
      "  warn(f\"n_jobs value {self.n_jobs} overridden to 1 by setting random_state. Use no seed for parallelism.\")\n"
     ]
    },
    {
     "name": "stdout",
     "output_type": "stream",
     "text": [
      "****************************************************************************************************\n",
      "****************************************************************************************************\n",
      "Hyperparameters:\n",
      "n_neighbors:  50\n",
      "min_dist:  0.5\n",
      "metric:  euclidean\n",
      "n_components:  4\n",
      "Hopkin's Statistic = 0.24315330046531597\n",
      "Fail: Kmeans did not successfully cluster.\n",
      "DBSCAN\n",
      "Number of Clusters:  2\n",
      "Validity Index:  0.7589188248632669\n",
      "****************************************************************************************************\n",
      "Run 208 of 560\n"
     ]
    },
    {
     "name": "stderr",
     "output_type": "stream",
     "text": [
      "/Users/mikey/miniconda3/envs/usml_base_ds2/lib/python3.10/site-packages/umap/umap_.py:1943: UserWarning: n_jobs value -1 overridden to 1 by setting random_state. Use no seed for parallelism.\n",
      "  warn(f\"n_jobs value {self.n_jobs} overridden to 1 by setting random_state. Use no seed for parallelism.\")\n"
     ]
    },
    {
     "name": "stdout",
     "output_type": "stream",
     "text": [
      "****************************************************************************************************\n",
      "****************************************************************************************************\n",
      "Hyperparameters:\n",
      "n_neighbors:  50\n",
      "min_dist:  0.5\n",
      "metric:  manhattan\n",
      "n_components:  4\n",
      "Hopkin's Statistic = 0.19278409513718778\n",
      "Fail: Kmeans did not successfully cluster.\n",
      "DBSCAN\n",
      "Number of Clusters:  2\n",
      "Validity Index:  0.6310230337877406\n",
      "****************************************************************************************************\n",
      "Run 209 of 560\n"
     ]
    },
    {
     "name": "stderr",
     "output_type": "stream",
     "text": [
      "/Users/mikey/miniconda3/envs/usml_base_ds2/lib/python3.10/site-packages/umap/umap_.py:1943: UserWarning: n_jobs value -1 overridden to 1 by setting random_state. Use no seed for parallelism.\n",
      "  warn(f\"n_jobs value {self.n_jobs} overridden to 1 by setting random_state. Use no seed for parallelism.\")\n"
     ]
    },
    {
     "name": "stdout",
     "output_type": "stream",
     "text": [
      "****************************************************************************************************\n",
      "****************************************************************************************************\n",
      "Hyperparameters:\n",
      "n_neighbors:  100\n",
      "min_dist:  0.5\n",
      "metric:  euclidean\n",
      "n_components:  4\n",
      "Hopkin's Statistic = 0.28437831236968075\n",
      "Fail: Kmeans did not successfully cluster.\n",
      "zero-size array to reduction operation minimum which has no identity\n",
      "DBSCAN\n",
      "Number of Clusters:  2\n",
      "Validity Index:  0.46373263474812176\n",
      "****************************************************************************************************\n",
      "Run 210 of 560\n"
     ]
    },
    {
     "name": "stderr",
     "output_type": "stream",
     "text": [
      "/Users/mikey/miniconda3/envs/usml_base_ds2/lib/python3.10/site-packages/umap/umap_.py:1943: UserWarning: n_jobs value -1 overridden to 1 by setting random_state. Use no seed for parallelism.\n",
      "  warn(f\"n_jobs value {self.n_jobs} overridden to 1 by setting random_state. Use no seed for parallelism.\")\n"
     ]
    },
    {
     "name": "stdout",
     "output_type": "stream",
     "text": [
      "****************************************************************************************************\n",
      "****************************************************************************************************\n",
      "Hyperparameters:\n",
      "n_neighbors:  100\n",
      "min_dist:  0.5\n",
      "metric:  manhattan\n",
      "n_components:  4\n",
      "Hopkin's Statistic = 0.22585736072095802\n",
      "Fail: Kmeans did not successfully cluster.\n",
      "zero-size array to reduction operation maximum which has no identity\n",
      "DBSCAN\n",
      "Number of Clusters:  2\n",
      "Validity Index:  0.5566096196592204\n",
      "****************************************************************************************************\n",
      "Run 211 of 560\n"
     ]
    },
    {
     "name": "stderr",
     "output_type": "stream",
     "text": [
      "/Users/mikey/miniconda3/envs/usml_base_ds2/lib/python3.10/site-packages/umap/umap_.py:1943: UserWarning: n_jobs value -1 overridden to 1 by setting random_state. Use no seed for parallelism.\n",
      "  warn(f\"n_jobs value {self.n_jobs} overridden to 1 by setting random_state. Use no seed for parallelism.\")\n"
     ]
    },
    {
     "name": "stdout",
     "output_type": "stream",
     "text": [
      "****************************************************************************************************\n",
      "****************************************************************************************************\n",
      "Hyperparameters:\n",
      "n_neighbors:  10\n",
      "min_dist:  0.0\n",
      "metric:  euclidean\n",
      "n_components:  5\n",
      "Hopkin's Statistic = 0.04237146661453314\n",
      "Fail: Kmeans did not successfully cluster.\n",
      "DBSCAN\n",
      "Number of Clusters:  2\n",
      "Validity Index:  0.9425573523238063\n",
      "****************************************************************************************************\n",
      "Run 212 of 560\n"
     ]
    },
    {
     "name": "stderr",
     "output_type": "stream",
     "text": [
      "/Users/mikey/miniconda3/envs/usml_base_ds2/lib/python3.10/site-packages/umap/umap_.py:1943: UserWarning: n_jobs value -1 overridden to 1 by setting random_state. Use no seed for parallelism.\n",
      "  warn(f\"n_jobs value {self.n_jobs} overridden to 1 by setting random_state. Use no seed for parallelism.\")\n"
     ]
    },
    {
     "name": "stdout",
     "output_type": "stream",
     "text": [
      "****************************************************************************************************\n",
      "****************************************************************************************************\n",
      "Hyperparameters:\n",
      "n_neighbors:  10\n",
      "min_dist:  0.0\n",
      "metric:  manhattan\n",
      "n_components:  5\n",
      "Hopkin's Statistic = 0.04233431723838722\n",
      "Fail: Kmeans did not successfully cluster.\n",
      "DBSCAN\n",
      "Number of Clusters:  2\n",
      "Validity Index:  0.8261962670171469\n",
      "****************************************************************************************************\n",
      "Run 213 of 560\n"
     ]
    },
    {
     "name": "stderr",
     "output_type": "stream",
     "text": [
      "/Users/mikey/miniconda3/envs/usml_base_ds2/lib/python3.10/site-packages/umap/umap_.py:1943: UserWarning: n_jobs value -1 overridden to 1 by setting random_state. Use no seed for parallelism.\n",
      "  warn(f\"n_jobs value {self.n_jobs} overridden to 1 by setting random_state. Use no seed for parallelism.\")\n"
     ]
    },
    {
     "name": "stdout",
     "output_type": "stream",
     "text": [
      "****************************************************************************************************\n",
      "****************************************************************************************************\n",
      "Hyperparameters:\n",
      "n_neighbors:  20\n",
      "min_dist:  0.0\n",
      "metric:  euclidean\n",
      "n_components:  5\n",
      "Hopkin's Statistic = 0.04730339096116633\n",
      "Fail: Kmeans did not successfully cluster.\n",
      "DBSCAN\n",
      "Number of Clusters:  2\n",
      "Validity Index:  0.9620510319557746\n",
      "****************************************************************************************************\n",
      "Run 214 of 560\n"
     ]
    },
    {
     "name": "stderr",
     "output_type": "stream",
     "text": [
      "/Users/mikey/miniconda3/envs/usml_base_ds2/lib/python3.10/site-packages/umap/umap_.py:1943: UserWarning: n_jobs value -1 overridden to 1 by setting random_state. Use no seed for parallelism.\n",
      "  warn(f\"n_jobs value {self.n_jobs} overridden to 1 by setting random_state. Use no seed for parallelism.\")\n"
     ]
    },
    {
     "name": "stdout",
     "output_type": "stream",
     "text": [
      "****************************************************************************************************\n",
      "****************************************************************************************************\n",
      "Hyperparameters:\n",
      "n_neighbors:  20\n",
      "min_dist:  0.0\n",
      "metric:  manhattan\n",
      "n_components:  5\n",
      "Hopkin's Statistic = 0.05808858871985005\n",
      "Fail: Kmeans did not successfully cluster.\n",
      "DBSCAN\n",
      "Number of Clusters:  3\n",
      "Validity Index:  0.8815632726719652\n",
      "****************************************************************************************************\n",
      "Run 215 of 560\n"
     ]
    },
    {
     "name": "stderr",
     "output_type": "stream",
     "text": [
      "/Users/mikey/miniconda3/envs/usml_base_ds2/lib/python3.10/site-packages/umap/umap_.py:1943: UserWarning: n_jobs value -1 overridden to 1 by setting random_state. Use no seed for parallelism.\n",
      "  warn(f\"n_jobs value {self.n_jobs} overridden to 1 by setting random_state. Use no seed for parallelism.\")\n"
     ]
    },
    {
     "name": "stdout",
     "output_type": "stream",
     "text": [
      "****************************************************************************************************\n",
      "****************************************************************************************************\n",
      "Hyperparameters:\n",
      "n_neighbors:  30\n",
      "min_dist:  0.0\n",
      "metric:  euclidean\n",
      "n_components:  5\n",
      "Hopkin's Statistic = 0.04329273092586562\n",
      "Fail: Kmeans did not successfully cluster.\n",
      "DBSCAN\n",
      "Number of Clusters:  2\n",
      "Validity Index:  0.9047689014329533\n",
      "****************************************************************************************************\n",
      "Run 216 of 560\n"
     ]
    },
    {
     "name": "stderr",
     "output_type": "stream",
     "text": [
      "/Users/mikey/miniconda3/envs/usml_base_ds2/lib/python3.10/site-packages/umap/umap_.py:1943: UserWarning: n_jobs value -1 overridden to 1 by setting random_state. Use no seed for parallelism.\n",
      "  warn(f\"n_jobs value {self.n_jobs} overridden to 1 by setting random_state. Use no seed for parallelism.\")\n"
     ]
    },
    {
     "name": "stdout",
     "output_type": "stream",
     "text": [
      "****************************************************************************************************\n",
      "****************************************************************************************************\n",
      "Hyperparameters:\n",
      "n_neighbors:  30\n",
      "min_dist:  0.0\n",
      "metric:  manhattan\n",
      "n_components:  5\n",
      "Hopkin's Statistic = 0.050380577342207654\n",
      "Fail: Kmeans did not successfully cluster.\n",
      "zero-size array to reduction operation minimum which has no identity\n",
      "DBSCAN\n",
      "Number of Clusters:  3\n",
      "Validity Index:  0.9538919006281777\n",
      "****************************************************************************************************\n",
      "Run 217 of 560\n"
     ]
    },
    {
     "name": "stderr",
     "output_type": "stream",
     "text": [
      "/Users/mikey/miniconda3/envs/usml_base_ds2/lib/python3.10/site-packages/umap/umap_.py:1943: UserWarning: n_jobs value -1 overridden to 1 by setting random_state. Use no seed for parallelism.\n",
      "  warn(f\"n_jobs value {self.n_jobs} overridden to 1 by setting random_state. Use no seed for parallelism.\")\n"
     ]
    },
    {
     "name": "stdout",
     "output_type": "stream",
     "text": [
      "****************************************************************************************************\n",
      "****************************************************************************************************\n",
      "Hyperparameters:\n",
      "n_neighbors:  50\n",
      "min_dist:  0.0\n",
      "metric:  euclidean\n",
      "n_components:  5\n",
      "Hopkin's Statistic = 0.06072088432347542\n",
      "Fail: Kmeans did not successfully cluster.\n",
      "DBSCAN\n",
      "Number of Clusters:  2\n",
      "Validity Index:  0.948920940571679\n",
      "****************************************************************************************************\n",
      "Run 218 of 560\n"
     ]
    },
    {
     "name": "stderr",
     "output_type": "stream",
     "text": [
      "/Users/mikey/miniconda3/envs/usml_base_ds2/lib/python3.10/site-packages/umap/umap_.py:1943: UserWarning: n_jobs value -1 overridden to 1 by setting random_state. Use no seed for parallelism.\n",
      "  warn(f\"n_jobs value {self.n_jobs} overridden to 1 by setting random_state. Use no seed for parallelism.\")\n"
     ]
    },
    {
     "name": "stdout",
     "output_type": "stream",
     "text": [
      "****************************************************************************************************\n",
      "****************************************************************************************************\n",
      "Hyperparameters:\n",
      "n_neighbors:  50\n",
      "min_dist:  0.0\n",
      "metric:  manhattan\n",
      "n_components:  5\n",
      "Hopkin's Statistic = 0.05032228863827674\n",
      "Fail: Kmeans did not successfully cluster.\n",
      "DBSCAN\n",
      "Number of Clusters:  3\n",
      "Validity Index:  0.9763154536891707\n",
      "****************************************************************************************************\n",
      "Run 219 of 560\n"
     ]
    },
    {
     "name": "stderr",
     "output_type": "stream",
     "text": [
      "/Users/mikey/miniconda3/envs/usml_base_ds2/lib/python3.10/site-packages/umap/umap_.py:1943: UserWarning: n_jobs value -1 overridden to 1 by setting random_state. Use no seed for parallelism.\n",
      "  warn(f\"n_jobs value {self.n_jobs} overridden to 1 by setting random_state. Use no seed for parallelism.\")\n"
     ]
    },
    {
     "name": "stdout",
     "output_type": "stream",
     "text": [
      "****************************************************************************************************\n",
      "****************************************************************************************************\n",
      "Hyperparameters:\n",
      "n_neighbors:  100\n",
      "min_dist:  0.0\n",
      "metric:  euclidean\n",
      "n_components:  5\n",
      "Hopkin's Statistic = 0.07789800895917329\n",
      "Fail: Kmeans did not successfully cluster.\n",
      "DBSCAN\n",
      "Number of Clusters:  4\n",
      "Validity Index:  0.6386952592610726\n",
      "****************************************************************************************************\n",
      "Run 220 of 560\n"
     ]
    },
    {
     "name": "stderr",
     "output_type": "stream",
     "text": [
      "/Users/mikey/miniconda3/envs/usml_base_ds2/lib/python3.10/site-packages/umap/umap_.py:1943: UserWarning: n_jobs value -1 overridden to 1 by setting random_state. Use no seed for parallelism.\n",
      "  warn(f\"n_jobs value {self.n_jobs} overridden to 1 by setting random_state. Use no seed for parallelism.\")\n"
     ]
    },
    {
     "name": "stdout",
     "output_type": "stream",
     "text": [
      "****************************************************************************************************\n",
      "****************************************************************************************************\n",
      "Hyperparameters:\n",
      "n_neighbors:  100\n",
      "min_dist:  0.0\n",
      "metric:  manhattan\n",
      "n_components:  5\n",
      "Hopkin's Statistic = 0.0720453373585545\n",
      "Fail: Kmeans did not successfully cluster.\n",
      "zero-size array to reduction operation maximum which has no identity\n",
      "DBSCAN\n",
      "Number of Clusters:  2\n",
      "Validity Index:  0.8570637249805184\n",
      "****************************************************************************************************\n",
      "Run 221 of 560\n"
     ]
    },
    {
     "name": "stderr",
     "output_type": "stream",
     "text": [
      "/Users/mikey/miniconda3/envs/usml_base_ds2/lib/python3.10/site-packages/umap/umap_.py:1943: UserWarning: n_jobs value -1 overridden to 1 by setting random_state. Use no seed for parallelism.\n",
      "  warn(f\"n_jobs value {self.n_jobs} overridden to 1 by setting random_state. Use no seed for parallelism.\")\n"
     ]
    },
    {
     "name": "stdout",
     "output_type": "stream",
     "text": [
      "****************************************************************************************************\n",
      "****************************************************************************************************\n",
      "Hyperparameters:\n",
      "n_neighbors:  10\n",
      "min_dist:  0.001\n",
      "metric:  euclidean\n",
      "n_components:  5\n",
      "Hopkin's Statistic = 0.04041273456630632\n",
      "Fail: Kmeans did not successfully cluster.\n",
      "DBSCAN\n",
      "Number of Clusters:  2\n",
      "Validity Index:  0.9431029033803391\n",
      "****************************************************************************************************\n",
      "Run 222 of 560\n"
     ]
    },
    {
     "name": "stderr",
     "output_type": "stream",
     "text": [
      "/Users/mikey/miniconda3/envs/usml_base_ds2/lib/python3.10/site-packages/umap/umap_.py:1943: UserWarning: n_jobs value -1 overridden to 1 by setting random_state. Use no seed for parallelism.\n",
      "  warn(f\"n_jobs value {self.n_jobs} overridden to 1 by setting random_state. Use no seed for parallelism.\")\n"
     ]
    },
    {
     "name": "stdout",
     "output_type": "stream",
     "text": [
      "****************************************************************************************************\n",
      "****************************************************************************************************\n",
      "Hyperparameters:\n",
      "n_neighbors:  10\n",
      "min_dist:  0.001\n",
      "metric:  manhattan\n",
      "n_components:  5\n",
      "Hopkin's Statistic = 0.04656936092276588\n",
      "Fail: Kmeans did not successfully cluster.\n",
      "DBSCAN\n",
      "Number of Clusters:  2\n",
      "Validity Index:  0.887037868260381\n",
      "****************************************************************************************************\n",
      "Run 223 of 560\n"
     ]
    },
    {
     "name": "stderr",
     "output_type": "stream",
     "text": [
      "/Users/mikey/miniconda3/envs/usml_base_ds2/lib/python3.10/site-packages/umap/umap_.py:1943: UserWarning: n_jobs value -1 overridden to 1 by setting random_state. Use no seed for parallelism.\n",
      "  warn(f\"n_jobs value {self.n_jobs} overridden to 1 by setting random_state. Use no seed for parallelism.\")\n"
     ]
    },
    {
     "name": "stdout",
     "output_type": "stream",
     "text": [
      "****************************************************************************************************\n",
      "****************************************************************************************************\n",
      "Hyperparameters:\n",
      "n_neighbors:  20\n",
      "min_dist:  0.001\n",
      "metric:  euclidean\n",
      "n_components:  5\n",
      "Hopkin's Statistic = 0.05744877881969915\n",
      "Fail: Kmeans did not successfully cluster.\n",
      "zero-size array to reduction operation maximum which has no identity\n",
      "DBSCAN\n",
      "Number of Clusters:  2\n",
      "Validity Index:  0.9687829471073336\n",
      "****************************************************************************************************\n",
      "Run 224 of 560\n"
     ]
    },
    {
     "name": "stderr",
     "output_type": "stream",
     "text": [
      "/Users/mikey/miniconda3/envs/usml_base_ds2/lib/python3.10/site-packages/umap/umap_.py:1943: UserWarning: n_jobs value -1 overridden to 1 by setting random_state. Use no seed for parallelism.\n",
      "  warn(f\"n_jobs value {self.n_jobs} overridden to 1 by setting random_state. Use no seed for parallelism.\")\n"
     ]
    },
    {
     "name": "stdout",
     "output_type": "stream",
     "text": [
      "****************************************************************************************************\n",
      "****************************************************************************************************\n",
      "Hyperparameters:\n",
      "n_neighbors:  20\n",
      "min_dist:  0.001\n",
      "metric:  manhattan\n",
      "n_components:  5\n",
      "Hopkin's Statistic = 0.056214703757531514\n",
      "Fail: Kmeans did not successfully cluster.\n",
      "zero-size array to reduction operation minimum which has no identity\n",
      "zero-size array to reduction operation minimum which has no identity\n",
      "DBSCAN\n",
      "Number of Clusters:  3\n",
      "Validity Index:  0.9247276885876128\n",
      "****************************************************************************************************\n",
      "Run 225 of 560\n"
     ]
    },
    {
     "name": "stderr",
     "output_type": "stream",
     "text": [
      "/Users/mikey/miniconda3/envs/usml_base_ds2/lib/python3.10/site-packages/umap/umap_.py:1943: UserWarning: n_jobs value -1 overridden to 1 by setting random_state. Use no seed for parallelism.\n",
      "  warn(f\"n_jobs value {self.n_jobs} overridden to 1 by setting random_state. Use no seed for parallelism.\")\n"
     ]
    },
    {
     "name": "stdout",
     "output_type": "stream",
     "text": [
      "****************************************************************************************************\n",
      "****************************************************************************************************\n",
      "Hyperparameters:\n",
      "n_neighbors:  30\n",
      "min_dist:  0.001\n",
      "metric:  euclidean\n",
      "n_components:  5\n",
      "Hopkin's Statistic = 0.05781338195538309\n",
      "Fail: Kmeans did not successfully cluster.\n",
      "zero-size array to reduction operation minimum which has no identity\n",
      "DBSCAN\n",
      "Number of Clusters:  3\n",
      "Validity Index:  0.9698681183494466\n",
      "****************************************************************************************************\n",
      "Run 226 of 560\n"
     ]
    },
    {
     "name": "stderr",
     "output_type": "stream",
     "text": [
      "/Users/mikey/miniconda3/envs/usml_base_ds2/lib/python3.10/site-packages/umap/umap_.py:1943: UserWarning: n_jobs value -1 overridden to 1 by setting random_state. Use no seed for parallelism.\n",
      "  warn(f\"n_jobs value {self.n_jobs} overridden to 1 by setting random_state. Use no seed for parallelism.\")\n"
     ]
    },
    {
     "name": "stdout",
     "output_type": "stream",
     "text": [
      "****************************************************************************************************\n",
      "****************************************************************************************************\n",
      "Hyperparameters:\n",
      "n_neighbors:  30\n",
      "min_dist:  0.001\n",
      "metric:  manhattan\n",
      "n_components:  5\n",
      "Hopkin's Statistic = 0.04459013732713327\n",
      "Fail: Kmeans did not successfully cluster.\n",
      "DBSCAN\n",
      "Number of Clusters:  3\n",
      "Validity Index:  0.9596632081202154\n",
      "****************************************************************************************************\n",
      "Run 227 of 560\n"
     ]
    },
    {
     "name": "stderr",
     "output_type": "stream",
     "text": [
      "/Users/mikey/miniconda3/envs/usml_base_ds2/lib/python3.10/site-packages/umap/umap_.py:1943: UserWarning: n_jobs value -1 overridden to 1 by setting random_state. Use no seed for parallelism.\n",
      "  warn(f\"n_jobs value {self.n_jobs} overridden to 1 by setting random_state. Use no seed for parallelism.\")\n"
     ]
    },
    {
     "name": "stdout",
     "output_type": "stream",
     "text": [
      "****************************************************************************************************\n",
      "****************************************************************************************************\n",
      "Hyperparameters:\n",
      "n_neighbors:  50\n",
      "min_dist:  0.001\n",
      "metric:  euclidean\n",
      "n_components:  5\n",
      "Hopkin's Statistic = 0.06825330658522827\n",
      "Fail: Kmeans did not successfully cluster.\n",
      "zero-size array to reduction operation minimum which has no identity\n",
      "DBSCAN\n",
      "Number of Clusters:  3\n",
      "Validity Index:  0.9885709254376848\n",
      "****************************************************************************************************\n",
      "Run 228 of 560\n"
     ]
    },
    {
     "name": "stderr",
     "output_type": "stream",
     "text": [
      "/Users/mikey/miniconda3/envs/usml_base_ds2/lib/python3.10/site-packages/umap/umap_.py:1943: UserWarning: n_jobs value -1 overridden to 1 by setting random_state. Use no seed for parallelism.\n",
      "  warn(f\"n_jobs value {self.n_jobs} overridden to 1 by setting random_state. Use no seed for parallelism.\")\n"
     ]
    },
    {
     "name": "stdout",
     "output_type": "stream",
     "text": [
      "****************************************************************************************************\n",
      "****************************************************************************************************\n",
      "Hyperparameters:\n",
      "n_neighbors:  50\n",
      "min_dist:  0.001\n",
      "metric:  manhattan\n",
      "n_components:  5\n",
      "Hopkin's Statistic = 0.058801328224118224\n",
      "Fail: Kmeans did not successfully cluster.\n",
      "zero-size array to reduction operation maximum which has no identity\n",
      "DBSCAN\n",
      "Number of Clusters:  3\n",
      "Validity Index:  0.9496712979043831\n",
      "****************************************************************************************************\n",
      "Run 229 of 560\n"
     ]
    },
    {
     "name": "stderr",
     "output_type": "stream",
     "text": [
      "/Users/mikey/miniconda3/envs/usml_base_ds2/lib/python3.10/site-packages/umap/umap_.py:1943: UserWarning: n_jobs value -1 overridden to 1 by setting random_state. Use no seed for parallelism.\n",
      "  warn(f\"n_jobs value {self.n_jobs} overridden to 1 by setting random_state. Use no seed for parallelism.\")\n"
     ]
    },
    {
     "name": "stdout",
     "output_type": "stream",
     "text": [
      "****************************************************************************************************\n",
      "****************************************************************************************************\n",
      "Hyperparameters:\n",
      "n_neighbors:  100\n",
      "min_dist:  0.001\n",
      "metric:  euclidean\n",
      "n_components:  5\n",
      "Hopkin's Statistic = 0.07537616124212886\n",
      "Fail: Kmeans did not successfully cluster.\n",
      "zero-size array to reduction operation minimum which has no identity\n",
      "DBSCAN\n",
      "Number of Clusters:  2\n",
      "Validity Index:  0.9658870843468964\n",
      "****************************************************************************************************\n",
      "Run 230 of 560\n"
     ]
    },
    {
     "name": "stderr",
     "output_type": "stream",
     "text": [
      "/Users/mikey/miniconda3/envs/usml_base_ds2/lib/python3.10/site-packages/umap/umap_.py:1943: UserWarning: n_jobs value -1 overridden to 1 by setting random_state. Use no seed for parallelism.\n",
      "  warn(f\"n_jobs value {self.n_jobs} overridden to 1 by setting random_state. Use no seed for parallelism.\")\n"
     ]
    },
    {
     "name": "stdout",
     "output_type": "stream",
     "text": [
      "****************************************************************************************************\n",
      "****************************************************************************************************\n",
      "Hyperparameters:\n",
      "n_neighbors:  100\n",
      "min_dist:  0.001\n",
      "metric:  manhattan\n",
      "n_components:  5\n",
      "Hopkin's Statistic = 0.05657620954660909\n",
      "Fail: Kmeans did not successfully cluster.\n",
      "DBSCAN\n",
      "Number of Clusters:  3\n",
      "Validity Index:  0.9798673160908921\n",
      "****************************************************************************************************\n",
      "Run 231 of 560\n"
     ]
    },
    {
     "name": "stderr",
     "output_type": "stream",
     "text": [
      "/Users/mikey/miniconda3/envs/usml_base_ds2/lib/python3.10/site-packages/umap/umap_.py:1943: UserWarning: n_jobs value -1 overridden to 1 by setting random_state. Use no seed for parallelism.\n",
      "  warn(f\"n_jobs value {self.n_jobs} overridden to 1 by setting random_state. Use no seed for parallelism.\")\n"
     ]
    },
    {
     "name": "stdout",
     "output_type": "stream",
     "text": [
      "****************************************************************************************************\n",
      "****************************************************************************************************\n",
      "Hyperparameters:\n",
      "n_neighbors:  10\n",
      "min_dist:  0.01\n",
      "metric:  euclidean\n",
      "n_components:  5\n",
      "Hopkin's Statistic = 0.043904148890295716\n",
      "Fail: Kmeans did not successfully cluster.\n",
      "DBSCAN\n",
      "Number of Clusters:  2\n",
      "Validity Index:  0.9126659085258978\n",
      "****************************************************************************************************\n",
      "Run 232 of 560\n"
     ]
    },
    {
     "name": "stderr",
     "output_type": "stream",
     "text": [
      "/Users/mikey/miniconda3/envs/usml_base_ds2/lib/python3.10/site-packages/umap/umap_.py:1943: UserWarning: n_jobs value -1 overridden to 1 by setting random_state. Use no seed for parallelism.\n",
      "  warn(f\"n_jobs value {self.n_jobs} overridden to 1 by setting random_state. Use no seed for parallelism.\")\n"
     ]
    },
    {
     "name": "stdout",
     "output_type": "stream",
     "text": [
      "****************************************************************************************************\n",
      "****************************************************************************************************\n",
      "Hyperparameters:\n",
      "n_neighbors:  10\n",
      "min_dist:  0.01\n",
      "metric:  manhattan\n",
      "n_components:  5\n",
      "Hopkin's Statistic = 0.04738696194371273\n",
      "Fail: Kmeans did not successfully cluster.\n",
      "DBSCAN\n",
      "Number of Clusters:  2\n",
      "Validity Index:  0.8736505250214855\n",
      "****************************************************************************************************\n",
      "Run 233 of 560\n"
     ]
    },
    {
     "name": "stderr",
     "output_type": "stream",
     "text": [
      "/Users/mikey/miniconda3/envs/usml_base_ds2/lib/python3.10/site-packages/umap/umap_.py:1943: UserWarning: n_jobs value -1 overridden to 1 by setting random_state. Use no seed for parallelism.\n",
      "  warn(f\"n_jobs value {self.n_jobs} overridden to 1 by setting random_state. Use no seed for parallelism.\")\n"
     ]
    },
    {
     "name": "stdout",
     "output_type": "stream",
     "text": [
      "****************************************************************************************************\n",
      "****************************************************************************************************\n",
      "Hyperparameters:\n",
      "n_neighbors:  20\n",
      "min_dist:  0.01\n",
      "metric:  euclidean\n",
      "n_components:  5\n",
      "Hopkin's Statistic = 0.05735218563728041\n",
      "Fail: Kmeans did not successfully cluster.\n",
      "DBSCAN\n",
      "Number of Clusters:  2\n",
      "Validity Index:  0.9814020541241238\n",
      "****************************************************************************************************\n",
      "Run 234 of 560\n"
     ]
    },
    {
     "name": "stderr",
     "output_type": "stream",
     "text": [
      "/Users/mikey/miniconda3/envs/usml_base_ds2/lib/python3.10/site-packages/umap/umap_.py:1943: UserWarning: n_jobs value -1 overridden to 1 by setting random_state. Use no seed for parallelism.\n",
      "  warn(f\"n_jobs value {self.n_jobs} overridden to 1 by setting random_state. Use no seed for parallelism.\")\n"
     ]
    },
    {
     "name": "stdout",
     "output_type": "stream",
     "text": [
      "****************************************************************************************************\n",
      "****************************************************************************************************\n",
      "Hyperparameters:\n",
      "n_neighbors:  20\n",
      "min_dist:  0.01\n",
      "metric:  manhattan\n",
      "n_components:  5\n",
      "Hopkin's Statistic = 0.05567417559192382\n",
      "Fail: Kmeans did not successfully cluster.\n",
      "DBSCAN\n",
      "Number of Clusters:  2\n",
      "Validity Index:  0.8382140380923823\n",
      "****************************************************************************************************\n",
      "Run 235 of 560\n"
     ]
    },
    {
     "name": "stderr",
     "output_type": "stream",
     "text": [
      "/Users/mikey/miniconda3/envs/usml_base_ds2/lib/python3.10/site-packages/umap/umap_.py:1943: UserWarning: n_jobs value -1 overridden to 1 by setting random_state. Use no seed for parallelism.\n",
      "  warn(f\"n_jobs value {self.n_jobs} overridden to 1 by setting random_state. Use no seed for parallelism.\")\n"
     ]
    },
    {
     "name": "stdout",
     "output_type": "stream",
     "text": [
      "****************************************************************************************************\n",
      "****************************************************************************************************\n",
      "Hyperparameters:\n",
      "n_neighbors:  30\n",
      "min_dist:  0.01\n",
      "metric:  euclidean\n",
      "n_components:  5\n",
      "Hopkin's Statistic = 0.060198591957410105\n",
      "Fail: Kmeans did not successfully cluster.\n",
      "DBSCAN\n",
      "Number of Clusters:  3\n",
      "Validity Index:  0.9628065169513634\n",
      "****************************************************************************************************\n",
      "Run 236 of 560\n"
     ]
    },
    {
     "name": "stderr",
     "output_type": "stream",
     "text": [
      "/Users/mikey/miniconda3/envs/usml_base_ds2/lib/python3.10/site-packages/umap/umap_.py:1943: UserWarning: n_jobs value -1 overridden to 1 by setting random_state. Use no seed for parallelism.\n",
      "  warn(f\"n_jobs value {self.n_jobs} overridden to 1 by setting random_state. Use no seed for parallelism.\")\n"
     ]
    },
    {
     "name": "stdout",
     "output_type": "stream",
     "text": [
      "****************************************************************************************************\n",
      "****************************************************************************************************\n",
      "Hyperparameters:\n",
      "n_neighbors:  30\n",
      "min_dist:  0.01\n",
      "metric:  manhattan\n",
      "n_components:  5\n",
      "Hopkin's Statistic = 0.0545310603120787\n",
      "Fail: Kmeans did not successfully cluster.\n",
      "zero-size array to reduction operation minimum which has no identity\n",
      "DBSCAN\n",
      "Number of Clusters:  3\n",
      "Validity Index:  0.9215606452238789\n",
      "****************************************************************************************************\n",
      "Run 237 of 560\n"
     ]
    },
    {
     "name": "stderr",
     "output_type": "stream",
     "text": [
      "/Users/mikey/miniconda3/envs/usml_base_ds2/lib/python3.10/site-packages/umap/umap_.py:1943: UserWarning: n_jobs value -1 overridden to 1 by setting random_state. Use no seed for parallelism.\n",
      "  warn(f\"n_jobs value {self.n_jobs} overridden to 1 by setting random_state. Use no seed for parallelism.\")\n"
     ]
    },
    {
     "name": "stdout",
     "output_type": "stream",
     "text": [
      "****************************************************************************************************\n",
      "****************************************************************************************************\n",
      "Hyperparameters:\n",
      "n_neighbors:  50\n",
      "min_dist:  0.01\n",
      "metric:  euclidean\n",
      "n_components:  5\n",
      "Hopkin's Statistic = 0.0640991256037225\n",
      "Fail: Kmeans did not successfully cluster.\n",
      "DBSCAN\n",
      "Number of Clusters:  3\n",
      "Validity Index:  0.9911646328546413\n",
      "****************************************************************************************************\n",
      "Run 238 of 560\n"
     ]
    },
    {
     "name": "stderr",
     "output_type": "stream",
     "text": [
      "/Users/mikey/miniconda3/envs/usml_base_ds2/lib/python3.10/site-packages/umap/umap_.py:1943: UserWarning: n_jobs value -1 overridden to 1 by setting random_state. Use no seed for parallelism.\n",
      "  warn(f\"n_jobs value {self.n_jobs} overridden to 1 by setting random_state. Use no seed for parallelism.\")\n"
     ]
    },
    {
     "name": "stdout",
     "output_type": "stream",
     "text": [
      "****************************************************************************************************\n",
      "****************************************************************************************************\n",
      "Hyperparameters:\n",
      "n_neighbors:  50\n",
      "min_dist:  0.01\n",
      "metric:  manhattan\n",
      "n_components:  5\n",
      "Hopkin's Statistic = 0.06183492794087092\n",
      "Fail: Kmeans did not successfully cluster.\n",
      "DBSCAN\n",
      "Number of Clusters:  3\n",
      "Validity Index:  0.9820563098530839\n",
      "****************************************************************************************************\n",
      "Run 239 of 560\n"
     ]
    },
    {
     "name": "stderr",
     "output_type": "stream",
     "text": [
      "/Users/mikey/miniconda3/envs/usml_base_ds2/lib/python3.10/site-packages/umap/umap_.py:1943: UserWarning: n_jobs value -1 overridden to 1 by setting random_state. Use no seed for parallelism.\n",
      "  warn(f\"n_jobs value {self.n_jobs} overridden to 1 by setting random_state. Use no seed for parallelism.\")\n"
     ]
    },
    {
     "name": "stdout",
     "output_type": "stream",
     "text": [
      "****************************************************************************************************\n",
      "****************************************************************************************************\n",
      "Hyperparameters:\n",
      "n_neighbors:  100\n",
      "min_dist:  0.01\n",
      "metric:  euclidean\n",
      "n_components:  5\n",
      "Hopkin's Statistic = 0.07246434785310896\n",
      "Fail: Kmeans did not successfully cluster.\n",
      "zero-size array to reduction operation minimum which has no identity\n",
      "DBSCAN\n",
      "Number of Clusters:  2\n",
      "Validity Index:  0.9735081668793916\n",
      "****************************************************************************************************\n",
      "Run 240 of 560\n"
     ]
    },
    {
     "name": "stderr",
     "output_type": "stream",
     "text": [
      "/Users/mikey/miniconda3/envs/usml_base_ds2/lib/python3.10/site-packages/umap/umap_.py:1943: UserWarning: n_jobs value -1 overridden to 1 by setting random_state. Use no seed for parallelism.\n",
      "  warn(f\"n_jobs value {self.n_jobs} overridden to 1 by setting random_state. Use no seed for parallelism.\")\n"
     ]
    },
    {
     "name": "stdout",
     "output_type": "stream",
     "text": [
      "****************************************************************************************************\n",
      "****************************************************************************************************\n",
      "Hyperparameters:\n",
      "n_neighbors:  100\n",
      "min_dist:  0.01\n",
      "metric:  manhattan\n",
      "n_components:  5\n",
      "Hopkin's Statistic = 0.057043278515547066\n",
      "Fail: Kmeans did not successfully cluster.\n",
      "zero-size array to reduction operation minimum which has no identity\n",
      "zero-size array to reduction operation minimum which has no identity\n",
      "DBSCAN\n",
      "Number of Clusters:  4\n",
      "Validity Index:  0.7707718658329366\n",
      "****************************************************************************************************\n",
      "Run 241 of 560\n"
     ]
    },
    {
     "name": "stderr",
     "output_type": "stream",
     "text": [
      "/Users/mikey/miniconda3/envs/usml_base_ds2/lib/python3.10/site-packages/umap/umap_.py:1943: UserWarning: n_jobs value -1 overridden to 1 by setting random_state. Use no seed for parallelism.\n",
      "  warn(f\"n_jobs value {self.n_jobs} overridden to 1 by setting random_state. Use no seed for parallelism.\")\n"
     ]
    },
    {
     "name": "stdout",
     "output_type": "stream",
     "text": [
      "****************************************************************************************************\n",
      "****************************************************************************************************\n",
      "Hyperparameters:\n",
      "n_neighbors:  10\n",
      "min_dist:  0.05\n",
      "metric:  euclidean\n",
      "n_components:  5\n",
      "Hopkin's Statistic = 0.04944068047342466\n",
      "Fail: Kmeans did not successfully cluster.\n",
      "DBSCAN\n",
      "Number of Clusters:  2\n",
      "Validity Index:  0.9823188009551476\n",
      "****************************************************************************************************\n",
      "Run 242 of 560\n"
     ]
    },
    {
     "name": "stderr",
     "output_type": "stream",
     "text": [
      "/Users/mikey/miniconda3/envs/usml_base_ds2/lib/python3.10/site-packages/umap/umap_.py:1943: UserWarning: n_jobs value -1 overridden to 1 by setting random_state. Use no seed for parallelism.\n",
      "  warn(f\"n_jobs value {self.n_jobs} overridden to 1 by setting random_state. Use no seed for parallelism.\")\n"
     ]
    },
    {
     "name": "stdout",
     "output_type": "stream",
     "text": [
      "****************************************************************************************************\n",
      "****************************************************************************************************\n",
      "Hyperparameters:\n",
      "n_neighbors:  10\n",
      "min_dist:  0.05\n",
      "metric:  manhattan\n",
      "n_components:  5\n",
      "Hopkin's Statistic = 0.0574215779020901\n",
      "Fail: Kmeans did not successfully cluster.\n",
      "zero-size array to reduction operation minimum which has no identity\n",
      "DBSCAN\n",
      "Number of Clusters:  2\n",
      "Validity Index:  0.8752039203004423\n",
      "****************************************************************************************************\n",
      "Run 243 of 560\n"
     ]
    },
    {
     "name": "stderr",
     "output_type": "stream",
     "text": [
      "/Users/mikey/miniconda3/envs/usml_base_ds2/lib/python3.10/site-packages/umap/umap_.py:1943: UserWarning: n_jobs value -1 overridden to 1 by setting random_state. Use no seed for parallelism.\n",
      "  warn(f\"n_jobs value {self.n_jobs} overridden to 1 by setting random_state. Use no seed for parallelism.\")\n"
     ]
    },
    {
     "name": "stdout",
     "output_type": "stream",
     "text": [
      "****************************************************************************************************\n",
      "****************************************************************************************************\n",
      "Hyperparameters:\n",
      "n_neighbors:  20\n",
      "min_dist:  0.05\n",
      "metric:  euclidean\n",
      "n_components:  5\n",
      "Hopkin's Statistic = 0.06469354354249453\n",
      "Fail: Kmeans did not successfully cluster.\n",
      "DBSCAN\n",
      "Number of Clusters:  2\n",
      "Validity Index:  0.9885257652451488\n",
      "****************************************************************************************************\n",
      "Run 244 of 560\n"
     ]
    },
    {
     "name": "stderr",
     "output_type": "stream",
     "text": [
      "/Users/mikey/miniconda3/envs/usml_base_ds2/lib/python3.10/site-packages/umap/umap_.py:1943: UserWarning: n_jobs value -1 overridden to 1 by setting random_state. Use no seed for parallelism.\n",
      "  warn(f\"n_jobs value {self.n_jobs} overridden to 1 by setting random_state. Use no seed for parallelism.\")\n"
     ]
    },
    {
     "name": "stdout",
     "output_type": "stream",
     "text": [
      "****************************************************************************************************\n",
      "****************************************************************************************************\n",
      "Hyperparameters:\n",
      "n_neighbors:  20\n",
      "min_dist:  0.05\n",
      "metric:  manhattan\n",
      "n_components:  5\n",
      "Hopkin's Statistic = 0.06408322916063611\n",
      "Fail: Kmeans did not successfully cluster.\n",
      "zero-size array to reduction operation minimum which has no identity\n",
      "DBSCAN\n",
      "Number of Clusters:  2\n",
      "Validity Index:  0.8526886111053397\n",
      "****************************************************************************************************\n",
      "Run 245 of 560\n"
     ]
    },
    {
     "name": "stderr",
     "output_type": "stream",
     "text": [
      "/Users/mikey/miniconda3/envs/usml_base_ds2/lib/python3.10/site-packages/umap/umap_.py:1943: UserWarning: n_jobs value -1 overridden to 1 by setting random_state. Use no seed for parallelism.\n",
      "  warn(f\"n_jobs value {self.n_jobs} overridden to 1 by setting random_state. Use no seed for parallelism.\")\n"
     ]
    },
    {
     "name": "stdout",
     "output_type": "stream",
     "text": [
      "****************************************************************************************************\n",
      "****************************************************************************************************\n",
      "Hyperparameters:\n",
      "n_neighbors:  30\n",
      "min_dist:  0.05\n",
      "metric:  euclidean\n",
      "n_components:  5\n",
      "Hopkin's Statistic = 0.07557504457746017\n",
      "Fail: Kmeans did not successfully cluster.\n",
      "DBSCAN\n",
      "Number of Clusters:  4\n",
      "Validity Index:  0.754242875114365\n",
      "****************************************************************************************************\n",
      "Run 246 of 560\n"
     ]
    },
    {
     "name": "stderr",
     "output_type": "stream",
     "text": [
      "/Users/mikey/miniconda3/envs/usml_base_ds2/lib/python3.10/site-packages/umap/umap_.py:1943: UserWarning: n_jobs value -1 overridden to 1 by setting random_state. Use no seed for parallelism.\n",
      "  warn(f\"n_jobs value {self.n_jobs} overridden to 1 by setting random_state. Use no seed for parallelism.\")\n"
     ]
    },
    {
     "name": "stdout",
     "output_type": "stream",
     "text": [
      "****************************************************************************************************\n",
      "****************************************************************************************************\n",
      "Hyperparameters:\n",
      "n_neighbors:  30\n",
      "min_dist:  0.05\n",
      "metric:  manhattan\n",
      "n_components:  5\n",
      "Hopkin's Statistic = 0.06840374416128313\n",
      "Fail: Kmeans did not successfully cluster.\n",
      "zero-size array to reduction operation minimum which has no identity\n",
      "DBSCAN\n",
      "Number of Clusters:  3\n",
      "Validity Index:  0.9734387255621526\n",
      "****************************************************************************************************\n",
      "Run 247 of 560\n"
     ]
    },
    {
     "name": "stderr",
     "output_type": "stream",
     "text": [
      "/Users/mikey/miniconda3/envs/usml_base_ds2/lib/python3.10/site-packages/umap/umap_.py:1943: UserWarning: n_jobs value -1 overridden to 1 by setting random_state. Use no seed for parallelism.\n",
      "  warn(f\"n_jobs value {self.n_jobs} overridden to 1 by setting random_state. Use no seed for parallelism.\")\n"
     ]
    },
    {
     "name": "stdout",
     "output_type": "stream",
     "text": [
      "****************************************************************************************************\n",
      "****************************************************************************************************\n",
      "Hyperparameters:\n",
      "n_neighbors:  50\n",
      "min_dist:  0.05\n",
      "metric:  euclidean\n",
      "n_components:  5\n",
      "Hopkin's Statistic = 0.07835729543426612\n",
      "Fail: Kmeans did not successfully cluster.\n",
      "DBSCAN\n",
      "Number of Clusters:  2\n",
      "Validity Index:  0.9701894934000658\n",
      "****************************************************************************************************\n",
      "Run 248 of 560\n"
     ]
    },
    {
     "name": "stderr",
     "output_type": "stream",
     "text": [
      "/Users/mikey/miniconda3/envs/usml_base_ds2/lib/python3.10/site-packages/umap/umap_.py:1943: UserWarning: n_jobs value -1 overridden to 1 by setting random_state. Use no seed for parallelism.\n",
      "  warn(f\"n_jobs value {self.n_jobs} overridden to 1 by setting random_state. Use no seed for parallelism.\")\n"
     ]
    },
    {
     "name": "stdout",
     "output_type": "stream",
     "text": [
      "****************************************************************************************************\n",
      "****************************************************************************************************\n",
      "Hyperparameters:\n",
      "n_neighbors:  50\n",
      "min_dist:  0.05\n",
      "metric:  manhattan\n",
      "n_components:  5\n",
      "Hopkin's Statistic = 0.07568810144835071\n",
      "Fail: Kmeans did not successfully cluster.\n",
      "zero-size array to reduction operation minimum which has no identity\n",
      "DBSCAN\n",
      "Number of Clusters:  2\n",
      "Validity Index:  0.9337237461640904\n",
      "****************************************************************************************************\n",
      "Run 249 of 560\n"
     ]
    },
    {
     "name": "stderr",
     "output_type": "stream",
     "text": [
      "/Users/mikey/miniconda3/envs/usml_base_ds2/lib/python3.10/site-packages/umap/umap_.py:1943: UserWarning: n_jobs value -1 overridden to 1 by setting random_state. Use no seed for parallelism.\n",
      "  warn(f\"n_jobs value {self.n_jobs} overridden to 1 by setting random_state. Use no seed for parallelism.\")\n"
     ]
    },
    {
     "name": "stdout",
     "output_type": "stream",
     "text": [
      "****************************************************************************************************\n",
      "****************************************************************************************************\n",
      "Hyperparameters:\n",
      "n_neighbors:  100\n",
      "min_dist:  0.05\n",
      "metric:  euclidean\n",
      "n_components:  5\n",
      "Hopkin's Statistic = 0.08909218632240522\n",
      "Fail: Kmeans did not successfully cluster.\n",
      "DBSCAN\n",
      "Number of Clusters:  2\n",
      "Validity Index:  0.9314067837431068\n",
      "****************************************************************************************************\n",
      "Run 250 of 560\n"
     ]
    },
    {
     "name": "stderr",
     "output_type": "stream",
     "text": [
      "/Users/mikey/miniconda3/envs/usml_base_ds2/lib/python3.10/site-packages/umap/umap_.py:1943: UserWarning: n_jobs value -1 overridden to 1 by setting random_state. Use no seed for parallelism.\n",
      "  warn(f\"n_jobs value {self.n_jobs} overridden to 1 by setting random_state. Use no seed for parallelism.\")\n"
     ]
    },
    {
     "name": "stdout",
     "output_type": "stream",
     "text": [
      "****************************************************************************************************\n",
      "****************************************************************************************************\n",
      "Hyperparameters:\n",
      "n_neighbors:  100\n",
      "min_dist:  0.05\n",
      "metric:  manhattan\n",
      "n_components:  5\n",
      "Hopkin's Statistic = 0.07317433548351433\n",
      "Fail: Kmeans did not successfully cluster.\n",
      "DBSCAN\n",
      "Number of Clusters:  2\n",
      "Validity Index:  0.9140913871332552\n",
      "****************************************************************************************************\n",
      "Run 251 of 560\n"
     ]
    },
    {
     "name": "stderr",
     "output_type": "stream",
     "text": [
      "/Users/mikey/miniconda3/envs/usml_base_ds2/lib/python3.10/site-packages/umap/umap_.py:1943: UserWarning: n_jobs value -1 overridden to 1 by setting random_state. Use no seed for parallelism.\n",
      "  warn(f\"n_jobs value {self.n_jobs} overridden to 1 by setting random_state. Use no seed for parallelism.\")\n"
     ]
    },
    {
     "name": "stdout",
     "output_type": "stream",
     "text": [
      "****************************************************************************************************\n",
      "****************************************************************************************************\n",
      "Hyperparameters:\n",
      "n_neighbors:  10\n",
      "min_dist:  0.1\n",
      "metric:  euclidean\n",
      "n_components:  5\n",
      "Hopkin's Statistic = 0.06575387329967673\n",
      "Fail: Kmeans did not successfully cluster.\n",
      "DBSCAN\n",
      "Number of Clusters:  2\n",
      "Validity Index:  0.9756660135315969\n",
      "****************************************************************************************************\n",
      "Run 252 of 560\n"
     ]
    },
    {
     "name": "stderr",
     "output_type": "stream",
     "text": [
      "/Users/mikey/miniconda3/envs/usml_base_ds2/lib/python3.10/site-packages/umap/umap_.py:1943: UserWarning: n_jobs value -1 overridden to 1 by setting random_state. Use no seed for parallelism.\n",
      "  warn(f\"n_jobs value {self.n_jobs} overridden to 1 by setting random_state. Use no seed for parallelism.\")\n"
     ]
    },
    {
     "name": "stdout",
     "output_type": "stream",
     "text": [
      "****************************************************************************************************\n",
      "****************************************************************************************************\n",
      "Hyperparameters:\n",
      "n_neighbors:  10\n",
      "min_dist:  0.1\n",
      "metric:  manhattan\n",
      "n_components:  5\n",
      "Hopkin's Statistic = 0.07600789083651492\n",
      "Fail: Kmeans did not successfully cluster.\n",
      "DBSCAN\n",
      "Number of Clusters:  2\n",
      "Validity Index:  0.9498046423761483\n",
      "****************************************************************************************************\n",
      "Run 253 of 560\n"
     ]
    },
    {
     "name": "stderr",
     "output_type": "stream",
     "text": [
      "/Users/mikey/miniconda3/envs/usml_base_ds2/lib/python3.10/site-packages/umap/umap_.py:1943: UserWarning: n_jobs value -1 overridden to 1 by setting random_state. Use no seed for parallelism.\n",
      "  warn(f\"n_jobs value {self.n_jobs} overridden to 1 by setting random_state. Use no seed for parallelism.\")\n"
     ]
    },
    {
     "name": "stdout",
     "output_type": "stream",
     "text": [
      "****************************************************************************************************\n",
      "****************************************************************************************************\n",
      "Hyperparameters:\n",
      "n_neighbors:  20\n",
      "min_dist:  0.1\n",
      "metric:  euclidean\n",
      "n_components:  5\n",
      "Hopkin's Statistic = 0.07874124971571601\n",
      "Fail: Kmeans did not successfully cluster.\n",
      "DBSCAN\n",
      "Number of Clusters:  2\n",
      "Validity Index:  0.9875531833764173\n",
      "****************************************************************************************************\n",
      "Run 254 of 560\n"
     ]
    },
    {
     "name": "stderr",
     "output_type": "stream",
     "text": [
      "/Users/mikey/miniconda3/envs/usml_base_ds2/lib/python3.10/site-packages/umap/umap_.py:1943: UserWarning: n_jobs value -1 overridden to 1 by setting random_state. Use no seed for parallelism.\n",
      "  warn(f\"n_jobs value {self.n_jobs} overridden to 1 by setting random_state. Use no seed for parallelism.\")\n"
     ]
    },
    {
     "name": "stdout",
     "output_type": "stream",
     "text": [
      "****************************************************************************************************\n",
      "****************************************************************************************************\n",
      "Hyperparameters:\n",
      "n_neighbors:  20\n",
      "min_dist:  0.1\n",
      "metric:  manhattan\n",
      "n_components:  5\n",
      "Hopkin's Statistic = 0.07104020832022523\n",
      "Fail: Kmeans did not successfully cluster.\n",
      "DBSCAN\n",
      "Number of Clusters:  2\n",
      "Validity Index:  0.9152912222732861\n",
      "****************************************************************************************************\n",
      "Run 255 of 560\n"
     ]
    },
    {
     "name": "stderr",
     "output_type": "stream",
     "text": [
      "/Users/mikey/miniconda3/envs/usml_base_ds2/lib/python3.10/site-packages/umap/umap_.py:1943: UserWarning: n_jobs value -1 overridden to 1 by setting random_state. Use no seed for parallelism.\n",
      "  warn(f\"n_jobs value {self.n_jobs} overridden to 1 by setting random_state. Use no seed for parallelism.\")\n"
     ]
    },
    {
     "name": "stdout",
     "output_type": "stream",
     "text": [
      "****************************************************************************************************\n",
      "****************************************************************************************************\n",
      "Hyperparameters:\n",
      "n_neighbors:  30\n",
      "min_dist:  0.1\n",
      "metric:  euclidean\n",
      "n_components:  5\n",
      "Hopkin's Statistic = 0.08174893360460884\n",
      "Fail: Kmeans did not successfully cluster.\n",
      "zero-size array to reduction operation minimum which has no identity\n",
      "DBSCAN\n",
      "Number of Clusters:  2\n",
      "Validity Index:  0.7999929783478732\n",
      "****************************************************************************************************\n",
      "Run 256 of 560\n"
     ]
    },
    {
     "name": "stderr",
     "output_type": "stream",
     "text": [
      "/Users/mikey/miniconda3/envs/usml_base_ds2/lib/python3.10/site-packages/umap/umap_.py:1943: UserWarning: n_jobs value -1 overridden to 1 by setting random_state. Use no seed for parallelism.\n",
      "  warn(f\"n_jobs value {self.n_jobs} overridden to 1 by setting random_state. Use no seed for parallelism.\")\n"
     ]
    },
    {
     "name": "stdout",
     "output_type": "stream",
     "text": [
      "****************************************************************************************************\n",
      "****************************************************************************************************\n",
      "Hyperparameters:\n",
      "n_neighbors:  30\n",
      "min_dist:  0.1\n",
      "metric:  manhattan\n",
      "n_components:  5\n",
      "Hopkin's Statistic = 0.07191412776264149\n",
      "Fail: Kmeans did not successfully cluster.\n",
      "DBSCAN\n",
      "Number of Clusters:  2\n",
      "Validity Index:  0.9795188538028649\n",
      "****************************************************************************************************\n",
      "Run 257 of 560\n"
     ]
    },
    {
     "name": "stderr",
     "output_type": "stream",
     "text": [
      "/Users/mikey/miniconda3/envs/usml_base_ds2/lib/python3.10/site-packages/umap/umap_.py:1943: UserWarning: n_jobs value -1 overridden to 1 by setting random_state. Use no seed for parallelism.\n",
      "  warn(f\"n_jobs value {self.n_jobs} overridden to 1 by setting random_state. Use no seed for parallelism.\")\n"
     ]
    },
    {
     "name": "stdout",
     "output_type": "stream",
     "text": [
      "****************************************************************************************************\n",
      "****************************************************************************************************\n",
      "Hyperparameters:\n",
      "n_neighbors:  50\n",
      "min_dist:  0.1\n",
      "metric:  euclidean\n",
      "n_components:  5\n",
      "Hopkin's Statistic = 0.08529121154206824\n",
      "Fail: Kmeans did not successfully cluster.\n",
      "DBSCAN\n",
      "Number of Clusters:  2\n",
      "Validity Index:  0.9712281310025676\n",
      "****************************************************************************************************\n",
      "Run 258 of 560\n"
     ]
    },
    {
     "name": "stderr",
     "output_type": "stream",
     "text": [
      "/Users/mikey/miniconda3/envs/usml_base_ds2/lib/python3.10/site-packages/umap/umap_.py:1943: UserWarning: n_jobs value -1 overridden to 1 by setting random_state. Use no seed for parallelism.\n",
      "  warn(f\"n_jobs value {self.n_jobs} overridden to 1 by setting random_state. Use no seed for parallelism.\")\n"
     ]
    },
    {
     "name": "stdout",
     "output_type": "stream",
     "text": [
      "****************************************************************************************************\n",
      "****************************************************************************************************\n",
      "Hyperparameters:\n",
      "n_neighbors:  50\n",
      "min_dist:  0.1\n",
      "metric:  manhattan\n",
      "n_components:  5\n",
      "Hopkin's Statistic = 0.07971336179398754\n",
      "Fail: Kmeans did not successfully cluster.\n"
     ]
    }
   ],
   "source": [
    "runs = len(n_components_list)*len(min_dist_list)*len(n_neighbors_list)*len(metric_list)\n",
    "run = 0\n",
    "df_row_dict_list = []\n",
    "for n_components in n_components_list:\n",
    "  for min_dist in min_dist_list:\n",
    "    for n_neighbors in n_neighbors_list: \n",
    "      for metric in metric_list:\n",
    "        run +=1\n",
    "        print('*'*100)\n",
    "        print(f'Run {run} of {runs}')\n",
    "        results_dict = dr.umap_dim_red(cap_x, n_neighbors, min_dist, metric, n_components) \n",
    "        df_row_dict = cl.clustering(results_dict)\n",
    "        df_row_dict_list.append(df_row_dict)\n",
    "results_df = pd.DataFrame(df_row_dict_list)\n"
   ]
  },
  {
   "cell_type": "markdown",
   "metadata": {},
   "source": [
    "___\n",
    "\n",
    "## All Results"
   ]
  },
  {
   "cell_type": "code",
   "execution_count": null,
   "metadata": {},
   "outputs": [
    {
     "name": "stdout",
     "output_type": "stream",
     "text": [
      "Filtered results dataframe saved at: /Users/mikey/LocalFiles/DS5230/final_project/DS5230-final/data/results/all_results_2024-04-1620:16:58.427771.csv\n"
     ]
    },
    {
     "data": {
      "text/html": [
       "<div>\n",
       "<style scoped>\n",
       "    .dataframe tbody tr th:only-of-type {\n",
       "        vertical-align: middle;\n",
       "    }\n",
       "\n",
       "    .dataframe tbody tr th {\n",
       "        vertical-align: top;\n",
       "    }\n",
       "\n",
       "    .dataframe thead th {\n",
       "        text-align: right;\n",
       "    }\n",
       "</style>\n",
       "<table border=\"1\" class=\"dataframe\">\n",
       "  <thead>\n",
       "    <tr style=\"text-align: right;\">\n",
       "      <th></th>\n",
       "      <th>algo</th>\n",
       "      <th>n_clusters_found</th>\n",
       "      <th>n_clusters_db_score_is_min</th>\n",
       "      <th>n_clusters_ch_score_is_max</th>\n",
       "      <th>n_clusters_silhouette_score_is_max</th>\n",
       "      <th>silhouette_score</th>\n",
       "      <th>hopkins_statistic</th>\n",
       "      <th>umap_n_neighbors</th>\n",
       "      <th>umap_min_dist</th>\n",
       "      <th>umap_metric</th>\n",
       "      <th>umap_n_components</th>\n",
       "      <th>trustworthiness</th>\n",
       "      <th>eps</th>\n",
       "      <th>dbscan_min_samples</th>\n",
       "      <th>dbscan_metric</th>\n",
       "      <th>validity_index</th>\n",
       "      <th>cluster_labels</th>\n",
       "    </tr>\n",
       "  </thead>\n",
       "  <tbody>\n",
       "    <tr>\n",
       "      <th>0</th>\n",
       "      <td>dbscan</td>\n",
       "      <td>2</td>\n",
       "      <td>NaN</td>\n",
       "      <td>NaN</td>\n",
       "      <td>NaN</td>\n",
       "      <td>NaN</td>\n",
       "      <td>0.138859</td>\n",
       "      <td>10</td>\n",
       "      <td>0.01</td>\n",
       "      <td>euclidean</td>\n",
       "      <td>2</td>\n",
       "      <td>0.974305</td>\n",
       "      <td>0.222590</td>\n",
       "      <td>6</td>\n",
       "      <td>cosine</td>\n",
       "      <td>0.951963</td>\n",
       "      <td>[0, 0, 0, 0, 0, 0, 0, 0, 0, 0, 0, 0, 0, 0, 0, ...</td>\n",
       "    </tr>\n",
       "    <tr>\n",
       "      <th>1</th>\n",
       "      <td>dbscan</td>\n",
       "      <td>2</td>\n",
       "      <td>NaN</td>\n",
       "      <td>NaN</td>\n",
       "      <td>NaN</td>\n",
       "      <td>NaN</td>\n",
       "      <td>0.076765</td>\n",
       "      <td>10</td>\n",
       "      <td>0.01</td>\n",
       "      <td>euclidean</td>\n",
       "      <td>3</td>\n",
       "      <td>0.976942</td>\n",
       "      <td>0.268736</td>\n",
       "      <td>6</td>\n",
       "      <td>cosine</td>\n",
       "      <td>0.932168</td>\n",
       "      <td>[0, 0, 0, 0, 0, 0, 0, 0, 0, 0, 0, 0, 0, 0, 0, ...</td>\n",
       "    </tr>\n",
       "  </tbody>\n",
       "</table>\n",
       "</div>"
      ],
      "text/plain": [
       "     algo  n_clusters_found  n_clusters_db_score_is_min  \\\n",
       "0  dbscan                 2                         NaN   \n",
       "1  dbscan                 2                         NaN   \n",
       "\n",
       "   n_clusters_ch_score_is_max  n_clusters_silhouette_score_is_max  \\\n",
       "0                         NaN                                 NaN   \n",
       "1                         NaN                                 NaN   \n",
       "\n",
       "   silhouette_score  hopkins_statistic  umap_n_neighbors  umap_min_dist  \\\n",
       "0               NaN           0.138859                10           0.01   \n",
       "1               NaN           0.076765                10           0.01   \n",
       "\n",
       "  umap_metric  umap_n_components  trustworthiness       eps  \\\n",
       "0   euclidean                  2         0.974305  0.222590   \n",
       "1   euclidean                  3         0.976942  0.268736   \n",
       "\n",
       "   dbscan_min_samples dbscan_metric  validity_index  \\\n",
       "0                   6        cosine        0.951963   \n",
       "1                   6        cosine        0.932168   \n",
       "\n",
       "                                      cluster_labels  \n",
       "0  [0, 0, 0, 0, 0, 0, 0, 0, 0, 0, 0, 0, 0, 0, 0, ...  \n",
       "1  [0, 0, 0, 0, 0, 0, 0, 0, 0, 0, 0, 0, 0, 0, 0, ...  "
      ]
     },
     "execution_count": 27,
     "metadata": {},
     "output_type": "execute_result"
    }
   ],
   "source": [
    "results_df.to_csv(data_path + all_results_file, index=False)\n",
    "print(\"Filtered results dataframe saved at:\", data_path + all_results_file)\n",
    "\n",
    "# display max rows\n",
    "pd.set_option('display.max_rows', None)\n",
    "pd.set_option('display.max_columns', None)\n",
    "results_df"
   ]
  },
  {
   "cell_type": "code",
   "execution_count": null,
   "metadata": {},
   "outputs": [],
   "source": [
    "# set max rows back to default\n",
    "pd.reset_option('display.max_rows')\n",
    "pd.reset_option('display.max_columns')"
   ]
  },
  {
   "cell_type": "markdown",
   "metadata": {},
   "source": [
    "____\n",
    "\n",
    "### Get n Best Results (kmeans or DBSCAN)"
   ]
  },
  {
   "cell_type": "code",
   "execution_count": null,
   "metadata": {},
   "outputs": [
    {
     "data": {
      "text/html": [
       "<div>\n",
       "<style scoped>\n",
       "    .dataframe tbody tr th:only-of-type {\n",
       "        vertical-align: middle;\n",
       "    }\n",
       "\n",
       "    .dataframe tbody tr th {\n",
       "        vertical-align: top;\n",
       "    }\n",
       "\n",
       "    .dataframe thead th {\n",
       "        text-align: right;\n",
       "    }\n",
       "</style>\n",
       "<table border=\"1\" class=\"dataframe\">\n",
       "  <thead>\n",
       "    <tr style=\"text-align: right;\">\n",
       "      <th></th>\n",
       "      <th>algo</th>\n",
       "      <th>n_clusters_found</th>\n",
       "      <th>n_clusters_db_score_is_min</th>\n",
       "      <th>n_clusters_ch_score_is_max</th>\n",
       "      <th>n_clusters_silhouette_score_is_max</th>\n",
       "      <th>silhouette_score</th>\n",
       "      <th>hopkins_statistic</th>\n",
       "      <th>umap_n_neighbors</th>\n",
       "      <th>umap_min_dist</th>\n",
       "      <th>umap_metric</th>\n",
       "      <th>umap_n_components</th>\n",
       "      <th>trustworthiness</th>\n",
       "      <th>eps</th>\n",
       "      <th>dbscan_min_samples</th>\n",
       "      <th>dbscan_metric</th>\n",
       "      <th>validity_index</th>\n",
       "      <th>cluster_labels</th>\n",
       "    </tr>\n",
       "  </thead>\n",
       "  <tbody>\n",
       "    <tr>\n",
       "      <th>0</th>\n",
       "      <td>dbscan</td>\n",
       "      <td>2</td>\n",
       "      <td>NaN</td>\n",
       "      <td>NaN</td>\n",
       "      <td>NaN</td>\n",
       "      <td>NaN</td>\n",
       "      <td>0.138859</td>\n",
       "      <td>10</td>\n",
       "      <td>0.01</td>\n",
       "      <td>euclidean</td>\n",
       "      <td>2</td>\n",
       "      <td>0.974305</td>\n",
       "      <td>0.22259</td>\n",
       "      <td>6</td>\n",
       "      <td>cosine</td>\n",
       "      <td>0.951963</td>\n",
       "      <td>[0, 0, 0, 0, 0, 0, 0, 0, 0, 0, 0, 0, 0, 0, 0, ...</td>\n",
       "    </tr>\n",
       "  </tbody>\n",
       "</table>\n",
       "</div>"
      ],
      "text/plain": [
       "     algo  n_clusters_found  n_clusters_db_score_is_min  \\\n",
       "0  dbscan                 2                         NaN   \n",
       "\n",
       "   n_clusters_ch_score_is_max  n_clusters_silhouette_score_is_max  \\\n",
       "0                         NaN                                 NaN   \n",
       "\n",
       "   silhouette_score  hopkins_statistic  umap_n_neighbors  umap_min_dist  \\\n",
       "0               NaN           0.138859                10           0.01   \n",
       "\n",
       "  umap_metric  umap_n_components  trustworthiness      eps  \\\n",
       "0   euclidean                  2         0.974305  0.22259   \n",
       "\n",
       "   dbscan_min_samples dbscan_metric  validity_index  \\\n",
       "0                   6        cosine        0.951963   \n",
       "\n",
       "                                      cluster_labels  \n",
       "0  [0, 0, 0, 0, 0, 0, 0, 0, 0, 0, 0, 0, 0, 0, 0, ...  "
      ]
     },
     "execution_count": 29,
     "metadata": {},
     "output_type": "execute_result"
    }
   ],
   "source": [
    "n=1\n",
    "\n",
    "results_df['combined_score'] = results_df['silhouette_score'].fillna(results_df['validity_index'])\n",
    "results_df = results_df.sort_values(by='combined_score', ascending=False)\n",
    "filter = results_df.head(n)\n",
    "filtered_results_df = results_df[results_df.index.isin(filter.index)]\n",
    "filtered_results_df = filtered_results_df.drop(columns=['combined_score'])\n",
    "\n",
    "filtered_results_df"
   ]
  },
  {
   "cell_type": "markdown",
   "metadata": {},
   "source": [
    "____\n",
    "\n",
    "### Save Filtered Results to CSV"
   ]
  },
  {
   "cell_type": "code",
   "execution_count": null,
   "metadata": {},
   "outputs": [
    {
     "name": "stdout",
     "output_type": "stream",
     "text": [
      "Filtered results dataframe saved at: /Users/mikey/LocalFiles/DS5230/final_project/DS5230-final/data/results/filtered_results_2024-04-1620:16:58.427788.csv\n"
     ]
    }
   ],
   "source": [
    "filtered_results_df.to_csv(data_path + filtered_results_file, index=False)\n",
    "print(\"Filtered results dataframe saved at:\", data_path + filtered_results_file)"
   ]
  },
  {
   "cell_type": "markdown",
   "metadata": {},
   "source": [
    "___\n",
    "\n",
    "## Runtime"
   ]
  },
  {
   "cell_type": "code",
   "execution_count": null,
   "metadata": {},
   "outputs": [
    {
     "name": "stdout",
     "output_type": "stream",
     "text": [
      "Total Run Time(hh:mm.ss): 00:00.16\n"
     ]
    }
   ],
   "source": [
    "finish = time.time()\n",
    "hours = int((finish - start) // 3600)\n",
    "minutes = int(((finish - start) % 3600) // 60)\n",
    "seconds = int((finish - start) % 60)\n",
    "print(f\"Total Run Time(hh:mm.ss): {hours:02d}:{minutes:02d}.{seconds:02d}\")"
   ]
  }
 ],
 "metadata": {
  "kernelspec": {
   "display_name": "usml_base_ds2",
   "language": "python",
   "name": "python3"
  },
  "language_info": {
   "codemirror_mode": {
    "name": "ipython",
    "version": 3
   },
   "file_extension": ".py",
   "mimetype": "text/x-python",
   "name": "python",
   "nbconvert_exporter": "python",
   "pygments_lexer": "ipython3",
   "version": "3.10.13"
  }
 },
 "nbformat": 4,
 "nbformat_minor": 2
}

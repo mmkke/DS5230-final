{
 "cells": [
  {
   "attachments": {},
   "cell_type": "markdown",
   "metadata": {},
   "source": [
    "## Final Project: Phase 3 - Avoiding False Discoveries\n",
    "Spring 2024  \n",
    "Group: Michael Massone and Joseph Nelson Farrell   \n",
    "DS 5230 Unsupervised Machine Learning  \n",
    "Professor Steven Morin, PhD  \n",
    "Due: 04/17/2024  \n",
    "___"
   ]
  },
  {
   "attachments": {},
   "cell_type": "markdown",
   "metadata": {},
   "source": [
    "### Import Libraries"
   ]
  },
  {
   "cell_type": "code",
   "execution_count": 1,
   "metadata": {},
   "outputs": [],
   "source": [
    "# base\n",
    "import pandas as pd\n",
    "import numpy as np\n",
    "import matplotlib.pyplot as plt\n",
    "import numpy as np\n",
    "\n",
    "# pathing\n",
    "from pathlib import Path\n",
    "import os\n",
    "import sys"
   ]
  },
  {
   "attachments": {},
   "cell_type": "markdown",
   "metadata": {},
   "source": [
    "### Set Paths"
   ]
  },
  {
   "cell_type": "code",
   "execution_count": 2,
   "metadata": {},
   "outputs": [
    {
     "name": "stdout",
     "output_type": "stream",
     "text": [
      "/Users/nelsonfarrell/Documents/Northeastern/5230/final_project/DS5230-final/notebooks\n",
      "/Users/nelsonfarrell/Documents/Northeastern/5230/final_project/DS5230-final\n",
      "/Users/nelsonfarrell/Documents/Northeastern/5230/final_project/DS5230-final/src\n"
     ]
    }
   ],
   "source": [
    "# define path\n",
    "HOME = Path(os.getcwd())\n",
    "print(HOME)\n",
    "\n",
    "HOME_PARENT_STR = str(HOME.parent)\n",
    "print(HOME_PARENT_STR)\n",
    "\n",
    "# path to figs folder\n",
    "PATH_TO_FIGS_FOLDER = HOME_PARENT_STR + '/figs'\n",
    "\n",
    "# path to data\n",
    "PATH_TO_DATA_FOLDER = HOME_PARENT_STR + '/data'\n",
    "\n",
    "# path to src folder\n",
    "PATH_TO_SRC = HOME_PARENT_STR + '/src'\n",
    "print(PATH_TO_SRC)\n",
    "\n",
    "# sys path\n",
    "sys.path.append(PATH_TO_SRC)"
   ]
  },
  {
   "attachments": {},
   "cell_type": "markdown",
   "metadata": {},
   "source": [
    "### Import Functions"
   ]
  },
  {
   "cell_type": "code",
   "execution_count": 3,
   "metadata": {},
   "outputs": [],
   "source": [
    "import afd_utils\n",
    "import cluster_utils"
   ]
  },
  {
   "attachments": {},
   "cell_type": "markdown",
   "metadata": {},
   "source": [
    "### Import Data"
   ]
  },
  {
   "cell_type": "code",
   "execution_count": 4,
   "metadata": {},
   "outputs": [],
   "source": [
    "cap_x_file =  '/curated/trans_data_design.csv'\n",
    "cap_x = pd.read_csv(PATH_TO_DATA_FOLDER + cap_x_file)"
   ]
  },
  {
   "cell_type": "code",
   "execution_count": 5,
   "metadata": {},
   "outputs": [
    {
     "name": "stderr",
     "output_type": "stream",
     "text": [
      "/Users/nelsonfarrell/Documents/Northeastern/5230/final_project/DS5230-final/src/afd_utils.py:32: FutureWarning: Series.__getitem__ treating keys as positions is deprecated. In a future version, integer keys will always be treated as labels (consistent with DataFrame behavior). To access a value by position, use `ser.iloc[pos]`\n",
      "  randomly_distributed_data = np.random.uniform(low=data_min[0], high=data_max[0], size=(cap_x.shape[0], 1))\n",
      "/Users/nelsonfarrell/Documents/Northeastern/5230/final_project/DS5230-final/src/afd_utils.py:34: FutureWarning: Series.__getitem__ treating keys as positions is deprecated. In a future version, integer keys will always be treated as labels (consistent with DataFrame behavior). To access a value by position, use `ser.iloc[pos]`\n",
      "  rand_i_dim = np.random.uniform(low=data_min[0], high=data_max[0], size=(cap_x.shape[0], 1))\n"
     ]
    }
   ],
   "source": [
    "random_data = afd_utils.get_randomly_distributed_data(cap_x)"
   ]
  },
  {
   "cell_type": "code",
   "execution_count": null,
   "metadata": {},
   "outputs": [],
   "source": []
  }
 ],
 "metadata": {
  "kernelspec": {
   "display_name": "usml_base_ds_2",
   "language": "python",
   "name": "python3"
  },
  "language_info": {
   "codemirror_mode": {
    "name": "ipython",
    "version": 3
   },
   "file_extension": ".py",
   "mimetype": "text/x-python",
   "name": "python",
   "nbconvert_exporter": "python",
   "pygments_lexer": "ipython3",
   "version": "3.10.13"
  },
  "orig_nbformat": 4,
  "vscode": {
   "interpreter": {
    "hash": "223b1550dc78f844b6fc76646e34a900d2238e92077e116b9cd6c423cf4f2cdd"
   }
  }
 },
 "nbformat": 4,
 "nbformat_minor": 2
}

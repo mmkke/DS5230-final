{
 "cells": [
  {
   "attachments": {},
   "cell_type": "markdown",
   "metadata": {},
   "source": [
    "## Final Project: Phase 3 - Avoiding False Discoveries\n",
    "Spring 2024  \n",
    "Group: Michael Massone and Joseph Nelson Farrell   \n",
    "DS 5230 Unsupervised Machine Learning  \n",
    "Professor Steven Morin, PhD  \n",
    "Due: 04/17/2024  \n",
    "___"
   ]
  },
  {
   "attachments": {},
   "cell_type": "markdown",
   "metadata": {},
   "source": [
    "### Import Libraries"
   ]
  },
  {
   "cell_type": "code",
   "execution_count": 1,
   "metadata": {},
   "outputs": [],
   "source": [
    "# base\n",
    "import pandas as pd\n",
    "import matplotlib.pyplot as plt\n",
    "import numpy as np\n",
    "import seaborn as sns\n",
    "\n",
    "\n",
    "# pathing\n",
    "from pathlib import Path\n",
    "import os\n",
    "import sys\n",
    "\n",
    "import umap\n",
    "\n",
    "import time\n"
   ]
  },
  {
   "cell_type": "markdown",
   "metadata": {},
   "source": [
    "___\n",
    "\n",
    "### Start Timer"
   ]
  },
  {
   "cell_type": "code",
   "execution_count": 2,
   "metadata": {},
   "outputs": [],
   "source": [
    "# track runtime\n",
    "start = time.time()"
   ]
  },
  {
   "attachments": {},
   "cell_type": "markdown",
   "metadata": {},
   "source": [
    "### Set Paths"
   ]
  },
  {
   "cell_type": "code",
   "execution_count": 3,
   "metadata": {},
   "outputs": [
    {
     "name": "stdout",
     "output_type": "stream",
     "text": [
      "/Users/mikey/LocalFiles/DS5230/final_project/DS5230-final/notebooks\n",
      "/Users/mikey/LocalFiles/DS5230/final_project/DS5230-final\n",
      "/Users/mikey/LocalFiles/DS5230/final_project/DS5230-final/src\n"
     ]
    }
   ],
   "source": [
    "# define path\n",
    "HOME = Path(os.getcwd())\n",
    "print(HOME)\n",
    "\n",
    "HOME_PARENT_STR = str(HOME.parent)\n",
    "print(HOME_PARENT_STR)\n",
    "\n",
    "# path to figs folder\n",
    "PATH_TO_FIGS_FOLDER = HOME_PARENT_STR + '/figs'\n",
    "\n",
    "# path to data\n",
    "PATH_TO_DATA_FOLDER = HOME_PARENT_STR + '/data'\n",
    "\n",
    "# path to src folder\n",
    "PATH_TO_SRC = HOME_PARENT_STR + '/src'\n",
    "print(PATH_TO_SRC)\n",
    "\n",
    "# sys path\n",
    "sys.path.append(PATH_TO_SRC)"
   ]
  },
  {
   "attachments": {},
   "cell_type": "markdown",
   "metadata": {},
   "source": [
    "### Import Functions"
   ]
  },
  {
   "cell_type": "code",
   "execution_count": 4,
   "metadata": {},
   "outputs": [],
   "source": [
    "import afd_utils\n",
    "import cluster_utils"
   ]
  },
  {
   "attachments": {},
   "cell_type": "markdown",
   "metadata": {},
   "source": [
    "### Import Data"
   ]
  },
  {
   "cell_type": "code",
   "execution_count": 5,
   "metadata": {},
   "outputs": [],
   "source": [
    "results_frame_file =  '/results/filtered_results_2024-04-1813:01:34.137038.csv'\n",
    "results_frame = pd.read_csv(PATH_TO_DATA_FOLDER + results_frame_file)"
   ]
  },
  {
   "attachments": {},
   "cell_type": "markdown",
   "metadata": {},
   "source": [
    "### Check for Kmeans"
   ]
  },
  {
   "cell_type": "code",
   "execution_count": 6,
   "metadata": {},
   "outputs": [
    {
     "name": "stdout",
     "output_type": "stream",
     "text": [
      "There is a Kmeans Solution. Proceed\n"
     ]
    }
   ],
   "source": [
    "# check if there is a Kmeans solution\n",
    "if 'k_means' in list(results_frame['algo']):\n",
    "    print(\"There is a Kmeans Solution. Proceed\")\n",
    "else:\n",
    "    print('There is not Kmeans solution to check. Exit notebook.')"
   ]
  },
  {
   "attachments": {},
   "cell_type": "markdown",
   "metadata": {},
   "source": [
    "### Filter for Kmeans"
   ]
  },
  {
   "cell_type": "code",
   "execution_count": 7,
   "metadata": {},
   "outputs": [
    {
     "data": {
      "text/html": [
       "<div>\n",
       "<style scoped>\n",
       "    .dataframe tbody tr th:only-of-type {\n",
       "        vertical-align: middle;\n",
       "    }\n",
       "\n",
       "    .dataframe tbody tr th {\n",
       "        vertical-align: top;\n",
       "    }\n",
       "\n",
       "    .dataframe thead th {\n",
       "        text-align: right;\n",
       "    }\n",
       "</style>\n",
       "<table border=\"1\" class=\"dataframe\">\n",
       "  <thead>\n",
       "    <tr style=\"text-align: right;\">\n",
       "      <th></th>\n",
       "      <th>algo</th>\n",
       "      <th>n_clusters_found</th>\n",
       "      <th>n_clusters_db_score_is_min</th>\n",
       "      <th>n_clusters_ch_score_is_max</th>\n",
       "      <th>n_clusters_silhouette_score_is_max</th>\n",
       "      <th>silhouette_score</th>\n",
       "      <th>hopkins_statistic</th>\n",
       "      <th>umap_n_neighbors</th>\n",
       "      <th>umap_min_dist</th>\n",
       "      <th>umap_metric</th>\n",
       "      <th>umap_n_components</th>\n",
       "      <th>trustworthiness</th>\n",
       "      <th>eps</th>\n",
       "      <th>dbscan_min_samples</th>\n",
       "      <th>dbscan_metric</th>\n",
       "      <th>validity_index</th>\n",
       "      <th>noise_ratio</th>\n",
       "      <th>cluster_labels</th>\n",
       "    </tr>\n",
       "  </thead>\n",
       "  <tbody>\n",
       "    <tr>\n",
       "      <th>1</th>\n",
       "      <td>k_means</td>\n",
       "      <td>15</td>\n",
       "      <td>15.0</td>\n",
       "      <td>15.0</td>\n",
       "      <td>15.0</td>\n",
       "      <td>0.519526</td>\n",
       "      <td>0.002861</td>\n",
       "      <td>750</td>\n",
       "      <td>0.0</td>\n",
       "      <td>euclidean</td>\n",
       "      <td>7</td>\n",
       "      <td>0.999954</td>\n",
       "      <td>NaN</td>\n",
       "      <td>NaN</td>\n",
       "      <td>NaN</td>\n",
       "      <td>NaN</td>\n",
       "      <td>NaN</td>\n",
       "      <td>5,14,7,7,9,5,4,5,12,13,1,6,11,0,13,12,1,2,14,6...</td>\n",
       "    </tr>\n",
       "  </tbody>\n",
       "</table>\n",
       "</div>"
      ],
      "text/plain": [
       "      algo  n_clusters_found  n_clusters_db_score_is_min  \\\n",
       "1  k_means                15                        15.0   \n",
       "\n",
       "   n_clusters_ch_score_is_max  n_clusters_silhouette_score_is_max  \\\n",
       "1                        15.0                                15.0   \n",
       "\n",
       "   silhouette_score  hopkins_statistic  umap_n_neighbors  umap_min_dist  \\\n",
       "1          0.519526           0.002861               750            0.0   \n",
       "\n",
       "  umap_metric  umap_n_components  trustworthiness  eps  dbscan_min_samples  \\\n",
       "1   euclidean                  7         0.999954  NaN                 NaN   \n",
       "\n",
       "  dbscan_metric  validity_index  noise_ratio  \\\n",
       "1           NaN             NaN          NaN   \n",
       "\n",
       "                                      cluster_labels  \n",
       "1  5,14,7,7,9,5,4,5,12,13,1,6,11,0,13,12,1,2,14,6...  "
      ]
     },
     "execution_count": 7,
     "metadata": {},
     "output_type": "execute_result"
    }
   ],
   "source": [
    "# filter results for k_means solution\n",
    "results_frame = results_frame[results_frame[\"algo\"] == \"k_means\"]\n",
    "results_frame"
   ]
  },
  {
   "attachments": {},
   "cell_type": "markdown",
   "metadata": {},
   "source": [
    "### Get Best Kmeans"
   ]
  },
  {
   "cell_type": "code",
   "execution_count": 8,
   "metadata": {},
   "outputs": [
    {
     "data": {
      "text/html": [
       "<div>\n",
       "<style scoped>\n",
       "    .dataframe tbody tr th:only-of-type {\n",
       "        vertical-align: middle;\n",
       "    }\n",
       "\n",
       "    .dataframe tbody tr th {\n",
       "        vertical-align: top;\n",
       "    }\n",
       "\n",
       "    .dataframe thead th {\n",
       "        text-align: right;\n",
       "    }\n",
       "</style>\n",
       "<table border=\"1\" class=\"dataframe\">\n",
       "  <thead>\n",
       "    <tr style=\"text-align: right;\">\n",
       "      <th></th>\n",
       "      <th>algo</th>\n",
       "      <th>n_clusters_found</th>\n",
       "      <th>n_clusters_db_score_is_min</th>\n",
       "      <th>n_clusters_ch_score_is_max</th>\n",
       "      <th>n_clusters_silhouette_score_is_max</th>\n",
       "      <th>silhouette_score</th>\n",
       "      <th>hopkins_statistic</th>\n",
       "      <th>umap_n_neighbors</th>\n",
       "      <th>umap_min_dist</th>\n",
       "      <th>umap_metric</th>\n",
       "      <th>umap_n_components</th>\n",
       "      <th>trustworthiness</th>\n",
       "      <th>eps</th>\n",
       "      <th>dbscan_min_samples</th>\n",
       "      <th>dbscan_metric</th>\n",
       "      <th>validity_index</th>\n",
       "      <th>noise_ratio</th>\n",
       "      <th>cluster_labels</th>\n",
       "    </tr>\n",
       "  </thead>\n",
       "  <tbody>\n",
       "    <tr>\n",
       "      <th>0</th>\n",
       "      <td>k_means</td>\n",
       "      <td>15</td>\n",
       "      <td>15.0</td>\n",
       "      <td>15.0</td>\n",
       "      <td>15.0</td>\n",
       "      <td>0.519526</td>\n",
       "      <td>0.002861</td>\n",
       "      <td>750</td>\n",
       "      <td>0.0</td>\n",
       "      <td>euclidean</td>\n",
       "      <td>7</td>\n",
       "      <td>0.999954</td>\n",
       "      <td>NaN</td>\n",
       "      <td>NaN</td>\n",
       "      <td>NaN</td>\n",
       "      <td>NaN</td>\n",
       "      <td>NaN</td>\n",
       "      <td>5,14,7,7,9,5,4,5,12,13,1,6,11,0,13,12,1,2,14,6...</td>\n",
       "    </tr>\n",
       "  </tbody>\n",
       "</table>\n",
       "</div>"
      ],
      "text/plain": [
       "      algo n_clusters_found n_clusters_db_score_is_min  \\\n",
       "0  k_means               15                       15.0   \n",
       "\n",
       "  n_clusters_ch_score_is_max n_clusters_silhouette_score_is_max  \\\n",
       "0                       15.0                               15.0   \n",
       "\n",
       "  silhouette_score hopkins_statistic umap_n_neighbors umap_min_dist  \\\n",
       "0         0.519526          0.002861              750           0.0   \n",
       "\n",
       "  umap_metric umap_n_components trustworthiness  eps dbscan_min_samples  \\\n",
       "0   euclidean                 7        0.999954  NaN                NaN   \n",
       "\n",
       "  dbscan_metric validity_index noise_ratio  \\\n",
       "0           NaN            NaN         NaN   \n",
       "\n",
       "                                      cluster_labels  \n",
       "0  5,14,7,7,9,5,4,5,12,13,1,6,11,0,13,12,1,2,14,6...  "
      ]
     },
     "execution_count": 8,
     "metadata": {},
     "output_type": "execute_result"
    }
   ],
   "source": [
    "results_frame.sort_values('silhouette_score', ascending = False, inplace = True)\n",
    "results_frame.reset_index(drop = True, inplace = True)\n",
    "best_result = pd.DataFrame(results_frame.loc[0, :]).T\n",
    "best_result"
   ]
  },
  {
   "attachments": {},
   "cell_type": "markdown",
   "metadata": {},
   "source": [
    "### Get Cap X"
   ]
  },
  {
   "cell_type": "code",
   "execution_count": 9,
   "metadata": {},
   "outputs": [
    {
     "name": "stderr",
     "output_type": "stream",
     "text": [
      "/Users/mikey/miniconda3/envs/usml_base_ds2/lib/python3.10/site-packages/umap/umap_.py:1943: UserWarning: n_jobs value -1 overridden to 1 by setting random_state. Use no seed for parallelism.\n",
      "  warn(f\"n_jobs value {self.n_jobs} overridden to 1 by setting random_state. Use no seed for parallelism.\")\n"
     ]
    }
   ],
   "source": [
    "# get the design matrix\n",
    "design_file = '/curated/shuffled_design.csv'\n",
    "design_matrix_shuffled = pd.read_csv(PATH_TO_DATA_FOLDER + design_file)\n",
    "\n",
    "# drop ID col\n",
    "design_matrix_shuffled_noID = design_matrix_shuffled.drop('ID', axis=1)\n",
    "\n",
    "# convert to ndarray\n",
    "cap_x = design_matrix_shuffled_noID.to_numpy()\n",
    "cap_x = design_matrix_shuffled\n",
    "cap_x.shape\n",
    "\n",
    "# get umap hypers from results frame\n",
    "n_neighbors = results_frame['umap_n_neighbors'][0]\n",
    "n_components = results_frame['umap_n_components'][0]\n",
    "metric = results_frame['umap_metric'][0]\n",
    "min_dist = results_frame['umap_min_dist'][0]\n",
    "\n",
    "# get the latent embedding discovered in the gridsearch\n",
    "reducer = umap.UMAP(\n",
    "        n_neighbors = n_neighbors, \n",
    "        n_components = n_components, \n",
    "        metric = metric, \n",
    "        min_dist = min_dist, \n",
    "        spread = 1.0, \n",
    "        random_state = 42\n",
    "        )\n",
    "\n",
    "# fit and embed\n",
    "reducer.fit(cap_x)\n",
    "embedding = reducer.transform(cap_x)"
   ]
  },
  {
   "cell_type": "code",
   "execution_count": 10,
   "metadata": {},
   "outputs": [
    {
     "name": "stderr",
     "output_type": "stream",
     "text": [
      "/Users/mikey/miniconda3/envs/usml_base_ds2/lib/python3.10/site-packages/sklearn/cluster/_kmeans.py:1412: FutureWarning: The default value of `n_init` will change from 10 to 'auto' in 1.4. Set the value of `n_init` explicitly to suppress the warning\n",
      "  super()._check_params_vs_input(X, default_n_init=10)\n",
      "/Users/mikey/miniconda3/envs/usml_base_ds2/lib/python3.10/site-packages/sklearn/cluster/_kmeans.py:1412: FutureWarning: The default value of `n_init` will change from 10 to 'auto' in 1.4. Set the value of `n_init` explicitly to suppress the warning\n",
      "  super()._check_params_vs_input(X, default_n_init=10)\n",
      "/Users/mikey/miniconda3/envs/usml_base_ds2/lib/python3.10/site-packages/sklearn/cluster/_kmeans.py:1412: FutureWarning: The default value of `n_init` will change from 10 to 'auto' in 1.4. Set the value of `n_init` explicitly to suppress the warning\n",
      "  super()._check_params_vs_input(X, default_n_init=10)\n",
      "/Users/mikey/miniconda3/envs/usml_base_ds2/lib/python3.10/site-packages/sklearn/cluster/_kmeans.py:1412: FutureWarning: The default value of `n_init` will change from 10 to 'auto' in 1.4. Set the value of `n_init` explicitly to suppress the warning\n",
      "  super()._check_params_vs_input(X, default_n_init=10)\n",
      "/Users/mikey/miniconda3/envs/usml_base_ds2/lib/python3.10/site-packages/sklearn/cluster/_kmeans.py:1412: FutureWarning: The default value of `n_init` will change from 10 to 'auto' in 1.4. Set the value of `n_init` explicitly to suppress the warning\n",
      "  super()._check_params_vs_input(X, default_n_init=10)\n",
      "/Users/mikey/miniconda3/envs/usml_base_ds2/lib/python3.10/site-packages/sklearn/cluster/_kmeans.py:1412: FutureWarning: The default value of `n_init` will change from 10 to 'auto' in 1.4. Set the value of `n_init` explicitly to suppress the warning\n",
      "  super()._check_params_vs_input(X, default_n_init=10)\n",
      "/Users/mikey/miniconda3/envs/usml_base_ds2/lib/python3.10/site-packages/sklearn/cluster/_kmeans.py:1412: FutureWarning: The default value of `n_init` will change from 10 to 'auto' in 1.4. Set the value of `n_init` explicitly to suppress the warning\n",
      "  super()._check_params_vs_input(X, default_n_init=10)\n",
      "/Users/mikey/miniconda3/envs/usml_base_ds2/lib/python3.10/site-packages/sklearn/cluster/_kmeans.py:1412: FutureWarning: The default value of `n_init` will change from 10 to 'auto' in 1.4. Set the value of `n_init` explicitly to suppress the warning\n",
      "  super()._check_params_vs_input(X, default_n_init=10)\n",
      "/Users/mikey/miniconda3/envs/usml_base_ds2/lib/python3.10/site-packages/sklearn/cluster/_kmeans.py:1412: FutureWarning: The default value of `n_init` will change from 10 to 'auto' in 1.4. Set the value of `n_init` explicitly to suppress the warning\n",
      "  super()._check_params_vs_input(X, default_n_init=10)\n",
      "/Users/mikey/miniconda3/envs/usml_base_ds2/lib/python3.10/site-packages/sklearn/cluster/_kmeans.py:1412: FutureWarning: The default value of `n_init` will change from 10 to 'auto' in 1.4. Set the value of `n_init` explicitly to suppress the warning\n",
      "  super()._check_params_vs_input(X, default_n_init=10)\n",
      "/Users/mikey/miniconda3/envs/usml_base_ds2/lib/python3.10/site-packages/sklearn/cluster/_kmeans.py:1412: FutureWarning: The default value of `n_init` will change from 10 to 'auto' in 1.4. Set the value of `n_init` explicitly to suppress the warning\n",
      "  super()._check_params_vs_input(X, default_n_init=10)\n",
      "/Users/mikey/miniconda3/envs/usml_base_ds2/lib/python3.10/site-packages/sklearn/cluster/_kmeans.py:1412: FutureWarning: The default value of `n_init` will change from 10 to 'auto' in 1.4. Set the value of `n_init` explicitly to suppress the warning\n",
      "  super()._check_params_vs_input(X, default_n_init=10)\n",
      "/Users/mikey/miniconda3/envs/usml_base_ds2/lib/python3.10/site-packages/sklearn/cluster/_kmeans.py:1412: FutureWarning: The default value of `n_init` will change from 10 to 'auto' in 1.4. Set the value of `n_init` explicitly to suppress the warning\n",
      "  super()._check_params_vs_input(X, default_n_init=10)\n",
      "/Users/mikey/miniconda3/envs/usml_base_ds2/lib/python3.10/site-packages/sklearn/cluster/_kmeans.py:1412: FutureWarning: The default value of `n_init` will change from 10 to 'auto' in 1.4. Set the value of `n_init` explicitly to suppress the warning\n",
      "  super()._check_params_vs_input(X, default_n_init=10)\n",
      "/Users/mikey/miniconda3/envs/usml_base_ds2/lib/python3.10/site-packages/sklearn/cluster/_kmeans.py:1412: FutureWarning: The default value of `n_init` will change from 10 to 'auto' in 1.4. Set the value of `n_init` explicitly to suppress the warning\n",
      "  super()._check_params_vs_input(X, default_n_init=10)\n",
      "/Users/mikey/miniconda3/envs/usml_base_ds2/lib/python3.10/site-packages/sklearn/cluster/_kmeans.py:1412: FutureWarning: The default value of `n_init` will change from 10 to 'auto' in 1.4. Set the value of `n_init` explicitly to suppress the warning\n",
      "  super()._check_params_vs_input(X, default_n_init=10)\n",
      "/Users/mikey/miniconda3/envs/usml_base_ds2/lib/python3.10/site-packages/sklearn/cluster/_kmeans.py:1412: FutureWarning: The default value of `n_init` will change from 10 to 'auto' in 1.4. Set the value of `n_init` explicitly to suppress the warning\n",
      "  super()._check_params_vs_input(X, default_n_init=10)\n",
      "/Users/mikey/miniconda3/envs/usml_base_ds2/lib/python3.10/site-packages/sklearn/cluster/_kmeans.py:1412: FutureWarning: The default value of `n_init` will change from 10 to 'auto' in 1.4. Set the value of `n_init` explicitly to suppress the warning\n",
      "  super()._check_params_vs_input(X, default_n_init=10)\n",
      "/Users/mikey/miniconda3/envs/usml_base_ds2/lib/python3.10/site-packages/sklearn/cluster/_kmeans.py:1412: FutureWarning: The default value of `n_init` will change from 10 to 'auto' in 1.4. Set the value of `n_init` explicitly to suppress the warning\n",
      "  super()._check_params_vs_input(X, default_n_init=10)\n",
      "/Users/mikey/miniconda3/envs/usml_base_ds2/lib/python3.10/site-packages/sklearn/cluster/_kmeans.py:1412: FutureWarning: The default value of `n_init` will change from 10 to 'auto' in 1.4. Set the value of `n_init` explicitly to suppress the warning\n",
      "  super()._check_params_vs_input(X, default_n_init=10)\n",
      "/Users/mikey/miniconda3/envs/usml_base_ds2/lib/python3.10/site-packages/sklearn/cluster/_kmeans.py:1412: FutureWarning: The default value of `n_init` will change from 10 to 'auto' in 1.4. Set the value of `n_init` explicitly to suppress the warning\n",
      "  super()._check_params_vs_input(X, default_n_init=10)\n",
      "/Users/mikey/miniconda3/envs/usml_base_ds2/lib/python3.10/site-packages/sklearn/cluster/_kmeans.py:1412: FutureWarning: The default value of `n_init` will change from 10 to 'auto' in 1.4. Set the value of `n_init` explicitly to suppress the warning\n",
      "  super()._check_params_vs_input(X, default_n_init=10)\n",
      "/Users/mikey/miniconda3/envs/usml_base_ds2/lib/python3.10/site-packages/sklearn/cluster/_kmeans.py:1412: FutureWarning: The default value of `n_init` will change from 10 to 'auto' in 1.4. Set the value of `n_init` explicitly to suppress the warning\n",
      "  super()._check_params_vs_input(X, default_n_init=10)\n",
      "/Users/mikey/miniconda3/envs/usml_base_ds2/lib/python3.10/site-packages/sklearn/cluster/_kmeans.py:1412: FutureWarning: The default value of `n_init` will change from 10 to 'auto' in 1.4. Set the value of `n_init` explicitly to suppress the warning\n",
      "  super()._check_params_vs_input(X, default_n_init=10)\n",
      "/Users/mikey/miniconda3/envs/usml_base_ds2/lib/python3.10/site-packages/sklearn/cluster/_kmeans.py:1412: FutureWarning: The default value of `n_init` will change from 10 to 'auto' in 1.4. Set the value of `n_init` explicitly to suppress the warning\n",
      "  super()._check_params_vs_input(X, default_n_init=10)\n",
      "/Users/mikey/miniconda3/envs/usml_base_ds2/lib/python3.10/site-packages/sklearn/cluster/_kmeans.py:1412: FutureWarning: The default value of `n_init` will change from 10 to 'auto' in 1.4. Set the value of `n_init` explicitly to suppress the warning\n",
      "  super()._check_params_vs_input(X, default_n_init=10)\n",
      "/Users/mikey/miniconda3/envs/usml_base_ds2/lib/python3.10/site-packages/sklearn/cluster/_kmeans.py:1412: FutureWarning: The default value of `n_init` will change from 10 to 'auto' in 1.4. Set the value of `n_init` explicitly to suppress the warning\n",
      "  super()._check_params_vs_input(X, default_n_init=10)\n",
      "/Users/mikey/miniconda3/envs/usml_base_ds2/lib/python3.10/site-packages/sklearn/cluster/_kmeans.py:1412: FutureWarning: The default value of `n_init` will change from 10 to 'auto' in 1.4. Set the value of `n_init` explicitly to suppress the warning\n",
      "  super()._check_params_vs_input(X, default_n_init=10)\n",
      "/Users/mikey/miniconda3/envs/usml_base_ds2/lib/python3.10/site-packages/sklearn/cluster/_kmeans.py:1412: FutureWarning: The default value of `n_init` will change from 10 to 'auto' in 1.4. Set the value of `n_init` explicitly to suppress the warning\n",
      "  super()._check_params_vs_input(X, default_n_init=10)\n",
      "/Users/mikey/miniconda3/envs/usml_base_ds2/lib/python3.10/site-packages/sklearn/cluster/_kmeans.py:1412: FutureWarning: The default value of `n_init` will change from 10 to 'auto' in 1.4. Set the value of `n_init` explicitly to suppress the warning\n",
      "  super()._check_params_vs_input(X, default_n_init=10)\n",
      "/Users/mikey/miniconda3/envs/usml_base_ds2/lib/python3.10/site-packages/sklearn/cluster/_kmeans.py:1412: FutureWarning: The default value of `n_init` will change from 10 to 'auto' in 1.4. Set the value of `n_init` explicitly to suppress the warning\n",
      "  super()._check_params_vs_input(X, default_n_init=10)\n",
      "/Users/mikey/miniconda3/envs/usml_base_ds2/lib/python3.10/site-packages/sklearn/cluster/_kmeans.py:1412: FutureWarning: The default value of `n_init` will change from 10 to 'auto' in 1.4. Set the value of `n_init` explicitly to suppress the warning\n",
      "  super()._check_params_vs_input(X, default_n_init=10)\n",
      "/Users/mikey/miniconda3/envs/usml_base_ds2/lib/python3.10/site-packages/sklearn/cluster/_kmeans.py:1412: FutureWarning: The default value of `n_init` will change from 10 to 'auto' in 1.4. Set the value of `n_init` explicitly to suppress the warning\n",
      "  super()._check_params_vs_input(X, default_n_init=10)\n",
      "/Users/mikey/miniconda3/envs/usml_base_ds2/lib/python3.10/site-packages/sklearn/cluster/_kmeans.py:1412: FutureWarning: The default value of `n_init` will change from 10 to 'auto' in 1.4. Set the value of `n_init` explicitly to suppress the warning\n",
      "  super()._check_params_vs_input(X, default_n_init=10)\n",
      "/Users/mikey/miniconda3/envs/usml_base_ds2/lib/python3.10/site-packages/sklearn/cluster/_kmeans.py:1412: FutureWarning: The default value of `n_init` will change from 10 to 'auto' in 1.4. Set the value of `n_init` explicitly to suppress the warning\n",
      "  super()._check_params_vs_input(X, default_n_init=10)\n",
      "/Users/mikey/miniconda3/envs/usml_base_ds2/lib/python3.10/site-packages/sklearn/cluster/_kmeans.py:1412: FutureWarning: The default value of `n_init` will change from 10 to 'auto' in 1.4. Set the value of `n_init` explicitly to suppress the warning\n",
      "  super()._check_params_vs_input(X, default_n_init=10)\n",
      "/Users/mikey/miniconda3/envs/usml_base_ds2/lib/python3.10/site-packages/sklearn/cluster/_kmeans.py:1412: FutureWarning: The default value of `n_init` will change from 10 to 'auto' in 1.4. Set the value of `n_init` explicitly to suppress the warning\n",
      "  super()._check_params_vs_input(X, default_n_init=10)\n",
      "/Users/mikey/miniconda3/envs/usml_base_ds2/lib/python3.10/site-packages/sklearn/cluster/_kmeans.py:1412: FutureWarning: The default value of `n_init` will change from 10 to 'auto' in 1.4. Set the value of `n_init` explicitly to suppress the warning\n",
      "  super()._check_params_vs_input(X, default_n_init=10)\n",
      "/Users/mikey/miniconda3/envs/usml_base_ds2/lib/python3.10/site-packages/sklearn/cluster/_kmeans.py:1412: FutureWarning: The default value of `n_init` will change from 10 to 'auto' in 1.4. Set the value of `n_init` explicitly to suppress the warning\n",
      "  super()._check_params_vs_input(X, default_n_init=10)\n",
      "/Users/mikey/miniconda3/envs/usml_base_ds2/lib/python3.10/site-packages/sklearn/cluster/_kmeans.py:1412: FutureWarning: The default value of `n_init` will change from 10 to 'auto' in 1.4. Set the value of `n_init` explicitly to suppress the warning\n",
      "  super()._check_params_vs_input(X, default_n_init=10)\n",
      "/Users/mikey/miniconda3/envs/usml_base_ds2/lib/python3.10/site-packages/sklearn/cluster/_kmeans.py:1412: FutureWarning: The default value of `n_init` will change from 10 to 'auto' in 1.4. Set the value of `n_init` explicitly to suppress the warning\n",
      "  super()._check_params_vs_input(X, default_n_init=10)\n"
     ]
    },
    {
     "name": "stdout",
     "output_type": "stream",
     "text": [
      "      data  silhouette_score\n",
      "0    cap_x          0.519437\n",
      "1   random          0.115390\n",
      "2   random          0.116928\n",
      "3   random          0.115378\n",
      "4   random          0.115029\n",
      "5   random          0.115189\n",
      "6   random          0.114670\n",
      "7   random          0.114130\n",
      "8   random          0.115740\n",
      "9   random          0.115210\n",
      "10  random          0.113970\n",
      "11  random          0.115522\n",
      "12  random          0.114791\n",
      "13  random          0.115305\n",
      "14  random          0.115695\n",
      "15  random          0.114686\n",
      "16  random          0.114310\n",
      "17  random          0.114742\n",
      "18  random          0.115553\n",
      "19  random          0.113913\n",
      "20  random          0.115188\n",
      "21  random          0.115012\n",
      "22  random          0.115063\n",
      "23  random          0.114626\n",
      "24  random          0.113124\n",
      "25  random          0.114069\n",
      "26  random          0.115853\n",
      "27  random          0.114138\n",
      "28  random          0.114928\n",
      "29  random          0.116331\n",
      "30  random          0.114322\n",
      "31  random          0.113506\n",
      "32  random          0.113853\n",
      "33  random          0.114774\n",
      "34  random          0.114639\n",
      "35  random          0.115103\n",
      "36  random          0.115437\n",
      "37  random          0.114444\n",
      "38  random          0.114941\n",
      "39  random          0.114549\n",
      "40  random          0.114463\n"
     ]
    }
   ],
   "source": [
    "# create results list\n",
    "results_list = []\n",
    "n_clusters = results_frame['n_clusters_found'][0]\n",
    "\n",
    "# get sil score of cap_x\n",
    "silhouette_score_cap_x = afd_utils.cluster_kmeans(embedding, n_clusters)\n",
    "results_list.append({'data': 'cap_x', 'silhouette_score': silhouette_score_cap_x})\n",
    "\n",
    "# generate and cluster random data\n",
    "for i in range(40):\n",
    "    random_data = afd_utils.get_randomly_distributed_data(embedding, seed = i)\n",
    "    silhouette_score_random = afd_utils.cluster_kmeans(random_data, n_clusters)\n",
    "    results_list.append({'data': 'random', 'silhouette_score': silhouette_score_random})\n",
    "\n",
    "# convert to results frame\n",
    "results_df = pd.DataFrame(results_list)\n",
    "print(results_df)"
   ]
  },
  {
   "cell_type": "code",
   "execution_count": 17,
   "metadata": {},
   "outputs": [
    {
     "data": {
      "image/png": "[encoded data removed]",
      "text/plain": [
       "<Figure size 640x480 with 1 Axes>"
      ]
     },
     "metadata": {},
     "output_type": "display_data"
    }
   ],
   "source": [
    "sns.histplot(data=results_df, x = 'silhouette_score', hue = 'data', binwidth=0.001)\n",
    "sil_max = results_df['silhouette_score'].max()\n",
    "sil_min = results_df['silhouette_score'].min()\n",
    "plt.xlim([sil_min - .05, sil_max + 0.05])\n",
    "plt.grid()\n",
    "plt.title('Signifigance Testing')\n",
    "plt.savefig(PATH_TO_FIGS_FOLDER + 'sig_test.png', bbox_inches='tight')\n",
    "plt.show()"
   ]
  },
  {
   "cell_type": "markdown",
   "metadata": {},
   "source": [
    "___\n",
    "\n",
    "## Runtime"
   ]
  },
  {
   "cell_type": "code",
   "execution_count": 12,
   "metadata": {},
   "outputs": [
    {
     "name": "stdout",
     "output_type": "stream",
     "text": [
      "Total Run Time(hh:mm.ss): 00:03.50\n"
     ]
    }
   ],
   "source": [
    "finish = time.time()\n",
    "hours = int((finish - start) // 3600)\n",
    "minutes = int(((finish - start) % 3600) // 60)\n",
    "seconds = int((finish - start) % 60)\n",
    "print(f\"Total Run Time(hh:mm.ss): {hours:02d}:{minutes:02d}.{seconds:02d}\")"
   ]
  }
 ],
 "metadata": {
  "kernelspec": {
   "display_name": "usml_base_ds_2",
   "language": "python",
   "name": "python3"
  },
  "language_info": {
   "codemirror_mode": {
    "name": "ipython",
    "version": 3
   },
   "file_extension": ".py",
   "mimetype": "text/x-python",
   "name": "python",
   "nbconvert_exporter": "python",
   "pygments_lexer": "ipython3",
   "version": "3.10.13"
  },
  "orig_nbformat": 4,
  "vscode": {
   "interpreter": {
    "hash": "223b1550dc78f844b6fc76646e34a900d2238e92077e116b9cd6c423cf4f2cdd"
   }
  }
 },
 "nbformat": 4,
 "nbformat_minor": 2
}

{
 "cells": [
  {
   "cell_type": "code",
   "execution_count": 6,
   "metadata": {},
   "outputs": [],
   "source": [
    "## Libraries\n",
    "\n",
    "# base\n",
    "import pandas as pd\n",
    "import numpy as np\n",
    "import matplotlib.pyplot as plt\n",
    "\n",
    "import random\n",
    "\n",
    "\n",
    "# preprocessing\n",
    "from sklearn.utils import shuffle\n",
    "from sklearn.preprocessing import StandardScaler\n",
    "\n",
    "# data\n",
    "from sklearn.datasets import load_digits\n",
    "\n",
    "# clustering\n",
    "from sklearn.cluster import DBSCAN, KMeans\n",
    "\n",
    "#external indices\n",
    "from sklearn.metrics.cluster import adjusted_rand_score, contingency_matrix\n",
    "\n",
    "# runtime and run tracking\n",
    "import time\n",
    "from datetime import datetime\n",
    "\n",
    "# pathing\n",
    "from pathlib import Path\n",
    "import os\n",
    "import sys"
   ]
  },
  {
   "cell_type": "code",
   "execution_count": 7,
   "metadata": {},
   "outputs": [
    {
     "name": "stdout",
     "output_type": "stream",
     "text": [
      "/Users/nelsonfarrell/Documents/Northeastern/5230/final_project/DS5230-final\n"
     ]
    }
   ],
   "source": [
    "path = Path(os.getcwd())\n",
    "path = str(path.parent)"
   ]
  },
  {
   "cell_type": "code",
   "execution_count": 10,
   "metadata": {},
   "outputs": [],
   "source": [
    "module_path = path + '/src'\n",
    "if module_path not in sys.path:\n",
    "    sys.path.append(module_path)"
   ]
  },
  {
   "cell_type": "code",
   "execution_count": 11,
   "metadata": {},
   "outputs": [],
   "source": [
    "# modules and util\n",
    "import dimensionality_reduction as dr\n",
    "import clustering as cl\n",
    "from cluster_utils import *\n",
    "from external_indices_utils import *\n",
    "\n",
    "# import results\n"
   ]
  },
  {
   "cell_type": "code",
   "execution_count": null,
   "metadata": {},
   "outputs": [],
   "source": [
    "# add col for adj ran dscore\n",
    "#best_results_df.loc[:, 'adjusted_rand_score'] = np.nan\n",
    "dataframe_dict = {}\n",
    "df_row_dict_list = []\n",
    "for idx, row in best_results_df.iterrows():\n",
    "    print('\\n') \n",
    "    print('*'*100)\n",
    "    print('Clustering Results')\n",
    "    print('*'*100)\n",
    "    print(row)\n",
    "    \n",
    "\n",
    "    # get algo\n",
    "    algo = row['algo']\n",
    "\n",
    "    # get n_components \n",
    "    n_components = row['umap_n_components']\n",
    "\n",
    "    # create dataframe with columns for every value of n_components\n",
    "    cluster_labels_df = pd.DataFrame()\n",
    "\n",
    "    # add cluster labels to dataframe from results_df\n",
    "    cluster_labels_df.loc[:, str(n_components)] = row['cluster_labels']\n",
    "\n",
    "    # concatonat target vector dataframe with clusterlabels_df\n",
    "    labels_df = pd.concat([target_vector_shuffled, cluster_labels_df], axis=1)\n",
    "    \n",
    "    # drop indicies with noise points\n",
    "    noise_points_row_indices = labels_df.index[(labels_df == -1).any(axis=1)]\n",
    "    labels_df = labels_df.drop(noise_points_row_indices)\n",
    "    labels_df = labels_df.astype('int64')\n",
    "\n",
    "    dataframe_dict[f'df_{str(n_components)}'] = labels_df\n",
    "\n",
    "    # get labels\n",
    "    true_labels = labels_df.loc[:, 'Target']\n",
    "    cluster_labels = labels_df.loc[:, str(n_components)]\n",
    "   \n",
    "    \n",
    "    # get adj rand score and add to dataframe\n",
    "    adj_rand = adjusted_rand_score(true_labels, cluster_labels)\n",
    "    best_results_df.loc[idx, 'adjusted_rand_score'] = adj_rand\n",
    "\n",
    "    # get contigency matrices for all permutatons of cluster labels\n",
    "    cont_matrix = contingency_matrix(true_labels, cluster_labels)\n",
    "    matrix_trace = np.trace(cont_matrix)\n",
    "\n",
    "\n",
    "    # get optimized contingency matrix\n",
    "    modes_df = get_modes(n_components, labels_df)\n",
    "    print(modes_df.info())\n",
    "    cluster_mapping = get_mapping(n_components, labels_df, modes_df)\n",
    "    \n",
    "    labels_df[str(n_components)] = labels_df.loc[:, str(n_components)].map(cluster_mapping)\n",
    "    \n",
    "    remapped_cont_matrix = contingency_matrix(labels_df['Target'], labels_df[str(n_components)])\n",
    "    remapped_matrix_trace = np.trace(remapped_cont_matrix)\n",
    "\n",
    "    # retrieve contigency matrix with highest trace\n",
    "    np.set_printoptions(linewidth=200)\n",
    "    print('\\n') \n",
    "    print('*'*100)\n",
    "    print('CONTINGENCY MATRIX')\n",
    "    print('*'*100)\n",
    "    print('algo: ', algo)\n",
    "    print('n_components: ', n_components)\n",
    "    print('Adjusted Rand Score: ', adj_rand)\n",
    "    print('True Labels: ', true_labels.values)\n",
    "    print('Clustering Predicted Labels: ', cluster_labels.values)\n",
    "    print('Matrix Trace: ', matrix_trace)\n",
    "    print('Contingency Matrix: ')\n",
    "    print(cont_matrix)\n",
    "    print('\\n')\n",
    "    print('REMAPPED CONTINGENCY MATRIX')\n",
    "    print('Remapped Matrix Trace: ', remapped_matrix_trace)\n",
    "    print('Contingency Matrix: ')\n",
    "    print(remapped_cont_matrix)\n",
    "    print('\\n')\n",
    "    print('Mapping: ', dict(sorted(cluster_mapping.items())))\n",
    "\n",
    "    df_row_dict_list.append({\n",
    "                        'algo: ': algo,\n",
    "                        'n_components: ': n_components,\n",
    "                        'adj_rand_score: ': adj_rand,\n",
    "                        'true_labels': true_labels,\n",
    "                        'cluster_labels: ': cluster_labels,\n",
    "                        'matrix_trace': matrix_trace,\n",
    "                        'contingency_matrix': cont_matrix,\n",
    "                        'remapped_cont_matrix': remapped_cont_matrix,\n",
    "                        'mapping': cluster_mapping\n",
    "                        })\n",
    "    \n",
    "matrix_results_df = pd.DataFrame(df_row_dict_list)\n",
    "\n",
    "matrix_results_df"
   ]
  }
 ],
 "metadata": {
  "kernelspec": {
   "display_name": "usml_base_ds_2",
   "language": "python",
   "name": "python3"
  },
  "language_info": {
   "codemirror_mode": {
    "name": "ipython",
    "version": 3
   },
   "file_extension": ".py",
   "mimetype": "text/x-python",
   "name": "python",
   "nbconvert_exporter": "python",
   "pygments_lexer": "ipython3",
   "version": "3.10.13 | packaged by conda-forge | (main, Dec 23 2023, 15:35:25) [Clang 16.0.6 ]"
  },
  "orig_nbformat": 4,
  "vscode": {
   "interpreter": {
    "hash": "223b1550dc78f844b6fc76646e34a900d2238e92077e116b9cd6c423cf4f2cdd"
   }
  }
 },
 "nbformat": 4,
 "nbformat_minor": 2
}

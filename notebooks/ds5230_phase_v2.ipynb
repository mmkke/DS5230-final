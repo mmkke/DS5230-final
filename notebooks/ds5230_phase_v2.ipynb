{
 "cells": [
  {
   "attachments": {},
   "cell_type": "markdown",
   "metadata": {},
   "source": [
    "## Final Project: Phase 2\n",
    "Spring 2024  \n",
    "Group: Michael Massone and Joseph Nelson Farrell   \n",
    "DS 5230 Unsupervised Machine Learning  \n",
    "Professor Steven Morin, PhD  \n",
    "Due: 03/11/2024  \n",
    "___"
   ]
  },
  {
   "attachments": {},
   "cell_type": "markdown",
   "metadata": {},
   "source": [
    "### Libraries"
   ]
  },
  {
   "cell_type": "code",
   "execution_count": 22,
   "metadata": {},
   "outputs": [],
   "source": [
    "import pandas as pd\n",
    "import numpy as np\n",
    "import matplotlib.pyplot as plt\n",
    "import seaborn as sns\n",
    "import missingno as msno\n",
    "import os\n",
    "import sys\n",
    "from pathlib import Path\n",
    "from sklearn.preprocessing import LabelEncoder\n",
    "\n",
    "from statsmodels.stats.outliers_influence import variance_inflation_factor\n",
    "from statsmodels.tools.tools import add_constant\n",
    "\n",
    "from sklearn.pipeline import Pipeline\n",
    "from sklearn.preprocessing import OneHotEncoder\n",
    "from sklearn.preprocessing import StandardScaler\n",
    "from sklearn.impute import SimpleImputer\n",
    "from sklearn.compose import ColumnTransformer\n",
    "\n",
    "import warnings"
   ]
  },
  {
   "attachments": {},
   "cell_type": "markdown",
   "metadata": {},
   "source": [
    "___\n",
    "\n",
    "### Define File Paths"
   ]
  },
  {
   "cell_type": "code",
   "execution_count": 23,
   "metadata": {},
   "outputs": [
    {
     "name": "stdout",
     "output_type": "stream",
     "text": [
      "/Users/nelsonfarrell/Documents/Northeastern/5230/final_project/DS5230-final/notebooks\n",
      "/Users/nelsonfarrell/Documents/Northeastern/5230/final_project/DS5230-final\n",
      "/Users/nelsonfarrell/Documents/Northeastern/5230/final_project/DS5230-final/src\n"
     ]
    }
   ],
   "source": [
    "# define path\n",
    "nb_path = Path(os.getcwd())\n",
    "print(nb_path)\n",
    "path = str(nb_path.parent)\n",
    "print(path)\n",
    "\n",
    "# path to figs folder\n",
    "figs_path = path + '/figs'\n",
    "\n",
    "# path to data\n",
    "data_path= path + '/data'\n",
    "\n",
    "# path to src folder\n",
    "src_path = path + '/src'\n",
    "print(src_path)\n",
    "\n",
    "# sys path\n",
    "sys.path.append(src_path)"
   ]
  },
  {
   "attachments": {},
   "cell_type": "markdown",
   "metadata": {},
   "source": [
    "___\n",
    "\n",
    "### Functions"
   ]
  },
  {
   "cell_type": "code",
   "execution_count": 24,
   "metadata": {},
   "outputs": [],
   "source": [
    "from preprocessing_eda_utils import missingness_cols\n",
    "from preprocessing_eda_utils import column_dtypes\n",
    "from preprocessing_eda_utils import compute_vif\n",
    "from preprocessing_eda_utils import generate_column_hist"
   ]
  },
  {
   "attachments": {},
   "cell_type": "markdown",
   "metadata": {},
   "source": [
    "___\n",
    "\n",
    "### Parameters"
   ]
  },
  {
   "cell_type": "code",
   "execution_count": 25,
   "metadata": {},
   "outputs": [],
   "source": [
    "# design matrix csv file name\n",
    "design_matrix_file_name = \"/curated/beans_design.csv\"\n",
    "\n",
    "# missingness threshold for determining columns to drop\n",
    "missingness_threshold = 0.20\n",
    "\n",
    "# min frequency for nomical transformer; OneHotEncoder\n",
    "min_frequency = 20"
   ]
  },
  {
   "attachments": {},
   "cell_type": "markdown",
   "metadata": {},
   "source": [
    "___\n",
    "\n",
    "### Load Data"
   ]
  },
  {
   "cell_type": "code",
   "execution_count": 26,
   "metadata": {},
   "outputs": [],
   "source": [
    "# read in design matrix\n",
    "design_df = pd.read_csv( data_path + design_matrix_file_name)"
   ]
  },
  {
   "attachments": {},
   "cell_type": "markdown",
   "metadata": {},
   "source": [
    "___\n",
    "\n",
    "## Attribute Exploration\n",
    "\n",
    "___\n",
    "\n",
    "### Identify Columns with Missing Value Count Above Threshold"
   ]
  },
  {
   "cell_type": "code",
   "execution_count": 27,
   "metadata": {},
   "outputs": [
    {
     "name": "stdout",
     "output_type": "stream",
     "text": [
      "There are no columns that require dropping based on missingness\n"
     ]
    }
   ],
   "source": [
    "# check columns for missingness\n",
    "missingness_drop_list = missingness_cols(design_df, missingness_threshold)\n",
    "\n",
    "# display results\n",
    "if missingness_drop_list == []:\n",
    "    print(f'There are no columns that require dropping based on missingness')\n",
    "else:\n",
    "    print(f'The following columns have a missingness proportion greater than {missingness_threshold}.')\n",
    "    print(f'These columns should be dropped:')\n",
    "    for i in range(len(missingness_drop_list)):\n",
    "        print(f'\\t{i + 1}. {missingness_drop_list[i]}')"
   ]
  },
  {
   "attachments": {},
   "cell_type": "markdown",
   "metadata": {},
   "source": [
    "___\n",
    "\n",
    "### Visually Inspect Design Matrix:"
   ]
  },
  {
   "cell_type": "code",
   "execution_count": 28,
   "metadata": {},
   "outputs": [
    {
     "data": {
      "text/html": [
       "<div>\n",
       "<style scoped>\n",
       "    .dataframe tbody tr th:only-of-type {\n",
       "        vertical-align: middle;\n",
       "    }\n",
       "\n",
       "    .dataframe tbody tr th {\n",
       "        vertical-align: top;\n",
       "    }\n",
       "\n",
       "    .dataframe thead th {\n",
       "        text-align: right;\n",
       "    }\n",
       "</style>\n",
       "<table border=\"1\" class=\"dataframe\">\n",
       "  <thead>\n",
       "    <tr style=\"text-align: right;\">\n",
       "      <th></th>\n",
       "      <th>Unnamed: 0</th>\n",
       "      <th>id</th>\n",
       "      <th>Area</th>\n",
       "      <th>Perimeter</th>\n",
       "      <th>MajorAxisLength</th>\n",
       "      <th>MinorAxisLength</th>\n",
       "      <th>AspectRation</th>\n",
       "      <th>Eccentricity</th>\n",
       "      <th>ConvexArea</th>\n",
       "      <th>EquivDiameter</th>\n",
       "      <th>Extent</th>\n",
       "      <th>Solidity</th>\n",
       "      <th>roundness</th>\n",
       "      <th>Compactness</th>\n",
       "      <th>ShapeFactor1</th>\n",
       "      <th>ShapeFactor2</th>\n",
       "      <th>ShapeFactor3</th>\n",
       "      <th>ShapeFactor4</th>\n",
       "    </tr>\n",
       "  </thead>\n",
       "  <tbody>\n",
       "    <tr>\n",
       "      <th>0</th>\n",
       "      <td>0</td>\n",
       "      <td>0</td>\n",
       "      <td>28395.0</td>\n",
       "      <td>610.291</td>\n",
       "      <td>208.178117</td>\n",
       "      <td>173.888747</td>\n",
       "      <td>1.197191</td>\n",
       "      <td>0.549812</td>\n",
       "      <td>28715.0</td>\n",
       "      <td>190.141097</td>\n",
       "      <td>0.763923</td>\n",
       "      <td>0.988856</td>\n",
       "      <td>0.958027</td>\n",
       "      <td>0.913358</td>\n",
       "      <td>0.007332</td>\n",
       "      <td>0.003147</td>\n",
       "      <td>0.834222</td>\n",
       "      <td>0.998724</td>\n",
       "    </tr>\n",
       "    <tr>\n",
       "      <th>1</th>\n",
       "      <td>1</td>\n",
       "      <td>1</td>\n",
       "      <td>28734.0</td>\n",
       "      <td>638.018</td>\n",
       "      <td>200.524796</td>\n",
       "      <td>182.734419</td>\n",
       "      <td>1.097356</td>\n",
       "      <td>0.411785</td>\n",
       "      <td>29172.0</td>\n",
       "      <td>191.272750</td>\n",
       "      <td>0.783968</td>\n",
       "      <td>0.984986</td>\n",
       "      <td>0.887034</td>\n",
       "      <td>0.953861</td>\n",
       "      <td>0.006979</td>\n",
       "      <td>0.003564</td>\n",
       "      <td>0.909851</td>\n",
       "      <td>0.998430</td>\n",
       "    </tr>\n",
       "    <tr>\n",
       "      <th>2</th>\n",
       "      <td>2</td>\n",
       "      <td>2</td>\n",
       "      <td>29380.0</td>\n",
       "      <td>624.110</td>\n",
       "      <td>212.826130</td>\n",
       "      <td>175.931143</td>\n",
       "      <td>1.209713</td>\n",
       "      <td>0.562727</td>\n",
       "      <td>29690.0</td>\n",
       "      <td>193.410904</td>\n",
       "      <td>0.778113</td>\n",
       "      <td>0.989559</td>\n",
       "      <td>0.947849</td>\n",
       "      <td>0.908774</td>\n",
       "      <td>0.007244</td>\n",
       "      <td>0.003048</td>\n",
       "      <td>0.825871</td>\n",
       "      <td>0.999066</td>\n",
       "    </tr>\n",
       "    <tr>\n",
       "      <th>3</th>\n",
       "      <td>3</td>\n",
       "      <td>3</td>\n",
       "      <td>30008.0</td>\n",
       "      <td>645.884</td>\n",
       "      <td>210.557999</td>\n",
       "      <td>182.516516</td>\n",
       "      <td>1.153638</td>\n",
       "      <td>0.498616</td>\n",
       "      <td>30724.0</td>\n",
       "      <td>195.467062</td>\n",
       "      <td>0.782681</td>\n",
       "      <td>0.976696</td>\n",
       "      <td>0.903936</td>\n",
       "      <td>0.928329</td>\n",
       "      <td>0.007017</td>\n",
       "      <td>0.003215</td>\n",
       "      <td>0.861794</td>\n",
       "      <td>0.994199</td>\n",
       "    </tr>\n",
       "    <tr>\n",
       "      <th>4</th>\n",
       "      <td>4</td>\n",
       "      <td>4</td>\n",
       "      <td>30140.0</td>\n",
       "      <td>620.134</td>\n",
       "      <td>201.847882</td>\n",
       "      <td>190.279279</td>\n",
       "      <td>1.060798</td>\n",
       "      <td>0.333680</td>\n",
       "      <td>30417.0</td>\n",
       "      <td>195.896503</td>\n",
       "      <td>0.773098</td>\n",
       "      <td>0.990893</td>\n",
       "      <td>0.984877</td>\n",
       "      <td>0.970516</td>\n",
       "      <td>0.006697</td>\n",
       "      <td>0.003665</td>\n",
       "      <td>0.941900</td>\n",
       "      <td>0.999166</td>\n",
       "    </tr>\n",
       "    <tr>\n",
       "      <th>5</th>\n",
       "      <td>5</td>\n",
       "      <td>5</td>\n",
       "      <td>30279.0</td>\n",
       "      <td>634.927</td>\n",
       "      <td>212.560556</td>\n",
       "      <td>181.510182</td>\n",
       "      <td>1.171067</td>\n",
       "      <td>0.520401</td>\n",
       "      <td>30600.0</td>\n",
       "      <td>196.347702</td>\n",
       "      <td>0.775688</td>\n",
       "      <td>0.989510</td>\n",
       "      <td>0.943852</td>\n",
       "      <td>0.923726</td>\n",
       "      <td>0.007020</td>\n",
       "      <td>0.003153</td>\n",
       "      <td>0.853270</td>\n",
       "      <td>0.999236</td>\n",
       "    </tr>\n",
       "    <tr>\n",
       "      <th>6</th>\n",
       "      <td>6</td>\n",
       "      <td>6</td>\n",
       "      <td>30477.0</td>\n",
       "      <td>670.033</td>\n",
       "      <td>211.050155</td>\n",
       "      <td>184.039050</td>\n",
       "      <td>1.146768</td>\n",
       "      <td>0.489478</td>\n",
       "      <td>30970.0</td>\n",
       "      <td>196.988633</td>\n",
       "      <td>0.762402</td>\n",
       "      <td>0.984081</td>\n",
       "      <td>0.853080</td>\n",
       "      <td>0.933374</td>\n",
       "      <td>0.006925</td>\n",
       "      <td>0.003242</td>\n",
       "      <td>0.871186</td>\n",
       "      <td>0.999049</td>\n",
       "    </tr>\n",
       "    <tr>\n",
       "      <th>7</th>\n",
       "      <td>7</td>\n",
       "      <td>7</td>\n",
       "      <td>30519.0</td>\n",
       "      <td>629.727</td>\n",
       "      <td>212.996755</td>\n",
       "      <td>182.737204</td>\n",
       "      <td>1.165591</td>\n",
       "      <td>0.513760</td>\n",
       "      <td>30847.0</td>\n",
       "      <td>197.124320</td>\n",
       "      <td>0.770682</td>\n",
       "      <td>0.989367</td>\n",
       "      <td>0.967109</td>\n",
       "      <td>0.925480</td>\n",
       "      <td>0.006979</td>\n",
       "      <td>0.003158</td>\n",
       "      <td>0.856514</td>\n",
       "      <td>0.998345</td>\n",
       "    </tr>\n",
       "    <tr>\n",
       "      <th>8</th>\n",
       "      <td>8</td>\n",
       "      <td>8</td>\n",
       "      <td>30685.0</td>\n",
       "      <td>635.681</td>\n",
       "      <td>213.534145</td>\n",
       "      <td>183.157146</td>\n",
       "      <td>1.165852</td>\n",
       "      <td>0.514081</td>\n",
       "      <td>31044.0</td>\n",
       "      <td>197.659696</td>\n",
       "      <td>0.771561</td>\n",
       "      <td>0.988436</td>\n",
       "      <td>0.954240</td>\n",
       "      <td>0.925658</td>\n",
       "      <td>0.006959</td>\n",
       "      <td>0.003152</td>\n",
       "      <td>0.856844</td>\n",
       "      <td>0.998953</td>\n",
       "    </tr>\n",
       "    <tr>\n",
       "      <th>9</th>\n",
       "      <td>9</td>\n",
       "      <td>9</td>\n",
       "      <td>30834.0</td>\n",
       "      <td>631.934</td>\n",
       "      <td>217.227813</td>\n",
       "      <td>180.897469</td>\n",
       "      <td>1.200834</td>\n",
       "      <td>0.553642</td>\n",
       "      <td>31120.0</td>\n",
       "      <td>198.139012</td>\n",
       "      <td>0.783683</td>\n",
       "      <td>0.990810</td>\n",
       "      <td>0.970278</td>\n",
       "      <td>0.912125</td>\n",
       "      <td>0.007045</td>\n",
       "      <td>0.003008</td>\n",
       "      <td>0.831973</td>\n",
       "      <td>0.999061</td>\n",
       "    </tr>\n",
       "  </tbody>\n",
       "</table>\n",
       "</div>"
      ],
      "text/plain": [
       "   Unnamed: 0  id     Area  Perimeter  MajorAxisLength  MinorAxisLength  \\\n",
       "0           0   0  28395.0    610.291       208.178117       173.888747   \n",
       "1           1   1  28734.0    638.018       200.524796       182.734419   \n",
       "2           2   2  29380.0    624.110       212.826130       175.931143   \n",
       "3           3   3  30008.0    645.884       210.557999       182.516516   \n",
       "4           4   4  30140.0    620.134       201.847882       190.279279   \n",
       "5           5   5  30279.0    634.927       212.560556       181.510182   \n",
       "6           6   6  30477.0    670.033       211.050155       184.039050   \n",
       "7           7   7  30519.0    629.727       212.996755       182.737204   \n",
       "8           8   8  30685.0    635.681       213.534145       183.157146   \n",
       "9           9   9  30834.0    631.934       217.227813       180.897469   \n",
       "\n",
       "   AspectRation  Eccentricity  ConvexArea  EquivDiameter    Extent  Solidity  \\\n",
       "0      1.197191      0.549812     28715.0     190.141097  0.763923  0.988856   \n",
       "1      1.097356      0.411785     29172.0     191.272750  0.783968  0.984986   \n",
       "2      1.209713      0.562727     29690.0     193.410904  0.778113  0.989559   \n",
       "3      1.153638      0.498616     30724.0     195.467062  0.782681  0.976696   \n",
       "4      1.060798      0.333680     30417.0     195.896503  0.773098  0.990893   \n",
       "5      1.171067      0.520401     30600.0     196.347702  0.775688  0.989510   \n",
       "6      1.146768      0.489478     30970.0     196.988633  0.762402  0.984081   \n",
       "7      1.165591      0.513760     30847.0     197.124320  0.770682  0.989367   \n",
       "8      1.165852      0.514081     31044.0     197.659696  0.771561  0.988436   \n",
       "9      1.200834      0.553642     31120.0     198.139012  0.783683  0.990810   \n",
       "\n",
       "   roundness  Compactness  ShapeFactor1  ShapeFactor2  ShapeFactor3  \\\n",
       "0   0.958027     0.913358      0.007332      0.003147      0.834222   \n",
       "1   0.887034     0.953861      0.006979      0.003564      0.909851   \n",
       "2   0.947849     0.908774      0.007244      0.003048      0.825871   \n",
       "3   0.903936     0.928329      0.007017      0.003215      0.861794   \n",
       "4   0.984877     0.970516      0.006697      0.003665      0.941900   \n",
       "5   0.943852     0.923726      0.007020      0.003153      0.853270   \n",
       "6   0.853080     0.933374      0.006925      0.003242      0.871186   \n",
       "7   0.967109     0.925480      0.006979      0.003158      0.856514   \n",
       "8   0.954240     0.925658      0.006959      0.003152      0.856844   \n",
       "9   0.970278     0.912125      0.007045      0.003008      0.831973   \n",
       "\n",
       "   ShapeFactor4  \n",
       "0      0.998724  \n",
       "1      0.998430  \n",
       "2      0.999066  \n",
       "3      0.994199  \n",
       "4      0.999166  \n",
       "5      0.999236  \n",
       "6      0.999049  \n",
       "7      0.998345  \n",
       "8      0.998953  \n",
       "9      0.999061  "
      ]
     },
     "execution_count": 28,
     "metadata": {},
     "output_type": "execute_result"
    }
   ],
   "source": [
    "design_df.head(10)"
   ]
  },
  {
   "attachments": {},
   "cell_type": "markdown",
   "metadata": {},
   "source": [
    "___\n",
    "\n",
    "### Identify Feature Types: Nominal & Numerical"
   ]
  },
  {
   "cell_type": "code",
   "execution_count": 29,
   "metadata": {},
   "outputs": [
    {
     "name": "stdout",
     "output_type": "stream",
     "text": [
      "Column: Unnamed: 0\n",
      "Data Type: int64\n",
      "Unique value count: 13611, DF length: 13611, Ratio: 1.0\n",
      "***\n",
      "FLAG column Unnamed: 0 for review \n",
      "***\n",
      "__________________________________________________________\n",
      "\n",
      "Column: id\n",
      "Data Type: int64\n",
      "Unique value count: 13611, DF length: 13611, Ratio: 1.0\n",
      "***\n",
      "FLAG column id for review \n",
      "***\n",
      "__________________________________________________________\n",
      "\n",
      "Column: Area\n",
      "Data Type: float64\n",
      "Unique value count: 12011, DF length: 13611, Ratio: 0.88\n",
      "__________________________________________________________\n",
      "\n",
      "Column: Perimeter\n",
      "Data Type: float64\n",
      "Unique value count: 13413, DF length: 13611, Ratio: 0.99\n",
      "__________________________________________________________\n",
      "\n",
      "Column: MajorAxisLength\n",
      "Data Type: float64\n",
      "Unique value count: 13543, DF length: 13611, Ratio: 1.0\n",
      "__________________________________________________________\n",
      "\n",
      "Column: MinorAxisLength\n",
      "Data Type: float64\n",
      "Unique value count: 13543, DF length: 13611, Ratio: 1.0\n",
      "__________________________________________________________\n",
      "\n",
      "Column: AspectRation\n",
      "Data Type: float64\n",
      "Unique value count: 13543, DF length: 13611, Ratio: 1.0\n",
      "__________________________________________________________\n",
      "\n",
      "Column: Eccentricity\n",
      "Data Type: float64\n",
      "Unique value count: 13543, DF length: 13611, Ratio: 1.0\n",
      "__________________________________________________________\n",
      "\n",
      "Column: ConvexArea\n",
      "Data Type: float64\n",
      "Unique value count: 12066, DF length: 13611, Ratio: 0.89\n",
      "__________________________________________________________\n",
      "\n",
      "Column: EquivDiameter\n",
      "Data Type: float64\n",
      "Unique value count: 12011, DF length: 13611, Ratio: 0.88\n",
      "__________________________________________________________\n",
      "\n",
      "Column: Extent\n",
      "Data Type: float64\n",
      "Unique value count: 13535, DF length: 13611, Ratio: 0.99\n",
      "__________________________________________________________\n",
      "\n",
      "Column: Solidity\n",
      "Data Type: float64\n",
      "Unique value count: 13526, DF length: 13611, Ratio: 0.99\n",
      "__________________________________________________________\n",
      "\n",
      "Column: roundness\n",
      "Data Type: float64\n",
      "Unique value count: 13543, DF length: 13611, Ratio: 1.0\n",
      "__________________________________________________________\n",
      "\n",
      "Column: Compactness\n",
      "Data Type: float64\n",
      "Unique value count: 13543, DF length: 13611, Ratio: 1.0\n",
      "__________________________________________________________\n",
      "\n",
      "Column: ShapeFactor1\n",
      "Data Type: float64\n",
      "Unique value count: 13543, DF length: 13611, Ratio: 1.0\n",
      "__________________________________________________________\n",
      "\n",
      "Column: ShapeFactor2\n",
      "Data Type: float64\n",
      "Unique value count: 13543, DF length: 13611, Ratio: 1.0\n",
      "__________________________________________________________\n",
      "\n",
      "Column: ShapeFactor3\n",
      "Data Type: float64\n",
      "Unique value count: 13543, DF length: 13611, Ratio: 1.0\n",
      "__________________________________________________________\n",
      "\n",
      "Column: ShapeFactor4\n",
      "Data Type: float64\n",
      "Unique value count: 13543, DF length: 13611, Ratio: 1.0\n",
      "__________________________________________________________\n",
      "\n",
      "There no nominal columns in the dataset.\n",
      "\n",
      "The 18 numerical columns are:\n",
      "\t1: Unnamed: 0\n",
      "\t2: id\n",
      "\t3: Area\n",
      "\t4: Perimeter\n",
      "\t5: MajorAxisLength\n",
      "\t6: MinorAxisLength\n",
      "\t7: AspectRation\n",
      "\t8: Eccentricity\n",
      "\t9: ConvexArea\n",
      "\t10: EquivDiameter\n",
      "\t11: Extent\n",
      "\t12: Solidity\n",
      "\t13: roundness\n",
      "\t14: Compactness\n",
      "\t15: ShapeFactor1\n",
      "\t16: ShapeFactor2\n",
      "\t17: ShapeFactor3\n",
      "\t18: ShapeFactor4\n",
      "\n",
      "The 2 columns with all unique values are:\n",
      "\t1: Unnamed: 0\n",
      "\t2: id\n"
     ]
    }
   ],
   "source": [
    "# get nominal and numerical columns, print column dtype\n",
    "nominal_cols, numerical_cols, unique_value_cols = column_dtypes(design_df)\n",
    "\n",
    "# display nominal cols\n",
    "if nominal_cols == []:\n",
    "    print(f'There no nominal columns in the dataset.\\n')\n",
    "else:\n",
    "    print(f'The nominal columns are:')\n",
    "    for i in range(len(nominal_cols)):\n",
    "        print(f'{i + 1}: {nominal_cols[i]}')\n",
    "\n",
    "# display numerical cols\n",
    "if numerical_cols == []:\n",
    "    print(f'There no numerical columns in the dataset.')\n",
    "else:\n",
    "    print(f'The {len(numerical_cols)} numerical columns are:')\n",
    "    for i in range(len(numerical_cols)):\n",
    "        print(f'\\t{i + 1}: {numerical_cols[i]}')\n",
    "\n",
    "# display unique values information\n",
    "if unique_value_cols == []:\n",
    "    print(f'\\nThere no columns with all unique values in the dataset.')\n",
    "else:\n",
    "    print(f'\\nThe {len(unique_value_cols)} columns with all unique values are:')\n",
    "    for i in range(len(unique_value_cols)):\n",
    "        print(f'\\t{i + 1}: {unique_value_cols[i]}')"
   ]
  },
  {
   "attachments": {},
   "cell_type": "markdown",
   "metadata": {},
   "source": [
    "___\n",
    "\n",
    "### Create Non Machine Learning Attributes List"
   ]
  },
  {
   "cell_type": "code",
   "execution_count": 30,
   "metadata": {},
   "outputs": [
    {
     "data": {
      "text/plain": [
       "Index(['Unnamed: 0', 'id', 'Area', 'Perimeter', 'MajorAxisLength',\n",
       "       'MinorAxisLength', 'AspectRation', 'Eccentricity', 'ConvexArea',\n",
       "       'EquivDiameter', 'Extent', 'Solidity', 'roundness', 'Compactness',\n",
       "       'ShapeFactor1', 'ShapeFactor2', 'ShapeFactor3', 'ShapeFactor4'],\n",
       "      dtype='object')"
      ]
     },
     "execution_count": 30,
     "metadata": {},
     "output_type": "execute_result"
    }
   ],
   "source": [
    "# display columns\n",
    "design_df.columns"
   ]
  },
  {
   "cell_type": "code",
   "execution_count": 31,
   "metadata": {},
   "outputs": [
    {
     "name": "stdout",
     "output_type": "stream",
     "text": [
      "Training X Dimensions: \n",
      " \t(13611, 17)\n",
      "Non Machine Learning Attributes:\n",
      "\t 1: id\n",
      "Numerical Columns:\n",
      "\t 1: Area\n",
      "\t 2: Perimeter\n",
      "\t 3: MajorAxisLength\n",
      "\t 4: MinorAxisLength\n",
      "\t 5: AspectRation\n",
      "\t 6: Eccentricity\n",
      "\t 7: ConvexArea\n",
      "\t 8: EquivDiameter\n",
      "\t 9: Extent\n",
      "\t 10: Solidity\n",
      "\t 11: roundness\n",
      "\t 12: Compactness\n",
      "\t 13: ShapeFactor1\n",
      "\t 14: ShapeFactor2\n",
      "\t 15: ShapeFactor3\n",
      "\t 16: ShapeFactor4\n",
      "Nominal Columns:\n"
     ]
    }
   ],
   "source": [
    "# attributes not to be used for machine learning\n",
    "non_ml_attr_list = ['id']\n",
    "for col in non_ml_attr_list:\n",
    "    if col in nominal_cols:\n",
    "        nominal_cols.remove(col)\n",
    "    if col in numerical_cols:\n",
    "        numerical_cols.remove(col)\n",
    "\n",
    "# add any attributes that should be dropped from dataframe\n",
    "drop_list = ['Unnamed: 0'] + missingness_drop_list # 'Unnamed: 0' is a secondary id column and can be dropped. \n",
    "\n",
    "# drop cols in drop_list from design matrix\n",
    "cols1 = design_df.columns\n",
    "design_df.drop(drop_list, axis = 1, inplace = True)\n",
    "assert(len(design_df.columns) != len(cols1))\n",
    "\n",
    "# drop col names in drop_list from nominal and numerical lists\n",
    "for col in drop_list:\n",
    "    if col in nominal_cols:\n",
    "        nominal_cols.remove(col)\n",
    "    if col in numerical_cols:\n",
    "        numerical_cols.remove(col)\n",
    "assert(design_df.shape[1] == len(non_ml_attr_list) + len(numerical_cols) + len(nominal_cols))\n",
    "\n",
    "print(f'Training X Dimensions: \\n \\t{design_df.shape}')\n",
    "\n",
    "print('Non Machine Learning Attributes:')\n",
    "for i, element in enumerate(non_ml_attr_list):\n",
    "    print(f'\\t {i+1}: {element}')\n",
    "\n",
    "print('Numerical Columns:')\n",
    "if numerical_cols == []:\n",
    "    print(f'\\t None')\n",
    "else:\n",
    "    for i, element in enumerate(numerical_cols):\n",
    "        print(f'\\t {i+1}: {element}')\n",
    "\n",
    "print('Nominal Columns:')\n",
    "if nominal_cols == []:\n",
    "    print(f'\\t None')\n",
    "else:\n",
    "    for i, element in enumerate(nominal_cols):\n",
    "        print(f'\\t {i+1}: {element}')"
   ]
  },
  {
   "attachments": {},
   "cell_type": "markdown",
   "metadata": {},
   "source": [
    "___\n",
    "\n",
    "### Display Missingness of Machine Learning Attributes:"
   ]
  },
  {
   "cell_type": "code",
   "execution_count": null,
   "metadata": {},
   "outputs": [],
   "source": [
    "# display missingness plot; ml attributes\n",
    "msno.matrix(design_df[numerical_cols + nominal_cols])\n",
    "plt.title(\"Missingness: Machine Learning Attributes\", weight = 'bold', fontsize = 24)\n",
    "\n",
    "# save fig\n",
    "plt.savefig(figs_path + \"/missing_attributes_ml_attributes.png\", bbox_inches = 'tight')"
   ]
  },
  {
   "cell_type": "code",
   "execution_count": null,
   "metadata": {},
   "outputs": [],
   "source": [
    "print('Machine Learning Attributes Datatypes:')\n",
    "design_df[numerical_cols + nominal_cols].dtypes"
   ]
  },
  {
   "attachments": {},
   "cell_type": "markdown",
   "metadata": {},
   "source": [
    "___\n",
    "\n",
    "### Explore Correlation and VIF of Numerical Attributes:"
   ]
  },
  {
   "cell_type": "code",
   "execution_count": null,
   "metadata": {},
   "outputs": [],
   "source": [
    "# set figure size\n",
    "plt.figure(figsize=(10,7))\n",
    "\n",
    "# generate a mask to only show the bottom triangle\n",
    "mask = np.triu(np.ones_like(design_df[numerical_cols].corr(), dtype=bool))\n",
    "\n",
    "# generate heatmap\n",
    "sns.heatmap(design_df[numerical_cols].corr(), annot = True, fmt = \".2f\", mask = mask, vmin = -1, vmax = 1)\n",
    "plt.title('Correlation Matrix of the Design Matrix', weight = 'bold', fontsize = 16)\n",
    "\n",
    "# save fig\n",
    "plt.savefig(figs_path + \"/correlation_matrix.png\", bbox_inches = 'tight')"
   ]
  },
  {
   "attachments": {},
   "cell_type": "markdown",
   "metadata": {},
   "source": [
    "#### VIF Factor: All Numerical Attributes "
   ]
  },
  {
   "cell_type": "code",
   "execution_count": null,
   "metadata": {},
   "outputs": [],
   "source": [
    "vif = compute_vif(design_df, numerical_cols)"
   ]
  },
  {
   "attachments": {},
   "cell_type": "markdown",
   "metadata": {},
   "source": [
    "#### VIF Factor without Shapefactor Attributes"
   ]
  },
  {
   "cell_type": "code",
   "execution_count": null,
   "metadata": {},
   "outputs": [],
   "source": [
    "vif = compute_vif(design_df, numerical_cols[:12])\n"
   ]
  },
  {
   "attachments": {},
   "cell_type": "markdown",
   "metadata": {},
   "source": [
    "___\n",
    "\n",
    "## Build Pipeline\n",
    "\n",
    "___"
   ]
  },
  {
   "attachments": {},
   "cell_type": "markdown",
   "metadata": {},
   "source": [
    "### Numerical Transformer: Impute & Scale"
   ]
  },
  {
   "cell_type": "code",
   "execution_count": null,
   "metadata": {},
   "outputs": [],
   "source": [
    "# instantiate sklearn pipeline\n",
    "numerical_transformer = Pipeline(\n",
    "    steps=[\n",
    "            ('imputer', SimpleImputer()),\n",
    "            ('scaler', StandardScaler())\n",
    "          ]\n",
    "        )"
   ]
  },
  {
   "attachments": {},
   "cell_type": "markdown",
   "metadata": {},
   "source": [
    "### Nominal Transformer: Impute & Encode\n",
    "\n",
    "#### Determine min frequency for nominal transformer:"
   ]
  },
  {
   "cell_type": "code",
   "execution_count": null,
   "metadata": {},
   "outputs": [],
   "source": [
    "if len(nominal_cols) > 0:\n",
    "    print(design_df[nominal_cols].value_count())\n",
    "    print('Set min_frequency for nominal transformer in perameters cell.')\n",
    "else:\n",
    "    min_frequency = None\n"
   ]
  },
  {
   "attachments": {},
   "cell_type": "markdown",
   "metadata": {},
   "source": [
    "### Nominal Transformer"
   ]
  },
  {
   "cell_type": "code",
   "execution_count": null,
   "metadata": {},
   "outputs": [],
   "source": [
    "# instantiate nominal transformer\n",
    "nominal_transformer = Pipeline(\n",
    "    steps=[\n",
    "            ('imputer', SimpleImputer(strategy='most_frequent')),\n",
    "            ('onehot_encoder', OneHotEncoder(sparse_output=False, min_frequency=min_frequency))\n",
    "    ]\n",
    ")\n"
   ]
  },
  {
   "attachments": {},
   "cell_type": "markdown",
   "metadata": {},
   "source": [
    "### Column Transformer:"
   ]
  },
  {
   "cell_type": "code",
   "execution_count": null,
   "metadata": {},
   "outputs": [],
   "source": [
    "preprocessor = ColumnTransformer(\n",
    "        transformers=[\n",
    "            ('numerical', numerical_transformer, numerical_cols),\n",
    "            ('nominal', nominal_transformer, nominal_cols)\n",
    "        ]\n",
    ")"
   ]
  },
  {
   "attachments": {},
   "cell_type": "markdown",
   "metadata": {},
   "source": [
    "### Execute Pipeline with Design Matrix"
   ]
  },
  {
   "cell_type": "code",
   "execution_count": null,
   "metadata": {},
   "outputs": [],
   "source": [
    "# execute pipeline\n",
    "trans_df = pd.DataFrame(\n",
    "    data = preprocessor.fit_transform(design_df),\n",
    "    index = design_df.index, # KEEP TRACK OF INDEX\n",
    "    columns = preprocessor.get_feature_names_out() #NAME COlumns\n",
    ")"
   ]
  },
  {
   "cell_type": "code",
   "execution_count": null,
   "metadata": {},
   "outputs": [],
   "source": [
    "# display transfored dataframe\n",
    "trans_df"
   ]
  },
  {
   "attachments": {},
   "cell_type": "markdown",
   "metadata": {},
   "source": [
    "___\n",
    "## Exploratory Data Analysis"
   ]
  },
  {
   "cell_type": "code",
   "execution_count": null,
   "metadata": {},
   "outputs": [],
   "source": [
    "# generate attributes list\n",
    "attr_list = trans_df.columns\n",
    "\n",
    "# display machine learning attributes list\n",
    "print(f'Attributes List:')\n",
    "for i, j in enumerate(attr_list):\n",
    "    print(f'{i + 1}: {j}')"
   ]
  },
  {
   "cell_type": "code",
   "execution_count": null,
   "metadata": {},
   "outputs": [],
   "source": [
    "# display dimension of transformed dataframe\n",
    "print(f'Transformed Dataframe Dimensions:', trans_df[attr_list].shape)"
   ]
  },
  {
   "cell_type": "code",
   "execution_count": null,
   "metadata": {},
   "outputs": [],
   "source": [
    "# visually inspect transformed df\n",
    "display(trans_df.head())"
   ]
  },
  {
   "cell_type": "code",
   "execution_count": null,
   "metadata": {},
   "outputs": [],
   "source": [
    "# display transformed df general information\n",
    "trans_df.info()"
   ]
  },
  {
   "cell_type": "code",
   "execution_count": null,
   "metadata": {},
   "outputs": [],
   "source": [
    "# display counts of NA, None, and np.nan\n",
    "print('\\nNA (np.nan or None) Count:\\n',\n",
    "        trans_df.isna().sum(), sep ='')"
   ]
  },
  {
   "cell_type": "code",
   "execution_count": null,
   "metadata": {},
   "outputs": [],
   "source": [
    "# display proportion of NA, None, and np.nan\n",
    "print('\\nNA (np.nan or None) Ratio:\\n',\n",
    "        trans_df.isna().sum() / trans_df.shape[0], sep='')"
   ]
  },
  {
   "attachments": {},
   "cell_type": "markdown",
   "metadata": {},
   "source": [
    "### Pairplots"
   ]
  },
  {
   "cell_type": "code",
   "execution_count": null,
   "metadata": {},
   "outputs": [],
   "source": [
    "warnings.filterwarnings('ignore', category = FutureWarning)\n",
    "plot = sns.pairplot(data = trans_df)\n",
    "plot.fig.suptitle('Attribute Pairplots', fontsize = 20, y = 1.03)\n",
    "plt.tight_layout()\n",
    "plt.show();"
   ]
  },
  {
   "cell_type": "code",
   "execution_count": null,
   "metadata": {},
   "outputs": [],
   "source": [
    "def sub_divide_pairplot(trans_df, alpha):\n",
    "\n",
    "    columns = trans_df.columns\n",
    "\n",
    "    for i in [0, 4, 8, 12]:\n",
    "\n",
    "\n",
    "        # 4x4 subset of variables for the pairplot \n",
    "        subset_cols = columns[i: (i + 4)]\n",
    "\n",
    "        fig, axs = plt.subplots(len(subset_cols), len(subset_cols), figsize=(15, 15))\n",
    "\n",
    "        for i, col1 in enumerate(subset_cols):\n",
    "            for j, col2 in enumerate(subset_cols):\n",
    "                if i == j:\n",
    "\n",
    "                    # histograms on diagonals\n",
    "                    axs[i, j].hist(trans_df[col1], bins='auto')\n",
    "                    axs[i, j].set_xlabel(col1)\n",
    "                    axs[i, j].set_ylabel(\"Frequency\")\n",
    "                else:\n",
    "                    # scatter plots\n",
    "                    axs[i, j].scatter(trans_df[col2], trans_df[col1], alpha=alpha, marker='o')\n",
    "                    axs[i, j].set_xlabel(col2)\n",
    "                    axs[i, j].set_ylabel(col1)\n",
    "\n",
    "        plt.tight_layout()\n",
    "        plt.show()\n",
    "\n",
    "sub_divide_pairplot(trans_df, 0.02)"
   ]
  },
  {
   "attachments": {},
   "cell_type": "markdown",
   "metadata": {},
   "source": [
    "### Histograms of Numerical Columns"
   ]
  },
  {
   "cell_type": "code",
   "execution_count": null,
   "metadata": {},
   "outputs": [],
   "source": [
    "cols = trans_df[attr_list]\n",
    "divided_columns = [cols[i:i+4] for i in range(0, len(cols), 4)]\n",
    "\n",
    "for i, cols in enumerate(divided_columns):\n",
    "    generate_column_hist(trans_df, cols)\n",
    "    \n",
    "    # save fig\n",
    "    plt.savefig(figs_path + f\"/attribute_hist_{i}.png\", bbox_inches = 'tight')"
   ]
  },
  {
   "cell_type": "code",
   "execution_count": null,
   "metadata": {},
   "outputs": [],
   "source": [
    "import matplotlib.pyplot as plt\n",
    "import numpy as np\n",
    "\n",
    "# Sample data: Generate two clusters using numpy for demonstration\n",
    "np.random.seed(0)\n",
    "x = np.concatenate([np.random.randn(100) + 5, np.random.randn(100)])\n",
    "y = np.concatenate([np.random.randn(100), np.random.randn(100) + 5])\n",
    "\n",
    "# Plotting the scatter plot\n",
    "plt.scatter(x, y)\n",
    "\n",
    "# Annotating the plot with arrows pointing to clusters\n",
    "plt.annotate('Cluster 1', xy=(5, 0), xytext=(7, -2),\n",
    "             arrowprops=dict(facecolor='black', shrink=0.05),\n",
    "             fontsize=12)\n",
    "\n",
    "plt.annotate('Cluster 2', xy=(0, 5), xytext=(-3, 7),\n",
    "             arrowprops=dict(facecolor='black', shrink=0.05),\n",
    "             fontsize=12)\n",
    "\n",
    "plt.title('Scatter Plot with Annotated Clusters')\n",
    "plt.xlabel('X-axis')\n",
    "plt.ylabel('Y-axis')\n",
    "\n",
    "plt.show()\n"
   ]
  }
 ],
 "metadata": {
  "kernelspec": {
   "display_name": "usml_base_ds_2",
   "language": "python",
   "name": "python3"
  },
  "language_info": {
   "codemirror_mode": {
    "name": "ipython",
    "version": 3
   },
   "file_extension": ".py",
   "mimetype": "text/x-python",
   "name": "python",
   "nbconvert_exporter": "python",
   "pygments_lexer": "ipython3",
   "version": "3.10.13"
  },
  "orig_nbformat": 4,
  "vscode": {
   "interpreter": {
    "hash": "223b1550dc78f844b6fc76646e34a900d2238e92077e116b9cd6c423cf4f2cdd"
   }
  }
 },
 "nbformat": 4,
 "nbformat_minor": 2
}
